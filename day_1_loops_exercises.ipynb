{
 "cells": [
  {
   "cell_type": "markdown",
   "source": [
    "# Day 1: Loops Exercises \r\n",
    "## Exercise 1\r\n",
    "The DNA Sequence below needs to be transcribed to RNA. Write a program with a loop that does this job! "
   ],
   "metadata": {}
  },
  {
   "cell_type": "code",
   "execution_count": null,
   "source": [
    "dna = \"CCACCCTCGTGGTATGGCTAGGCATTCAGGAACCGGAGAACGCTTCAGACCAGCCCGGACTGGGAACCTGCGGGCAGTAGGTGGAAT\"\r\n",
    "dna_to_rna = {'A': 'A', 'C': 'C', 'G': 'G', 'T': 'U'}\r\n"
   ],
   "outputs": [],
   "metadata": {}
  },
  {
   "cell_type": "markdown",
   "source": [
    "## Exercise 2 \r\n",
    "Compute the GC content of the DNA sequence above with a Python program!"
   ],
   "metadata": {}
  }
 ],
 "metadata": {
  "orig_nbformat": 4,
  "language_info": {
   "name": "python"
  }
 },
 "nbformat": 4,
 "nbformat_minor": 2
}