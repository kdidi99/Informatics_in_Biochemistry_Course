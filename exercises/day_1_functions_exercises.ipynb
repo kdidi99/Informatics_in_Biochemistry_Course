{
  "cells": [
    {
      "cell_type": "markdown",
      "metadata": {
        "id": "6wC6ivj8DJrO"
      },
      "source": [
        "#  Day 1: Functions & Classes\n",
        "Leonhard Kohleick"
      ]
    },
    {
      "cell_type": "markdown",
      "metadata": {
        "id": "bDGgbvFVDJrT"
      },
      "source": [
        "## Exercise 1 \n",
        "Import the `math` package and print out the number $\\pi$  with it (Google is your friend!) "
      ]
    },
    {
      "cell_type": "markdown",
      "source": [
        ""
      ],
      "metadata": {
        "id": "Tq80huvaF4xr"
      }
    },
    {
      "cell_type": "markdown",
      "metadata": {
        "id": "YrXg0MdWDJrY"
      },
      "source": [
        "## Exercise 2 \n",
        "Create a function that **returns** the number of point mutations between two DNA sequences. The two sequences below should be used as arguments:"
      ]
    },
    {
      "cell_type": "code",
      "execution_count": null,
      "metadata": {
        "id": "aht649ckDJra"
      },
      "outputs": [],
      "source": [
        "sequence_1 = \"GAGCCTACTAACGGGAT\"\n",
        "sequence_2 = \"CATCGTAATGACGGCCT\""
      ]
    },
    {
      "cell_type": "markdown",
      "source": [
        "##Exercise 3\n",
        "\n",
        "Create a class Dog with which you can create a dog that has a specific color, a specific size and weight, a name and an attribute that tells wheter he has pointed ears or not. It should also have a method that prints his size together with his weight and another function called \"bark\" that prints \"WOOF!\" if the dog is bigger than 100cm in size and \"woof\" otherwise.\n",
        "Create three dogs with different characteristics and play around with them. What are other methods/attributes that would be useful to add?"
      ],
      "metadata": {
        "id": "1oXrtcJVDMbN"
      }
    }
  ],
  "metadata": {
    "kernelspec": {
      "display_name": "Python 3",
      "language": "python",
      "name": "python3"
    },
    "language_info": {
      "codemirror_mode": {
        "name": "ipython",
        "version": 3
      },
      "file_extension": ".py",
      "mimetype": "text/x-python",
      "name": "python",
      "nbconvert_exporter": "python",
      "pygments_lexer": "ipython3",
      "version": "3.8.3"
    },
    "colab": {
      "name": "day_1_functions_exercises.ipynb",
      "provenance": []
    }
  },
  "nbformat": 4,
  "nbformat_minor": 0
}