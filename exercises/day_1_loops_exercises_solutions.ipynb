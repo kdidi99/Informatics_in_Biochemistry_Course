{
 "cells": [
  {
   "cell_type": "markdown",
   "source": [
    "# Day 1: Loops Exercises \r\n",
    "## Exercise 1\r\n",
    "The DNA Sequence below needs to be converted to RNA. Write a program with a loop that does this job! "
   ],
   "metadata": {}
  },
  {
   "cell_type": "code",
   "execution_count": 1,
   "source": [
    "dna = \"CCACCCTCGTGGTATGGCTAGGCATTCAGGAACCGGAGAACGCTTCAGACCAGCCCGGACTGGGAACCTGCGGGCAGTAGGTGGAAT\"\r\n",
    "dna_to_rna = {'A': 'A', 'C': 'C', 'G': 'G', 'T': 'U'}\r\n",
    "rna_letters = []\r\n",
    "\r\n",
    "for nucleotide in dna:\r\n",
    "    rna_letters.append(dna_to_rna[nucleotide])\r\n",
    "print(rna_letters)\r\n",
    "rna_sequence = \"\".join(rna_letters)\r\n",
    "print(rna_sequence)"
   ],
   "outputs": [
    {
     "output_type": "stream",
     "name": "stdout",
     "text": [
      "['C', 'C', 'A', 'C', 'C', 'C', 'U', 'C', 'G', 'U', 'G', 'G', 'U', 'A', 'U', 'G', 'G', 'C', 'U', 'A', 'G', 'G', 'C', 'A', 'U', 'U', 'C', 'A', 'G', 'G', 'A', 'A', 'C', 'C', 'G', 'G', 'A', 'G', 'A', 'A', 'C', 'G', 'C', 'U', 'U', 'C', 'A', 'G', 'A', 'C', 'C', 'A', 'G', 'C', 'C', 'C', 'G', 'G', 'A', 'C', 'U', 'G', 'G', 'G', 'A', 'A', 'C', 'C', 'U', 'G', 'C', 'G', 'G', 'G', 'C', 'A', 'G', 'U', 'A', 'G', 'G', 'U', 'G', 'G', 'A', 'A', 'U']\n",
      "CCACCCUCGUGGUAUGGCUAGGCAUUCAGGAACCGGAGAACGCUUCAGACCAGCCCGGACUGGGAACCUGCGGGCAGUAGGUGGAAU\n"
     ]
    }
   ],
   "metadata": {}
  },
  {
   "cell_type": "markdown",
   "source": [
    "## Exercise 2 \r\n",
    "Compute the G & C content of the DNA sequence above with a Python program! (use a loop) \\\r\n",
    "Is it over 50%?"
   ],
   "metadata": {}
  },
  {
   "cell_type": "code",
   "execution_count": 5,
   "source": [
    "G_counter = 0\r\n",
    "C_counter = 0 \r\n",
    "\r\n",
    "for nt in dna:\r\n",
    "    if nt ==\"G\": \r\n",
    "        G_counter += 1 \r\n",
    "    elif nt == \"C\":\r\n",
    "        C_counter += 1 \r\n",
    "GC_content = (G_counter+C_counter)/len(dna)\r\n",
    "print(str(GC_content*100),\"%\")\r\n"
   ],
   "outputs": [
    {
     "output_type": "stream",
     "name": "stdout",
     "text": [
      "60.91954022988506 %\n"
     ]
    }
   ],
   "metadata": {}
  }
 ],
 "metadata": {
  "orig_nbformat": 4,
  "language_info": {
   "name": "python",
   "version": "3.8.3",
   "mimetype": "text/x-python",
   "codemirror_mode": {
    "name": "ipython",
    "version": 3
   },
   "pygments_lexer": "ipython3",
   "nbconvert_exporter": "python",
   "file_extension": ".py"
  },
  "kernelspec": {
   "name": "python3",
   "display_name": "Python 3.8.3 64-bit ('base': conda)"
  },
  "interpreter": {
   "hash": "b3ba2566441a7c06988d0923437866b63cedc61552a5af99d1f4fb67d367b25f"
  }
 },
 "nbformat": 4,
 "nbformat_minor": 2
}