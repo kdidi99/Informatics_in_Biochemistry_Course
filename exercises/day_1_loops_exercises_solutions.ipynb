{
 "cells": [
  {
   "cell_type": "markdown",
   "metadata": {},
   "source": [
    "# Day 1: Loops Exercises\n",
    "Leonhard Kohleick"
   ]
  },
  {
   "cell_type": "markdown",
   "metadata": {},
   "source": [
    "## Exercise 1\n",
    "The DNA Sequence below needs to be converted to RNA. Write a program with a loop that does this job! "
   ]
  },
  {
   "cell_type": "code",
   "execution_count": 1,
   "metadata": {},
   "outputs": [
    {
     "name": "stdout",
     "output_type": "stream",
     "text": [
      "['C', 'C', 'A', 'C', 'C', 'C', 'U', 'C', 'G', 'U', 'G', 'G', 'U', 'A', 'U', 'G', 'G', 'C', 'U', 'A', 'G', 'G', 'C', 'A', 'U', 'U', 'C', 'A', 'G', 'G', 'A', 'A', 'C', 'C', 'G', 'G', 'A', 'G', 'A', 'A', 'C', 'G', 'C', 'U', 'U', 'C', 'A', 'G', 'A', 'C', 'C', 'A', 'G', 'C', 'C', 'C', 'G', 'G', 'A', 'C', 'U', 'G', 'G', 'G', 'A', 'A', 'C', 'C', 'U', 'G', 'C', 'G', 'G', 'G', 'C', 'A', 'G', 'U', 'A', 'G', 'G', 'U', 'G', 'G', 'A', 'A', 'U']\n",
      "CCACCCUCGUGGUAUGGCUAGGCAUUCAGGAACCGGAGAACGCUUCAGACCAGCCCGGACUGGGAACCUGCGGGCAGUAGGUGGAAU\n"
     ]
    }
   ],
   "source": [
    "dna = \"CCACCCTCGTGGTATGGCTAGGCATTCAGGAACCGGAGAACGCTTCAGACCAGCCCGGACTGGGAACCTGCGGGCAGTAGGTGGAAT\"\n",
    "dna_to_rna = {'A': 'A', 'C': 'C', 'G': 'G', 'T': 'U'}\n",
    "rna_letters = []\n",
    "\n",
    "for nucleotide in dna:\n",
    "    rna_letters.append(dna_to_rna[nucleotide])\n",
    "print(rna_letters)\n",
    "rna_sequence = \"\".join(rna_letters)\n",
    "print(rna_sequence)"
   ]
  },
  {
   "cell_type": "markdown",
   "metadata": {},
   "source": [
    "## Exercise 2 \n",
    "Compute the G & C content of the DNA sequence above with a Python program! (use a loop) \\\n",
    "Is it over 50%?"
   ]
  },
  {
   "cell_type": "code",
   "execution_count": 5,
   "metadata": {},
   "outputs": [
    {
     "name": "stdout",
     "output_type": "stream",
     "text": [
      "60.91954022988506 %\n"
     ]
    }
   ],
   "source": [
    "G_counter = 0\n",
    "C_counter = 0 \n",
    "\n",
    "for nt in dna:\n",
    "    if nt ==\"G\": \n",
    "        G_counter += 1 \n",
    "    elif nt == \"C\":\n",
    "        C_counter += 1 \n",
    "GC_content = (G_counter+C_counter)/len(dna)\n",
    "print(GC_content*100,\"%\")\n"
   ]
  }
 ],
 "metadata": {
  "interpreter": {
   "hash": "b3ba2566441a7c06988d0923437866b63cedc61552a5af99d1f4fb67d367b25f"
  },
  "kernelspec": {
   "display_name": "Python 3",
   "language": "python",
   "name": "python3"
  },
  "language_info": {
   "codemirror_mode": {
    "name": "ipython",
    "version": 3
   },
   "file_extension": ".py",
   "mimetype": "text/x-python",
   "name": "python",
   "nbconvert_exporter": "python",
   "pygments_lexer": "ipython3",
   "version": "3.8.8"
  }
 },
 "nbformat": 4,
 "nbformat_minor": 2
}
