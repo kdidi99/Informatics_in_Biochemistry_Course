{
 "cells": [
  {
   "cell_type": "markdown",
   "metadata": {},
   "source": [
    "# Working with `.txt` and `.csv` files \n",
    "Leonhard Kohleick"
   ]
  },
  {
   "cell_type": "markdown",
   "metadata": {},
   "source": [
    "## Exercise \n",
    "In this one large exercise, we provide you with a file called `subcellular_location_data.csv`.  \n",
    "\n",
    "Your task is now to sort the gene names after their main cellular locations. Please provide each possible cellular location in the `csv` file with a list of gene names, in a dictionary. The main cellular location should be the key, the string of gene names should be the values.\n",
    "\n",
    "Then, write out this dictionary as a new `csv` where the cellular location is in one column and all coresponding gene names in the other (in a large text string).\n",
    "\n",
    "Pro Tip: use `from collections import defaultdict`"
   ]
  },
  {
   "cell_type": "code",
   "execution_count": null,
   "metadata": {},
   "outputs": [],
   "source": []
  }
 ],
 "metadata": {
  "language_info": {
   "name": "python"
  },
  "orig_nbformat": 4
 },
 "nbformat": 4,
 "nbformat_minor": 2
}
