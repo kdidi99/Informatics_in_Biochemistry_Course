{
 "cells": [
  {
   "cell_type": "markdown",
   "source": [
    "#  Day 1: Functions & Modules/Packages Exercises"
   ],
   "metadata": {}
  },
  {
   "cell_type": "markdown",
   "source": [
    "## Exercise 1 \r\n",
    "Import the `math` package and print out the number $\\pi$  with it (Google is your friend!) "
   ],
   "metadata": {}
  },
  {
   "cell_type": "code",
   "execution_count": 13,
   "source": [
    "import math \r\n",
    "print (math.pi)"
   ],
   "outputs": [
    {
     "output_type": "stream",
     "name": "stdout",
     "text": [
      "3.141592653589793\n"
     ]
    }
   ],
   "metadata": {}
  },
  {
   "cell_type": "markdown",
   "source": [
    "## Exercise 2 \r\n",
    "Create a function that counts the number of point mutations between two DNA sequences. \\\r\n",
    "Pro Tip: use the `zip()` function :) \\\r\n",
    " The two sequences below should be used as arguments:"
   ],
   "metadata": {}
  },
  {
   "cell_type": "code",
   "execution_count": 14,
   "source": [
    "sequence_1 = \"GAGCCTACTAACGGGAT\"\r\n",
    "sequence_2 = \"CATCGTAATGACGGCCT\""
   ],
   "outputs": [],
   "metadata": {}
  },
  {
   "cell_type": "code",
   "execution_count": 15,
   "source": [
    "\r\n",
    "def point_mutations_counter(seq1,seq2):\r\n",
    "    number_point_mutations = 0 \r\n",
    "    for a, b in zip(seq1,seq2):\r\n",
    "        if a != b: \r\n",
    "            number_point_mutations += 1 \r\n",
    "    return number_point_mutations\r\n",
    "\r\n",
    "print(point_mutations_counter(sequence_1, sequence_2))\r\n"
   ],
   "outputs": [
    {
     "output_type": "stream",
     "name": "stdout",
     "text": [
      "7\n"
     ]
    }
   ],
   "metadata": {}
  },
  {
   "cell_type": "code",
   "execution_count": null,
   "source": [],
   "outputs": [],
   "metadata": {}
  }
 ],
 "metadata": {
  "orig_nbformat": 4,
  "language_info": {
   "name": "python",
   "version": "3.8.3",
   "mimetype": "text/x-python",
   "codemirror_mode": {
    "name": "ipython",
    "version": 3
   },
   "pygments_lexer": "ipython3",
   "nbconvert_exporter": "python",
   "file_extension": ".py"
  },
  "kernelspec": {
   "name": "python3",
   "display_name": "Python 3.8.3 64-bit ('base': conda)"
  },
  "interpreter": {
   "hash": "b3ba2566441a7c06988d0923437866b63cedc61552a5af99d1f4fb67d367b25f"
  }
 },
 "nbformat": 4,
 "nbformat_minor": 2
}