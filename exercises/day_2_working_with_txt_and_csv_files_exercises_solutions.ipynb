{
 "cells": [
  {
   "cell_type": "markdown",
   "metadata": {},
   "source": [
    "# Working with `.txt` and `.csv` files\n",
    "Leonhard Kohleick"
   ]
  },
  {
   "cell_type": "markdown",
   "metadata": {},
   "source": [
    "## Exercise \n",
    "In this one large exercise, we provide you with a file called `subcellular_location_data.csv`.   \n",
    "\n",
    "Your task is now to sort the gene names after their cellular locations. Please provide each possible cellular location in the csv file with a list of gene names, in a dictionary. \n",
    "\n",
    "Then, write out this dictionary as a new `csv` where the cellular location is in one column and all coresponding gene names in the other (in a large text string).\n",
    "\n",
    "\n",
    "Pro Tip: use `from collections import defaultdict`"
   ]
  },
  {
   "cell_type": "code",
   "execution_count": 1,
   "metadata": {},
   "outputs": [
    {
     "name": "stdout",
     "output_type": "stream",
     "text": [
      "defaultdict(<class 'list'>, {'Cytoplasm': ['TSPAN6', 'ANKIB1', 'LAP3', 'CYP26B1', 'TFPI', 'FKBP4', 'CAMKK1', 'CCDC132'], 'Cytoskeleton (Microtubules)': ['SCYL3'], 'Nucleus but not nucleoli;Mitochondria': ['C1orf112', 'FUCA2'], 'Plasma membrane': ['FGR', 'ARHGAP33'], 'Nucleus;Nucleoli;Cytoplasm': ['GCLC'], 'Nucleus but not nucleoli': ['NFYA', 'NIPAL3', 'LAS1L', 'RAD52', 'RBM5', 'KDM1A', 'RBM6', 'RECQL'], 'Nucleus': ['STPG1', 'MAD1L1', 'DBNDD1'], 'Endoplasmic reticulum': ['CYP51A1'], 'Vesicles': ['KRIT1', 'SARM1'], 'Mitochondria': ['BAD', 'TMEM176A', 'SLC25A13'], 'Golgi apparatus': ['CD99', 'CASP10'], '': ['AOC1'], 'Plasma membrane;Cytoplasm': ['LASP1', 'ZMYND10'], 'Cytoplasm;Golgi apparatus': ['ICA1'], 'Cytoplasm;Cytoskeleton (Intermediate filaments)': ['ALS2'], 'Nucleus;Plasma membrane;Cytoplasm': ['CFLAR'], 'Plasma membrane;Vesicles': ['CD38']})\n"
     ]
    }
   ],
   "source": [
    "from collections import defaultdict\n",
    "import csv\n",
    "dicts = defaultdict(list)\n",
    "with open(\"../additional_data/subcellular_location_data.csv\") as csv_file:\n",
    "    csv_reader = csv.reader(csv_file, delimiter=\",\")\n",
    "    next(csv_reader)\n",
    "    for row in csv_reader:\n",
    "        dicts[row[2]].append(row[1])\n",
    "print(dicts)"
   ]
  },
  {
   "cell_type": "code",
   "execution_count": 4,
   "metadata": {},
   "outputs": [],
   "source": [
    "with open('../additional_data/subcell_genes.csv', mode='w') as csv_file:\n",
    "    csv_writer = csv.writer(csv_file, delimiter=\",\")\n",
    "    csv_writer.writerow(['Cellular Location','Gene Names'])\n",
    "    for i in dicts.keys():\n",
    "        csv_writer.writerow([f'{i}',' '.join(dicts[i])])\n"
   ]
  }
 ],
 "metadata": {
  "interpreter": {
   "hash": "b3ba2566441a7c06988d0923437866b63cedc61552a5af99d1f4fb67d367b25f"
  },
  "kernelspec": {
   "display_name": "Python 3",
   "language": "python",
   "name": "python3"
  },
  "language_info": {
   "codemirror_mode": {
    "name": "ipython",
    "version": 3
   },
   "file_extension": ".py",
   "mimetype": "text/x-python",
   "name": "python",
   "nbconvert_exporter": "python",
   "pygments_lexer": "ipython3",
   "version": "3.8.8"
  }
 },
 "nbformat": 4,
 "nbformat_minor": 2
}
