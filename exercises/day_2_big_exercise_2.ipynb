{
 "cells": [
  {
   "cell_type": "markdown",
   "metadata": {},
   "source": [
    "# Day 2: Integrated exercise 2\n",
    "Lukas Jarosch & Leonhard Kohleick\n",
    "</br>\n",
    "</br>\n",
    "In this exercise you will need to read a csv file and plot the data in it with seaborn."
   ]
  },
  {
   "cell_type": "markdown",
   "metadata": {},
   "source": [
    "## Exercise 1 "
   ]
  },
  {
   "cell_type": "markdown",
   "metadata": {},
   "source": [
    "You are given a file with physiological data from indian liver disease patients mixed together with healthy individuals (`../additional_data/liver_disease.csv`). The \"Dataset\" column determines which patients actually have liver disease with \"1\" indicating sick individuals and \"2\" indicating healthy individuals.\n",
    "\n",
    "1. Check out the file\n",
    "2. Read in the following data from the csv file into *one* dictionary. \\\n",
    "   Make the \"Dataset\" column more informative by renaming it to \"Disease\" with the two values \"yes\" or \"no\" instead of 1 and 2. Also make sure that your numerical columns contain actual numbers and not just strings!\n",
    "    - Age\n",
    "    - Gender\n",
    "    - Total Proteins\n",
    "    - Albumin \n",
    "    - Disease (in the file it's called `Dataset`) \\\n",
    "The dictionary should be structured like this:  \\\n",
    "` {'Age': [65, 62, ....], 'Gender': ['Female', 'Male',...], 'Total_Proteins [g/dl]': [6.8, 7.5, ...], 'Albumin [g/dl]': [3.3, 3.2, ...], 'Disease': ['No', 'No', ...]}` \\\n",
    "Index position `0` should be the first row with data etc..."
   ]
  },
  {
   "cell_type": "code",
   "execution_count": null,
   "metadata": {},
   "outputs": [],
   "source": []
  },
  {
   "cell_type": "markdown",
   "metadata": {},
   "source": [
    "## Exercise 2\n",
    "Use a linear regression plot do determine how Albumin levels correlate with age. Is there a difference between sick and healthy individuals?\n",
    "\n",
    "*(The code below converts your dictionary into a pandas dataframe that you can use for plotting)*"
   ]
  },
  {
   "cell_type": "code",
   "execution_count": 5,
   "metadata": {},
   "outputs": [],
   "source": [
    "import pandas as pd\n",
    "\n",
    "# replace `your_dict` with your dictionary created in Exercise 1\n",
    "dataframe = pd.DataFrame.from_dict(your_dict)\n",
    "dataframe"
   ]
  },
  {
   "cell_type": "code",
   "execution_count": 4,
   "metadata": {},
   "outputs": [],
   "source": [
    "import seaborn as sns\n",
    "import matplotlib.pyplot as plt\n",
    "\n",
    "# this sets the darkgrid theme that we've been using before\n",
    "sns.set_theme()\n",
    "\n"
   ]
  },
  {
   "cell_type": "markdown",
   "metadata": {},
   "source": [
    "## Exercise 3\n",
    "Your **female** friend Anna is worried about her raised albumin levels, as she found an analysis of the liver disease dataset online that showed the following boxplot. Can you calm her down by plotting a more accurate representation of the data?\n",
    "\n",
    "**Bonus**: Also save your new plot to a folder of your choice."
   ]
  },
  {
   "cell_type": "markdown",
   "metadata": {},
   "source": [
    "<div>\n",
    "<img src=\"../images/boxplot_albumin.png\" height=\"500\"/>\n",
    "</div>"
   ]
  },
  {
   "cell_type": "code",
   "execution_count": null,
   "metadata": {},
   "outputs": [],
   "source": []
  }
 ],
 "metadata": {
  "interpreter": {
   "hash": "eb7a3cc7805b647c07cd88e8371649cf687544e475bc1164b445f3249eb5ba5e"
  },
  "kernelspec": {
   "display_name": "Python 3.8.11 64-bit ('test2': conda)",
   "name": "python3"
  },
  "language_info": {
   "codemirror_mode": {
    "name": "ipython",
    "version": 3
   },
   "file_extension": ".py",
   "mimetype": "text/x-python",
   "name": "python",
   "nbconvert_exporter": "python",
   "pygments_lexer": "ipython3",
   "version": "3.8.11"
  },
  "orig_nbformat": 4
 },
 "nbformat": 4,
 "nbformat_minor": 2
}
