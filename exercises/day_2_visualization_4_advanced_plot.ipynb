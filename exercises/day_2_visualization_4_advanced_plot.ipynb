{
 "cells": [
  {
   "cell_type": "markdown",
   "metadata": {},
   "source": [
    "## Chapter 4: Advanced Plots\n",
    "by Tobias Dorer"
   ]
  },
  {
   "cell_type": "code",
   "execution_count": 2,
   "metadata": {},
   "outputs": [],
   "source": []
  },
  {
   "cell_type": "code",
   "execution_count": 7,
   "metadata": {},
   "outputs": [
    {
     "name": "stdout",
     "output_type": "stream",
     "text": [
      "[[ -2.35035619  -0.81657503   5.80295311 ...   0.40505854  -3.65502669\n",
      "   -3.61098632]\n",
      " [-11.894518    -2.35491063   6.00374572 ...  11.66172797  -0.94433131\n",
      "   -5.24203947]]\n",
      "[[-1.18255064 -0.75818925 -2.20522028 ...  1.8411716  -0.92187134\n",
      "   0.08282065]\n",
      " [ 2.21470203  5.29804314  0.9985056  ...  0.08300749  4.94625401\n",
      "   1.51768505]]\n"
     ]
    }
   ],
   "source": [
    "total  = np.loadtxt(\"protein.csv\", delimiter=\",\")\n",
    "hydrop = np.loadtxt(\"hydrop.csv\", delimiter=\",\")"
   ]
  },
  {
   "cell_type": "markdown",
   "metadata": {},
   "source": [
    "In the cell above we the coordinates of the amino acids of a protein. All we have is the coordinates of all amino acids in the array \"total\" and coordinates of the hydrophobic amino acids in the array \"hydrop\". The x-coordinates are in the first entry and the y-coordinates are in the second entry.<br>\n",
    "Can you decide if the protein is soluble in water or would rather lay in a membrane region?<br>\n",
    "Therefore, try to make a statistic plot to decide where you can find the amino acids. You can use a subplot variant with shared axes to get a better overview or you can add marking lines in your histogram to make a decission of the solubility. You can also try to do both."
   ]
  },
  {
   "cell_type": "code",
   "execution_count": null,
   "metadata": {},
   "outputs": [],
   "source": []
  }
 ],
 "metadata": {
  "kernelspec": {
   "display_name": "Python 3 (ipykernel)",
   "language": "python",
   "name": "python3"
  },
  "language_info": {
   "codemirror_mode": {
    "name": "ipython",
    "version": 3
   },
   "file_extension": ".py",
   "mimetype": "text/x-python",
   "name": "python",
   "nbconvert_exporter": "python",
   "pygments_lexer": "ipython3",
   "version": "3.8.10"
  }
 },
 "nbformat": 4,
 "nbformat_minor": 4
}
