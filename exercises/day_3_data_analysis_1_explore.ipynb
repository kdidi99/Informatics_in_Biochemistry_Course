{
  "nbformat": 4,
  "nbformat_minor": 0,
  "metadata": {
    "colab": {
      "name": "Untitled4.ipynb",
      "provenance": [],
      "authorship_tag": "ABX9TyO9gPkqtSD/xU7fO0YrCOGo",
      "include_colab_link": true
    },
    "kernelspec": {
      "name": "python3",
      "display_name": "Python 3"
    },
    "language_info": {
      "name": "python"
    }
  },
  "cells": [
    {
      "cell_type": "markdown",
      "metadata": {
        "id": "view-in-github",
        "colab_type": "text"
      },
      "source": [
        "<a href=\"https://colab.research.google.com/github/kdidi99/Python_for_Biochemists/blob/main/exercises/day_3_data_analysis_1_explore.ipynb\" target=\"_parent\"><img src=\"https://colab.research.google.com/assets/colab-badge.svg\" alt=\"Open In Colab\"/></a>"
      ]
    },
    {
      "cell_type": "markdown",
      "source": [
        "# Day 3, exercise 1: Explorative data analysis with Pandas\n",
        "\n",
        "In this exercise, you will apply the concepts you learned to a new dataset consisting of phone data. Execute the code cell below to get the csv file \"phone_data.csv\" into your current working directory."
      ],
      "metadata": {
        "id": "iQSQ4gGC9-oV"
      }
    },
    {
      "cell_type": "code",
      "execution_count": null,
      "metadata": {
        "colab": {
          "base_uri": "https://localhost:8080/"
        },
        "id": "7rvRFhUS9672",
        "outputId": "41353d98-28af-43f8-b372-5cc39cf1be75"
      },
      "outputs": [
        {
          "output_type": "stream",
          "name": "stdout",
          "text": [
            "Download ready.\n"
          ]
        }
      ],
      "source": [
        "import pandas\n",
        "import numpy\n",
        "import requests\n",
        "\n",
        "download_url = \"https://raw.githubusercontent.com/rashida048/Datasets/master/phone_data.csv\"\n",
        "target_csv_path = \"phone_data.csv\"\n",
        "\n",
        "response = requests.get(download_url)\n",
        "response.raise_for_status()    # Check that the request was successful\n",
        "with open(target_csv_path, \"wb\") as f:\n",
        "    f.write(response.content)\n",
        "print(\"Download ready.\")\n"
      ]
    },
    {
      "cell_type": "markdown",
      "source": [
        "Now import the csv file into pandas and do some explorative data analysis. Answer for example the following questions:\n",
        "\n",
        "\n",
        "*   What do the different columns stand for?\n",
        "*   Look at different subsets of the data with loc/iloc/indexing operator\n",
        "*   How many different network provider are there? How much are they used compared to their competitors?\n",
        "*   What is more often used, calls or sms?\n",
        "*   How long is the average call? How long was the longest one?\n",
        "\n",
        "\n",
        "More advanced exercises:\n",
        "*   Start by just reading in the first 500 rows\n",
        "*   drop the item column and drop all rows with a call length shorter than 2 min\n",
        "*   only keep entries that were taken between 1pm and 5pm\n",
        "*   try to get the percentage of times where a call was not answered (i.e. were a voicemail was recorded)\n",
        "\n"
      ],
      "metadata": {
        "id": "HnMALsqV_hH1"
      }
    }
  ]
}