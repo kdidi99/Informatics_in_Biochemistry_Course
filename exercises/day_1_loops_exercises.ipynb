{
  "cells": [
    {
      "cell_type": "markdown",
      "metadata": {
        "id": "zPFIyXiiF_TR"
      },
      "source": [
        "# Day 1: Loops Exercises \n",
        "Leonhard Kohleick"
      ]
    },
    {
      "cell_type": "markdown",
      "metadata": {
        "id": "hG4Ovcp2F_TZ"
      },
      "source": [
        "## Exercise 1\n",
        "The DNA Sequence below needs to be transcribed to RNA. Write a program with a loop that does this job! "
      ]
    },
    {
      "cell_type": "code",
      "execution_count": null,
      "metadata": {
        "id": "ViCAZLeFF_Tc"
      },
      "outputs": [],
      "source": [
        "dna = \"CCACCCTCGTGGTATGGCTAGGCATTCAGGAACCGGAGAACGCTTCAGACCAGCCCGGACTGGGAACCTGCGGGCAGTAGGTGGAAT\"\n",
        "dna_to_rna = {'A': 'A', 'C': 'C', 'G': 'G', 'T': 'U'}\n"
      ]
    },
    {
      "cell_type": "markdown",
      "metadata": {
        "id": "twYbQy-rF_Tf"
      },
      "source": [
        "## Exercise 2 \n",
        "Compute the G & C content of the DNA sequence above with a Python program! (use a loop) \\\n",
        "Is it over 50%?"
      ]
    },
    {
      "cell_type": "markdown",
      "source": [
        "## Exercise 3\n",
        "\n",
        "Advanced exercise: Given the two lists of proteins and activity below, print the number of the entry, the protein and the cellular location together in a row! (Hint: Google for the zip and the enumerate function, both very useful in loops)"
      ],
      "metadata": {
        "id": "fzp_bwdUGBty"
      }
    },
    {
      "cell_type": "code",
      "source": [
        "proteins = [\"Helicase\", \"Fumarase\", \"Citrate synthase\", \"DNA Polymerase\", \"ATP Synthase\", \"Rubisco\", \"monoamine oxidase\", \"hexokinase\"]\n",
        "activity = [1142, 4559, 2132, 2949, 2991, 8472, 4892, 2938]\n",
        "#sample output: \n",
        "# 0 Helicase 1142\n",
        "# 1 Fumarase 4559\n",
        "#...\n",
        "# 7 hexokinase 2938"
      ],
      "metadata": {
        "id": "7uIOzateHWzr"
      },
      "execution_count": null,
      "outputs": []
    },
    {
      "cell_type": "markdown",
      "source": [
        "If you have time left: Make another list with the subcellular location of the enzymes (mitochondria, cytoplasm, ...) and print this information in the same row as well!"
      ],
      "metadata": {
        "id": "nFgP2tRFITk-"
      }
    }
  ],
  "metadata": {
    "kernelspec": {
      "display_name": "Python 3",
      "language": "python",
      "name": "python3"
    },
    "language_info": {
      "codemirror_mode": {
        "name": "ipython",
        "version": 3
      },
      "file_extension": ".py",
      "mimetype": "text/x-python",
      "name": "python",
      "nbconvert_exporter": "python",
      "pygments_lexer": "ipython3",
      "version": "3.8.3"
    },
    "colab": {
      "name": "day_1_loops_exercises.ipynb",
      "provenance": []
    }
  },
  "nbformat": 4,
  "nbformat_minor": 0
}