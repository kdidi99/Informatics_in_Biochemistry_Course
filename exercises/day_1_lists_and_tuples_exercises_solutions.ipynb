{
 "cells": [
  {
   "cell_type": "markdown",
   "metadata": {},
   "source": [
    "# Lists and Tuples - Solutions"
   ]
  },
  {
   "cell_type": "markdown",
   "metadata": {},
   "source": [
    "For this exercise you are given the first 70 nucleotides of the Sars-Cov2 spike protein sequence."
   ]
  },
  {
   "cell_type": "code",
   "execution_count": 2,
   "metadata": {},
   "outputs": [],
   "source": [
    "spike = \"ATGTTTGTTTTTCTTGTTTTATTGCCACTAGTCTCTAGTCAGTGTGTTAATCTTACAACCAGAACTCAAT\""
   ]
  },
  {
   "cell_type": "markdown",
   "metadata": {},
   "source": [
    "## Exercise 1\n",
    "Perform the following tasks on the sequence:\n",
    "\n",
    "* print the first codon (= first three bases)\n",
    "* return a new sequence (as string) without the last two codons"
   ]
  },
  {
   "cell_type": "code",
   "execution_count": 31,
   "metadata": {},
   "outputs": [
    {
     "name": "stdout",
     "output_type": "stream",
     "text": [
      "ATG\n",
      "ATGTTTGTTTTTCTTGTTTTATTGCCACTAGTCTCTAGTCAGTGTGTTAATCTTACAACCAGAA\n",
      "ATGTTTGTTTTTCTTGTTTTATTGCCACTAGTCTCTAGTCAGTGTGTTAATCTTACAACCAGAA\n",
      "ATGTTTGTTTTATTGCCACTAGTCTCTAGTCAGTGTGTTAATCTTACAACCAGAACTCAAT\n",
      "\n",
      "\n",
      "0123456789--------21\n",
      "ATGTTTGTTTTTCTTGTTTTATTGCCACTAGTCTCTAGTCAGTGTGTTAATCTTACAACCAGAACTCAAT\n",
      "ATGTTTGTT---------TTATTGCCACTAGTCTCTAGTCAGTGTGTTAATCTTACAACCAGAACTCAAT\n"
     ]
    }
   ],
   "source": [
    "# first codon\n",
    "print(spike[:3])\n",
    "\n",
    "# first method:\n",
    "new_seq = list(spike)\n",
    "new_seq = new_seq[:-6]\n",
    "\n",
    "print(\"\".join(new_seq))\n",
    "\n",
    "# alternative - index directly on the string:\n",
    "print(spike[:-6])\n",
    "\n",
    "######################################################\n",
    "# solutions to old exercise that I left in a previous version\n",
    "spike_new = spike[:9]+spike[18:]\n",
    "\n",
    "print(spike_new)\n",
    "\n",
    "# illustration for the solutions (code itself does not matter)\n",
    "print(\"\\n\")\n",
    "\n",
    "indexes = \"\".join([str(i) for i in range(10)])+\"-\"*8+\"21\"\n",
    "print(indexes, spike, spike[:9]+\"-\"*9+spike[18:], )\n",
    "print(spike)\n",
    "print(spike[:9]+\"-\"*9+spike[18:])"
   ]
  },
  {
   "cell_type": "markdown",
   "metadata": {},
   "source": [
    "## Exercise 2\n",
    "Now, return a new sequence (as string) with the following mutations using Python list functions:\n",
    "\n",
    "* T to G point mutation at nucleotide 6 of the sequence\n",
    "* change the second last codon to \"CGG\"\n",
    "* insert a C between nucleotide 1 and 2 of the sequence\n",
    "* append a polyA-repeat of 10 nucleotides to the end of the sequence"
   ]
  },
  {
   "cell_type": "code",
   "execution_count": 30,
   "metadata": {},
   "outputs": [
    {
     "name": "stdout",
     "output_type": "stream",
     "text": [
      "old sequence:\t\t  ATGTTTGTTTTTCTTGTTTTATTGCCACTAGTCTCTAGTCAGTGTGTTAATCTTACAACCAGAACTCAAT\n",
      "point mutation:\t\t  ATGTTGGTTTTTCTTGTTTTATTGCCACTAGTCTCTAGTCAGTGTGTTAATCTTACAACCAGAACTCAAT\n",
      "CGG as second last codon: ATGTTGGTTTTTCTTGTTTTATTGCCACTAGTCTCTAGTCAGTGTGTTAATCTTACAACCAGAACGGAAT\n",
      "C insertion: \t\t  ACTGTTGGTTTTTCTTGTTTTATTGCCACTAGTCTCTAGTCAGTGTGTTAATCTTACAACCAGAACGGAAT\n",
      "final sequence:\t\t  ACTGTTGGTTTTTCTTGTTTTATTGCCACTAGTCTCTAGTCAGTGTGTTAATCTTACAACCAGAACGGAATAAAAAAAAAA\n"
     ]
    }
   ],
   "source": [
    "new_seq = list(spike)\n",
    "\n",
    "print(\"old sequence:\\t\\t \", \"\".join(new_seq))\n",
    "\n",
    "# point mutation\n",
    "new_seq[5] = \"G\"\n",
    "print(\"point mutation:\\t\\t \", \"\".join(new_seq))\n",
    "\n",
    "# replace second last codon\n",
    "new_seq[-6:-3] = list(\"CGG\") # same as [\"C\", \"G\", \"G\"]\n",
    "print(\"CGG as second last codon:\", \"\".join(new_seq))\n",
    "\n",
    "# insert a C between nucleotide 1 and 2\n",
    "new_seq.insert(1, \"C\")\n",
    "print(\"C insertion: \\t\\t \", \"\".join(new_seq))\n",
    "\n",
    "# append a polyA-repeat\n",
    "new_seq.extend([\"A\"]*10)\n",
    "print(\"final sequence:\\t\\t \", \"\".join(new_seq))"
   ]
  },
  {
   "cell_type": "markdown",
   "metadata": {},
   "source": [
    "## Exercise 3: Bonus\n",
    "Let's pretend that the sequence \"ATTGCC\" is a binding motif for a specific transcription factor. Write a conditional clause that prints \"sequence contains motif\" if the motif is in the sequence and \"sequence does not contain motif\" otherwise and apply it to the spike sequence."
   ]
  },
  {
   "cell_type": "code",
   "execution_count": 4,
   "metadata": {},
   "outputs": [
    {
     "name": "stdout",
     "output_type": "stream",
     "text": [
      "sequence contains motif\n"
     ]
    }
   ],
   "source": [
    "sequence = spike\n",
    "\n",
    "if \"ATTGCC\" in sequence:\n",
    "    print(\"sequence contains motif\")\n",
    "else:\n",
    "    print(\"sequence does not contain motif\")"
   ]
  }
 ],
 "metadata": {
  "interpreter": {
   "hash": "eb7a3cc7805b647c07cd88e8371649cf687544e475bc1164b445f3249eb5ba5e"
  },
  "kernelspec": {
   "display_name": "Python 3",
   "language": "python",
   "name": "python3"
  },
  "language_info": {
   "codemirror_mode": {
    "name": "ipython",
    "version": 3
   },
   "file_extension": ".py",
   "mimetype": "text/x-python",
   "name": "python",
   "nbconvert_exporter": "python",
   "pygments_lexer": "ipython3",
   "version": "3.8.8"
  }
 },
 "nbformat": 4,
 "nbformat_minor": 2
}
