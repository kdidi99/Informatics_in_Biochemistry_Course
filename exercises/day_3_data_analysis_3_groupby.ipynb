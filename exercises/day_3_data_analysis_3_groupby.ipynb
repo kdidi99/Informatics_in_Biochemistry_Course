{
  "nbformat": 4,
  "nbformat_minor": 0,
  "metadata": {
    "colab": {
      "name": "Untitled19.ipynb",
      "provenance": [],
      "authorship_tag": "ABX9TyNtTkFMQqIDQ5Abnq/bsf7X",
      "include_colab_link": true
    },
    "kernelspec": {
      "name": "python3",
      "display_name": "Python 3"
    },
    "language_info": {
      "name": "python"
    }
  },
  "cells": [
    {
      "cell_type": "markdown",
      "metadata": {
        "id": "view-in-github",
        "colab_type": "text"
      },
      "source": [
        "<a href=\"https://colab.research.google.com/github/kdidi99/Python_for_Biochemists/blob/main/exercises/day_3_data_analysis_3_groupby.ipynb\" target=\"_parent\"><img src=\"https://colab.research.google.com/assets/colab-badge.svg\" alt=\"Open In Colab\"/></a>"
      ]
    },
    {
      "cell_type": "code",
      "execution_count": null,
      "metadata": {
        "id": "LYGz1Ez4i72L"
      },
      "outputs": [],
      "source": [
        "import numpy as np\n",
        "import pandas as pd"
      ]
    },
    {
      "cell_type": "markdown",
      "source": [
        "For the import below to work, put the csv file \"legislator-historical.csv\" into the same directory as this notebook."
      ],
      "metadata": {
        "id": "T2rpTVx5jcK7"
      }
    },
    {
      "cell_type": "code",
      "source": [
        "dtypes = {\n",
        "    \"first_name\": \"category\",\n",
        "    \"gender\": \"category\",\n",
        "    \"type\": \"category\",\n",
        "    \"state\": \"category\",\n",
        "    \"party\": \"category\",\n",
        "}\n",
        "df_us = pd.read_csv(\"legislators-historical.csv\",\n",
        "    dtype=dtypes,\n",
        "    usecols=list(dtypes) + [\"birthday\", \"last_name\"],\n",
        "    parse_dates=[\"birthday\"]\n",
        ")\n",
        "\n",
        "df_us.head()"
      ],
      "metadata": {
        "id": "O8Q42GGti-9M"
      },
      "execution_count": null,
      "outputs": []
    },
    {
      "cell_type": "markdown",
      "source": [
        "We see the names of congress members with infos such as birthday party or state (with some pretty old ones in there). How do we get the number of congressional members per state over the whole time period? \n",
        "**Ex**: Find the state with the most members over the whole time period and say how many members they had in total. \n",
        "\n",
        "**Advanced Ex**: Do the same, but differentiate between male and female congressional members."
      ],
      "metadata": {
        "id": "_2eE6gJpjD4Y"
      }
    },
    {
      "cell_type": "markdown",
      "source": [
        ""
      ],
      "metadata": {
        "id": "_d2q5wMEjlVb"
      }
    }
  ]
}