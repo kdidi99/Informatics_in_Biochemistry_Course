{
 "cells": [
  {
   "cell_type": "markdown",
   "metadata": {},
   "source": [
    "# Sets and Dictionaries - Solutions"
   ]
  },
  {
   "cell_type": "markdown",
   "metadata": {},
   "source": [
    "## Exercise 1\n",
    "Below you can find two amino acid peptide sequences as well as a set of all 20 amino acids. Use pythons to determine which unique amino acids occur in both sequences and which amino acids occur in neither of the two sequences."
   ]
  },
  {
   "cell_type": "code",
   "execution_count": 19,
   "metadata": {},
   "outputs": [
    {
     "name": "stdout",
     "output_type": "stream",
     "text": [
      "Shared amino acids:  {'T', 'L', 'R', 'N', 'Q'}\n",
      "Missing amino acids:  {'H', 'I', 'F', 'S', 'Y', 'K', 'E', 'W', 'C'}\n"
     ]
    }
   ],
   "source": [
    "peptide_1 = \"NRLTPQPMPQ\"\n",
    "peptide_2 = \"LTGANQVDRG\"\n",
    "\n",
    "amino_acids = {'A','R','N','D','C','E','Q','G','H','I','L','K','M','F','P','S','T','W','Y','V'}\n",
    "\n",
    "peptide_1_aas = set(peptide_1)\n",
    "peptide_2_aas = set(peptide_2)\n",
    "\n",
    "# Shared amino acids\n",
    "print(\"Shared amino acids: \", peptide_1_aas.intersection(peptide_2_aas))\n",
    "\n",
    "# Amino acids in neither sequence\n",
    "peptide_aas_all = peptide_1_aas.union(peptide_2_aas)\n",
    "missing_aas = peptide_aas_all.symmetric_difference(amino_acids)\n",
    "\n",
    "print(\"Missing amino acids: \", missing_aas)"
   ]
  },
  {
   "cell_type": "markdown",
   "metadata": {},
   "source": [
    "## Exercise 2\n",
    "You did an experiment which gave you the following data:\n",
    "\n",
    "| Measurement 1 | Measurement 2 | Measurement 3 | Measurement 4 |\n",
    "|---------------|---------------|---------------|---------------|\n",
    "| 1.3           | 0.9           | 1.0           | 1.1           |\n",
    "| 2.9           | 1.7           | 2.3           | 2.3           |\n",
    "| 3.2           | 2.8           | 2.9           | 3.0           |\n",
    "| 4.0           | 3.7           | 4.2           | 3.7           |\n",
    "\n",
    "Half of the data is already stored in a dictionary below. Add the remaining measurements to that same dictionary."
   ]
  },
  {
   "cell_type": "code",
   "execution_count": 4,
   "metadata": {},
   "outputs": [
    {
     "name": "stdout",
     "output_type": "stream",
     "text": [
      "{'Measurement 1': [1.3, 2.9, 3.2, 4.0], 'Measurement 2': [0.9, 1.7, 2.8, 3.7], 'Measurement 3': [1.0, 2.3, 2.9, 4.2], 'Measurement 4': [1.1, 2.3, 3.0, 3.7]}\n"
     ]
    }
   ],
   "source": [
    "mydata = {\n",
    "    \"Measurement 1\": [1.3, 2.9, 3.2, 4.0],\n",
    "    \"Measurement 2\": [0.9, 1.7, 2.8, 3.7]\n",
    "}\n",
    "\n",
    "# assigning each measurement with mydata[...] = [...] works as well\n",
    "mydata.update({\n",
    "    \"Measurement 3\": [1.0, 2.3, 2.9, 4.2],\n",
    "    \"Measurement 4\": [1.1, 2.3, 3.0, 3.7]\n",
    "})\n",
    "print(mydata)"
   ]
  },
  {
   "cell_type": "markdown",
   "metadata": {},
   "source": [
    "Oops, while you check your data again you realise that the second value of measurement 1 should actually be 1.9 instead of 2.9!\\\n",
    "Correctly reassign that value in `mydata`."
   ]
  },
  {
   "cell_type": "code",
   "execution_count": 5,
   "metadata": {},
   "outputs": [
    {
     "name": "stdout",
     "output_type": "stream",
     "text": [
      "{'Measurement 1': [1.3, 1.9, 3.2, 4.0], 'Measurement 2': [0.9, 1.7, 2.8, 3.7], 'Measurement 3': [1.0, 2.3, 2.9, 4.2], 'Measurement 4': [1.1, 2.3, 3.0, 3.7]}\n"
     ]
    }
   ],
   "source": [
    "mydata[\"Measurement 1\"][1] = 1.9\n",
    "print(mydata)"
   ]
  },
  {
   "cell_type": "markdown",
   "metadata": {},
   "source": [
    "## Exercise 3 - Bonus\n",
    "Below you are given a dictionary that translates common organism names into their scientific latin names and a variable called `common_name` that is assigned to the value \"Human\" as an example. Write a construct that prints the scientific counterpart of `common_name` but returns \"Organism name not found!\" when `common_name` is not in the dictionary's keys.\n",
    "\n",
    "Can you also create a second dictionary that does the reverse translation from scientific names to common names?"
   ]
  },
  {
   "cell_type": "code",
   "execution_count": 6,
   "metadata": {},
   "outputs": [
    {
     "name": "stdout",
     "output_type": "stream",
     "text": [
      "Homo sapiens\n",
      "{'Saccharomyces cerevisiae': \"Brewer's yeast\", 'Arabidopsis thaliana': 'Thale cress', 'Caenorhabditis elegans': 'Nematode', 'Drosophila melangaster': 'Fruit fly', 'Danio rerio': 'Zebrafish', 'Mus musculus': 'House mouse', 'Homo sapiens': 'Human'}\n"
     ]
    }
   ],
   "source": [
    "common_to_scientific = {\n",
    "    \"Brewer's yeast\": \"Saccharomyces cerevisiae\",\n",
    "    \"Thale cress\": \"Arabidopsis thaliana\",\n",
    "    \"Nematode\": \"Caenorhabditis elegans\",\n",
    "    \"Fruit fly\": \"Drosophila melangaster\",\n",
    "    \"Zebrafish\": \"Danio rerio\",\n",
    "    \"House mouse\": \"Mus musculus\",\n",
    "    \"Human\": \"Homo sapiens\",\n",
    "}\n",
    "\n",
    "common_name = \"Human\"\n",
    "\n",
    "# part 1\n",
    "if common_name in common_to_scientific.keys():\n",
    "    print(common_to_scientific[common_name])\n",
    "else:\n",
    "    print(\"Organism name not found!\")\n",
    "\n",
    "# part 2\n",
    "scientific_to_common = dict(\n",
    "    zip(common_to_scientific.values(), common_to_scientific.keys())\n",
    ")\n",
    "\n",
    "print(scientific_to_common)"
   ]
  }
 ],
 "metadata": {
  "interpreter": {
   "hash": "eb7a3cc7805b647c07cd88e8371649cf687544e475bc1164b445f3249eb5ba5e"
  },
  "kernelspec": {
   "display_name": "Python 3.8.11 64-bit ('test2': conda)",
   "name": "python3"
  },
  "language_info": {
   "codemirror_mode": {
    "name": "ipython",
    "version": 3
   },
   "file_extension": ".py",
   "mimetype": "text/x-python",
   "name": "python",
   "nbconvert_exporter": "python",
   "pygments_lexer": "ipython3",
   "version": "3.8.11"
  },
  "orig_nbformat": 4
 },
 "nbformat": 4,
 "nbformat_minor": 2
}
