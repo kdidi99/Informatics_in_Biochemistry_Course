{
 "cells": [
  {
   "cell_type": "markdown",
   "source": [
    "# Working with `.txt` and `.csv` files "
   ],
   "metadata": {}
  },
  {
   "cell_type": "markdown",
   "source": [
    "## Exercise \r\n",
    "In this one large exercise, we provide you with a file called `subcellular_location_data.csv`.  \r\n",
    "\r\n",
    "Your task is now to sort the gene names after their cellular locations. Please provide each possible cellular location in the csv file with a list of gene names, in a dictionary. "
   ],
   "metadata": {}
  },
  {
   "cell_type": "markdown",
   "source": [],
   "metadata": {}
  }
 ],
 "metadata": {
  "orig_nbformat": 4,
  "language_info": {
   "name": "python"
  }
 },
 "nbformat": 4,
 "nbformat_minor": 2
}