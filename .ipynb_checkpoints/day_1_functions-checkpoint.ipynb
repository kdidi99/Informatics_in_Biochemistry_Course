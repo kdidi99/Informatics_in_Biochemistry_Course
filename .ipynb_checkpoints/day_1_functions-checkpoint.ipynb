{
 "cells": [
  {
   "cell_type": "markdown",
   "metadata": {},
   "source": [
    "# Day 1: Functions & Modules/Packages\n",
    "Packages are important to work efficiently in python. They allow you to use other peoples code (wonderful). An \n",
    "example would be the `random` package.  With it you can create random numbers. First we have to import a module.\n",
    "Then you can use it later on in your code. with `random.randint(Y,X)` we can generate a random integer between `Y` and `X`"
   ]
  },
  {
   "cell_type": "code",
   "execution_count": 3,
   "metadata": {},
   "outputs": [
    {
     "name": "stdout",
     "output_type": "stream",
     "text": [
      "7\n"
     ]
    }
   ],
   "source": [
    "import random\n",
    "\n",
    "print(random.randint(0,10))"
   ]
  },
  {
   "cell_type": "markdown",
   "metadata": {},
   "source": [
    "we can also choose one random element of a list:"
   ]
  },
  {
   "cell_type": "code",
   "execution_count": 5,
   "metadata": {},
   "outputs": [
    {
     "name": "stdout",
     "output_type": "stream",
     "text": [
      "A\n"
     ]
    }
   ],
   "source": [
    "print(random.choice(['A', 'C', 'G', 'T']))"
   ]
  },
  {
   "cell_type": "markdown",
   "metadata": {},
   "source": [
    "To avoid using too much memory, you can also import just a tiny part of a package. In this case you don't need to explicitly tell the program in which package the function resides ( `random.choice` would just be `choice`):"
   ]
  },
  {
   "cell_type": "code",
   "execution_count": 6,
   "metadata": {},
   "outputs": [
    {
     "data": {
      "text/plain": [
       "4"
      ]
     },
     "execution_count": 6,
     "metadata": {},
     "output_type": "execute_result"
    }
   ],
   "source": [
    "from random import randrange\n",
    "randrange(10) "
   ]
  },
  {
   "cell_type": "markdown",
   "metadata": {},
   "source": [
    "A lot of packages are already implemented in Python (also called base packages like `random`) and can be used immediatly after installation. Others can be downloaded online and installed on your system. This opens a lot of possibilities. "
   ]
  },
  {
   "cell_type": "markdown",
   "metadata": {},
   "source": [
    "## Functions"
   ]
  },
  {
   "cell_type": "markdown",
   "metadata": {},
   "source": [
    "A function is lika a miniprogram within a program. Lets create one to better understand them:"
   ]
  },
  {
   "cell_type": "code",
   "execution_count": 1,
   "metadata": {},
   "outputs": [],
   "source": [
    "def print_nucleotides():\n",
    "    print(\"A\")\n",
    "    print(\"T\")\n",
    "    print(\"G\")\n",
    "    print(\"C\")"
   ]
  },
  {
   "cell_type": "code",
   "execution_count": 2,
   "metadata": {},
   "outputs": [
    {
     "name": "stdout",
     "output_type": "stream",
     "text": [
      "A\n",
      "T\n",
      "G\n",
      "C\n"
     ]
    }
   ],
   "source": [
    "print_nucleotides()"
   ]
  },
  {
   "cell_type": "markdown",
   "metadata": {},
   "source": [
    "The `def` statement defines a function called `print_nucleotides()`. Then, the four `print` statements are the body of the function. We then \"call\" the function with writing `print_nucleotides()` in the cell above.\n",
    "\n",
    "With functions you can reuse your code. As an example, you can use the `print_nucleotides()` multiple times, and you dont have to copy paste the `print` statements. "
   ]
  },
  {
   "cell_type": "code",
   "execution_count": 3,
   "metadata": {},
   "outputs": [
    {
     "name": "stdout",
     "output_type": "stream",
     "text": [
      "A\n",
      "T\n",
      "G\n",
      "C\n",
      "A\n",
      "T\n",
      "G\n",
      "C\n"
     ]
    }
   ],
   "source": [
    "print_nucleotides()\n",
    "print_nucleotides()"
   ]
  },
  {
   "cell_type": "markdown",
   "metadata": {},
   "source": [
    "In the parentheses you can put arguments. These are values that you can \"pass\" to your function. "
   ]
  },
  {
   "cell_type": "code",
   "execution_count": 8,
   "metadata": {},
   "outputs": [
    {
     "name": "stdout",
     "output_type": "stream",
     "text": [
      "Hello, Peter\n",
      "Hello, Lea\n"
     ]
    }
   ],
   "source": [
    "def hello(name):\n",
    "    print(\"Hello,\",name)\n",
    "hello(\"Peter\")\n",
    "hello(\"Lea\")"
   ]
  },
  {
   "cell_type": "markdown",
   "metadata": {},
   "source": [
    "As you can see, we passed to different names and got two different outputs.\n",
    "\n",
    "We can also use functions for calculations:"
   ]
  },
  {
   "cell_type": "code",
   "execution_count": 10,
   "metadata": {},
   "outputs": [
    {
     "name": "stdout",
     "output_type": "stream",
     "text": [
      "16\n"
     ]
    }
   ],
   "source": [
    "def square(a):\n",
    "    print(a**2)\n",
    "\n",
    "square(4)"
   ]
  },
  {
   "cell_type": "markdown",
   "metadata": {},
   "source": [
    "Functions in general always return a value, the default value is `None`, a value with no value. If you want, that the function returns a specific type of value you have to use the `return` statement. The difference between the `print` and the `return` statement is the following: \n",
    "\n",
    "`print` just prints the output on the screen and nothing else, it actually also returns a `None` value. \n",
    " \n",
    "`return` gives you the value, so that you can assign it to variables (Another illustration would be sending a postcard):"
   ]
  },
  {
   "cell_type": "code",
   "execution_count": 5,
   "metadata": {},
   "outputs": [
    {
     "name": "stdout",
     "output_type": "stream",
     "text": [
      "16\n",
      "--------------------\n",
      "25\n"
     ]
    }
   ],
   "source": [
    "def square(a):\n",
    "    return(a**2)\n",
    "\n",
    "b = square(4)\n",
    "print(b)\n",
    "print(20*\"-\")\n",
    "print(b + 9)"
   ]
  },
  {
   "cell_type": "markdown",
   "metadata": {},
   "source": [
    "This would not work with a `print` statement in the function:"
   ]
  },
  {
   "cell_type": "code",
   "execution_count": 15,
   "metadata": {},
   "outputs": [
    {
     "name": "stdout",
     "output_type": "stream",
     "text": [
      "16\n",
      "None\n"
     ]
    },
    {
     "ename": "TypeError",
     "evalue": "unsupported operand type(s) for +: 'NoneType' and 'int'",
     "output_type": "error",
     "traceback": [
      "\u001b[1;31m---------------------------------------------------------------------------\u001b[0m",
      "\u001b[1;31mTypeError\u001b[0m                                 Traceback (most recent call last)",
      "\u001b[1;32m<ipython-input-15-ce5978bf9099>\u001b[0m in \u001b[0;36m<module>\u001b[1;34m\u001b[0m\n\u001b[0;32m      5\u001b[0m \u001b[0mprint\u001b[0m\u001b[1;33m(\u001b[0m\u001b[0mb\u001b[0m\u001b[1;33m)\u001b[0m\u001b[1;33m\u001b[0m\u001b[1;33m\u001b[0m\u001b[0m\n\u001b[0;32m      6\u001b[0m \u001b[1;33m\u001b[0m\u001b[0m\n\u001b[1;32m----> 7\u001b[1;33m \u001b[0mprint\u001b[0m\u001b[1;33m(\u001b[0m\u001b[0mb\u001b[0m \u001b[1;33m+\u001b[0m \u001b[1;36m9\u001b[0m \u001b[1;33m)\u001b[0m\u001b[1;33m\u001b[0m\u001b[1;33m\u001b[0m\u001b[0m\n\u001b[0m",
      "\u001b[1;31mTypeError\u001b[0m: unsupported operand type(s) for +: 'NoneType' and 'int'"
     ]
    }
   ],
   "source": [
    "def square(a):\n",
    "    print(a**2)\n",
    "\n",
    "b = square(4)\n",
    "print(b)\n",
    "print(20*\"-\")\n",
    "print(b + 9)"
   ]
  },
  {
   "cell_type": "markdown",
   "metadata": {},
   "source": [
    "The value of `b` is `None`. Hence, we get an `TypeError` if we try to calculate something with `b`. The `None` value represents the absence of a value. "
   ]
  },
  {
   "cell_type": "markdown",
   "metadata": {},
   "source": [
    "We can also pass more arguments, like in this function for exponentiation:"
   ]
  },
  {
   "cell_type": "code",
   "execution_count": 18,
   "metadata": {},
   "outputs": [
    {
     "name": "stdout",
     "output_type": "stream",
     "text": [
      "8\n",
      "10000000000\n"
     ]
    }
   ],
   "source": [
    "def exponentiation(base,power):\n",
    "    return(base ** power)\n",
    "\n",
    "print(exponentiation(2,3)) # 2**3\n",
    "print(20*\"-\")\n",
    "print(exponentiation(10,10))\n"
   ]
  },
  {
   "cell_type": "markdown",
   "metadata": {},
   "source": [
    "One important thing to remember is, that you don't change variables outside your function. On the one side, you have **local variables** (inside the function) and **global variables** (outside the function). Because functions are reusable bits of code, global variables can't be used in functions if you dont pass their values when calling them. "
   ]
  },
  {
   "cell_type": "code",
   "execution_count": 21,
   "metadata": {},
   "outputs": [
    {
     "name": "stdout",
     "output_type": "stream",
     "text": [
      "Hello Alice\n",
      "Hello Bob\n"
     ]
    }
   ],
   "source": [
    "#TODO local variables erklären\n",
    "name = \"Bob\"\n",
    "\n",
    "def myfunc():\n",
    "  name = \"Alice\"\n",
    "  print(\"Hello\" , name)\n",
    "\n",
    "myfunc()\n",
    "print(20*\"-\")\n",
    "print(\"Hello\" , name) # name is Bob, although we changed the variable in the function"
   ]
  }
 ],
 "metadata": {
  "interpreter": {
   "hash": "b3ba2566441a7c06988d0923437866b63cedc61552a5af99d1f4fb67d367b25f"
  },
  "kernelspec": {
   "display_name": "Python 3",
   "language": "python",
   "name": "python3"
  },
  "language_info": {
   "codemirror_mode": {
    "name": "ipython",
    "version": 3
   },
   "file_extension": ".py",
   "mimetype": "text/x-python",
   "name": "python",
   "nbconvert_exporter": "python",
   "pygments_lexer": "ipython3",
   "version": "3.8.3"
  }
 },
 "nbformat": 4,
 "nbformat_minor": 2
}
