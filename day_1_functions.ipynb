{
 "cells": [
  {
   "cell_type": "markdown",
   "source": [
    "# Day 1: Functions & Modules/Packages\r\n",
    "Packages are important to work efficiently in python. They allow you to use other peoples code (wonderful). An \r\n",
    "example would be the `random` package.  With it you can create random numbers. First we have to import a module.\r\n",
    "Then you can use it later on in your code. with `random.randint(Y,X)` we can generate a random integer between `Y` and `X`"
   ],
   "metadata": {}
  },
  {
   "cell_type": "code",
   "execution_count": 3,
   "source": [
    "import random\r\n",
    "\r\n",
    "print(random.randint(0,10))"
   ],
   "outputs": [
    {
     "output_type": "stream",
     "name": "stdout",
     "text": [
      "7\n"
     ]
    }
   ],
   "metadata": {}
  },
  {
   "cell_type": "markdown",
   "source": [
    "we can also choose one random element of a list:"
   ],
   "metadata": {}
  },
  {
   "cell_type": "code",
   "execution_count": 5,
   "source": [
    "print(random.choice(['A', 'C', 'G', 'T']))"
   ],
   "outputs": [
    {
     "output_type": "stream",
     "name": "stdout",
     "text": [
      "A\n"
     ]
    }
   ],
   "metadata": {}
  },
  {
   "cell_type": "markdown",
   "source": [
    "## Functions"
   ],
   "metadata": {}
  },
  {
   "cell_type": "markdown",
   "source": [
    "A function is lika a miniprogram within a program. Lets create one to better understand them:"
   ],
   "metadata": {}
  },
  {
   "cell_type": "code",
   "execution_count": 1,
   "source": [
    "def print_nucleotides():\r\n",
    "    print(\"A\")\r\n",
    "    print(\"T\")\r\n",
    "    print(\"G\")\r\n",
    "    print(\"C\")"
   ],
   "outputs": [],
   "metadata": {}
  },
  {
   "cell_type": "code",
   "execution_count": 2,
   "source": [
    "print_nucleotides()"
   ],
   "outputs": [
    {
     "output_type": "stream",
     "name": "stdout",
     "text": [
      "A\n",
      "T\n",
      "G\n",
      "C\n"
     ]
    }
   ],
   "metadata": {}
  },
  {
   "cell_type": "markdown",
   "source": [
    "The `def` statement defines a function called `print_nucleotides()`. Then, the four `print` statements are the body of the function. We then \"call\" the function with writing `print_nucleotides()` in the cell above.\r\n",
    "\r\n",
    "With functions you can reuse your code. As an example, you can use the `print_nucleotides()` multiple times, and you dont have to copy paste the `print` statements. "
   ],
   "metadata": {}
  },
  {
   "cell_type": "code",
   "execution_count": 3,
   "source": [
    "print_nucleotides()\r\n",
    "print_nucleotides()"
   ],
   "outputs": [
    {
     "output_type": "stream",
     "name": "stdout",
     "text": [
      "A\n",
      "T\n",
      "G\n",
      "C\n",
      "A\n",
      "T\n",
      "G\n",
      "C\n"
     ]
    }
   ],
   "metadata": {}
  },
  {
   "cell_type": "markdown",
   "source": [
    "In the parentheses you can put arguments. These are values that you can \"pass\" to your function. "
   ],
   "metadata": {}
  },
  {
   "cell_type": "code",
   "execution_count": 8,
   "source": [
    "def hello(name):\r\n",
    "    print(\"Hello,\",name)\r\n",
    "hello(\"Peter\")\r\n",
    "hello(\"Lea\")"
   ],
   "outputs": [
    {
     "output_type": "stream",
     "name": "stdout",
     "text": [
      "Hello, Peter\n",
      "Hello, Lea\n"
     ]
    }
   ],
   "metadata": {}
  },
  {
   "cell_type": "markdown",
   "source": [
    "As you can see, we passed to different names and got two different outputs.\r\n",
    "\r\n",
    "We can also use functions for calculations:"
   ],
   "metadata": {}
  },
  {
   "cell_type": "code",
   "execution_count": 10,
   "source": [
    "def square(a):\r\n",
    "    print(a**2)\r\n",
    "\r\n",
    "square(4)"
   ],
   "outputs": [
    {
     "output_type": "stream",
     "name": "stdout",
     "text": [
      "16\n"
     ]
    }
   ],
   "metadata": {}
  },
  {
   "cell_type": "markdown",
   "source": [
    "One important thing to know is the difference between the `print` and the `return` statement when using functions. `print` just prints the output on the screen and nothing else.\r\n",
    "\r\n",
    "`return` gives you the value, so that you can assign it to variables (Another illustration would be sending a postcard):"
   ],
   "metadata": {}
  },
  {
   "cell_type": "code",
   "execution_count": 5,
   "source": [
    "def square(a):\r\n",
    "    return(a**2)\r\n",
    "\r\n",
    "b = square(4)\r\n",
    "print(b)\r\n",
    "print(20*\"-\")\r\n",
    "print(b + 9)"
   ],
   "outputs": [
    {
     "output_type": "stream",
     "name": "stdout",
     "text": [
      "16\n",
      "--------------------\n",
      "25\n"
     ]
    }
   ],
   "metadata": {}
  },
  {
   "cell_type": "markdown",
   "source": [
    "This would not work with a `print` statement in the function:"
   ],
   "metadata": {}
  },
  {
   "cell_type": "code",
   "execution_count": 15,
   "source": [
    "def square(a):\r\n",
    "    print(a**2)\r\n",
    "\r\n",
    "b = square(4)\r\n",
    "print(b)\r\n",
    "print(20*\"-\")\r\n",
    "print(b + 9)"
   ],
   "outputs": [
    {
     "output_type": "stream",
     "name": "stdout",
     "text": [
      "16\n",
      "None\n"
     ]
    },
    {
     "output_type": "error",
     "ename": "TypeError",
     "evalue": "unsupported operand type(s) for +: 'NoneType' and 'int'",
     "traceback": [
      "\u001b[1;31m---------------------------------------------------------------------------\u001b[0m",
      "\u001b[1;31mTypeError\u001b[0m                                 Traceback (most recent call last)",
      "\u001b[1;32m<ipython-input-15-ce5978bf9099>\u001b[0m in \u001b[0;36m<module>\u001b[1;34m\u001b[0m\n\u001b[0;32m      5\u001b[0m \u001b[0mprint\u001b[0m\u001b[1;33m(\u001b[0m\u001b[0mb\u001b[0m\u001b[1;33m)\u001b[0m\u001b[1;33m\u001b[0m\u001b[1;33m\u001b[0m\u001b[0m\n\u001b[0;32m      6\u001b[0m \u001b[1;33m\u001b[0m\u001b[0m\n\u001b[1;32m----> 7\u001b[1;33m \u001b[0mprint\u001b[0m\u001b[1;33m(\u001b[0m\u001b[0mb\u001b[0m \u001b[1;33m+\u001b[0m \u001b[1;36m9\u001b[0m \u001b[1;33m)\u001b[0m\u001b[1;33m\u001b[0m\u001b[1;33m\u001b[0m\u001b[0m\n\u001b[0m",
      "\u001b[1;31mTypeError\u001b[0m: unsupported operand type(s) for +: 'NoneType' and 'int'"
     ]
    }
   ],
   "metadata": {}
  },
  {
   "cell_type": "markdown",
   "source": [
    "The value of `b` is `None`. Hence, we get an `TypeError` if we try to calculate something with `b`. The `None` value represents the absence of a value. "
   ],
   "metadata": {}
  },
  {
   "cell_type": "markdown",
   "source": [
    "We can also pass more arguments, like in this function for exponentiation:"
   ],
   "metadata": {}
  },
  {
   "cell_type": "code",
   "execution_count": 18,
   "source": [
    "def exponentiation(base,power):\r\n",
    "    return(base ** power)\r\n",
    "\r\n",
    "print(exponentiation(2,3)) # 2**3\r\n",
    "print(20*\"-\")\r\n",
    "print(exponentiation(10,10))\r\n"
   ],
   "outputs": [
    {
     "output_type": "stream",
     "name": "stdout",
     "text": [
      "8\n",
      "10000000000\n"
     ]
    }
   ],
   "metadata": {}
  },
  {
   "cell_type": "markdown",
   "source": [
    "One important thing to remember is, that you don't change variables outside  your function:"
   ],
   "metadata": {}
  },
  {
   "cell_type": "code",
   "execution_count": 21,
   "source": [
    "name = \"Bob\"\r\n",
    "\r\n",
    "def myfunc():\r\n",
    "  name = \"Alice\"\r\n",
    "  print(\"Hello\" , name)\r\n",
    "\r\n",
    "myfunc()\r\n",
    "print(20*\"-\")\r\n",
    "print(\"Hello\" , name) # name is Bob, although we changed the variable in the function"
   ],
   "outputs": [
    {
     "output_type": "stream",
     "name": "stdout",
     "text": [
      "Hello Alice\n",
      "Hello Bob\n"
     ]
    }
   ],
   "metadata": {}
  }
 ],
 "metadata": {
  "orig_nbformat": 4,
  "language_info": {
   "name": "python",
   "version": "3.8.3",
   "mimetype": "text/x-python",
   "codemirror_mode": {
    "name": "ipython",
    "version": 3
   },
   "pygments_lexer": "ipython3",
   "nbconvert_exporter": "python",
   "file_extension": ".py"
  },
  "kernelspec": {
   "name": "python3",
   "display_name": "Python 3.8.3 64-bit ('base': conda)"
  },
  "interpreter": {
   "hash": "b3ba2566441a7c06988d0923437866b63cedc61552a5af99d1f4fb67d367b25f"
  }
 },
 "nbformat": 4,
 "nbformat_minor": 2
}