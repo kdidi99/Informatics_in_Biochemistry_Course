{
 "cells": [
  {
   "cell_type": "markdown",
   "source": [
    "#  Day 1: Functions & Modules/Packages Exercises"
   ],
   "metadata": {}
  },
  {
   "cell_type": "markdown",
   "source": [
    "## Exercise 1 \r\n",
    "Import the `math` package and print out the number $\\pi$  with it (Google is your friend!) "
   ],
   "metadata": {}
  },
  {
   "cell_type": "markdown",
   "source": [
    "## Exercise 2 \r\n",
    "Create a function that **returns** the number of point mutations between two DNA sequences. The two sequences below should be used as arguments:"
   ],
   "metadata": {}
  },
  {
   "cell_type": "code",
   "execution_count": null,
   "source": [
    "sequence_1 = \"GAGCCTACTAACGGGAT\"\r\n",
    "sequence_2 = \"CATCGTAATGACGGCCT\""
   ],
   "outputs": [],
   "metadata": {}
  }
 ],
 "metadata": {
  "orig_nbformat": 4,
  "language_info": {
   "name": "python"
  }
 },
 "nbformat": 4,
 "nbformat_minor": 2
}