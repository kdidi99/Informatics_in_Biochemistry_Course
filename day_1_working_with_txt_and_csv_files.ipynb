{
 "cells": [
  {
   "cell_type": "markdown",
   "source": [
    "# Day 1: Working with .txt and .csv files\r\n",
    "An important feature of computational biology is working with various forms of input data. Very often, they arrive in the form of `.txt` or `.csv` files. JSON files are also important, but are not covered in this course. \r\n",
    "\\\r\n",
    "Some FileTypes such as `.csv` have their own parser. A parser helps you to translate the data in the given the csv file structure so that it is accessible with your python code."
   ],
   "metadata": {}
  },
  {
   "cell_type": "markdown",
   "source": [
    "## Reading and working with .txt files \r\n",
    "It is possible to open a `.txt`document with the `open()` open function. It reads the whole content of a file into a variable: "
   ],
   "metadata": {}
  },
  {
   "cell_type": "code",
   "execution_count": 1,
   "source": [
    "f = open(\"additional_data/simple_txt_file.txt\")"
   ],
   "outputs": [],
   "metadata": {}
  },
  {
   "cell_type": "markdown",
   "source": [
    "Now we can read the content of the variable into a string. This prints out all content of the `.txt` file:"
   ],
   "metadata": {}
  },
  {
   "cell_type": "code",
   "execution_count": 3,
   "source": [
    "s = f.read()\r\n",
    "print(s)"
   ],
   "outputs": [
    {
     "output_type": "stream",
     "name": "stdout",
     "text": [
      "Biochemistry is awesome! \n",
      "Coding is great!\n",
      "\n"
     ]
    }
   ],
   "metadata": {}
  },
  {
   "cell_type": "markdown",
   "source": [
    "We can also read it line by line with the command `readline()`:"
   ],
   "metadata": {}
  },
  {
   "cell_type": "code",
   "execution_count": 6,
   "source": [
    "f = open(\"additional_data/simple_txt_file.txt\")\r\n",
    "line1 = f.readline()\r\n",
    "line2 = f.readline()\r\n",
    "\r\n",
    "print(\"Line 1:\", line1)\r\n",
    "print(\"Line 2:\", line2 )"
   ],
   "outputs": [
    {
     "output_type": "stream",
     "name": "stdout",
     "text": [
      "Line 1: Biochemistry is awesome! \n",
      "\n",
      "Line 2: Coding is great!\n",
      "\n"
     ]
    }
   ],
   "metadata": {}
  },
  {
   "cell_type": "markdown",
   "source": [
    "Finally, after we are done with working with our file we need to close it. This creates free memory (This step is crucial when working with large files!):"
   ],
   "metadata": {}
  },
  {
   "cell_type": "code",
   "execution_count": 7,
   "source": [
    "f.close()"
   ],
   "outputs": [],
   "metadata": {}
  },
  {
   "cell_type": "markdown",
   "source": [
    "To avoid bugs or broken memory because you forgot to close your file it is recommended to use the `with()` statement to close your file automatically: "
   ],
   "metadata": {}
  },
  {
   "cell_type": "code",
   "execution_count": null,
   "source": [
    "with open(\"additional_data/simple_txt_file.txt\") as f:\r\n",
    "    line1 = f.readline()\r\n",
    "    line2 = f.readline()\r\n",
    "    \r\n",
    "    print(\"Line 1:\", line1)\r\n",
    "    print(\"Line 2:\", line2)"
   ],
   "outputs": [],
   "metadata": {}
  },
  {
   "cell_type": "markdown",
   "source": [
    "Now we look at another file, a sequence alignment, which is structured as such: \\\r\n",
    "`IL2RA_SHEEP    MEPSLLMWRFFVFIVVPGCVTEACHDDPPSLRNA----------MFKVLRYE----VGTM`\r\n",
    "\r\n",
    "For this, we need to write a custom parser which transforms the text file into a dictionary."
   ],
   "metadata": {}
  },
  {
   "cell_type": "code",
   "execution_count": 15,
   "source": [
    "gene_seq = {}\r\n",
    "with open(\"additional_data/protein_alignment.txt\") as f:\r\n",
    "    for line in f:\r\n",
    "        values = line.split()\r\n",
    "        gene_seq[values[0]] = values[1]\r\n",
    "print(gene_seq)"
   ],
   "outputs": [
    {
     "output_type": "stream",
     "name": "stdout",
     "text": [
      "{'IL2RA_SHEEP': 'MEPSLLMWRFFVFIVVPGCVTEACHDDPPSLRNA----------MFKVLRYE----VGTM', 'IL2RA_MOUSE': 'MEPRLLMLGFLSLTIVPSCRAELCLYDPPEVPNA----------TFKALSYK----NGTI', 'IL2RA_FELCA': 'MEPSLLLWGILTFVVVHGHVTELCDENPPDIQHA----------TFKALTYK----TGTM', 'IL2RA_HUMAN': 'MDSYLLMWGLLTFIMVPGCQAELCDDDPPEIPHA----------TFKAMAYK----EGTM', 'IL2RA_MACMU': 'MDPYLLMWGLLTFITVPGCQAELCDDDPPKITHA----------TFKAVAYK----EGTM'}\n"
     ]
    }
   ],
   "metadata": {}
  },
  {
   "cell_type": "markdown",
   "source": [
    "## Reading and working with .csv files"
   ],
   "metadata": {}
  },
  {
   "cell_type": "markdown",
   "source": [
    "CSV files are one of the most important forms of data in biology. Think of an Excel sheet, for example. In essence, a `.csv` is like an `.xlsx` document, without fancy layout and functions. \\\r\n",
    "Python has a build in `.csv` parser, which helps a lot. \\\r\n",
    "In the example below we read a `.csv` file with protein names, their gene name and a name of the species. "
   ],
   "metadata": {}
  },
  {
   "cell_type": "code",
   "execution_count": 12,
   "source": [
    "import csv # the Python  \r\n",
    "\r\n",
    "with open(\"additional_data/names_proteins.csv\") as csv_file:\r\n",
    "    csv_reader = csv.reader(csv_file, delimiter=\",\")\r\n",
    "    counter_line = 0\r\n",
    "    header = []\r\n",
    "    for row in csv_reader:\r\n",
    "        if counter_line == 0:\r\n",
    "            print('The categories in this csv file are:',row[0],row[1],row[2])\r\n",
    "            header = row\r\n",
    "            counter_line += 1 \r\n",
    "        else: \r\n",
    "            print(f'{header[0]}:{row[0]}, {header[1]}:{row[1]}, {header[2]}:{row[2]}')\r\n",
    "            counter_line += 1 \r\n"
   ],
   "outputs": [
    {
     "output_type": "stream",
     "name": "stdout",
     "text": [
      "The categories in this csv file are: protein  gene  organism\n",
      "protein:DNA-directed RNA polymerase II subunit RPB1,  gene: POLR2A,  organism: Homo sapiens (Human)\n",
      "protein:Hemoglobin subunit beta-1,  gene:Hbb-b1,  organism:Mus musculus (Mouse)\n",
      "protein:Mating pheromone Er-23,  gene:MAT23,  organism:Euplotes raikovi \n"
     ]
    }
   ],
   "metadata": {}
  }
 ],
 "metadata": {
  "orig_nbformat": 4,
  "language_info": {
   "name": "python",
   "version": "3.8.3",
   "mimetype": "text/x-python",
   "codemirror_mode": {
    "name": "ipython",
    "version": 3
   },
   "pygments_lexer": "ipython3",
   "nbconvert_exporter": "python",
   "file_extension": ".py"
  },
  "kernelspec": {
   "name": "python3",
   "display_name": "Python 3.8.3 64-bit ('base': conda)"
  },
  "interpreter": {
   "hash": "b3ba2566441a7c06988d0923437866b63cedc61552a5af99d1f4fb67d367b25f"
  }
 },
 "nbformat": 4,
 "nbformat_minor": 2
}