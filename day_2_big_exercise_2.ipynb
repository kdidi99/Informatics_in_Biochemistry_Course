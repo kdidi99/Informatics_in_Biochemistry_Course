{
 "cells": [
  {
   "cell_type": "markdown",
   "source": [
    "# Day 2: Integrated exercise 2\r\n",
    "\r\n",
    "In this exercise you will need to read a csv file and plot the data in it with seaborn\r\n"
   ],
   "metadata": {}
  },
  {
   "cell_type": "markdown",
   "source": [
    "## Exercise 1 "
   ],
   "metadata": {}
  },
  {
   "cell_type": "markdown",
   "source": [
    "You are given a file with data about liver disease (`additional_data/liver_disease.csv`). A lot of different datapoints are used to study if the disease is prevalent (2) or not (1). (In the Dataset column, the number 1 means that the disease is not prevalent, 2 means the person has liver disease)\r\n",
    "1. Check out the file \r\n",
    "2. Read in the following data from the csv file into *one* dictionary \\\r\n",
    "    Please Note: Please rename the Dataset column to Disease and change the values 2 to 'Yes' and 1 to 'No' when you read in the data!\r\n",
    "    - Age\r\n",
    "    - Gender\r\n",
    "    - Total_Proteins\r\n",
    "    - Disease (in the file its called `Dataset`) \\\r\n",
    "The dictionary should be structured like this:  \\\r\n",
    "` {'Age': ['65', '62', ....], 'Gender': ['Female', 'Male',...], 'Total_Proteins [g/dl]': ['6.8', '7.5', ...],'Disease': ['No', 'No', ...]}` \\\r\n",
    "Index position `0` should be the first row with data etc...\r\n",
    "\r\n",
    "3. Plot the data #TODO Jarosch"
   ],
   "metadata": {}
  },
  {
   "cell_type": "code",
   "execution_count": 17,
   "source": [
    "from collections import defaultdict\r\n",
    "import csv\r\n",
    "data = defaultdict(list)\r\n",
    "with open(\"additional_data/liver_disease.csv\") as csv_file:\r\n",
    "    csv_reader = csv.reader(csv_file, delimiter=\";\") # we initiate a reader object which removes the delimiter defined and returns a list of String elements\r\n",
    "    counter_line = 0\r\n",
    "    for row in csv_reader: # Looping through a csv_reader object, the row is now a list with elements\r\n",
    "        if counter_line == 0:\r\n",
    "            header = row\r\n",
    "            header[11] = 'Disease'\r\n",
    "            print('The categories in this csv file are:',header)\r\n",
    "            counter_line += 1 \r\n",
    "        else: \r\n",
    "            data[header[1]].append(row[1])\r\n",
    "            data[header[2]].append(row[2])\r\n",
    "            data[header[5]].append(row[5])\r\n",
    "            data[header[8]].append(row[8])\r\n",
    "            if row[11] == '1':    \r\n",
    "                data[header[11]].append('No') \r\n",
    "            elif row[11] == '2':\r\n",
    "                data[header[11]].append('Yes') \r\n",
    "\r\n"
   ],
   "outputs": [
    {
     "output_type": "stream",
     "name": "stdout",
     "text": [
      "The categories in this csv file are: ['', 'Age', 'Gender', 'Total_Bilirubin [mg/dl]', 'Direct_Bilirubin [mg/dl]', 'Alkaline_Phosphatase [U/l]', 'Alanine_Aminotransferase [U/l]', 'Aspartate_Aminotransferase [U/l]', 'Total_Proteins [g/dl]', 'Albumin [g/dl]', 'Albumin_to_Globulin_Ratio', 'Disease']\n"
     ]
    }
   ],
   "metadata": {}
  },
  {
   "cell_type": "code",
   "execution_count": 18,
   "source": [
    "print(data)"
   ],
   "outputs": [
    {
     "output_type": "stream",
     "name": "stdout",
     "text": [
      "defaultdict(<class 'list'>, {'Age': ['65', '62', '62', '58', '72', '46', '26', '29', '17', '55', '57', '72', '64', '74', '61', '25', '38', '33', '40', '40', '51', '51', '62', '40', '63', '34', '34', '34', '20', '84', '57', '52', '57', '38', '38', '30', '17', '46', '48', '47', '45', '62', '42', '50', '85', '35', '21', '40', '32', '55', '45', '34', '38', '38', '42', '42', '33', '48', '51', '64', '31', '58', '58', '57', '57', '57', '54', '37', '66', '60', '19', '75', '75', '52', '68', '29', '31', '68', '70', '58', '58', '29', '49', '33', '32', '14', '13', '58', '18', '60', '60', '60', '60', '60', '60', '75', '39', '39', '18', '18', '27', '27', '17', '55', '63', '36', '36', '36', '36', '36', '24', '48', '27', '74', '50', '50', '48', '32', '32', '32', '32', '32', '58', '64', '28', '60', '48', '64', '58', '45', '45', '70', '18', '53', '18', '66', '46', '18', '18', '15', '60', '66', '30', '30', '45', '65', '66', '65', '50', '60', '56', '50', '46', '52', '34', '34', '32', '72', '72', '50', '60', '60', '60', '39', '39', '48', '55', '47', '60', '60', '72', '44', '55', '31', '31', '31', '55', '75', '75', '75', '75', '75', '65', '40', '64', '38', '60', '60', '60', '48', '60', '60', '60', '49', '49', '60', '60', '26', '41', '7', '49', '49', '38', '21', '21', '45', '40', '40', '70', '45', '28', '42', '22', '8', '38', '66', '55', '49', '6', '37', '37', '47', '47', '50', '70', '26', '26', '68', '65', '46', '61', '61', '50', '33', '40', '60', '22', '35', '35', '40', '48', '51', '29', '28', '54', '54', '55', '55', '40', '33', '33', '33', '65', '35', '38', '38', '50', '44', '36', '42', '42', '33', '18', '38', '38', '4', '62', '43', '40', '26', '37', '4', '21', '30', '33', '26', '35', '60', '45', '48', '58', '50', '50', '18', '18', '13', '34', '43', '50', '57', '45', '60', '45', '23', '22', '22', '74', '25', '31', '24', '58', '51', '50', '50', '55', '54', '48', '30', '45', '48', '51', '54', '27', '30', '26', '22', '44', '35', '38', '14', '30', '30', '36', '12', '60', '42', '36', '24', '43', '21', '26', '26', '26', '36', '13', '13', '75', '75', '75', '75', '75', '36', '35', '70', '37', '60', '46', '38', '70', '49', '37', '37', '26', '48', '48', '19', '33', '33', '37', '69', '24', '65', '55', '42', '21', '40', '16', '60', '42', '58', '54', '33', '48', '25', '56', '47', '33', '20', '50', '72', '50', '39', '58', '60', '34', '50', '38', '51', '46', '72', '72', '75', '41', '41', '48', '45', '74', '78', '38', '27', '66', '50', '42', '65', '22', '31', '45', '12', '48', '48', '18', '23', '65', '48', '65', '70', '70', '11', '50', '55', '55', '26', '41', '53', '32', '58', '45', '65', '52', '73', '53', '47', '29', '41', '30', '17', '23', '35', '65', '42', '49', '42', '42', '42', '61', '17', '54', '45', '48', '48', '65', '35', '58', '46', '28', '21', '32', '61', '26', '65', '22', '28', '38', '25', '45', '45', '28', '28', '66', '66', '66', '49', '42', '42', '35', '38', '38', '55', '33', '33', '7', '45', '45', '30', '62', '22', '42', '32', '60', '65', '53', '27', '35', '65', '25', '32', '24', '67', '68', '55', '70', '36', '42', '53', '32', '32', '56', '50', '46', '46', '37', '45', '56', '69', '49', '49', '60', '28', '45', '35', '62', '55', '46', '50', '29', '53', '46', '40', '45', '55', '22', '40', '62', '46', '39', '60', '46', '10', '52', '65', '42', '42', '62', '40', '54', '45', '45', '50', '42', '40', '46', '29', '45', '46', '73', '55', '51', '51', '51', '26', '66', '66', '66', '64', '38', '43', '50', '52', '20', '16', '16', '90', '32', '32', '32', '32', '32', '32', '60', '40', '52', '31', '38'], 'Gender': ['Female', 'Male', 'Male', 'Male', 'Male', 'Male', 'Female', 'Female', 'Male', 'Male', 'Male', 'Male', 'Male', 'Female', 'Male', 'Male', 'Male', 'Male', 'Female', 'Female', 'Male', 'Male', 'Male', 'Male', 'Male', 'Male', 'Male', 'Male', 'Male', 'Female', 'Male', 'Male', 'Male', 'Female', 'Female', 'Male', 'Female', 'Female', 'Male', 'Male', 'Male', 'Male', 'Male', 'Male', 'Female', 'Male', 'Male', 'Male', 'Female', 'Male', 'Female', 'Female', 'Male', 'Male', 'Male', 'Male', 'Male', 'Female', 'Male', 'Male', 'Female', 'Male', 'Male', 'Male', 'Male', 'Male', 'Male', 'Male', 'Male', 'Male', 'Female', 'Female', 'Female', 'Male', 'Male', 'Female', 'Male', 'Female', 'Male', 'Female', 'Female', 'Male', 'Male', 'Male', 'Male', 'Male', 'Male', 'Male', 'Male', 'Male', 'Male', 'Male', 'Male', 'Male', 'Male', 'Male', 'Male', 'Male', 'Male', 'Male', 'Male', 'Male', 'Male', 'Female', 'Male', 'Male', 'Male', 'Male', 'Male', 'Male', 'Female', 'Male', 'Male', 'Male', 'Male', 'Male', 'Male', 'Male', 'Male', 'Male', 'Male', 'Male', 'Male', 'Female', 'Male', 'Male', 'Male', 'Male', 'Female', 'Male', 'Male', 'Female', 'Female', 'Male', 'Male', 'Male', 'Female', 'Male', 'Male', 'Male', 'Male', 'Female', 'Male', 'Male', 'Female', 'Male', 'Female', 'Male', 'Male', 'Male', 'Male', 'Male', 'Female', 'Male', 'Male', 'Male', 'Male', 'Male', 'Male', 'Male', 'Male', 'Male', 'Male', 'Male', 'Male', 'Male', 'Male', 'Female', 'Male', 'Male', 'Male', 'Female', 'Male', 'Male', 'Male', 'Male', 'Male', 'Male', 'Male', 'Male', 'Male', 'Male', 'Male', 'Male', 'Male', 'Male', 'Male', 'Male', 'Male', 'Female', 'Male', 'Male', 'Male', 'Male', 'Male', 'Male', 'Male', 'Female', 'Male', 'Female', 'Male', 'Male', 'Female', 'Male', 'Male', 'Male', 'Male', 'Male', 'Female', 'Female', 'Male', 'Male', 'Male', 'Female', 'Male', 'Male', 'Male', 'Male', 'Male', 'Male', 'Male', 'Male', 'Male', 'Male', 'Male', 'Male', 'Male', 'Female', 'Female', 'Male', 'Male', 'Male', 'Male', 'Male', 'Female', 'Male', 'Male', 'Female', 'Female', 'Male', 'Male', 'Male', 'Female', 'Female', 'Male', 'Male', 'Male', 'Male', 'Male', 'Male', 'Male', 'Male', 'Male', 'Female', 'Female', 'Male', 'Male', 'Male', 'Male', 'Male', 'Male', 'Male', 'Male', 'Female', 'Male', 'Male', 'Male', 'Female', 'Male', 'Male', 'Male', 'Male', 'Male', 'Male', 'Male', 'Male', 'Male', 'Male', 'Male', 'Female', 'Male', 'Male', 'Male', 'Male', 'Male', 'Male', 'Female', 'Male', 'Female', 'Male', 'Female', 'Male', 'Male', 'Male', 'Male', 'Male', 'Female', 'Female', 'Female', 'Female', 'Male', 'Female', 'Female', 'Male', 'Female', 'Female', 'Male', 'Male', 'Female', 'Female', 'Male', 'Female', 'Male', 'Female', 'Male', 'Male', 'Male', 'Male', 'Male', 'Male', 'Female', 'Female', 'Male', 'Male', 'Male', 'Male', 'Female', 'Male', 'Male', 'Male', 'Male', 'Male', 'Male', 'Female', 'Female', 'Female', 'Male', 'Male', 'Male', 'Male', 'Male', 'Female', 'Male', 'Male', 'Male', 'Male', 'Male', 'Male', 'Male', 'Female', 'Male', 'Male', 'Female', 'Female', 'Female', 'Male', 'Male', 'Male', 'Male', 'Female', 'Male', 'Female', 'Male', 'Female', 'Male', 'Male', 'Male', 'Male', 'Female', 'Female', 'Female', 'Male', 'Male', 'Female', 'Female', 'Male', 'Male', 'Female', 'Female', 'Male', 'Male', 'Male', 'Female', 'Female', 'Male', 'Male', 'Male', 'Male', 'Male', 'Male', 'Male', 'Male', 'Male', 'Male', 'Female', 'Male', 'Male', 'Male', 'Male', 'Male', 'Female', 'Male', 'Female', 'Male', 'Male', 'Female', 'Male', 'Male', 'Male', 'Male', 'Male', 'Female', 'Male', 'Male', 'Male', 'Male', 'Male', 'Male', 'Male', 'Female', 'Female', 'Male', 'Male', 'Male', 'Female', 'Male', 'Male', 'Male', 'Female', 'Male', 'Female', 'Female', 'Male', 'Female', 'Female', 'Female', 'Male', 'Male', 'Male', 'Female', 'Female', 'Female', 'Female', 'Female', 'Male', 'Male', 'Male', 'Female', 'Female', 'Female', 'Male', 'Male', 'Male', 'Male', 'Male', 'Female', 'Male', 'Male', 'Male', 'Male', 'Female', 'Female', 'Male', 'Male', 'Female', 'Female', 'Female', 'Female', 'Male', 'Male', 'Male', 'Female', 'Male', 'Male', 'Male', 'Male', 'Male', 'Male', 'Male', 'Male', 'Male', 'Male', 'Male', 'Male', 'Male', 'Female', 'Female', 'Male', 'Male', 'Male', 'Female', 'Male', 'Female', 'Male', 'Male', 'Male', 'Male', 'Male', 'Male', 'Male', 'Male', 'Male', 'Male', 'Male', 'Male', 'Male', 'Male', 'Male', 'Male', 'Male', 'Female', 'Male', 'Male', 'Male', 'Male', 'Male', 'Male', 'Male', 'Male', 'Male', 'Male', 'Male', 'Female', 'Male', 'Male', 'Female', 'Male', 'Male', 'Male', 'Male', 'Female', 'Male', 'Male', 'Female', 'Male', 'Male', 'Male', 'Female', 'Male', 'Female', 'Male', 'Male', 'Male', 'Male', 'Female', 'Female', 'Male', 'Female', 'Male', 'Female', 'Male', 'Male', 'Male', 'Male', 'Male', 'Male', 'Male', 'Male', 'Male', 'Male', 'Male', 'Male', 'Male', 'Male', 'Female', 'Male', 'Female', 'Male', 'Female', 'Male', 'Male', 'Male', 'Male', 'Male', 'Male', 'Male', 'Male', 'Male', 'Male', 'Male', 'Male', 'Male', 'Male'], 'Total_Proteins [g/dl]': ['6.8', '7.5', '7.0', '6.8', '7.3', '7.6', '7.0', '6.7', '7.4', '6.8', '5.9', '7.4', '7.0', '8.1', '5.8', '5.5', '7.6', '7.3', '6.8', '6.8', '7.3', '7.0', '6.4', '4.3', '6.0', '5.0', '5.0', '7.2', '3.9', '6.0', '5.2', '4.9', '5.2', '5.6', '5.6', '6.9', '7.2', '4.3', '5.8', '6.2', '5.1', '4.9', '6.1', '6.4', '7.0', '6.5', '6.8', '4.9', '6.0', '6.2', '5.7', '6.6', '6.8', '6.3', '5.8', '5.8', '8.0', '5.5', '5.2', '5.5', '6.0', '7.2', '7.2', '5.1', '6.5', '5.6', '6.0', '6.4', '6.3', '6.3', '5.5', '4.4', '4.4', '6.6', '5.8', '5.2', '5.3', '4.6', '6.2', '4.7', '4.7', '5.1', '5.4', '5.4', '7.5', '6.7', '7.2', '6.2', '7.5', '7.1', '7.3', '6.8', '7.4', '7.0', '6.8', '4.4', '7.1', '4.0', '5.9', '6.9', '3.7', '5.3', '6.9', '6.1', '5.5', '5.1', '5.1', '6.0', '6.0', '5.9', '5.5', '5.7', '6.1', '5.0', '5.7', '5.6', '5.3', '5.7', '5.6', '5.4', '7.1', '6.6', '5.9', '6.3', '6.9', '3.9', '6.0', '6.5', '8.0', '5.1', '6.0', '5.8', '6.5', '6.6', '6.8', '7.0', '6.4', '5.5', '5.5', '6.1', '6.2', '7.1', '5.6', '5.6', '5.6', '5.4', '5.5', '5.3', '7.2', '7.1', '6.9', '5.9', '6.0', '6.5', '5.6', '5.8', '6.2', '5.8', '5.8', '7.2', '5.5', '6.2', '5.4', '7.4', '7.4', '7.0', '6.2', '5.6', '6.9', '6.8', '6.2', '6.6', '5.0', '6.0', '6.0', '7.3', '5.7', '5.3', '5.1', '5.5', '2.7', '3.0', '3.8', '5.4', '6.9', '6.0', '7.8', '4.0', '4.5', '5.2', '6.6', '6.6', '6.6', '6.0', '5.7', '5.2', '6.0', '5.7', '6.1', '6.1', '5.0', '5.0', '6.1', '6.4', '6.4', '7.6', '7.0', '6.7', '6.1', '6.6', '4.1', '7.0', '5.5', '7.5', '7.2', '5.0', '6.2', '7.0', '4.8', '6.4', '5.0', '7.3', '8.0', '7.1', '5.7', '7.9', '8.0', '6.4', '5.3', '6.0', '6.7', '8.5', '7.9', '6.2', '7.7', '4.5', '7.9', '8.0', '7.3', '6.8', '8.0', '6.5', '8.2', '8.5', '6.3', '6.1', '6.1', '5.9', '5.0', '7.0', '6.5', '5.9', '7.0', '5.2', '7.1', '6.0', '6.2', '5.6', '6.4', '5.2', '5.4', '7.5', '6.9', '7.0', '7.4', '8.0', '6.3', '7.4', '5.7', '2.8', '9.5', '6.5', '8.2', '9.6', '8.0', '8.2', '6.4', '6.0', '8.0', '8.3', '6.0', '7.4', '7.0', '6.0', '8.0', '7.9', '8.6', '8.0', '7.5', '7.0', '8.6', '7.8', '7.1', '7.7', '8.3', '8.0', '7.9', '6.9', '7.9', '7.4', '8.2', '6.7', '6.8', '8.4', '6.9', '7.9', '7.3', '4.6', '8.2', '8.0', '8.1', '7.2', '8.5', '7.9', '7.8', '6.7', '7.1', '6.8', '7.8', '8.1', '5.8', '5.2', '7.1', '6.7', '5.4', '6.7', '8.3', '7.6', '6.0', '7.3', '6.1', '5.4', '6.2', '5.9', '7.4', '8.9', '6.2', '6.4', '6.1', '5.9', '6.2', '6.6', '7.0', '5.6', '8.2', '5.6', '6.9', '7.0', '6.1', '6.6', '5.7', '5.3', '8.2', '7.2', '7.5', '8.0', '8.5', '6.8', '5.6', '8.4', '6.6', '6.8', '6.2', '8.5', '6.8', '5.3', '7.2', '6.1', '7.2', '7.0', '7.8', '7.2', '8.7', '7.6', '7.0', '6.8', '7.0', '6.1', '7.3', '7.3', '7.3', '8.1', '6.7', '4.9', '6.5', '7.4', '7.5', '6.9', '7.3', '6.3', '6.0', '6.9', '6.3', '8.0', '5.9', '6.3', '6.4', '6.3', '7.1', '6.0', '6.4', '6.8', '8.1', '6.3', '6.8', '7.6', '6.7', '7.2', '7.5', '6.5', '5.0', '6.9', '7.1', '4.6', '5.2', '3.6', '6.3', '7.1', '7.0', '6.7', '6.4', '7.1', '6.9', '6.5', '7.0', '4.3', '5.6', '7.0', '6.9', '5.5', '4.8', '6.7', '7.5', '7.6', '7.5', '7.1', '6.2', '5.2', '3.8', '6.2', '7.0', '4.1', '4.6', '6.2', '6.3', '7.3', '5.5', '7.7', '6.0', '6.2', '6.0', '7.2', '7.1', '7.1', '7.0', '6.8', '7.4', '6.9', '3.6', '5.7', '5.5', '6.8', '6.4', '8.0', '4.5', '5.1', '4.9', '6.8', '5.3', '4.4', '7.1', '6.6', '5.8', '6.8', '6.0', '7.9', '5.5', '5.1', '6.9', '7.3', '7.9', '7.3', '7.2', '7.8', '5.0', '6.2', '6.7', '6.0', '7.0', '5.9', '6.7', '6.8', '7.9', '5.2', '6.5', '6.1', '8.0', '7.2', '6.5', '7.2', '6.0', '5.9', '4.9', '8.1', '5.5', '5.8', '5.6', '7.5', '7.5', '5.4', '9.2', '6.8', '5.8', '6.9', '8.4', '6.9', '6.7', '8.0', '7.2', '9.2', '8.6', '7.1', '7.9', '4.8', '6.8', '8.0', '6.4', '7.1', '6.3', '5.1', '7.0', '7.9', '8.2', '3.6', '8.0', '6.1', '6.9', '7.6', '6.4', '7.2', '7.0', '6.6', '7.3', '7.6', '7.0', '4.5', '5.4', '7.1', '6.9', '7.8', '5.6', '6.2', '5.8', '7.0', '6.5', '7.0', '6.1', '6.2', '7.5', '7.5', '6.5', '6.9', '7.8', '7.2', '5.9', '6.6', '7.8', '6.0', '6.9', '7.1', '5.4', '6.9', '5.6', '6.2', '6.6', '7.9', '5.3', '5.4', '5.9', '6.0', '6.4', '6.8', '7.3'], 'Disease': ['No', 'No', 'No', 'No', 'No', 'No', 'No', 'No', 'Yes', 'No', 'No', 'No', 'Yes', 'No', 'No', 'Yes', 'No', 'Yes', 'No', 'No', 'No', 'No', 'No', 'No', 'Yes', 'No', 'No', 'No', 'Yes', 'Yes', 'No', 'No', 'Yes', 'Yes', 'Yes', 'No', 'Yes', 'No', 'No', 'No', 'No', 'Yes', 'Yes', 'No', 'Yes', 'Yes', 'No', 'No', 'No', 'No', 'No', 'No', 'No', 'No', 'No', 'No', 'Yes', 'Yes', 'No', 'Yes', 'No', 'No', 'No', 'No', 'No', 'No', 'No', 'No', 'No', 'Yes', 'No', 'No', 'No', 'No', 'No', 'Yes', 'No', 'No', 'Yes', 'No', 'No', 'No', 'Yes', 'No', 'No', 'No', 'Yes', 'No', 'No', 'No', 'No', 'No', 'No', 'No', 'No', 'No', 'No', 'No', 'No', 'No', 'Yes', 'Yes', 'No', 'Yes', 'No', 'Yes', 'Yes', 'Yes', 'Yes', 'Yes', 'Yes', 'No', 'Yes', 'No', 'Yes', 'Yes', 'No', 'No', 'No', 'No', 'No', 'No', 'Yes', 'No', 'Yes', 'Yes', 'No', 'No', 'No', 'No', 'No', 'Yes', 'Yes', 'No', 'No', 'No', 'No', 'No', 'No', 'No', 'Yes', 'No', 'No', 'No', 'No', 'Yes', 'No', 'No', 'No', 'No', 'Yes', 'No', 'No', 'Yes', 'No', 'No', 'No', 'No', 'No', 'No', 'No', 'No', 'No', 'No', 'No', 'No', 'No', 'No', 'No', 'No', 'No', 'No', 'No', 'No', 'No', 'No', 'No', 'No', 'No', 'No', 'No', 'No', 'Yes', 'No', 'No', 'Yes', 'No', 'No', 'No', 'Yes', 'No', 'No', 'No', 'Yes', 'Yes', 'No', 'No', 'No', 'Yes', 'No', 'No', 'No', 'Yes', 'Yes', 'Yes', 'No', 'No', 'No', 'No', 'No', 'No', 'No', 'Yes', 'No', 'No', 'Yes', 'Yes', 'No', 'Yes', 'No', 'No', 'No', 'No', 'Yes', 'No', 'No', 'No', 'No', 'Yes', 'No', 'Yes', 'No', 'No', 'No', 'No', 'No', 'Yes', 'No', 'Yes', 'No', 'Yes', 'No', 'No', 'No', 'No', 'No', 'No', 'No', 'No', 'No', 'No', 'No', 'Yes', 'Yes', 'Yes', 'No', 'No', 'No', 'Yes', 'No', 'No', 'No', 'No', 'No', 'Yes', 'Yes', 'No', 'No', 'No', 'No', 'No', 'Yes', 'No', 'No', 'No', 'Yes', 'Yes', 'No', 'No', 'No', 'No', 'Yes', 'No', 'Yes', 'No', 'No', 'No', 'Yes', 'No', 'No', 'No', 'Yes', 'No', 'Yes', 'No', 'No', 'No', 'Yes', 'No', 'Yes', 'Yes', 'No', 'No', 'Yes', 'No', 'Yes', 'No', 'No', 'No', 'No', 'No', 'No', 'Yes', 'Yes', 'No', 'Yes', 'Yes', 'No', 'No', 'Yes', 'No', 'No', 'No', 'Yes', 'No', 'Yes', 'Yes', 'Yes', 'Yes', 'Yes', 'No', 'No', 'No', 'Yes', 'No', 'No', 'No', 'No', 'No', 'No', 'No', 'No', 'Yes', 'No', 'Yes', 'No', 'No', 'No', 'No', 'Yes', 'No', 'No', 'No', 'No', 'No', 'Yes', 'No', 'No', 'No', 'Yes', 'No', 'Yes', 'Yes', 'Yes', 'Yes', 'Yes', 'Yes', 'Yes', 'No', 'No', 'No', 'Yes', 'No', 'Yes', 'Yes', 'No', 'No', 'Yes', 'No', 'Yes', 'No', 'No', 'No', 'Yes', 'No', 'No', 'Yes', 'No', 'No', 'No', 'No', 'No', 'No', 'No', 'No', 'Yes', 'No', 'No', 'No', 'No', 'Yes', 'No', 'No', 'Yes', 'No', 'No', 'Yes', 'No', 'No', 'No', 'No', 'Yes', 'No', 'Yes', 'Yes', 'No', 'No', 'Yes', 'No', 'No', 'No', 'Yes', 'No', 'Yes', 'No', 'No', 'Yes', 'No', 'Yes', 'No', 'No', 'Yes', 'No', 'Yes', 'Yes', 'Yes', 'No', 'No', 'No', 'No', 'No', 'No', 'No', 'No', 'Yes', 'Yes', 'No', 'No', 'No', 'No', 'No', 'No', 'No', 'No', 'Yes', 'No', 'Yes', 'Yes', 'No', 'No', 'No', 'No', 'No', 'No', 'Yes', 'Yes', 'Yes', 'Yes', 'No', 'No', 'No', 'Yes', 'Yes', 'Yes', 'Yes', 'Yes', 'No', 'No', 'No', 'No', 'Yes', 'No', 'No', 'Yes', 'No', 'No', 'No', 'No', 'Yes', 'Yes', 'No', 'Yes', 'No', 'Yes', 'No', 'Yes', 'No', 'No', 'No', 'No', 'No', 'No', 'No', 'No', 'No', 'No', 'No', 'No', 'No', 'No', 'Yes', 'No', 'Yes', 'No', 'No', 'No', 'No', 'No', 'No', 'No', 'No', 'No', 'No', 'No', 'Yes', 'Yes', 'No', 'No', 'No', 'No', 'Yes', 'No', 'Yes', 'No', 'Yes', 'No', 'No', 'No', 'No', 'Yes', 'Yes', 'Yes', 'Yes', 'No', 'No', 'Yes', 'No', 'No', 'No', 'No', 'No', 'Yes', 'No', 'No', 'No', 'No', 'No', 'No', 'No', 'No', 'No', 'No', 'No', 'No', 'Yes', 'No', 'Yes', 'No', 'No', 'No', 'No', 'No', 'No', 'No', 'No', 'No', 'No', 'No', 'Yes', 'No', 'No', 'No', 'Yes']})\n"
     ]
    }
   ],
   "metadata": {}
  },
  {
   "cell_type": "code",
   "execution_count": null,
   "source": [],
   "outputs": [],
   "metadata": {}
  }
 ],
 "metadata": {
  "orig_nbformat": 4,
  "language_info": {
   "name": "python",
   "version": "3.8.3",
   "mimetype": "text/x-python",
   "codemirror_mode": {
    "name": "ipython",
    "version": 3
   },
   "pygments_lexer": "ipython3",
   "nbconvert_exporter": "python",
   "file_extension": ".py"
  },
  "kernelspec": {
   "name": "python3",
   "display_name": "Python 3.8.3 64-bit ('base': conda)"
  },
  "interpreter": {
   "hash": "b3ba2566441a7c06988d0923437866b63cedc61552a5af99d1f4fb67d367b25f"
  }
 },
 "nbformat": 4,
 "nbformat_minor": 2
}