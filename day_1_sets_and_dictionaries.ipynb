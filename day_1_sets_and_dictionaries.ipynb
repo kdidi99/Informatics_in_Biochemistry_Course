{
 "cells": [
  {
   "cell_type": "markdown",
   "source": [
    "# Day 1: Sets and Dictionaries"
   ],
   "metadata": {}
  },
  {
   "cell_type": "markdown",
   "source": [
    "## Sets\r\n",
    "Sets are a special type of data that only contain **unique** and **immutable** objects and reflect the Python implementation of mathematical sets (German: \"Mengen\"). Sets are very different from lists or tuples, because they are **unordered**. In lists and tuples the order of contained items matters and you can access them at different positions. For sets this is not possible and their applications are usually finding unique values in lists/tuples or overlaps between those values."
   ],
   "metadata": {}
  },
  {
   "cell_type": "markdown",
   "source": [
    "### Creating sets\r\n",
    "We can define sets with curly brackets `{}` or the `set()` function."
   ],
   "metadata": {}
  },
  {
   "cell_type": "code",
   "execution_count": 3,
   "source": [
    "# set definition\r\n",
    "set1 = {1, 3, 2}\r\n",
    "set2 = set((\"A\", \"C\", \"B\", 2, 3, 1))\r\n",
    "\r\n",
    "# sets do not keep order information\r\n",
    "print(set1, set2, sep = \"\\n\")"
   ],
   "outputs": [
    {
     "output_type": "stream",
     "name": "stdout",
     "text": [
      "{1, 2, 3}\n",
      "{1, 2, 3, 'A', 'C', 'B'}\n"
     ]
    }
   ],
   "metadata": {}
  },
  {
   "cell_type": "code",
   "execution_count": 5,
   "source": [
    "# sets can only contain immutable objects, so nested lists are not allowed because lists are mutable objects\r\n",
    "set3 = {1, 2, 3, [3, 4]}"
   ],
   "outputs": [
    {
     "output_type": "error",
     "ename": "TypeError",
     "evalue": "unhashable type: 'list'",
     "traceback": [
      "\u001b[1;31m---------------------------------------------------------------------------\u001b[0m",
      "\u001b[1;31mTypeError\u001b[0m                                 Traceback (most recent call last)",
      "\u001b[1;32m~\\AppData\\Local\\Temp/ipykernel_20068/1186020672.py\u001b[0m in \u001b[0;36m<module>\u001b[1;34m\u001b[0m\n\u001b[0;32m      1\u001b[0m \u001b[1;31m# sets can only contain immutable objects, so nested lists are not allowed because lists are mutable objects\u001b[0m\u001b[1;33m\u001b[0m\u001b[1;33m\u001b[0m\u001b[1;33m\u001b[0m\u001b[0m\n\u001b[1;32m----> 2\u001b[1;33m \u001b[0mset3\u001b[0m \u001b[1;33m=\u001b[0m \u001b[1;33m{\u001b[0m\u001b[1;36m1\u001b[0m\u001b[1;33m,\u001b[0m \u001b[1;36m2\u001b[0m\u001b[1;33m,\u001b[0m \u001b[1;36m3\u001b[0m\u001b[1;33m,\u001b[0m \u001b[1;33m[\u001b[0m\u001b[1;36m3\u001b[0m\u001b[1;33m,\u001b[0m \u001b[1;36m4\u001b[0m\u001b[1;33m]\u001b[0m\u001b[1;33m}\u001b[0m\u001b[1;33m\u001b[0m\u001b[1;33m\u001b[0m\u001b[0m\n\u001b[0m",
      "\u001b[1;31mTypeError\u001b[0m: unhashable type: 'list'"
     ]
    }
   ],
   "metadata": {}
  },
  {
   "cell_type": "code",
   "execution_count": null,
   "source": [
    "# instead of a list, we can use a nested tuple\r\n",
    "set3 = {1, 2, 3, (3, 4)}\r\n",
    "print(set3)"
   ],
   "outputs": [
    {
     "output_type": "stream",
     "name": "stdout",
     "text": [
      "{1, 2, 3, (3, 4)}\n"
     ]
    }
   ],
   "metadata": {}
  },
  {
   "cell_type": "code",
   "execution_count": 4,
   "source": [
    "# sets do not contain duplicates\r\n",
    "set4 = {1, 1, 1, 1, 2, 2, 3}\r\n",
    "\r\n",
    "# we can easily convert strings or lists into sets\r\n",
    "lst = [\"A\", \"A\", 1, 2, 2]\r\n",
    "set5 = set(lst)\r\n",
    "set6 = set(\"ATTGCTT\")\r\n",
    "\r\n",
    "print(set4, set5, set6, sep = \"\\n\")"
   ],
   "outputs": [
    {
     "output_type": "stream",
     "name": "stdout",
     "text": [
      "{1, 2, 3}\n",
      "{1, 2, 'A'}\n",
      "{'A', 'T', 'C', 'G'}\n"
     ]
    }
   ],
   "metadata": {}
  },
  {
   "cell_type": "markdown",
   "source": [
    "### Specific methods and functions\r\n",
    "Python has many different functions for dealing with sets. The most important ones are listed below:\r\n",
    "\r\n",
    "* `.add()`: add an element to the set\r\n",
    "* `.copy()`: return a copy of the set\r\n",
    "* `.difference()`: return the differences between two sets\r\n",
    "* `.intersection()`: return the intersection between two sets\r\n",
    "* `.union()`: combine two sets into one\r\n",
    "* item `in` set: returns `True` if an item is in the set, `False` if it is not\r\n",
    "* `len()`: length of the set\r\n",
    "\r\n",
    "Again, we will provide a few code examples for this:"
   ],
   "metadata": {}
  },
  {
   "cell_type": "code",
   "execution_count": 18,
   "source": [
    "sequence1 = \"TTTTAAAA\"\r\n",
    "set1 = set(sequence1)\r\n",
    "\r\n",
    "sequence2 = \"GCGGGCCTT\"\r\n",
    "set2 = set(sequence2)\r\n",
    "\r\n",
    "print(set1, set2, sep = \"\\n\")\r\n",
    "\r\n",
    "# add an element to the set\r\n",
    "set3 = set1.copy()\r\n",
    "set3.add(\"C\")\r\n",
    "print(set3)\r\n",
    "\r\n",
    "# difference between set1 and set2\r\n",
    "print(set1.difference(set2))\r\n",
    "\r\n",
    "# intersection betweeen set1 and set2\r\n",
    "print(set1.intersection(set2))\r\n",
    "\r\n",
    "# union of both sets\r\n",
    "print(set1.union(set2))\r\n",
    "\r\n",
    "# check if item is in set\r\n",
    "print(\"A\" in set1)\r\n",
    "print(\"A\" in set2)\r\n",
    "\r\n",
    "# length of the set\r\n",
    "print(len(set1))"
   ],
   "outputs": [
    {
     "output_type": "stream",
     "name": "stdout",
     "text": [
      "{'A', 'T'}\n",
      "{'T', 'C', 'G'}\n",
      "{'A', 'T', 'C'}\n",
      "{'A'}\n",
      "{'T'}\n",
      "{'A', 'T', 'C', 'G'}\n",
      "True\n",
      "False\n",
      "2\n"
     ]
    }
   ],
   "metadata": {}
  },
  {
   "cell_type": "markdown",
   "source": [
    "## Dictionaries\r\n",
    "Like lists, dictionaries can store a variety of objects. However, instead of accessing the stored objects via their index as you would do in lists, dictionaries give a specific **key** to each stored object, which you can use two access the underlying values. This makes them very useful for data storage and dictionaries will serve as the main data storage object throughout this course."
   ],
   "metadata": {}
  },
  {
   "cell_type": "markdown",
   "source": [
    "### Creating dictionaries\r\n",
    "We can create dictionaries with the following syntax: `{key1:value1, key2:value2, ...}` or from a list of nested lists such as `[[key1, value1], [key2, value2], ...]` with the `dict()` function. If you already have keys and values in a separate list, you can create a dictionary from this with the help of the `zip()` function."
   ],
   "metadata": {}
  },
  {
   "cell_type": "markdown",
   "source": [
    "# {} syntax\r\n",
    "d = "
   ],
   "metadata": {}
  }
 ],
 "metadata": {
  "orig_nbformat": 4,
  "language_info": {
   "name": "python",
   "version": "3.8.11",
   "mimetype": "text/x-python",
   "codemirror_mode": {
    "name": "ipython",
    "version": 3
   },
   "pygments_lexer": "ipython3",
   "nbconvert_exporter": "python",
   "file_extension": ".py"
  },
  "kernelspec": {
   "name": "python3",
   "display_name": "Python 3.8.11 64-bit ('test2': conda)"
  },
  "interpreter": {
   "hash": "eb7a3cc7805b647c07cd88e8371649cf687544e475bc1164b445f3249eb5ba5e"
  }
 },
 "nbformat": 4,
 "nbformat_minor": 2
}