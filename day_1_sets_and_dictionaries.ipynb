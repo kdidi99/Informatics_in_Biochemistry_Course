{
 "cells": [
  {
   "cell_type": "markdown",
   "source": [
    "### Sets\r\n",
    "Sets are a special type of data that only contain **unique** and **immutable** objects and reflect the Python implementation of mathematical sets (German: \"Mengen\"). Sets are not technically sequential data types, because they are **unordered**. In lists and tuples the order of contained items matters and you can access them at different positions. For sets this is not possible and their applications are usually finding unique values in lists/tuples or overlaps between those values.\r\n",
    "\r\n",
    "We will see differences and applications of all those data types in the next section. For not it is just important to note that we define sets with curly brackets `{}` and that they always just contain unique values."
   ],
   "metadata": {}
  },
  {
   "cell_type": "code",
   "execution_count": null,
   "source": [
    "# set definition\r\n",
    "set1 = {1, 3, 2}\r\n",
    "set2 = set((\"A\", \"C\", \"B\", 2, 3, 1))\r\n",
    "\r\n",
    "# sets do not keep order information\r\n",
    "print(set1, set2, sep = \"\\n\")"
   ],
   "outputs": [
    {
     "output_type": "stream",
     "name": "stdout",
     "text": [
      "{1, 2, 3}\n",
      "{1, 2, 3, 'A', 'B', 'C'}\n"
     ]
    }
   ],
   "metadata": {}
  },
  {
   "cell_type": "code",
   "execution_count": null,
   "source": [
    "# sets can only contain immutable objects, so lists are not allowed\r\n",
    "set3 = {1, 2, 3, [3, 4]}"
   ],
   "outputs": [
    {
     "output_type": "error",
     "ename": "TypeError",
     "evalue": "unhashable type: 'list'",
     "traceback": [
      "\u001b[1;31m---------------------------------------------------------------------------\u001b[0m\n",
      "\u001b[1;31mTypeError\u001b[0m                                 Traceback (most recent call last)\n",
      "\u001b[1;32m~\\AppData\\Local\\Temp/ipykernel_12876/1313108988.py\u001b[0m in \u001b[0;36m<module>\u001b[1;34m\u001b[0m\n",
      "\u001b[0;32m      1\u001b[0m \u001b[1;31m# sets can only contain immutable objects, so lists are not allowed\u001b[0m\u001b[1;33m\u001b[0m\u001b[1;33m\u001b[0m\u001b[1;33m\u001b[0m\u001b[0m\n",
      "\u001b[1;32m----> 2\u001b[1;33m \u001b[0mset3\u001b[0m \u001b[1;33m=\u001b[0m \u001b[1;33m{\u001b[0m\u001b[1;36m1\u001b[0m\u001b[1;33m,\u001b[0m \u001b[1;36m2\u001b[0m\u001b[1;33m,\u001b[0m \u001b[1;36m3\u001b[0m\u001b[1;33m,\u001b[0m \u001b[1;33m[\u001b[0m\u001b[1;36m3\u001b[0m\u001b[1;33m,\u001b[0m \u001b[1;36m4\u001b[0m\u001b[1;33m]\u001b[0m\u001b[1;33m}\u001b[0m\u001b[1;33m\u001b[0m\u001b[1;33m\u001b[0m\u001b[0m\n",
      "\u001b[0m\n",
      "\u001b[1;31mTypeError\u001b[0m: unhashable type: 'list'"
     ]
    }
   ],
   "metadata": {}
  },
  {
   "cell_type": "code",
   "execution_count": null,
   "source": [
    "# instead of lists, we can use a tuple\r\n",
    "set3 = {1, 2, 3, (3, 4)}\r\n",
    "print(set3)"
   ],
   "outputs": [
    {
     "output_type": "stream",
     "name": "stdout",
     "text": [
      "{1, 2, 3, (3, 4)}\n"
     ]
    }
   ],
   "metadata": {}
  },
  {
   "cell_type": "code",
   "execution_count": null,
   "source": [
    "# sets do not contain duplicates\r\n",
    "set4 = {1, 1, 1, 1, 2, 2, 3}\r\n",
    "\r\n",
    "# we can easily convert other sequences into sets\r\n",
    "lst = [\"A\", \"A\", 1, 2, 2]\r\n",
    "set5 = set(lst)\r\n",
    "set6 = set(\"ATTGCTT\")\r\n",
    "\r\n",
    "print(set4, set5, set6, sep = \"\\n\")"
   ],
   "outputs": [
    {
     "output_type": "stream",
     "name": "stdout",
     "text": [
      "{1, 2, 3}\n",
      "{1, 2, 'A'}\n",
      "{'T', 'G', 'A', 'C'}\n"
     ]
    }
   ],
   "metadata": {}
  },
  {
   "cell_type": "markdown",
   "source": [
    "## Acessing or modifying items\r\n",
    "### Indexing\r\n",
    "When dealing with sequential data tyoes such as strings, lists, or tuples, we often want to access specific elements."
   ],
   "metadata": {}
  }
 ],
 "metadata": {
  "orig_nbformat": 4,
  "language_info": {
   "name": "python"
  }
 },
 "nbformat": 4,
 "nbformat_minor": 2
}