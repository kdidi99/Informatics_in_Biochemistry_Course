{
 "cells": [
  {
   "cell_type": "markdown",
   "metadata": {},
   "source": [
    "# Day 1: Sets and Dictionaries"
   ]
  },
  {
   "cell_type": "markdown",
   "metadata": {},
   "source": [
    "## Sets\n",
    "Sets are a special type of data that only contain **unique** and **immutable** objects and reflect the Python implementation of mathematical sets (German: \"Mengen\"). Sets are very different from lists or tuples, because they are **unordered**. In lists and tuples the order of contained items matters and you can access them at different positions, for sets this is not possible.\n",
    "\n",
    "Sets are usually used to find unique values in a list/tuple/string/... or determine overlaps between different collections of unique values."
   ]
  },
  {
   "cell_type": "markdown",
   "metadata": {},
   "source": [
    "### Creating sets\n",
    "We can define sets with curly brackets `{}` or the `set()` function."
   ]
  },
  {
   "cell_type": "code",
   "execution_count": 13,
   "metadata": {},
   "outputs": [
    {
     "name": "stdout",
     "output_type": "stream",
     "text": [
      "{1, 2, 3}\n",
      "{1, 2, 3, 'B', 'C', 'A'}\n"
     ]
    }
   ],
   "source": [
    "# set definition\n",
    "set_1 = {1, 3, 2}\n",
    "set_2 = set((\"A\", \"C\", \"B\", 2, 3, 1))\n",
    "\n",
    "# sets do not keep order information\n",
    "print(set_1, set_2, sep = \"\\n\")"
   ]
  },
  {
   "cell_type": "code",
   "execution_count": 14,
   "metadata": {},
   "outputs": [
    {
     "ename": "TypeError",
     "evalue": "unhashable type: 'list'",
     "output_type": "error",
     "traceback": [
      "\u001b[1;31m---------------------------------------------------------------------------\u001b[0m",
      "\u001b[1;31mTypeError\u001b[0m                                 Traceback (most recent call last)",
      "\u001b[1;32m~\\AppData\\Local\\Temp/ipykernel_10872/1186020672.py\u001b[0m in \u001b[0;36m<module>\u001b[1;34m\u001b[0m\n\u001b[0;32m      1\u001b[0m \u001b[1;31m# sets can only contain immutable objects, so nested lists are not allowed because lists are mutable objects\u001b[0m\u001b[1;33m\u001b[0m\u001b[1;33m\u001b[0m\u001b[1;33m\u001b[0m\u001b[0m\n\u001b[1;32m----> 2\u001b[1;33m \u001b[0mset3\u001b[0m \u001b[1;33m=\u001b[0m \u001b[1;33m{\u001b[0m\u001b[1;36m1\u001b[0m\u001b[1;33m,\u001b[0m \u001b[1;36m2\u001b[0m\u001b[1;33m,\u001b[0m \u001b[1;36m3\u001b[0m\u001b[1;33m,\u001b[0m \u001b[1;33m[\u001b[0m\u001b[1;36m3\u001b[0m\u001b[1;33m,\u001b[0m \u001b[1;36m4\u001b[0m\u001b[1;33m]\u001b[0m\u001b[1;33m}\u001b[0m\u001b[1;33m\u001b[0m\u001b[1;33m\u001b[0m\u001b[0m\n\u001b[0m",
      "\u001b[1;31mTypeError\u001b[0m: unhashable type: 'list'"
     ]
    }
   ],
   "source": [
    "# sets can only contain immutable objects, so nested lists are not allowed because lists are mutable objects\n",
    "set_3 = {1, 2, 3, [3, 4]}"
   ]
  },
  {
   "cell_type": "code",
   "execution_count": null,
   "metadata": {},
   "outputs": [
    {
     "name": "stdout",
     "output_type": "stream",
     "text": [
      "{1, 2, 3, (3, 4)}\n"
     ]
    }
   ],
   "source": [
    "# instead of a list, we can use a nested tuple\n",
    "set_3 = {1, 2, 3, (3, 4)}\n",
    "print(set_3)"
   ]
  },
  {
   "cell_type": "code",
   "execution_count": null,
   "metadata": {},
   "outputs": [
    {
     "name": "stdout",
     "output_type": "stream",
     "text": [
      "{1, 2, 3}\n",
      "{1, 2, 'A'}\n",
      "{'A', 'T', 'C', 'G'}\n"
     ]
    }
   ],
   "source": [
    "# sets do not contain duplicates\n",
    "set_4 = {1, 1, 1, 1, 2, 2, 3}\n",
    "\n",
    "# we can easily convert strings or lists into sets\n",
    "lst = [\"A\", \"A\", 1, 2, 2]\n",
    "set_5 = set(lst)\n",
    "set_6 = set(\"ATTGCTT\")\n",
    "\n",
    "print(set_4, set_5, set_6, sep = \"\\n\")"
   ]
  },
  {
   "cell_type": "markdown",
   "metadata": {},
   "source": [
    "### Specific methods and functions\n",
    "Python has many different functions for dealing with sets, which you write with the syntax `myset.function(argument)`, analogous to list functions. The most important set methods are listed below:\n",
    "\n",
    "* `.add()`: add an element to the set\n",
    "* `.copy()`: return a copy of the set\n",
    "* `.difference()`: return set of elements that are in the first set but not in the second set (the order matters here!)\n",
    "* `.symmetric_difference()`: return elements that occur in only one of both sets (the order doesn't matter here)\n",
    "* `.intersection()`: return the intersection between two sets\n",
    "* `.union()`: returns the combination of two sets into one\n",
    "* item `in` set: returns `True` if an item is in the set, `False` if it is not\n",
    "* `len()`: length of the set\n",
    "\n",
    "Again, we will provide a few code examples for this:"
   ]
  },
  {
   "cell_type": "code",
   "execution_count": 6,
   "metadata": {},
   "outputs": [
    {
     "name": "stdout",
     "output_type": "stream",
     "text": [
      "{'A', 'T'}\n",
      "{'G', 'C', 'T'}\n",
      "{'A', 'C', 'T'}\n"
     ]
    }
   ],
   "source": [
    "sequence_1 = \"TTTTAAAA\"\n",
    "set_1 = set(sequence_1)\n",
    "\n",
    "sequence_2 = \"GCGGGCCTT\"\n",
    "set_2 = set(sequence_2)\n",
    "\n",
    "print(set_1, set_2, sep=\"\\n\")\n",
    "\n",
    "# add an element to the set\n",
    "set_3 = set_1.copy()\n",
    "set_3.add(\"C\")\n",
    "print(set_3)"
   ]
  },
  {
   "cell_type": "code",
   "execution_count": 11,
   "metadata": {},
   "outputs": [
    {
     "name": "stdout",
     "output_type": "stream",
     "text": [
      "{'F', 'G', 'D', 'E'}\n",
      "set()\n",
      "{'F', 'G', 'E', 'D'}\n",
      "{'A', 'C', 'B'}\n",
      "{'B', 'F', 'G', 'E', 'D', 'A', 'C'}\n",
      "True\n",
      "False\n",
      "7\n"
     ]
    }
   ],
   "source": [
    "set_1 = set(\"ABCDEFG\")\n",
    "set_2 = set(\"ABC\")\n",
    "\n",
    "##########################\n",
    "## differences between set1 and set2, note the difference between .difference()\n",
    "## and .symmetric_difference()\n",
    "\n",
    "#  elements that are in set 1 but not in set 2\n",
    "print(set_1.difference(set_2))\n",
    "\n",
    "# elements that are in set 2 but not in set 1 (empty)\n",
    "print(set_2.difference(set_1))\n",
    "\n",
    "# elements that only occur in one of both sets\n",
    "print(set_1.symmetric_difference(set_2))\n",
    "##########################\n",
    "\n",
    "# intersection betweeen set1 and set2\n",
    "print(set_1.intersection(set_2))\n",
    "\n",
    "# union of both sets\n",
    "print(set_1.union(set_2))\n",
    "\n",
    "# check if item is in set\n",
    "print(\"D\" in set_1)\n",
    "print(\"D\" in set_2)\n",
    "\n",
    "# length of the set\n",
    "print(len(set_1))\n"
   ]
  },
  {
   "cell_type": "markdown",
   "metadata": {},
   "source": [
    "## Dictionaries\n",
    "Like lists, dictionaries can store any kind of data type. However, instead of accessing the stored objects via their index as you would do in lists, dictionaries give a specific **key** to each stored object, which you can use to access the underlying values. In theory, you can use immutable data types like `tuples`, `integers`, or `floats` for your dictionary keys but most often you use a `string`.\n",
    "\n",
    "Dictionaries are generally very handy if you want to replace certain elements with others, for example translate RNA to DNA, form an antisense strand, translate one biological ID into another, ...\\\n",
    "The applications are numerous!\n",
    "\n",
    "You can also use dictionaries for data storage. For example, if you took multiple measurements in an experiment you could store the individual values as lists and assign them to dictionary keys like \"measurement 1\", \"measurement 2\", ... Just imagine the dictionary keys as column names of a datatable and the underlying lists as the individual entries in that column."
   ]
  },
  {
   "cell_type": "markdown",
   "metadata": {},
   "source": [
    "### Creating dictionaries\n",
    "We can create dictionaries with the following syntax: `{key1:value1, key2:value2, ...}` or from a list of nested lists such as `[[key1, value1], [key2, value2], ...]` with the `dict()` function. If you already have keys and values in a separate list, you can create a dictionary from this with the help of the `zip()` function (this function will be explained in the loops section)."
   ]
  },
  {
   "cell_type": "code",
   "execution_count": 2,
   "metadata": {},
   "outputs": [
    {
     "name": "stdout",
     "output_type": "stream",
     "text": [
      "True\n",
      "{'A': [1, 2, 3, 4], 'B': {'A', 'B'}, 'C': 1.35}\n"
     ]
    }
   ],
   "source": [
    "# {} syntax\n",
    "dict_1 = {\"A\": [1, 2, 3, 4], \"B\": {\"A\", \"B\"}, \"C\": 1.35}\n",
    "\n",
    "# dict() function\n",
    "dict_2 = dict([[\"A\", [1, 2, 3, 4]], [\"B\", {\"A\", \"B\"}], [\"C\", 1.35]])\n",
    "\n",
    "# zip() function\n",
    "keys = [\"A\", \"B\", \"C\"]\n",
    "values = [[1, 2, 3, 4], {\"A\", \"B\"}, 1.35]\n",
    "\n",
    "dict_3 = dict(zip(keys, values))\n",
    "\n",
    "print(dict_1 == dict_2 == dict_3)\n",
    "print(dict_1)"
   ]
  },
  {
   "cell_type": "markdown",
   "metadata": {},
   "source": [
    "### Indexing\n",
    "Indexing with dictionaries is simple. For a list we would ask a question like *\"What value does this list have at the 5th element?\"* and code this as `mylist[4]`. For a dictionary indexing is very analogous and we code a question like *\"What value does my dictionary have at key 'X'?\"* as `mydict[\"X\"]`.\n",
    "\n",
    "You can also add a key:value pair to an existing dictionary by simply assigning the value to the respective index."
   ]
  },
  {
   "cell_type": "code",
   "execution_count": null,
   "metadata": {},
   "outputs": [
    {
     "name": "stdout",
     "output_type": "stream",
     "text": [
      "ATTTGCTGAC\n",
      "{'sequence 1': 'ATTTGCTGAC', 'sequence 2': 'ACGTTGACTAAAAA', 'sequence 3': 'ATGACTGACTTTT'}\n"
     ]
    }
   ],
   "source": [
    "mydict = {\"sequence 1\": \"ATTTGCTGAC\", \"sequence 2\": \"ACGTTGACTAAAAA\"}\n",
    "\n",
    "print(mydict[\"sequence 1\"])\n",
    "\n",
    "# add key:value pair\n",
    "mydict[\"sequence 3\"] = \"ATGACTGACTTTT\"\n",
    "\n",
    "print(mydict)"
   ]
  },
  {
   "cell_type": "markdown",
   "metadata": {},
   "source": [
    "### Specific methods and functions\n",
    "Python also has many methods for handling dictionaries. Again, you can find an overview of the most relevant ones below:\n",
    "\n",
    "* `.update()`: used to add another dictionary to an existing dictionary\n",
    "* `.copy()`: returns a copy of the dictionary\n",
    "* `.items()`: returns key-value tuples in the form of `[(key_1, value_1), (key_2, value_2), ...]`\n",
    "* `.keys()`: returns the dictionary keys\n",
    "* `.values()`: returns the dictionary values\n",
    "\n",
    "Again, see below some code examples for those functions. Note that the last three functions return special object types like `dict_items`, which you can just convert to a list if you want."
   ]
  },
  {
   "cell_type": "code",
   "execution_count": 3,
   "metadata": {},
   "outputs": [
    {
     "name": "stdout",
     "output_type": "stream",
     "text": [
      "{'A': 5, 'B': 6, 'C': 7, 'D': 8}\n",
      "True\n",
      "dict_items([('A', 5), ('B', 6), ('C', 7), ('D', 8)])\n",
      "dict_keys(['A', 'B', 'C', 'D'])\n",
      "dict_values([5, 6, 7, 8])\n",
      "[5, 6, 7, 8]\n"
     ]
    }
   ],
   "source": [
    "# add two dicts together\n",
    "dict_1 = {\"A\":5, \"B\":6}\n",
    "dict_2 = {\"C\":7, \"D\":8}\n",
    "\n",
    "dict_1.update(dict_2)\n",
    "\n",
    "print(dict_1)\n",
    "\n",
    "# copy a dict\n",
    "dict_3 = dict_1.copy()\n",
    "print(dict_3 == dict_1)\n",
    "\n",
    "# print key-value tuples\n",
    "print(dict_1.items())\n",
    "\n",
    "# print keys or values\n",
    "print(dict_1.keys())\n",
    "print(dict_1.values())\n",
    "\n",
    "# convert special dict objects into lists\n",
    "print(list(dict_1.values()))"
   ]
  },
  {
   "cell_type": "markdown",
   "metadata": {},
   "source": [
    "### Useful utility: defaultdict()\n",
    "Python also supports a special dictionary type called `defaultdict`. This functionality is a bit more advanced but you might see it in some code later on and then you can come back to this chapter. Defaultdict is integrated in standard Python but not loaded by default, so we have to explicitly import it with the following code (don't worry, imports will be explained in another chapter):"
   ]
  },
  {
   "cell_type": "code",
   "execution_count": 16,
   "metadata": {},
   "outputs": [],
   "source": [
    "# import the defaultdict function\n",
    "from collections import defaultdict"
   ]
  },
  {
   "cell_type": "markdown",
   "metadata": {},
   "source": [
    "Defaultdict allows us to assign a common data type to our dictionary values, even if they do not exist yet, and is used most often with the datatype `list`."
   ]
  },
  {
   "cell_type": "code",
   "execution_count": 21,
   "metadata": {},
   "outputs": [],
   "source": [
    "# create an empty dictionary with value datatype \"list\"\n",
    "mydefaultdict = defaultdict(list)\n",
    "\n",
    "# create a regular empty dictionary for comparison\n",
    "mydict = dict()"
   ]
  },
  {
   "cell_type": "markdown",
   "metadata": {},
   "source": [
    "When programming with Python you will often store lists inside dictionaries and append values to them step by step. The great thing about a defaultdict with type list is that if you access it with a new key that is not present in the dictionary yet, it will automatically create a key:value pair for that key with an empty list as the value which you can directly append values to."
   ]
  },
  {
   "cell_type": "code",
   "execution_count": 22,
   "metadata": {},
   "outputs": [
    {
     "name": "stdout",
     "output_type": "stream",
     "text": [
      "{'newkey': [1]}\n",
      "defaultdict(<class 'list'>, {'newkey': [1]})\n"
     ]
    }
   ],
   "source": [
    "# instead of this...\n",
    "mydict[\"newkey\"] = []\n",
    "mydict[\"newkey\"].append(1)\n",
    "\n",
    "# ...you can do this\n",
    "mydefaultdict[\"newkey\"].append(1)\n",
    "\n",
    "print(mydict, mydefaultdict, sep=\"\\n\")"
   ]
  },
  {
   "cell_type": "markdown",
   "metadata": {},
   "source": [
    "This might not seem like a huge advantage at the moment but later when you get to know loops and functions you might want to come back to this chapter.\n",
    "\n",
    "Also this hypothetical example might help:\n",
    "\n",
    "Consider you have some data with genes and the organisms they belong to. You want to sort this into a dictionary that contains each organism name as a key and the list of genes that belong to them as the respective value. The script you wrote for this is now right in the middle of your data, finds a gene that belongs to the organism \"fruitfly\" and tries to add it to the dictionary but it does not know if you already found another gene of this organism before.\n",
    "\n",
    "With a normal dictionary you would have to make an exception for the case where this is the first gene you ever found for that organism (because you can't append to a list that doesn't exist yet), while for a defaultdict the code is much more elegant."
   ]
  },
  {
   "cell_type": "code",
   "execution_count": null,
   "metadata": {},
   "outputs": [],
   "source": [
    "# normal dict implementation\n",
    "mydict = dict()\n",
    "\n",
    "if \"fruitfly\" in mydict.keys():\n",
    "    mydict[\"fruitfly\"].append(\"new_gene\")\n",
    "else:\n",
    "    mydict[\"fruitfly\"] = []\n",
    "    mydict[\"fruitfly\"].append(\"new_gene\")\n",
    "\n",
    "# defaultdict implementation\n",
    "mydefaultdict = defaultdict(list)\n",
    "\n",
    "mydefaultdict[\"fruitfly\"].append(\"new_gene\")"
   ]
  }
 ],
 "metadata": {
  "interpreter": {
   "hash": "eb7a3cc7805b647c07cd88e8371649cf687544e475bc1164b445f3249eb5ba5e"
  },
  "kernelspec": {
   "display_name": "Python 3.8.11 64-bit ('test2': conda)",
   "name": "python3"
  },
  "language_info": {
   "codemirror_mode": {
    "name": "ipython",
    "version": 3
   },
   "file_extension": ".py",
   "mimetype": "text/x-python",
   "name": "python",
   "nbconvert_exporter": "python",
   "pygments_lexer": "ipython3",
   "version": "3.8.11"
  },
  "orig_nbformat": 4
 },
 "nbformat": 4,
 "nbformat_minor": 2
}
