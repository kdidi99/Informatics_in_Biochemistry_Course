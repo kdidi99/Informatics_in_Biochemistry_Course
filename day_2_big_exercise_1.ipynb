{
 "cells": [
  {
   "cell_type": "markdown",
   "source": [
    "# Day 2: Integrated exercise 1\r\n",
    "In this integrated exercise you will need to apply many of the concepts that you learned earlier today. You will take the role of the cellular transcription and translation machinery and write functions to fulfill each step of the central dogma of molecular biology."
   ],
   "metadata": {}
  },
  {
   "cell_type": "markdown",
   "source": [
    "## Exercise 1\n",
    "For this exercise, you will recreate the cellular RNA polymerase. Write a function called `RNA_polymerase()` that forms the complementary sequence to a DNA strand in RNA (output should be a string). Below you can already a find an example input and output sequence on which you can test your function. When your function is complete, you should also proof in code that your output sequence is equal to the supplied output sequence."
   ],
   "metadata": {}
  },
  {
   "cell_type": "code",
   "execution_count": 1,
   "source": [
    "input_sequence = \"ACATTTGCTTCTGACACAACTGTGTTCACTAGCAACCTCAAACAGACACCATGGTGCATCTGACTCCTGAGGAGAAGTCTGCCGTTACTGCCCTGTGGGGCAAGGTGAACGTGGATGAAGTTGGTGGTGAGGCCCTGGGCAGGTTGGTATCAAGGTTACAAGACAGGTTTAAGGAGACCAATAGAAACTGGGCATGTGGAGACAGAGAAGACTCTTGGGTTTCTGATAGGCACTGACTCTCTCTGCCTATTGGTCTATTTTCCCACCCTTAGGCTGCTGGTGGTCTACCCTTGGACCCAGAGGTTCTTTGAGTCCTTTGGGGATCTGTCCACTCCTGATGCTGTTATGGGCAACCCTAAGGTGAAGGCTCATGGCAAGAAAGTGCTCGGTGCCTTTAGTGATGGCCTGGCTCACCTGGACAACCTCAAGGGCACCTTTGCCACACTGAGTGAGCTGCACTGTGACAAGCTGCACGTGGATCCTGAGAACTTCAGGGTGAGTCTATGGGACGCTTGATGTTTTCTTTCCCCTTCTTTTCTATGGTTAAGTTCATGTCATAGGAAGGGGATAAGTAACAGGGTACAGTTTAGAATGGGAAACAGACGAATGATTGCATCAGTGTGGAAGTCTCAGGATCGTTTTAGTTTCTTTTATTTGCTGTTCATAACAATTGTTTTCTTTTGTTTAATTCTTGCTTTCTTTTTTTTTCTTCTCCGCAATTTTTACTATTATACTTAATGCCTTAACATTGTGTATAACAAAAGGAAATATCTCTGAGATACATTAAGTAACTTAAAAAAAAACTTTACACAGTCTGCCTAGTACATTACTATTTGGAATATATGTGTGCTTATTTGCATATTCATAATCTCCCTACTTTATTTTCTTTTATTTTTAATTGATACATAATCATTATACATATTTATGGGTTAAAGTGTAATGTTTTAATATGTGTACACATATTGACCAAATCAGGGTAATTTTGCATTTGTAATTTTAAAAAATGCTTTCTTCTTTTAATATACTTTTTTGTTTATCTTATTTCTAATACTTTCCCTAATCTCTTTCTTTCAGGGCAATAATGATACAATGTATCATGCCTCTTTGCACCATTCTAAAGAATAACAGTGATAATTTCTGGGTTAAGGCAATAGCAATATCTCTGCATATAAATATTTCTGCATATAAATTGTAACTGATGTAAGAGGTTTCATATTGCTAATAGCAGCTACAATCCAGCTACCATTCTGCTTTTATTTTATGGTTGGGATAAGGCTGGATTATTCTGAGTCCAAGCTAGGCCCTTTTGCTAATCATGTTCATACCTCTTATCTTCCTCCCACAGCTCCTGGGCAACGTGCTGGTCTGTGTGCTGGCCCATCACTTTGGCAAAGAATTCACCCCACCAGTGCAGGCTGCCTATCAGAAAGTGGTGGCTGGTGTGGCTAATGCCCTGGCCCACAAGTATCACTAAGCTCGCTTTCTTGCTGTCCAATTTCTATTAAAGGTTCCTTTGTTCCCTAAGTCCAACTACTAAACTGGGGGATATTATGAAGGGCCTTGAGCATCTGGATTCTGCCTAATAAAAAACATTTATTTTCATTGCAA\""
   ],
   "outputs": [],
   "metadata": {}
  },
  {
   "cell_type": "code",
   "execution_count": null,
   "source": [],
   "outputs": [],
   "metadata": {}
  },
  {
   "cell_type": "markdown",
   "source": [
    "# Exercise 2 \n",
    "In the next step, you should translate the RNA sequence to protein in a function called Ribosome().\n",
    "Remember that translation only starts at the start codon(`AUG`). And tranlation ends at the stop codon (`UAG`,`UGA`,`UAA`). You should use the codon table below.\n"
   ],
   "metadata": {}
  },
  {
   "cell_type": "code",
   "execution_count": 7,
   "source": [
    " codon_table = {\r\n",
    "        'AUA':'I', 'AUC':'I', 'AUU':'I', 'AUG':'M',\r\n",
    "        'ACA':'U', 'ACC':'U', 'ACG':'U', 'ACU':'U',\r\n",
    "        'AAC':'N', 'AAU':'N', 'AAA':'K', 'AAG':'K',\r\n",
    "        'AGC':'S', 'AGU':'S', 'AGA':'R', 'AGG':'R',                \r\n",
    "        'CUA':'L', 'CUC':'L', 'CUG':'L', 'CUU':'L',\r\n",
    "        'CCA':'P', 'CCC':'P', 'CCG':'P', 'CCU':'P',\r\n",
    "        'CAC':'H', 'CAU':'H', 'CAA':'Q', 'CAG':'Q',\r\n",
    "        'CGA':'R', 'CGC':'R', 'CGG':'R', 'CGU':'R',\r\n",
    "        'GUA':'V', 'GUC':'V', 'GUG':'V', 'GUU':'V',\r\n",
    "        'GCA':'A', 'GCC':'A', 'GCG':'A', 'GCU':'A',\r\n",
    "        'GAC':'D', 'GAU':'D', 'GAA':'E', 'GAG':'E',\r\n",
    "        'GGA':'G', 'GGC':'G', 'GGG':'G', 'GGU':'G',\r\n",
    "        'UCA':'S', 'UCC':'S', 'UCG':'S', 'UCU':'S',\r\n",
    "        'UUC':'F', 'UUU':'F', 'UUA':'L', 'UUG':'L',\r\n",
    "        'UAC':'Y', 'UAU':'Y', 'UAA':'_', 'UAG':'_',\r\n",
    "        'UGC':'C', 'UGU':'C', 'UGA':'_', 'UGG':'W',\r\n",
    "    }"
   ],
   "outputs": [],
   "metadata": {}
  },
  {
   "cell_type": "code",
   "execution_count": null,
   "source": [],
   "outputs": [],
   "metadata": {}
  },
  {
   "cell_type": "markdown",
   "source": [
    "## Exercise 3: Bonus\n",
    "Write a function named `amino_acid_counter()` that accepts a protein sequence as input and returns a dictionary with the amino acids as keys and the count how many times they occur in the sequence as value. If you want, you can make use of the `Counter()` function from Python's base library `collections`."
   ],
   "metadata": {}
  },
  {
   "cell_type": "code",
   "execution_count": null,
   "source": [],
   "outputs": [],
   "metadata": {}
  }
 ],
 "metadata": {
  "interpreter": {
   "hash": "eb7a3cc7805b647c07cd88e8371649cf687544e475bc1164b445f3249eb5ba5e"
  },
  "kernelspec": {
   "display_name": "Python 3",
   "language": "python",
   "name": "python3"
  },
  "language_info": {
   "codemirror_mode": {
    "name": "ipython",
    "version": 3
   },
   "file_extension": ".py",
   "mimetype": "text/x-python",
   "name": "python",
   "nbconvert_exporter": "python",
   "pygments_lexer": "ipython3",
   "version": "3.8.3"
  }
 },
 "nbformat": 4,
 "nbformat_minor": 2
}