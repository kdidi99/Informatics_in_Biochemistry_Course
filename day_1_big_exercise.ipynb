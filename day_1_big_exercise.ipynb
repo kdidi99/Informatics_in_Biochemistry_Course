{
 "cells": [
  {
   "cell_type": "markdown",
   "source": [
    "# Day 1: Integrated exercise\r\n",
    "In this integrated exercise you will need to apply many of the concepts that you learned earlier today. You will take the role of the cellular transcription and translation machinery and write functions to fulfill each step of the central dogma of molecular biology."
   ],
   "metadata": {}
  },
  {
   "cell_type": "markdown",
   "source": [
    "## Exercise 1\r\n",
    "For this exercise, you will recreate the cellular RNA polymerase. Write a function called `RNA_polymerase()` that forms the complementary sequence to a DNA strand in RNA (output should be a string). Below you can already a find an example input and output sequence on which you can test your function. When your function is complete, you should also proof in code that your output sequence is equal to the supplied output sequence."
   ],
   "metadata": {}
  },
  {
   "cell_type": "code",
   "execution_count": 1,
   "source": [
    "input_sequence = \"ACATTTGCTTCTGACACAACTGTGTTCACTAGCAACCTCAAACAGACACCATGGTGCATCTGACTCCTGAGGAGAAGTCTGCCGTTACTGCCCTGTGGGGCAAGGTGAACGTGGATGAAGTTGGTGGTGAGGCCCTGGGCAGGTTGGTATCAAGGTTACAAGACAGGTTTAAGGAGACCAATAGAAACTGGGCATGTGGAGACAGAGAAGACTCTTGGGTTTCTGATAGGCACTGACTCTCTCTGCCTATTGGTCTATTTTCCCACCCTTAGGCTGCTGGTGGTCTACCCTTGGACCCAGAGGTTCTTTGAGTCCTTTGGGGATCTGTCCACTCCTGATGCTGTTATGGGCAACCCTAAGGTGAAGGCTCATGGCAAGAAAGTGCTCGGTGCCTTTAGTGATGGCCTGGCTCACCTGGACAACCTCAAGGGCACCTTTGCCACACTGAGTGAGCTGCACTGTGACAAGCTGCACGTGGATCCTGAGAACTTCAGGGTGAGTCTATGGGACGCTTGATGTTTTCTTTCCCCTTCTTTTCTATGGTTAAGTTCATGTCATAGGAAGGGGATAAGTAACAGGGTACAGTTTAGAATGGGAAACAGACGAATGATTGCATCAGTGTGGAAGTCTCAGGATCGTTTTAGTTTCTTTTATTTGCTGTTCATAACAATTGTTTTCTTTTGTTTAATTCTTGCTTTCTTTTTTTTTCTTCTCCGCAATTTTTACTATTATACTTAATGCCTTAACATTGTGTATAACAAAAGGAAATATCTCTGAGATACATTAAGTAACTTAAAAAAAAACTTTACACAGTCTGCCTAGTACATTACTATTTGGAATATATGTGTGCTTATTTGCATATTCATAATCTCCCTACTTTATTTTCTTTTATTTTTAATTGATACATAATCATTATACATATTTATGGGTTAAAGTGTAATGTTTTAATATGTGTACACATATTGACCAAATCAGGGTAATTTTGCATTTGTAATTTTAAAAAATGCTTTCTTCTTTTAATATACTTTTTTGTTTATCTTATTTCTAATACTTTCCCTAATCTCTTTCTTTCAGGGCAATAATGATACAATGTATCATGCCTCTTTGCACCATTCTAAAGAATAACAGTGATAATTTCTGGGTTAAGGCAATAGCAATATCTCTGCATATAAATATTTCTGCATATAAATTGTAACTGATGTAAGAGGTTTCATATTGCTAATAGCAGCTACAATCCAGCTACCATTCTGCTTTTATTTTATGGTTGGGATAAGGCTGGATTATTCTGAGTCCAAGCTAGGCCCTTTTGCTAATCATGTTCATACCTCTTATCTTCCTCCCACAGCTCCTGGGCAACGTGCTGGTCTGTGTGCTGGCCCATCACTTTGGCAAAGAATTCACCCCACCAGTGCAGGCTGCCTATCAGAAAGTGGTGGCTGGTGTGGCTAATGCCCTGGCCCACAAGTATCACTAAGCTCGCTTTCTTGCTGTCCAATTTCTATTAAAGGTTCCTTTGTTCCCTAAGTCCAACTACTAAACTGGGGGATATTATGAAGGGCCTTGAGCATCTGGATTCTGCCTAATAAAAAACATTTATTTTCATTGCAA\""
   ],
   "outputs": [],
   "metadata": {}
  },
  {
   "cell_type": "code",
   "execution_count": 11,
   "source": [
    "def RNA_polymerase(sequence):\r\n",
    "    DNA_to_RNA = {\"A\":\"U\", \"T\":\"A\", \"C\":\"G\", \"G\":\"C\"}\r\n",
    "\r\n",
    "    new_sequence = \"\"\r\n",
    "\r\n",
    "    for nucleotide in sequence:\r\n",
    "        new_sequence += DNA_to_RNA[nucleotide]\r\n",
    "\r\n",
    "    return new_sequence"
   ],
   "outputs": [],
   "metadata": {}
  },
  {
   "cell_type": "markdown",
   "source": [
    "# Exercise 2 \r\n",
    "In the next step, you should translate the RNA sequence to protein in a function called Ribosome().\r\n",
    "Remember that translation only starts at the start codon(`AUG`). And tranlation ends at the stop codon (`UAG`,`UGA`,`UAA`). You should use the codon table below.\r\n"
   ],
   "metadata": {}
  },
  {
   "cell_type": "code",
   "execution_count": 7,
   "source": [
    " codon_table = {\r\n",
    "        'AUA':'I', 'AUC':'I', 'AUU':'I', 'AUG':'M',\r\n",
    "        'ACA':'U', 'ACC':'U', 'ACG':'U', 'ACU':'U',\r\n",
    "        'AAC':'N', 'AAU':'N', 'AAA':'K', 'AAG':'K',\r\n",
    "        'AGC':'S', 'AGU':'S', 'AGA':'R', 'AGG':'R',                \r\n",
    "        'CUA':'L', 'CUC':'L', 'CUG':'L', 'CUU':'L',\r\n",
    "        'CCA':'P', 'CCC':'P', 'CCG':'P', 'CCU':'P',\r\n",
    "        'CAC':'H', 'CAU':'H', 'CAA':'Q', 'CAG':'Q',\r\n",
    "        'CGA':'R', 'CGC':'R', 'CGG':'R', 'CGU':'R',\r\n",
    "        'GUA':'V', 'GUC':'V', 'GUG':'V', 'GUU':'V',\r\n",
    "        'GCA':'A', 'GCC':'A', 'GCG':'A', 'GCU':'A',\r\n",
    "        'GAC':'D', 'GAU':'D', 'GAA':'E', 'GAG':'E',\r\n",
    "        'GGA':'G', 'GGC':'G', 'GGG':'G', 'GGU':'G',\r\n",
    "        'UCA':'S', 'UCC':'S', 'UCG':'S', 'UCU':'S',\r\n",
    "        'UUC':'F', 'UUU':'F', 'UUA':'L', 'UUG':'L',\r\n",
    "        'UAC':'Y', 'UAU':'Y', 'UAA':'_', 'UAG':'_',\r\n",
    "        'UGC':'C', 'UGU':'C', 'UGA':'_', 'UGG':'W',\r\n",
    "    }"
   ],
   "outputs": [],
   "metadata": {}
  },
  {
   "cell_type": "code",
   "execution_count": 29,
   "source": [
    "def Ribosome(rna_sequence): \r\n",
    "    start_translation = False\r\n",
    "    codon_table = {\r\n",
    "        'AUA':'I', 'AUC':'I', 'AUU':'I', 'AUG':'M',\r\n",
    "        'ACA':'U', 'ACC':'U', 'ACG':'U', 'ACU':'U',\r\n",
    "        'AAC':'N', 'AAU':'N', 'AAA':'K', 'AAG':'K',\r\n",
    "        'AGC':'S', 'AGU':'S', 'AGA':'R', 'AGG':'R',                \r\n",
    "        'CUA':'L', 'CUC':'L', 'CUG':'L', 'CUU':'L',\r\n",
    "        'CCA':'P', 'CCC':'P', 'CCG':'P', 'CCU':'P',\r\n",
    "        'CAC':'H', 'CAU':'H', 'CAA':'Q', 'CAG':'Q',\r\n",
    "        'CGA':'R', 'CGC':'R', 'CGG':'R', 'CGU':'R',\r\n",
    "        'GUA':'V', 'GUC':'V', 'GUG':'V', 'GUU':'V',\r\n",
    "        'GCA':'A', 'GCC':'A', 'GCG':'A', 'GCU':'A',\r\n",
    "        'GAC':'D', 'GAU':'D', 'GAA':'E', 'GAG':'E',\r\n",
    "        'GGA':'G', 'GGC':'G', 'GGG':'G', 'GGU':'G',\r\n",
    "        'UCA':'S', 'UCC':'S', 'UCG':'S', 'UCU':'S',\r\n",
    "        'UUC':'F', 'UUU':'F', 'UUA':'L', 'UUG':'L',\r\n",
    "        'UAC':'Y', 'UAU':'Y', 'UAA':'_', 'UAG':'_',\r\n",
    "        'UGC':'C', 'UGU':'C', 'UGA':'_', 'UGG':'W',\r\n",
    "    }\r\n",
    "    \r\n",
    "    protein = \"\"\r\n",
    "    for i in range(0, len(rna_sequence), 3):\r\n",
    "        codon =rna_sequence[i: i+3]\r\n",
    "        \r\n",
    "        if codon == \"AUG\":\r\n",
    "            start_translation = True\r\n",
    "        if codon in [\"UAG\",\"UGA\",\"UAA\"]:\r\n",
    "                start_translation = False\r\n",
    "        if start_translation == True:\r\n",
    "            protein += codon_table[codon]\r\n",
    "            \r\n",
    "    return protein"
   ],
   "outputs": [],
   "metadata": {}
  },
  {
   "cell_type": "code",
   "execution_count": 30,
   "source": [
    "Ribosome(RNA_polymerase(input_sequence))"
   ],
   "outputs": [
    {
     "output_type": "execute_result",
     "data": {
      "text/plain": [
       "'MFCPNSSGYLMGUWVSKKLRKPLDRMIIMMYKYPISHYKIIHMCIUGLVPLKRKH'"
      ]
     },
     "metadata": {},
     "execution_count": 30
    }
   ],
   "metadata": {}
  },
  {
   "cell_type": "markdown",
   "source": [
    "## Exercise 3: Bonus\r\n",
    "Write a function named `amino_acid_counter()` that accepts a protein sequence as input and returns a dictionary with the amino acids as keys and the count how many times they occur in the sequence as value. If you want, you can make use of the `Counter()` function from Python's base library `collections`."
   ],
   "metadata": {}
  },
  {
   "cell_type": "code",
   "execution_count": 36,
   "source": [
    "def amino_acid_counter(protein_sequence):\r\n",
    "    count_dict = {}\r\n",
    "\r\n",
    "    for aa in protein_sequence:\r\n",
    "        if aa not in count_dict.keys():\r\n",
    "            count_dict[aa] = 1\r\n",
    "        \r\n",
    "        else:\r\n",
    "            count_dict[aa] += 1\r\n",
    "\r\n",
    "    return count_dict\r\n",
    "\r\n",
    "def amino_acid_counter2(protein_sequence):\r\n",
    "    amino_acids = set(protein_sequence)\r\n",
    "\r\n",
    "    count_dict = {}\r\n",
    "\r\n",
    "    for aa in amino_acids:\r\n",
    "        count_dict[aa] = protein_sequence.count(aa)\r\n",
    "\r\n",
    "    return count_dict"
   ],
   "outputs": [],
   "metadata": {}
  },
  {
   "cell_type": "code",
   "execution_count": 37,
   "source": [
    "print(amino_acid_counter(Ribosome(RNA_polymerase(input_sequence))))\r\n",
    "print(amino_acid_counter2(Ribosome(RNA_polymerase(input_sequence))))"
   ],
   "outputs": [
    {
     "output_type": "stream",
     "name": "stdout",
     "text": [
      "{'M': 6, 'F': 1, 'C': 2, 'P': 4, 'N': 1, 'S': 4, 'G': 3, 'Y': 4, 'L': 5, 'U': 2, 'W': 1, 'V': 2, 'K': 7, 'R': 3, 'D': 1, 'I': 6, 'H': 3}\n",
      "{'R': 3, 'M': 6, 'G': 3, 'Y': 4, 'F': 1, 'P': 4, 'N': 1, 'K': 7, 'H': 3, 'C': 2, 'U': 2, 'D': 1, 'L': 5, 'W': 1, 'I': 6, 'V': 2, 'S': 4}\n"
     ]
    }
   ],
   "metadata": {}
  },
  {
   "cell_type": "code",
   "execution_count": 38,
   "source": [
    "amino_acid_counter(Ribosome(RNA_polymerase(input_sequence))) == amino_acid_counter2(Ribosome(RNA_polymerase(input_sequence)))"
   ],
   "outputs": [
    {
     "output_type": "execute_result",
     "data": {
      "text/plain": [
       "True"
      ]
     },
     "metadata": {},
     "execution_count": 38
    }
   ],
   "metadata": {}
  },
  {
   "cell_type": "code",
   "execution_count": 40,
   "source": [
    "sorted(amino_acid_counter2(Ribosome(RNA_polymerase(input_sequence))))"
   ],
   "outputs": [
    {
     "output_type": "execute_result",
     "data": {
      "text/plain": [
       "['C',\n",
       " 'D',\n",
       " 'F',\n",
       " 'G',\n",
       " 'H',\n",
       " 'I',\n",
       " 'K',\n",
       " 'L',\n",
       " 'M',\n",
       " 'N',\n",
       " 'P',\n",
       " 'R',\n",
       " 'S',\n",
       " 'U',\n",
       " 'V',\n",
       " 'W',\n",
       " 'Y']"
      ]
     },
     "metadata": {},
     "execution_count": 40
    }
   ],
   "metadata": {}
  },
  {
   "cell_type": "code",
   "execution_count": null,
   "source": [],
   "outputs": [],
   "metadata": {}
  }
 ],
 "metadata": {
  "orig_nbformat": 4,
  "language_info": {
   "name": "python",
   "version": "3.8.11",
   "mimetype": "text/x-python",
   "codemirror_mode": {
    "name": "ipython",
    "version": 3
   },
   "pygments_lexer": "ipython3",
   "nbconvert_exporter": "python",
   "file_extension": ".py"
  },
  "kernelspec": {
   "name": "python3",
   "display_name": "Python 3.8.11 64-bit ('test2': conda)"
  },
  "interpreter": {
   "hash": "eb7a3cc7805b647c07cd88e8371649cf687544e475bc1164b445f3249eb5ba5e"
  }
 },
 "nbformat": 4,
 "nbformat_minor": 2
}