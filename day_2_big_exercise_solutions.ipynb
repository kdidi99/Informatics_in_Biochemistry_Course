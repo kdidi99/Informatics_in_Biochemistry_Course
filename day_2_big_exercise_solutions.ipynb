{
 "cells": [
  {
   "cell_type": "markdown",
   "metadata": {},
   "source": [
    "# Day 1: Integrated exercise\n",
    "In this integrated exercise you will need to apply many of the concepts that you learned earlier today. You will take the role of the cellular transcription and translation machinery and write functions to fulfill each step of the central dogma of molecular biology."
   ]
  },
  {
   "cell_type": "markdown",
   "metadata": {},
   "source": [
    "## Exercise 1\n",
    "For this exercise, you will recreate the cellular RNA polymerase. Write a function called `RNA_polymerase()` that forms the complementary sequence to a DNA strand in RNA (output should be a string). Below you can already a find an example input and output sequence on which you can test your function. When your function is complete, you should also proof in code that your output sequence is equal to the supplied output sequence."
   ]
  },
  {
   "cell_type": "code",
   "execution_count": 1,
   "metadata": {},
   "outputs": [],
   "source": [
    "input_sequence = \"ACATTTGCTTCTGACACAACTGTGTTCACTAGCAACCTCAAACAGACACCATGGTGCATCTGACTCCTGAGGAGAAGTCTGCCGTTACTGCCCTGTGGGGCAAGGTGAACGTGGATGAAGTTGGTGGTGAGGCCCTGGGCAGGTTGGTATCAAGGTTACAAGACAGGTTTAAGGAGACCAATAGAAACTGGGCATGTGGAGACAGAGAAGACTCTTGGGTTTCTGATAGGCACTGACTCTCTCTGCCTATTGGTCTATTTTCCCACCCTTAGGCTGCTGGTGGTCTACCCTTGGACCCAGAGGTTCTTTGAGTCCTTTGGGGATCTGTCCACTCCTGATGCTGTTATGGGCAACCCTAAGGTGAAGGCTCATGGCAAGAAAGTGCTCGGTGCCTTTAGTGATGGCCTGGCTCACCTGGACAACCTCAAGGGCACCTTTGCCACACTGAGTGAGCTGCACTGTGACAAGCTGCACGTGGATCCTGAGAACTTCAGGGTGAGTCTATGGGACGCTTGATGTTTTCTTTCCCCTTCTTTTCTATGGTTAAGTTCATGTCATAGGAAGGGGATAAGTAACAGGGTACAGTTTAGAATGGGAAACAGACGAATGATTGCATCAGTGTGGAAGTCTCAGGATCGTTTTAGTTTCTTTTATTTGCTGTTCATAACAATTGTTTTCTTTTGTTTAATTCTTGCTTTCTTTTTTTTTCTTCTCCGCAATTTTTACTATTATACTTAATGCCTTAACATTGTGTATAACAAAAGGAAATATCTCTGAGATACATTAAGTAACTTAAAAAAAAACTTTACACAGTCTGCCTAGTACATTACTATTTGGAATATATGTGTGCTTATTTGCATATTCATAATCTCCCTACTTTATTTTCTTTTATTTTTAATTGATACATAATCATTATACATATTTATGGGTTAAAGTGTAATGTTTTAATATGTGTACACATATTGACCAAATCAGGGTAATTTTGCATTTGTAATTTTAAAAAATGCTTTCTTCTTTTAATATACTTTTTTGTTTATCTTATTTCTAATACTTTCCCTAATCTCTTTCTTTCAGGGCAATAATGATACAATGTATCATGCCTCTTTGCACCATTCTAAAGAATAACAGTGATAATTTCTGGGTTAAGGCAATAGCAATATCTCTGCATATAAATATTTCTGCATATAAATTGTAACTGATGTAAGAGGTTTCATATTGCTAATAGCAGCTACAATCCAGCTACCATTCTGCTTTTATTTTATGGTTGGGATAAGGCTGGATTATTCTGAGTCCAAGCTAGGCCCTTTTGCTAATCATGTTCATACCTCTTATCTTCCTCCCACAGCTCCTGGGCAACGTGCTGGTCTGTGTGCTGGCCCATCACTTTGGCAAAGAATTCACCCCACCAGTGCAGGCTGCCTATCAGAAAGTGGTGGCTGGTGTGGCTAATGCCCTGGCCCACAAGTATCACTAAGCTCGCTTTCTTGCTGTCCAATTTCTATTAAAGGTTCCTTTGTTCCCTAAGTCCAACTACTAAACTGGGGGATATTATGAAGGGCCTTGAGCATCTGGATTCTGCCTAATAAAAAACATTTATTTTCATTGCAA\""
   ]
  },
  {
   "cell_type": "code",
   "execution_count": 11,
   "metadata": {},
   "outputs": [],
   "source": [
    "def RNA_polymerase(sequence):\n",
    "    DNA_to_RNA = {\"A\":\"U\", \"T\":\"A\", \"C\":\"G\", \"G\":\"C\"}\n",
    "\n",
    "    new_sequence = \"\"\n",
    "\n",
    "    for nucleotide in sequence:\n",
    "        new_sequence += DNA_to_RNA[nucleotide]\n",
    "\n",
    "    return new_sequence"
   ]
  },
  {
   "cell_type": "markdown",
   "metadata": {},
   "source": [
    "# Exercise 2 \n",
    "In the next step, you should translate the RNA sequence to protein in a function called Ribosome().\n",
    "Remember that translation only starts at the start codon(`AUG`). And tranlation ends at the stop codon (`UAG`,`UGA`,`UAA`). You should use the codon table below.\n"
   ]
  },
  {
   "cell_type": "code",
   "execution_count": 7,
   "metadata": {},
   "outputs": [],
   "source": [
    " codon_table = {\n",
    "        'AUA':'I', 'AUC':'I', 'AUU':'I', 'AUG':'M',\n",
    "        'ACA':'U', 'ACC':'U', 'ACG':'U', 'ACU':'U',\n",
    "        'AAC':'N', 'AAU':'N', 'AAA':'K', 'AAG':'K',\n",
    "        'AGC':'S', 'AGU':'S', 'AGA':'R', 'AGG':'R',                \n",
    "        'CUA':'L', 'CUC':'L', 'CUG':'L', 'CUU':'L',\n",
    "        'CCA':'P', 'CCC':'P', 'CCG':'P', 'CCU':'P',\n",
    "        'CAC':'H', 'CAU':'H', 'CAA':'Q', 'CAG':'Q',\n",
    "        'CGA':'R', 'CGC':'R', 'CGG':'R', 'CGU':'R',\n",
    "        'GUA':'V', 'GUC':'V', 'GUG':'V', 'GUU':'V',\n",
    "        'GCA':'A', 'GCC':'A', 'GCG':'A', 'GCU':'A',\n",
    "        'GAC':'D', 'GAU':'D', 'GAA':'E', 'GAG':'E',\n",
    "        'GGA':'G', 'GGC':'G', 'GGG':'G', 'GGU':'G',\n",
    "        'UCA':'S', 'UCC':'S', 'UCG':'S', 'UCU':'S',\n",
    "        'UUC':'F', 'UUU':'F', 'UUA':'L', 'UUG':'L',\n",
    "        'UAC':'Y', 'UAU':'Y', 'UAA':'_', 'UAG':'_',\n",
    "        'UGC':'C', 'UGU':'C', 'UGA':'_', 'UGG':'W',\n",
    "    }"
   ]
  },
  {
   "cell_type": "code",
   "execution_count": 29,
   "metadata": {},
   "outputs": [],
   "source": [
    "def Ribosome(rna_sequence): \n",
    "    start_translation = False\n",
    "    codon_table = {\n",
    "        'AUA':'I', 'AUC':'I', 'AUU':'I', 'AUG':'M',\n",
    "        'ACA':'U', 'ACC':'U', 'ACG':'U', 'ACU':'U',\n",
    "        'AAC':'N', 'AAU':'N', 'AAA':'K', 'AAG':'K',\n",
    "        'AGC':'S', 'AGU':'S', 'AGA':'R', 'AGG':'R',                \n",
    "        'CUA':'L', 'CUC':'L', 'CUG':'L', 'CUU':'L',\n",
    "        'CCA':'P', 'CCC':'P', 'CCG':'P', 'CCU':'P',\n",
    "        'CAC':'H', 'CAU':'H', 'CAA':'Q', 'CAG':'Q',\n",
    "        'CGA':'R', 'CGC':'R', 'CGG':'R', 'CGU':'R',\n",
    "        'GUA':'V', 'GUC':'V', 'GUG':'V', 'GUU':'V',\n",
    "        'GCA':'A', 'GCC':'A', 'GCG':'A', 'GCU':'A',\n",
    "        'GAC':'D', 'GAU':'D', 'GAA':'E', 'GAG':'E',\n",
    "        'GGA':'G', 'GGC':'G', 'GGG':'G', 'GGU':'G',\n",
    "        'UCA':'S', 'UCC':'S', 'UCG':'S', 'UCU':'S',\n",
    "        'UUC':'F', 'UUU':'F', 'UUA':'L', 'UUG':'L',\n",
    "        'UAC':'Y', 'UAU':'Y', 'UAA':'_', 'UAG':'_',\n",
    "        'UGC':'C', 'UGU':'C', 'UGA':'_', 'UGG':'W',\n",
    "    }\n",
    "    \n",
    "    protein = \"\"\n",
    "    for i in range(0, len(rna_sequence), 3):\n",
    "        codon =rna_sequence[i: i+3]\n",
    "        \n",
    "        if codon == \"AUG\":\n",
    "            start_translation = True\n",
    "        if codon in [\"UAG\",\"UGA\",\"UAA\"]:\n",
    "                start_translation = False\n",
    "        if start_translation == True:\n",
    "            protein += codon_table[codon]\n",
    "            \n",
    "    return protein"
   ]
  },
  {
   "cell_type": "code",
   "execution_count": 30,
   "metadata": {},
   "outputs": [
    {
     "data": {
      "text/plain": [
       "'MFCPNSSGYLMGUWVSKKLRKPLDRMIIMMYKYPISHYKIIHMCIUGLVPLKRKH'"
      ]
     },
     "execution_count": 30,
     "metadata": {},
     "output_type": "execute_result"
    }
   ],
   "source": [
    "Ribosome(RNA_polymerase(input_sequence))"
   ]
  },
  {
   "cell_type": "markdown",
   "metadata": {},
   "source": [
    "## Exercise 3: Bonus\n",
    "Write a function named `amino_acid_counter()` that accepts a protein sequence as input and returns a dictionary with the amino acids as keys and the count how many times they occur in the sequence as value. If you want, you can make use of the `Counter()` function from Python's base library `collections`."
   ]
  },
  {
   "cell_type": "code",
   "execution_count": 36,
   "metadata": {},
   "outputs": [],
   "source": [
    "def amino_acid_counter(protein_sequence):\n",
    "    count_dict = {}\n",
    "\n",
    "    for aa in protein_sequence:\n",
    "        if aa not in count_dict.keys():\n",
    "            count_dict[aa] = 1\n",
    "        \n",
    "        else:\n",
    "            count_dict[aa] += 1\n",
    "\n",
    "    return count_dict\n",
    "\n",
    "def amino_acid_counter2(protein_sequence):\n",
    "    amino_acids = set(protein_sequence)\n",
    "\n",
    "    count_dict = {}\n",
    "\n",
    "    for aa in amino_acids:\n",
    "        count_dict[aa] = protein_sequence.count(aa)\n",
    "\n",
    "    return count_dict"
   ]
  },
  {
   "cell_type": "code",
   "execution_count": 37,
   "metadata": {},
   "outputs": [
    {
     "name": "stdout",
     "output_type": "stream",
     "text": [
      "{'M': 6, 'F': 1, 'C': 2, 'P': 4, 'N': 1, 'S': 4, 'G': 3, 'Y': 4, 'L': 5, 'U': 2, 'W': 1, 'V': 2, 'K': 7, 'R': 3, 'D': 1, 'I': 6, 'H': 3}\n",
      "{'R': 3, 'M': 6, 'G': 3, 'Y': 4, 'F': 1, 'P': 4, 'N': 1, 'K': 7, 'H': 3, 'C': 2, 'U': 2, 'D': 1, 'L': 5, 'W': 1, 'I': 6, 'V': 2, 'S': 4}\n"
     ]
    }
   ],
   "source": [
    "print(amino_acid_counter(Ribosome(RNA_polymerase(input_sequence))))\n",
    "print(amino_acid_counter2(Ribosome(RNA_polymerase(input_sequence))))"
   ]
  },
  {
   "cell_type": "code",
   "execution_count": 38,
   "metadata": {},
   "outputs": [
    {
     "data": {
      "text/plain": [
       "True"
      ]
     },
     "execution_count": 38,
     "metadata": {},
     "output_type": "execute_result"
    }
   ],
   "source": [
    "amino_acid_counter(Ribosome(RNA_polymerase(input_sequence))) == amino_acid_counter2(Ribosome(RNA_polymerase(input_sequence)))"
   ]
  },
  {
   "cell_type": "code",
   "execution_count": 40,
   "metadata": {},
   "outputs": [
    {
     "data": {
      "text/plain": [
       "['C',\n",
       " 'D',\n",
       " 'F',\n",
       " 'G',\n",
       " 'H',\n",
       " 'I',\n",
       " 'K',\n",
       " 'L',\n",
       " 'M',\n",
       " 'N',\n",
       " 'P',\n",
       " 'R',\n",
       " 'S',\n",
       " 'U',\n",
       " 'V',\n",
       " 'W',\n",
       " 'Y']"
      ]
     },
     "execution_count": 40,
     "metadata": {},
     "output_type": "execute_result"
    }
   ],
   "source": [
    "sorted(amino_acid_counter2(Ribosome(RNA_polymerase(input_sequence))))"
   ]
  },
  {
   "cell_type": "code",
   "execution_count": null,
   "metadata": {},
   "outputs": [],
   "source": []
  }
 ],
 "metadata": {
  "interpreter": {
   "hash": "eb7a3cc7805b647c07cd88e8371649cf687544e475bc1164b445f3249eb5ba5e"
  },
  "kernelspec": {
   "display_name": "Python 3",
   "language": "python",
   "name": "python3"
  },
  "language_info": {
   "codemirror_mode": {
    "name": "ipython",
    "version": 3
   },
   "file_extension": ".py",
   "mimetype": "text/x-python",
   "name": "python",
   "nbconvert_exporter": "python",
   "pygments_lexer": "ipython3",
   "version": "3.8.3"
  }
 },
 "nbformat": 4,
 "nbformat_minor": 2
}
