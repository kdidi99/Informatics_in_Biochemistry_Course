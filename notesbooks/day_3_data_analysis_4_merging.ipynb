{
  "nbformat": 4,
  "nbformat_minor": 0,
  "metadata": {
    "colab": {
      "name": "Untitled20.ipynb",
      "provenance": [],
      "authorship_tag": "ABX9TyPBQMo00PF/bf4JCJjGhHkW",
      "include_colab_link": true
    },
    "kernelspec": {
      "name": "python3",
      "display_name": "Python 3"
    },
    "language_info": {
      "name": "python"
    }
  },
  "cells": [
    {
      "cell_type": "markdown",
      "metadata": {
        "id": "view-in-github",
        "colab_type": "text"
      },
      "source": [
        "<a href=\"https://colab.research.google.com/github/kdidi99/Python_for_Biochemists/blob/main/notesbooks/day_3_data_analysis_4_merging.ipynb\" target=\"_parent\"><img src=\"https://colab.research.google.com/assets/colab-badge.svg\" alt=\"Open In Colab\"/></a>"
      ]
    },
    {
      "cell_type": "markdown",
      "source": [
        "# Day 3: Data analysis with Pandas, part 4"
      ],
      "metadata": {
        "id": "tWY-6-VbOBri"
      }
    },
    {
      "cell_type": "markdown",
      "source": [
        "#4. Sorting & combining\n",
        "\n",
        "So far we looked at how to manipulate data frames read in from a single csv or txt file. In reality, though, we will often need to collect data from multiple sources into one DataFrame. For this to work, we need specific methods to combine/merge these datasets and sort/reshape them in order to gain a useful representation of our data. \n",
        "\n",
        "So, first we will deal with combining data, and then we will look at how to sort and reshape the combined DataFrame."
      ],
      "metadata": {
        "id": "gYq0bAR-OBjX"
      }
    },
    {
      "cell_type": "markdown",
      "source": [
        "##Combining Data"
      ],
      "metadata": {
        "id": "-o_FKW9wPP6u"
      }
    },
    {
      "cell_type": "markdown",
      "source": [
        "For combining our data, we have three main methods: \n",
        "\n",
        "- concat(): Combine data-frames both column- or row-wise, not looking at the values/not matching against a key\n",
        "- merge(): combine data based on indices or columns that are common (database-like joining, most flexible of the three)\n",
        "- .join(): combine data based on indices"
      ],
      "metadata": {
        "id": "jaFfTb4YPYgD"
      }
    },
    {
      "cell_type": "code",
      "execution_count": 2,
      "metadata": {
        "id": "PJacRhqfOA89"
      },
      "outputs": [],
      "source": [
        "import pandas as pd\n",
        "\n",
        "#mutations of proteins\n",
        "df_mutation = pd.DataFrame({\n",
        "    'Mutation': ['No', 'H86R', 'C142G'],\n",
        "    'Name': ['WT', 'Mut3', 'Mut1']\n",
        "})\n",
        "\n",
        "#activity of proteins from screening experiment\n",
        "df_activity = pd.DataFrame({\n",
        "    'Name': ['Mut1', 'Mut2', 'Mut3'],\n",
        "    'Activity': [10, 1333, 1104]\n",
        "})"
      ]
    },
    {
      "cell_type": "markdown",
      "source": [
        "The most versatile of those functions is merge(), so we will focus on this first. With merge(), you can implement all the joining operations you would normally implement in a \"classic\" relational database working with e.g. SQL. There are four main types of joins: Inner join, left join, right join and outer/full join."
      ],
      "metadata": {
        "id": "2JY1RNFp3a1-"
      }
    },
    {
      "cell_type": "markdown",
      "source": [
        "<div>\n",
        "<img src=\"\", width=500>\n",
        "</div>"
      ],
      "metadata": {
        "id": "qPWBvmJr315-"
      }
    },
    {
      "cell_type": "code",
      "source": [
        ""
      ],
      "metadata": {
        "id": "J1owDwcb3ZCy"
      },
      "execution_count": null,
      "outputs": []
    }
  ]
}