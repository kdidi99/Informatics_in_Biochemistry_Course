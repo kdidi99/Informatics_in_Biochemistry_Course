{
 "cells": [
  {
   "cell_type": "markdown",
   "source": [
    "# Day 1: Lists and Tuples - Exercises"
   ],
   "metadata": {}
  },
  {
   "cell_type": "markdown",
   "source": [
    "For this exercise you are given the first 70 nucleotides of the Sars-Cov2 spike protein sequence."
   ],
   "metadata": {}
  },
  {
   "cell_type": "code",
   "execution_count": 2,
   "source": [
    "spike = \"ATGTTTGTTTTTCTTGTTTTATTGCCACTAGTCTCTAGTCAGTGTGTTAATCTTACAACCAGAACTCAAT\""
   ],
   "outputs": [],
   "metadata": {}
  },
  {
   "cell_type": "markdown",
   "source": [
    "## Exercise 1\r\n",
    "Perform the following tasks on the sequence:\r\n",
    "\r\n",
    "* print the first codon\r\n",
    "* return a new sequence (as string) without the last two codons"
   ],
   "metadata": {}
  },
  {
   "cell_type": "code",
   "execution_count": 4,
   "source": [
    "print(spike[:3])\r\n",
    "\r\n",
    "# first method:\r\n",
    "new_seq = list(spike)\r\n",
    "new_seq = new_seq[:-6]\r\n",
    "\r\n",
    "print(\"\".join(new_seq))\r\n",
    "\r\n",
    "# alternative - index directly on the string:\r\n",
    "print(spike[:-6])"
   ],
   "outputs": [
    {
     "output_type": "stream",
     "name": "stdout",
     "text": [
      "ATG\n",
      "ATGTTTGTTTTTCTTGTTTTATTGCCACTAGTCTCTAGTCAGTGTGTTAATCTTACAACCAGAA\n",
      "ATGTTTGTTTTTCTTGTTTTATTGCCACTAGTCTCTAGTCAGTGTGTTAATCTTACAACCAGAA\n"
     ]
    }
   ],
   "metadata": {}
  },
  {
   "cell_type": "markdown",
   "source": [
    "## Exercise 2\r\n",
    "Now, return a new sequence (as string) with the following mutations using Python list functions:\r\n",
    "\r\n",
    "* T to G point mutation at nucleotide 6 of the sequence\r\n",
    "* change the second last codon to \"CGG\"\r\n",
    "* insert a C between nucleotide 1 and 2 of the sequence\r\n",
    "* append a polyA-repeat of 10 nucleotides to the end of the sequence"
   ],
   "metadata": {}
  },
  {
   "cell_type": "code",
   "execution_count": 8,
   "source": [
    "new_seq = list(spike)\r\n",
    "\r\n",
    "# point mutation\r\n",
    "new_seq[5] = \"G\"\r\n",
    "\r\n",
    "# replace second last codon\r\n",
    "new_seq[-3:] = \"CGG\"\r\n",
    "\r\n",
    "# insert a C between nucleotide 1 and 2\r\n",
    "new_seq.insert(1, \"C\")\r\n",
    "\r\n",
    "# append a polyA-repeat\r\n",
    "new_seq.append(\"A\"*10)\r\n",
    "\r\n",
    "print(\"old sequence:\", spike)\r\n",
    "print(\"new sequence:\", \"\".join(new_seq))"
   ],
   "outputs": [
    {
     "output_type": "stream",
     "name": "stdout",
     "text": [
      "old sequence: ATGTTTGTTTTTCTTGTTTTATTGCCACTAGTCTCTAGTCAGTGTGTTAATCTTACAACCAGAACTCAAT\n",
      "new sequence: ACTGTTGGTTTTTCTTGTTTTATTGCCACTAGTCTCTAGTCAGTGTGTTAATCTTACAACCAGAACTCCGGAAAAAAAAAA\n"
     ]
    }
   ],
   "metadata": {}
  },
  {
   "cell_type": "markdown",
   "source": [
    "## Exercise 3\r\n",
    "Let's pretend that the sequence \"ATTGCC\" is a binding motif for a specific transcription factor. Write a conditional clause that prints \"sequence contains motif\" if the motif is in the sequence and \"sequence does not contain motif\" otherwise and apply it to the spike sequence."
   ],
   "metadata": {}
  },
  {
   "cell_type": "code",
   "execution_count": 10,
   "source": [
    "sequence = spike\r\n",
    "\r\n",
    "if \"ATTGCC\" in sequence:\r\n",
    "    print(\"sequence contains motif\")\r\n",
    "else:\r\n",
    "    print(\"sequence does not contain motif\")"
   ],
   "outputs": [
    {
     "output_type": "stream",
     "name": "stdout",
     "text": [
      "sequence contains motif\n"
     ]
    }
   ],
   "metadata": {}
  }
 ],
 "metadata": {
  "orig_nbformat": 4,
  "language_info": {
   "name": "python",
   "version": "3.8.11",
   "mimetype": "text/x-python",
   "codemirror_mode": {
    "name": "ipython",
    "version": 3
   },
   "pygments_lexer": "ipython3",
   "nbconvert_exporter": "python",
   "file_extension": ".py"
  },
  "kernelspec": {
   "name": "python3",
   "display_name": "Python 3.8.11 64-bit ('test2': conda)"
  },
  "interpreter": {
   "hash": "eb7a3cc7805b647c07cd88e8371649cf687544e475bc1164b445f3249eb5ba5e"
  }
 },
 "nbformat": 4,
 "nbformat_minor": 2
}