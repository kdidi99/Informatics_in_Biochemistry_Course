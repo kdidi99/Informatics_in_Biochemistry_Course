{
 "cells": [
  {
   "cell_type": "markdown",
   "source": [
    "# Working with `.txt` and `.csv` files "
   ],
   "metadata": {}
  },
  {
   "cell_type": "markdown",
   "source": [
    "## Exercise \r\n",
    "In this one large exercise, we provide you with a file called `subcellular_location_data.csv`.  \r\n",
    "\r\n",
    "Your task is now to sort the gene names after their cellular locations. Please provide each possible cellular location in the `csv` file with a list of gene names, in a dictionary. \r\n",
    "\r\n",
    "Then, write out this dictionary as a new `csv` where the cellular location is in one column and all coresponding gene names in the other (in a large text string).\r\n",
    "\r\n",
    "\r\n",
    "Pro Tip: use `from collections import defaultdict`"
   ],
   "metadata": {}
  },
  {
   "cell_type": "code",
   "execution_count": null,
   "source": [],
   "outputs": [],
   "metadata": {}
  }
 ],
 "metadata": {
  "orig_nbformat": 4,
  "language_info": {
   "name": "python"
  }
 },
 "nbformat": 4,
 "nbformat_minor": 2
}