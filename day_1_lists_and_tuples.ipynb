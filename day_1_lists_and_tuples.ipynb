{
 "cells": [
  {
   "cell_type": "markdown",
   "metadata": {},
   "source": [
    "# Day 1: Lists and Tuples\n",
    "Just dealing with single values as we did before will not get us very far. We will therefore move on to Python's built-in *sequential data types* that are capable of storing multiple values. The main sequential data types in Python are **tuples** and **lists** and it should also be noted that strings can behave like sequential data types in some aspects (because a string essentially also stores multiple single characters)."
   ]
  },
  {
   "cell_type": "markdown",
   "metadata": {},
   "source": [
    "## Creating lists and tuples\n",
    "Lists are among the most useful and frequently used data types in Python. A list can store any kind of objects, even other sequential data types, and list elements can be easily accessed and manipulated. We define lists with the bracket `[]` operator or the `list()` function."
   ]
  },
  {
   "cell_type": "code",
   "execution_count": 25,
   "metadata": {},
   "outputs": [
    {
     "name": "stdout",
     "output_type": "stream",
     "text": [
      "[1, 2, 3]\n",
      "['A', 'B', 3, 4.5]\n",
      "['a list of lists', [1, 2, 3], ['A', 'B', 3, 4.5]]\n",
      "['A', 'B', 3, 4]\n",
      "['A', 'T', 'T', 'G', 'C', 'T', 'T']\n"
     ]
    }
   ],
   "source": [
    "lst1 = [1,2,3]\n",
    "lst2 = [\"A\", \"B\", 3, 4.5]\n",
    "lst3 = [\"a list of lists\", lst1, lst2]\n",
    "\n",
    "# list() function\n",
    "lst4 = list((\"A\", \"B\", 3, 4))\n",
    "\n",
    "# string -> list conversion\n",
    "lst5 = list(\"ATTGCTT\")\n",
    "\n",
    "# a useful trick for the print() function is to use its sep argument with the newline character \"\\n\"\n",
    "# to print each object to a new line\n",
    "print(lst1, lst2, lst3, lst4, lst5, sep = \"\\n\")"
   ]
  },
  {
   "cell_type": "markdown",
   "metadata": {},
   "source": [
    "As we've seen above, we can easily split a string into a list, but we can also convert a list into a string with the `.join()` function with the syntax {separator}`.join(`list`)`"
   ]
  },
  {
   "cell_type": "code",
   "execution_count": 47,
   "metadata": {},
   "outputs": [
    {
     "name": "stdout",
     "output_type": "stream",
     "text": [
      "['A', 'T', 'G', 'G', 'T', 'T', 'T', 'A', 'C', 'T', 'G']\n",
      "ATGGTTTACTG\n",
      "A; T; G; G; T; T; T; A; C; T; G\n",
      "['A', 'T', 'G', 'G', 'T', 'T', 'T', 'A', 'C', 'T', 'G']\n"
     ]
    }
   ],
   "source": [
    "# convert string into list\n",
    "sequence = \"ATGGTTTACTG\"\n",
    "lst = list(sequence)\n",
    "print(lst)\n",
    "\n",
    "# convert list into string with custom separator\n",
    "str1 = \"\".join(lst)\n",
    "str2 = \"; \".join(lst)\n",
    "\n",
    "print(str1, str2, sep = \"\\n\")\n",
    "\n",
    "# this also works but is usually not what we want\n",
    "str3 = str(lst)\n",
    "print(str3)"
   ]
  },
  {
   "cell_type": "markdown",
   "metadata": {},
   "source": [
    "Tuples are very similar to lists, with the only difference that we can't change them after their creation - they are **immutable**, while lists are **mutable** (we will see examples for that soon). Under the hood his makes data storage of tuples more efficient and code involving tuples is a little faster. Those differences only start to matter for very large data frames or complex programs, so we will just use lists for everything in this course.\n",
    "\n",
    "We define tuples with comma-separated values where we usually put round brackets `()` around them for clarity, although they are technically not always needed. Alternatively, we can use the `tuple()` function."
   ]
  },
  {
   "cell_type": "code",
   "execution_count": 24,
   "metadata": {},
   "outputs": [
    {
     "name": "stdout",
     "output_type": "stream",
     "text": [
      "(1, 2, 'A', 3.5)\n",
      "(3, 1, ['A', 'B'])\n",
      "(1, 2, 'A', 3.5)\n",
      "(1, 2, 3)\n",
      "('A', 'T', 'T', 'G', 'C', 'T', 'T')\n"
     ]
    }
   ],
   "source": [
    "# this is usually how you define a tuple\n",
    "tup1 = (1, 2, \"A\", 3.5)\n",
    "tup2 = tuple((3, 1, [\"A\", \"B\"]))\n",
    "\n",
    "# this also works\n",
    "tup3 = 1, 2, \"A\", 3.5\n",
    "\n",
    "# we can easily convert lists or strings to tuples\n",
    "lst = [1, 2, 3]\n",
    "tup4 = tuple(lst)\n",
    "tup5 = tuple(\"ATTGCTT\")\n",
    "\n",
    "print(tup1, tup2, tup3, tup4, tup5, sep = \"\\n\")"
   ]
  },
  {
   "cell_type": "markdown",
   "metadata": {},
   "source": [
    "## Indexing\n",
    "When dealing with lists or tuples we often want to access specific items. For this, we can use the index operator `[]` to either select single values or subsets of the list (= *slicing*):\n",
    "\n",
    "* `[index]`: get element at specified index (the first position is defined as 0)\n",
    "* `[start:stop]`: get all elements between position start and stop (stop itself is not included)\n",
    "* `[start:stop:step]`: get all elements between position start and stop with a specific step size\n",
    "\n",
    "Some useful tricks:\n",
    "\n",
    "* You can also index from the end by putting a `-` in front of the index. The last element would be -1, the second last -2 and so on.\n",
    "* If start or stop are not specified, they will be set to the first index, or last index + 1, respectively (see examples)"
   ]
  },
  {
   "cell_type": "code",
   "execution_count": 19,
   "metadata": {},
   "outputs": [
    {
     "name": "stdout",
     "output_type": "stream",
     "text": [
      "['A', 'T', 'C', 'G', 'T', 'T', 'C', 'G', 'T', 'A', 'A', 'G', 'C', 'T', 'G', 'A', 'A', 'T', 'C', 'G', 'G', 'T', 'C', 'T', 'G', 'C', 'T', 'A', 'T']\n",
      "A\n",
      "T\n",
      "['A', 'T', 'C', 'G', 'T', 'T', 'C', 'G', 'T', 'A', 'A', 'G', 'C']\n",
      "['A', 'T', 'C', 'G', 'T', 'T', 'C', 'G', 'T', 'A', 'A', 'G', 'C']\n",
      "['T', 'T', 'C', 'G', 'T', 'A', 'A', 'G', 'C', 'T', 'G', 'A', 'A', 'T', 'C', 'G', 'G', 'T', 'C', 'T', 'G', 'C', 'T', 'A', 'T']\n",
      "['T', 'T', 'C', 'G', 'T', 'A', 'A', 'G', 'C', 'T', 'G', 'A', 'A', 'T', 'C', 'G', 'G', 'T', 'C', 'T', 'G', 'C', 'T', 'A', 'T']\n",
      "['A', 'C', 'T', 'C', 'T', 'A', 'C', 'G', 'A', 'C', 'G', 'C', 'G', 'T', 'T']\n",
      "['A', 'T', 'C', 'G', 'T', 'T', 'C', 'G', 'T', 'A', 'A', 'G', 'C', 'T', 'G', 'A', 'A', 'T', 'C', 'G', 'G', 'T', 'C', 'T', 'G', 'C', 'T']\n"
     ]
    }
   ],
   "source": [
    "sequence = list(\"ATCGTTCGTAAGCTGAATCGGTCTGCTAT\")\n",
    "print(sequence)\n",
    "\n",
    "# first element\n",
    "print(sequence[0])\n",
    "\n",
    "# last element\n",
    "print(sequence[-1])\n",
    "\n",
    "# all elements up to the 13th\n",
    "print(sequence[0:13]) # or...\n",
    "print(sequence[:13])\n",
    "\n",
    "# all elements from the 5th on\n",
    "print(sequence[4:29]) # or...\n",
    "print(sequence[4:])\n",
    "\n",
    "# only each second element\n",
    "print(sequence[::2])\n",
    "\n",
    "# all elements except the last 2\n",
    "print(sequence[:-2])"
   ]
  },
  {
   "cell_type": "markdown",
   "metadata": {},
   "source": [
    "We can also use index operators with strings:"
   ]
  },
  {
   "cell_type": "code",
   "execution_count": 43,
   "metadata": {},
   "outputs": [
    {
     "name": "stdout",
     "output_type": "stream",
     "text": [
      "ATG\n"
     ]
    }
   ],
   "source": [
    "sequence = \"ATGCTGGGTTCT\"\n",
    "print(sequence[:3])"
   ]
  },
  {
   "cell_type": "markdown",
   "metadata": {},
   "source": [
    "### Specific methods and functions\n",
    "Python contains many functions dedicated to working with lists. You usually use them in the form `mylist.function()` and if the function requires an argument to be specified you just write it between the parentheses. The most interesting ones for us are listed below:\n",
    "\n",
    "**Adding/removing values:**\n",
    "* `.append()`: add an element to the end of the list\n",
    "* `+` or `.extend()`: add the elements of a list to another list\n",
    "* list `*` n: replicate the list n times\n",
    "* `.insert()`: inserts an element at the specified index\n",
    "* `.pop()`: removes an element at the specified index\n",
    "* `.remove()`: remove the first occurence of an item\n",
    "* list`[`index`] = `value: assign new items to the specified indexes\n",
    "\n",
    "**Finding elements:**\n",
    "* `.index()`: return the index of the first occurence of an item\n",
    "* `.count()`: return the number of times an item occurs in the list\n",
    "* item `in` list: returns `True` if an item is in the list, `False` if it is not\n",
    "\n",
    "**Other useful functions**\n",
    "* `.copy()`: returns a copy of the list\n",
    "* `len()`: returns the number of elements in the list (= length)"
   ]
  },
  {
   "cell_type": "markdown",
   "metadata": {},
   "source": [
    "Now, a few examples how this is implemented in code:"
   ]
  },
  {
   "cell_type": "code",
   "execution_count": 2,
   "metadata": {},
   "outputs": [
    {
     "name": "stdout",
     "output_type": "stream",
     "text": [
      "ATGCGGGTAATCGTA-AAATTTCCC\n",
      "ATGCGGGTAATCGTA-AAATTTCCCATGCGGGTAATCGTA-AAATTTCCCATGCGGGTAATCGTA-AAATTTCCC\n",
      "AGTGCGGGTAATCGTA-AAATTTCCC\n",
      "ATGCGGGTAATCGTA-AAATTTCCC\n",
      "AGGGGTAATCGTA-AAATTTCCC\n"
     ]
    }
   ],
   "source": [
    "## Adding/removing values:\n",
    "sequence = list(\"ATGCGGGTAATCGTA-\")\n",
    "\n",
    "# add the sequences \"AAA\", \"TTT\", \"CCC\" using three different methods\n",
    "sequence.append(\"A\"*3)\n",
    "sequence.extend([\"T\", \"T\", \"T\"]) # more elegant: sequence.extend(list(\"TTT\"))\n",
    "sequence = sequence + [\"C\", \"C\", \"C\"]\n",
    "\n",
    "print(\"\".join(sequence))\n",
    "\n",
    "# replicate the list 3 times\n",
    "print(\"\".join(sequence * 3))\n",
    "\n",
    "# insert a G at the second position (remember: indexes start at 0 in Python)\n",
    "sequence.insert(1, \"G\")\n",
    "print(\"\".join(sequence))\n",
    "\n",
    "# remove the inserted G from the sequence\n",
    "sequence.pop(1)\n",
    "print(\"\".join(sequence))\n",
    "\n",
    "# change nucleotides 2-4 to Gs\n",
    "sequence[1:4] = \"G\"\n",
    "print(\"\".join(sequence))"
   ]
  },
  {
   "cell_type": "code",
   "execution_count": 14,
   "metadata": {},
   "outputs": [
    {
     "name": "stdout",
     "output_type": "stream",
     "text": [
      "2\n",
      "10\n",
      "True\n"
     ]
    },
    {
     "data": {
      "text/plain": [
       "True"
      ]
     },
     "execution_count": 14,
     "metadata": {},
     "output_type": "execute_result"
    }
   ],
   "source": [
    "## Finding elements\n",
    "sequence = list(\"TTCGTTTCTGCTGATGCTT\")\n",
    "\n",
    "# position of the first C\n",
    "print(sequence.index(\"C\"))\n",
    "\n",
    "# how many Ts are in the sequence?\n",
    "print(sequence.count(\"T\"))\n",
    "\n",
    "# do we have an A in the sequence?\n",
    "print(\"A\" in sequence)\n",
    "\n",
    "# tip: this also works for strings\n",
    "\"A\" in \"TCGTTTA\""
   ]
  },
  {
   "cell_type": "code",
   "execution_count": 17,
   "metadata": {},
   "outputs": [
    {
     "name": "stdout",
     "output_type": "stream",
     "text": [
      "24\n",
      "TCGAGGGTCGATCGGGTCGAAGCT\n",
      "TCGAGGGTCGATCGGGTCGAAGCT-TTTAAAGGG\n"
     ]
    }
   ],
   "source": [
    "## Other useful functions\n",
    "sequence = list(\"TCGAGGGTCGATCGGGTCGAAGCT\")\n",
    "\n",
    "# how long is our sequence?\n",
    "print(len(sequence))\n",
    "\n",
    "# copying the sequence and modifying it without changing the original\n",
    "sequence2 = sequence.copy()\n",
    "sequence2.extend(list(\"-TTTAAAGGG\"))\n",
    "\n",
    "print(\"\".join(sequence), \"\".join(sequence2), sep = \"\\n\")"
   ]
  }
 ],
 "metadata": {
  "interpreter": {
   "hash": "eb7a3cc7805b647c07cd88e8371649cf687544e475bc1164b445f3249eb5ba5e"
  },
  "kernelspec": {
   "display_name": "Python 3.8.11 64-bit ('test2': conda)",
   "name": "python3"
  },
  "language_info": {
   "codemirror_mode": {
    "name": "ipython",
    "version": 3
   },
   "file_extension": ".py",
   "mimetype": "text/x-python",
   "name": "python",
   "nbconvert_exporter": "python",
   "pygments_lexer": "ipython3",
   "version": "3.8.11"
  },
  "orig_nbformat": 4
 },
 "nbformat": 4,
 "nbformat_minor": 2
}
