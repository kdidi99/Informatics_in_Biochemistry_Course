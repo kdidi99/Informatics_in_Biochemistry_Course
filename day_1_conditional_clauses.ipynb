{
 "cells": [
  {
   "cell_type": "markdown",
   "source": [
    "# Boolean Operators and Conditions"
   ],
   "metadata": {}
  },
  {
   "cell_type": "markdown",
   "source": [
    "## Boolean operators\r\n",
    "\r\n",
    "A boolean value is either `True` or `False`. We can get a boolean value by using a boolean expression. \r\n",
    "In an boolean expression we use operators. An example would be `5 > 4` which would be evaluated as `True`.   "
   ],
   "metadata": {}
  },
  {
   "cell_type": "code",
   "execution_count": 4,
   "source": [
    "print(True and False)\r\n",
    "print(True or False)"
   ],
   "outputs": [
    {
     "output_type": "stream",
     "name": "stdout",
     "text": [
      "False\n",
      "True\n"
     ]
    }
   ],
   "metadata": {}
  },
  {
   "cell_type": "markdown",
   "source": [
    "## Comparison operators\r\n",
    "\r\n",
    "`==` : Are they the same ? (do not use `=` because this means assignment) \r\n",
    "`!=` : Are they not the same? \r\n",
    "`>`  : Greater than \r\n",
    "`<`  : Less than\r\n",
    "`>`  : Greater than\r\n",
    "`<=` : Less than or equal to\r\n",
    "`>=` : Greater than or equal to  \r\n"
   ],
   "metadata": {}
  },
  {
   "cell_type": "code",
   "execution_count": 1,
   "source": [
    "# Compare the number of genes \r\n",
    "\r\n",
    "human = 21000 #homo sapiens\r\n",
    "rice = 38000  #oryza sativa\r\n",
    "\r\n",
    "print(human == rice) \r\n",
    "print(human != rice)\r\n",
    "print('*' * 20)\r\n",
    "print(rice > human) \r\n",
    "print(rice > rice)\r\n",
    "print(human > rice)\r\n",
    "print(human < rice)\r\n",
    "print('*' * 20)\r\n",
    "print(rice >= human)\r\n",
    "print(human >= human)\r\n",
    "print(human <= rice)\r\n",
    " \r\n"
   ],
   "outputs": [
    {
     "output_type": "stream",
     "name": "stdout",
     "text": [
      "False\n",
      "True\n"
     ]
    }
   ],
   "metadata": {}
  },
  {
   "cell_type": "code",
   "execution_count": null,
   "source": [
    "#Compare the age of your fellow students\r\n",
    "\r\n",
    "if human > rice:\r\n",
    "    print(\"Human has more genes than rice\")\r\n",
    "else:\r\n",
    "    print(\"Rice has more genes than human\")"
   ],
   "outputs": [],
   "metadata": {}
  }
 ],
 "metadata": {
  "orig_nbformat": 4,
  "language_info": {
   "name": "python",
   "version": "3.8.3",
   "mimetype": "text/x-python",
   "codemirror_mode": {
    "name": "ipython",
    "version": 3
   },
   "pygments_lexer": "ipython3",
   "nbconvert_exporter": "python",
   "file_extension": ".py"
  },
  "kernelspec": {
   "name": "python3",
   "display_name": "Python 3.8.3 64-bit (conda)"
  },
  "interpreter": {
   "hash": "b3ba2566441a7c06988d0923437866b63cedc61552a5af99d1f4fb67d367b25f"
  }
 },
 "nbformat": 4,
 "nbformat_minor": 2
}