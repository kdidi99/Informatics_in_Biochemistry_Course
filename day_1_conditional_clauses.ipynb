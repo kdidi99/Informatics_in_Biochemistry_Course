{
 "cells": [
  {
   "cell_type": "markdown",
   "source": [
    "# Boolean Operators and Conditions"
   ],
   "metadata": {}
  },
  {
   "cell_type": "markdown",
   "source": [
    "## Boolean operators\r\n",
    "\r\n",
    "A boolean value is either `True` or `False`. We can get a boolean value by using a boolean expression. \r\n",
    "In a boolean expression we use operators. An example would be `True or False` which would be evaluated as `True`.   "
   ],
   "metadata": {}
  },
  {
   "cell_type": "code",
   "execution_count": 8,
   "source": [
    "print(True and False)\r\n",
    "print(True or False)\r\n",
    "print( not True)"
   ],
   "outputs": [
    {
     "output_type": "stream",
     "name": "stdout",
     "text": [
      "False\n",
      "True\n",
      "False\n"
     ]
    }
   ],
   "metadata": {}
  },
  {
   "cell_type": "markdown",
   "source": [
    "## Comparison operators\r\n",
    "To compare the value of variables we need comparison operators. Below is a list of them used in python:\r\n",
    "\r\n",
    "\r\n",
    "`==` : Are they the same ? (do not use `=` because this means assignment) \\\r\n",
    "`!=` : Are they not the same? \\\r\n",
    "`>`  : Greater than \\\r\n",
    "`<`  : Less than \\\r\n",
    "`>`  : Greater than \\\r\n",
    "`<=` : Less than or equal to \\\r\n",
    "`>=` : Greater than or equal to \r\n",
    "\r\n",
    "In the example below we use a number of comparison operators to compare the number of genes between human and rice.\r\n"
   ],
   "metadata": {}
  },
  {
   "cell_type": "code",
   "execution_count": 10,
   "source": [
    "# Compare the number of genes \r\n",
    "\r\n",
    "human = 21000 #homo sapiens\r\n",
    "rice = 38000  #oryza sativa\r\n",
    "\r\n",
    "print(human == rice) \r\n",
    "print(human != rice)\r\n",
    "print('*' * 20)\r\n",
    "print(rice > human) \r\n",
    "print(rice > rice)\r\n",
    "print(human > rice)\r\n",
    "print(human < rice)\r\n",
    "print('*' * 20)\r\n",
    "print(rice >= human)\r\n",
    "print(human >= human)\r\n",
    "print(human <= rice)"
   ],
   "outputs": [
    {
     "output_type": "stream",
     "name": "stdout",
     "text": [
      "False\n",
      "True\n",
      "********************\n",
      "True\n",
      "False\n",
      "False\n",
      "True\n",
      "********************\n",
      "True\n",
      "True\n",
      "True\n"
     ]
    }
   ],
   "metadata": {}
  },
  {
   "cell_type": "markdown",
   "source": [
    "## Conditions\r\n",
    "To compare variables we can use conditional arguments to control our program flow. The first condition is stated with an `if` clause. If this clause is `False`, you can use `else` to specify what to do at the end."
   ],
   "metadata": {}
  },
  {
   "cell_type": "code",
   "execution_count": 3,
   "source": [
    "#Compare the number of genes \r\n",
    "if human > rice:\r\n",
    "    print(\"Human has more genes than rice\")\r\n",
    "else:\r\n",
    "    print(\"Rice has more genes than human\")"
   ],
   "outputs": [
    {
     "output_type": "stream",
     "name": "stdout",
     "text": [
      "Rice has more genes than human\n"
     ]
    }
   ],
   "metadata": {}
  },
  {
   "cell_type": "markdown",
   "source": [
    "In order to avoid using always a new `if else` expression, we can use `elif` to add an additional `if` conditional statement. It is an  We can use as many `elif` as you want. You need an `if` statement before to initiate the conditional flow."
   ],
   "metadata": {}
  },
  {
   "cell_type": "code",
   "execution_count": 11,
   "source": [
    "a = 5\r\n",
    "b = 4\r\n",
    "c = 7\r\n",
    "\r\n",
    "if a > c: \r\n",
    "    print(\"a > c\")\r\n",
    "elif b > a:\r\n",
    "    print(\"b > a\")\r\n",
    "elif a == c:\r\n",
    "    print(\"a == c\")\r\n",
    "else:\r\n",
    "    print(\"No condition was TRUE\")"
   ],
   "outputs": [
    {
     "output_type": "stream",
     "name": "stdout",
     "text": [
      "No condition was TRUE\n"
     ]
    }
   ],
   "metadata": {}
  },
  {
   "cell_type": "markdown",
   "source": [
    "### Nested boolean conditions\r\n",
    "We now can combine boolean expressions and comparison operators to check the validity of arguments. With this, we can create complex logical operations in our programs."
   ],
   "metadata": {}
  },
  {
   "cell_type": "code",
   "execution_count": 5,
   "source": [
    "if ( a > b and c > a ) == True:\r\n",
    "    print(\"Hooray\")\r\n",
    "else: \r\n",
    "    print(\"Sadness\")"
   ],
   "outputs": [
    {
     "output_type": "stream",
     "name": "stdout",
     "text": [
      "Hooray\n"
     ]
    }
   ],
   "metadata": {}
  },
  {
   "cell_type": "code",
   "execution_count": 9,
   "source": [
    "if ( a > b or c < a ) == False:\r\n",
    "    print(\"Hooray\")\r\n",
    "else: \r\n",
    "    print(\"Sadness\")"
   ],
   "outputs": [
    {
     "output_type": "stream",
     "name": "stdout",
     "text": [
      "Sadness\n"
     ]
    }
   ],
   "metadata": {}
  }
 ],
 "metadata": {
  "orig_nbformat": 4,
  "language_info": {
   "name": "python",
   "version": "3.8.3",
   "mimetype": "text/x-python",
   "codemirror_mode": {
    "name": "ipython",
    "version": 3
   },
   "pygments_lexer": "ipython3",
   "nbconvert_exporter": "python",
   "file_extension": ".py"
  },
  "kernelspec": {
   "name": "python3",
   "display_name": "Python 3.8.3 64-bit ('base': conda)"
  },
  "interpreter": {
   "hash": "b3ba2566441a7c06988d0923437866b63cedc61552a5af99d1f4fb67d367b25f"
  }
 },
 "nbformat": 4,
 "nbformat_minor": 2
}