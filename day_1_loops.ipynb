{
 "cells": [
  {
   "cell_type": "markdown",
   "source": [
    "# Day 1: Loops"
   ],
   "metadata": {}
  },
  {
   "cell_type": "markdown",
   "source": [
    "Loops are essential to process large amounts of data. With loops you can search through strings, lists, sets, dictionarys and many more. The most relevant loopis the `for` loop."
   ],
   "metadata": {}
  },
  {
   "cell_type": "code",
   "execution_count": 1,
   "source": [
    "for amino_acid in \"TEWQIPFV\":\r\n",
    "    print(amino_acid)"
   ],
   "outputs": [
    {
     "output_type": "stream",
     "name": "stdout",
     "text": [
      "T\n",
      "E\n",
      "W\n",
      "Q\n",
      "I\n",
      "P\n",
      "F\n",
      "V\n"
     ]
    }
   ],
   "metadata": {}
  },
  {
   "cell_type": "markdown",
   "source": [
    "The loop stops when it has processes every character in the protein sequence above.\r\n",
    "With the `range()` expression you can define how often a command is executed:"
   ],
   "metadata": {}
  },
  {
   "cell_type": "code",
   "execution_count": 5,
   "source": [
    "for i in range(10):\r\n",
    "    print(i)"
   ],
   "outputs": [
    {
     "output_type": "stream",
     "name": "stdout",
     "text": [
      "0\n",
      "1\n",
      "2\n",
      "3\n",
      "4\n",
      "5\n",
      "6\n",
      "7\n",
      "8\n",
      "9\n"
     ]
    }
   ],
   "metadata": {}
  },
  {
   "cell_type": "code",
   "execution_count": 3,
   "source": [
    "for i in range(10):\r\n",
    "    print(\"Hello World!\")"
   ],
   "outputs": [
    {
     "output_type": "stream",
     "name": "stdout",
     "text": [
      "Hello World!\n",
      "Hello World!\n",
      "Hello World!\n",
      "Hello World!\n",
      "Hello World!\n",
      "Hello World!\n",
      "Hello World!\n",
      "Hello World!\n",
      "Hello World!\n",
      "Hello World!\n"
     ]
    }
   ],
   "metadata": {}
  },
  {
   "cell_type": "markdown",
   "source": [
    "When we combine loops with conditionals, we can create very useful applications. In the example below we want to count the number of thymines present in the genetic sequence:"
   ],
   "metadata": {}
  },
  {
   "cell_type": "code",
   "execution_count": 4,
   "source": [
    "genetic_sequence = 'TTAATCTTGTGATACGATATGAGA'\r\n",
    "T_count = 0\r\n",
    "\r\n",
    "for nucleotide in genetic_sequence:\r\n",
    "    if nucleotide == 'T':\r\n",
    "        T_count += 1\r\n",
    "        \r\n",
    "print(T_count)"
   ],
   "outputs": [
    {
     "output_type": "stream",
     "name": "stdout",
     "text": [
      "9\n"
     ]
    }
   ],
   "metadata": {}
  },
  {
   "cell_type": "markdown",
   "source": [
    " `for` loops can not run forever, because you need to define an end point (length of a list, string or `range()` statement). \r\n",
    " `while` loops are different, since they stop only if a condition chosen by you is `True`"
   ],
   "metadata": {}
  },
  {
   "cell_type": "code",
   "execution_count": 6,
   "source": [
    "number = 0\r\n",
    "\r\n",
    "while number < 10:\r\n",
    "    print(number)\r\n",
    "    number = number + 1 "
   ],
   "outputs": [
    {
     "output_type": "stream",
     "name": "stdout",
     "text": [
      "0\n",
      "1\n",
      "2\n",
      "3\n",
      "4\n",
      "5\n",
      "6\n",
      "7\n",
      "8\n",
      "9\n"
     ]
    }
   ],
   "metadata": {}
  },
  {
   "cell_type": "markdown",
   "source": [
    "If you want to count thymine nucleotides, you can actually rewrite the program above with a `while` loop:\r\n",
    "\r\n",
    "Sidenote: the expression `i += 1` is equivalent to `i = i + 1`"
   ],
   "metadata": {}
  },
  {
   "cell_type": "code",
   "execution_count": 9,
   "source": [
    "T_count_while = 0 \r\n",
    "i = 0 \r\n",
    "\r\n",
    "while i < len(genetic_sequence):\r\n",
    "    if genetic_sequence[i] == \"T\":\r\n",
    "        T_count_while += 1 \r\n",
    "    i += 1\r\n",
    "\r\n",
    "print(T_count_while)\r\n",
    "#Are the T_counts equal for both loops?\r\n",
    "print(T_count_while, T_count)\r\n",
    "print(i, len(genetic_sequence))"
   ],
   "outputs": [
    {
     "output_type": "stream",
     "name": "stdout",
     "text": [
      "9\n",
      "9 9\n",
      "24 24\n"
     ]
    }
   ],
   "metadata": {}
  },
  {
   "cell_type": "markdown",
   "source": [
    "It is also possible to have indefinite while loops (we use the `time` package to slow down the execution). We use the `break` statement to stop the loop execution."
   ],
   "metadata": {}
  },
  {
   "cell_type": "code",
   "execution_count": 15,
   "source": [
    "import time\r\n",
    "\r\n",
    "i = 0 \r\n",
    "\r\n",
    "while True:\r\n",
    "    i += 1\r\n",
    "    print(i)\r\n",
    "    time.sleep(0.5)\r\n",
    "    if i == 21:\r\n",
    "        break"
   ],
   "outputs": [
    {
     "output_type": "stream",
     "name": "stdout",
     "text": [
      "1\n",
      "2\n",
      "3\n",
      "4\n",
      "5\n",
      "6\n",
      "7\n",
      "8\n",
      "9\n",
      "10\n",
      "11\n",
      "12\n",
      "13\n",
      "14\n",
      "15\n",
      "16\n",
      "17\n",
      "18\n",
      "19\n",
      "20\n",
      "21\n"
     ]
    }
   ],
   "metadata": {}
  },
  {
   "cell_type": "markdown",
   "source": [
    "If we run the program without the `if` statement, it would run indefinitely. Finally, the computer would stop the program or crash. Therefore: be careful with your `while` loops.\r\n",
    "\r\n",
    "Filling up lists with loops is easy. To create a list of numbers from 0-9 just use:"
   ],
   "metadata": {}
  },
  {
   "cell_type": "code",
   "execution_count": 22,
   "source": [
    "int_list = []\r\n",
    "for i in range(10):\r\n",
    "    int_list.append(i)\r\n",
    "print(int_list)"
   ],
   "outputs": [
    {
     "output_type": "stream",
     "name": "stdout",
     "text": [
      "[0, 1, 2, 3, 4, 5, 6, 7, 8, 9]\n"
     ]
    }
   ],
   "metadata": {}
  },
  {
   "cell_type": "markdown",
   "source": [
    "You often use loops to search through lists or strings. If you have a list of strings, you can even search through each individual string in a second loop. "
   ],
   "metadata": {}
  },
  {
   "cell_type": "code",
   "execution_count": 16,
   "source": [
    "list_of_primers = [\"CGCAAATGGGCGGTAGGCGTG\",\"GACTATCATATGCTTACCGT\",\"CAGGAAACAGCTATGAC\"]\r\n",
    "list_of_t_counts = []\r\n",
    "\r\n",
    "for sequence in list_of_primers:\r\n",
    "    t_count = 0\r\n",
    "    for nucleotide in sequence:\r\n",
    "        if nucleotide == 'T':\r\n",
    "            t_count += 1\r\n",
    "    list_of_t_counts.append(t_count)\r\n",
    "\r\n",
    "print(list_of_t_counts) "
   ],
   "outputs": [
    {
     "output_type": "stream",
     "name": "stdout",
     "text": [
      "[3, 7, 2]\n"
     ]
    }
   ],
   "metadata": {}
  },
  {
   "cell_type": "markdown",
   "source": [
    "It would be better if we could directly combine the primers with their respective t_count. For that, we use the `zip()` function. We need to put the `zip`\r\n",
    "output in a new list, then we can print it. This combines both lists into one, creating tuples in a list.  "
   ],
   "metadata": {}
  },
  {
   "cell_type": "code",
   "execution_count": 19,
   "source": [
    "list(zip(list_of_primers, list_of_t_counts))"
   ],
   "outputs": [
    {
     "output_type": "execute_result",
     "data": {
      "text/plain": [
       "[('CGCAAATGGGCGGTAGGCGTG', 3),\n",
       " ('GACTATCATATGCTTACCGT', 7),\n",
       " ('CAGGAAACAGCTATGAC', 2)]"
      ]
     },
     "metadata": {},
     "execution_count": 19
    }
   ],
   "metadata": {}
  },
  {
   "cell_type": "markdown",
   "source": [
    "We could also create a `dictionary` with keys and values:"
   ],
   "metadata": {}
  },
  {
   "cell_type": "code",
   "execution_count": 20,
   "source": [
    "dict(zip(list_of_primers, list_of_t_counts))"
   ],
   "outputs": [
    {
     "output_type": "execute_result",
     "data": {
      "text/plain": [
       "{'CGCAAATGGGCGGTAGGCGTG': 3, 'GACTATCATATGCTTACCGT': 7, 'CAGGAAACAGCTATGAC': 2}"
      ]
     },
     "metadata": {},
     "execution_count": 20
    }
   ],
   "metadata": {}
  },
  {
   "cell_type": "markdown",
   "source": [
    "Sometimes it is necessary to combine the elements of a list into one string. In the example below we use the `.join()` function to \r\n",
    "create a RNA sequence out of RNA characters in a list:"
   ],
   "metadata": {}
  },
  {
   "cell_type": "code",
   "execution_count": 23,
   "source": [
    "rna_letters = ['U', 'C', 'G', 'U', 'G', 'U', 'C', 'A', 'G', 'U', 'G', 'A', 'G', 'A', 'C']\r\n",
    "rna_sequence = \"\".join(rna_letters)\r\n",
    "\r\n",
    "print(rna_sequence)\r\n"
   ],
   "outputs": [
    {
     "output_type": "stream",
     "name": "stdout",
     "text": [
      "UCGUGUCAGUGAGAC\n"
     ]
    }
   ],
   "metadata": {}
  },
  {
   "cell_type": "markdown",
   "source": [
    "We can control what comes in between the characters by defining a string before the `.join` statement."
   ],
   "metadata": {}
  },
  {
   "cell_type": "code",
   "execution_count": 24,
   "source": [
    "rna_sequence = \"____\".join(rna_letters)\r\n",
    "print(rna_sequence)"
   ],
   "outputs": [
    {
     "output_type": "stream",
     "name": "stdout",
     "text": [
      "U____C____G____U____G____U____C____A____G____U____G____A____G____A____C\n"
     ]
    }
   ],
   "metadata": {}
  }
 ],
 "metadata": {
  "orig_nbformat": 4,
  "language_info": {
   "name": "python",
   "version": "3.8.3",
   "mimetype": "text/x-python",
   "codemirror_mode": {
    "name": "ipython",
    "version": 3
   },
   "pygments_lexer": "ipython3",
   "nbconvert_exporter": "python",
   "file_extension": ".py"
  },
  "kernelspec": {
   "name": "python3",
   "display_name": "Python 3.8.3 64-bit ('base': conda)"
  },
  "interpreter": {
   "hash": "b3ba2566441a7c06988d0923437866b63cedc61552a5af99d1f4fb67d367b25f"
  }
 },
 "nbformat": 4,
 "nbformat_minor": 2
}