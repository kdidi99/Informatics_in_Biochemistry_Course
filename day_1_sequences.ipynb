{
 "cells": [
  {
   "cell_type": "markdown",
   "source": [
    "# Day 1: Lists and Tuples\r\n",
    "Just dealing with single values as we did before will not get us very far. We will therefore move on to Python's built-in *sequential data types* that are capable of storing multiple values. The main sequential data types in Python are **tuples** and **lists** and it should also be noted that strings can behave like sequential data types in some aspects (because a string essentially also stores multiple characters)."
   ],
   "metadata": {}
  },
  {
   "cell_type": "markdown",
   "source": [
    "## Creating lists and tuples\r\n",
    "Lists are among the most useful and frequently used data types in Python. A list can store any kind of objects, even other sequential data types, and list elements can be easily accessed and manipulated. We define lists with the bracket `[]` operator or the `list()` function."
   ],
   "metadata": {}
  },
  {
   "cell_type": "code",
   "execution_count": 25,
   "source": [
    "lst1 = [1,2,3]\r\n",
    "lst2 = [\"A\", \"B\", 3, 4.5]\r\n",
    "lst3 = [\"a list of lists\", lst1, lst2]\r\n",
    "\r\n",
    "# list() function\r\n",
    "lst4 = list((\"A\", \"B\", 3, 4))\r\n",
    "\r\n",
    "# string -> list conversion\r\n",
    "lst5 = list(\"ATTGCTT\")\r\n",
    "\r\n",
    "# a useful trick for the print() function is to use its sep argument with the newline character \"\\n\"\r\n",
    "# to print each object to a new line\r\n",
    "print(lst1, lst2, lst3, lst4, lst5, sep = \"\\n\")"
   ],
   "outputs": [
    {
     "output_type": "stream",
     "name": "stdout",
     "text": [
      "[1, 2, 3]\n",
      "['A', 'B', 3, 4.5]\n",
      "['a list of lists', [1, 2, 3], ['A', 'B', 3, 4.5]]\n",
      "['A', 'B', 3, 4]\n",
      "['A', 'T', 'T', 'G', 'C', 'T', 'T']\n"
     ]
    }
   ],
   "metadata": {}
  },
  {
   "cell_type": "markdown",
   "source": [
    "As we've seen above, we can easily split a string into a list, but we can also convert a list into a string with the `.join()` function with the syntax {separator}`.join(`list`)`"
   ],
   "metadata": {}
  },
  {
   "cell_type": "code",
   "execution_count": 47,
   "source": [
    "# convert string into list\r\n",
    "sequence = \"ATGGTTTACTG\"\r\n",
    "lst = list(sequence)\r\n",
    "print(lst)\r\n",
    "\r\n",
    "# convert list into string with custom separator\r\n",
    "str1 = \"\".join(lst)\r\n",
    "str2 = \"; \".join(lst)\r\n",
    "\r\n",
    "print(str1, str2, sep = \"\\n\")\r\n",
    "\r\n",
    "# this also works but is usually not what we want\r\n",
    "str3 = str(lst)\r\n",
    "print(str3)"
   ],
   "outputs": [
    {
     "output_type": "stream",
     "name": "stdout",
     "text": [
      "['A', 'T', 'G', 'G', 'T', 'T', 'T', 'A', 'C', 'T', 'G']\n",
      "ATGGTTTACTG\n",
      "A; T; G; G; T; T; T; A; C; T; G\n",
      "['A', 'T', 'G', 'G', 'T', 'T', 'T', 'A', 'C', 'T', 'G']\n"
     ]
    }
   ],
   "metadata": {}
  },
  {
   "cell_type": "markdown",
   "source": [
    "Tuples are very similar to lists, with the only difference that we can't change them after their creation - they are **immutable**, while lists are **mutable** (we will see examples for that soon). Under the hood his makes data storage of tuples more efficient and code involving tuples is a little faster. Those differences only start to matter for very large data frames or complex programs, so we will just use lists for everything in this course.\r\n",
    "\r\n",
    "We define tuples with comma-separated values where we usually put round brackets `()` around them for clarity, although they are technically not always needed. Alternatively, we can use the `tuple()` function."
   ],
   "metadata": {}
  },
  {
   "cell_type": "code",
   "execution_count": 24,
   "source": [
    "# this is usually how you define a tuple\r\n",
    "tup1 = (1, 2, \"A\", 3.5)\r\n",
    "tup2 = tuple((3, 1, [\"A\", \"B\"]))\r\n",
    "\r\n",
    "# this also works\r\n",
    "tup3 = 1, 2, \"A\", 3.5\r\n",
    "\r\n",
    "# we can easily convert lists or strings to tuples\r\n",
    "lst = [1, 2, 3]\r\n",
    "tup4 = tuple(lst)\r\n",
    "tup5 = tuple(\"ATTGCTT\")\r\n",
    "\r\n",
    "print(tup1, tup2, tup3, tup4, tup5, sep = \"\\n\")"
   ],
   "outputs": [
    {
     "output_type": "stream",
     "name": "stdout",
     "text": [
      "(1, 2, 'A', 3.5)\n",
      "(3, 1, ['A', 'B'])\n",
      "(1, 2, 'A', 3.5)\n",
      "(1, 2, 3)\n",
      "('A', 'T', 'T', 'G', 'C', 'T', 'T')\n"
     ]
    }
   ],
   "metadata": {}
  },
  {
   "cell_type": "markdown",
   "source": [
    "## Indexing\r\n",
    "When dealing with lists or tuples we often want to access specific items. For this, we can use the index operator `[]` to either select single values or subsets of the list (= *slicing*):\r\n",
    "\r\n",
    "* `[index]`: get element at specified index (the first position is defined as 0)\r\n",
    "* `[start:stop]`: get all elements between position start and stop (stop itself is not included)\r\n",
    "* `[start:stop:step]`: get all elements between position start and stop with a specific step size\r\n",
    "\r\n",
    "Some useful tricks:\r\n",
    "\r\n",
    "* You can also index from the end by putting a `-` in front of the index. The last element would be -1, the second last -2 and so on.\r\n",
    "* If start or stop are not specified, they will be set to the first index, or last index + 1, respectively (see examples)"
   ],
   "metadata": {}
  },
  {
   "cell_type": "code",
   "execution_count": 19,
   "source": [
    "sequence = list(\"ATCGTTCGTAAGCTGAATCGGTCTGCTAT\")\r\n",
    "print(sequence)\r\n",
    "\r\n",
    "# first element\r\n",
    "print(sequence[0])\r\n",
    "\r\n",
    "# last element\r\n",
    "print(sequence[-1])\r\n",
    "\r\n",
    "# all elements up to the 13th\r\n",
    "print(sequence[0:13]) # or...\r\n",
    "print(sequence[:13])\r\n",
    "\r\n",
    "# all elements from the 5th on\r\n",
    "print(sequence[4:29]) # or...\r\n",
    "print(sequence[4:])\r\n",
    "\r\n",
    "# only each second element\r\n",
    "print(sequence[::2])\r\n",
    "\r\n",
    "# all elements except the last 2\r\n",
    "print(sequence[:-2])"
   ],
   "outputs": [
    {
     "output_type": "stream",
     "name": "stdout",
     "text": [
      "['A', 'T', 'C', 'G', 'T', 'T', 'C', 'G', 'T', 'A', 'A', 'G', 'C', 'T', 'G', 'A', 'A', 'T', 'C', 'G', 'G', 'T', 'C', 'T', 'G', 'C', 'T', 'A', 'T']\n",
      "A\n",
      "T\n",
      "['A', 'T', 'C', 'G', 'T', 'T', 'C', 'G', 'T', 'A', 'A', 'G', 'C']\n",
      "['A', 'T', 'C', 'G', 'T', 'T', 'C', 'G', 'T', 'A', 'A', 'G', 'C']\n",
      "['T', 'T', 'C', 'G', 'T', 'A', 'A', 'G', 'C', 'T', 'G', 'A', 'A', 'T', 'C', 'G', 'G', 'T', 'C', 'T', 'G', 'C', 'T', 'A', 'T']\n",
      "['T', 'T', 'C', 'G', 'T', 'A', 'A', 'G', 'C', 'T', 'G', 'A', 'A', 'T', 'C', 'G', 'G', 'T', 'C', 'T', 'G', 'C', 'T', 'A', 'T']\n",
      "['A', 'C', 'T', 'C', 'T', 'A', 'C', 'G', 'A', 'C', 'G', 'C', 'G', 'T', 'T']\n",
      "['A', 'T', 'C', 'G', 'T', 'T', 'C', 'G', 'T', 'A', 'A', 'G', 'C', 'T', 'G', 'A', 'A', 'T', 'C', 'G', 'G', 'T', 'C', 'T', 'G', 'C', 'T']\n"
     ]
    }
   ],
   "metadata": {}
  },
  {
   "cell_type": "markdown",
   "source": [
    "Note: We can also use index operators with strings:"
   ],
   "metadata": {}
  },
  {
   "cell_type": "code",
   "execution_count": 43,
   "source": [
    "sequence = \"ATGCTGGGTTCT\"\r\n",
    "print(sequence[:3])"
   ],
   "outputs": [
    {
     "output_type": "stream",
     "name": "stdout",
     "text": [
      "ATG\n"
     ]
    }
   ],
   "metadata": {}
  },
  {
   "cell_type": "markdown",
   "source": [
    "### Specific methods and functions\r\n",
    "Python contains many functions dedicated to working with lists. The most interesting ones for us are listed below:\r\n",
    "\r\n",
    "**Adding/removing values:**\r\n",
    "* `.append()`: add an element to the end of the list\r\n",
    "* `+` or `.extend()`: add the elements of a list to another list\r\n",
    "* `.insert()`: inserts an element at the specified index\r\n",
    "* `.pop()`: removes an element at the specified index\r\n",
    "* `.remove()`: remove the first occurence of an item\r\n",
    "* list`[`index`] = `value: assign new items to the specified indexes\r\n",
    "\r\n",
    "**Finding elements:**\r\n",
    "* `.index()`: return the index of the first occurence of an item\r\n",
    "* `.count()`: return the number of times an item occurs in the list\r\n",
    "* value `in` list: returns `True` if an item is in the list, `False` if it is not\r\n",
    "\r\n",
    "**Other useful functions**\r\n",
    "* `.copy()`: returns a copy of the list\r\n",
    "* `len()`: returns the number of elements in the list (= length)"
   ],
   "metadata": {}
  },
  {
   "cell_type": "markdown",
   "source": [
    "Now, a few examples how this is implemented in code:"
   ],
   "metadata": {}
  },
  {
   "cell_type": "code",
   "execution_count": 11,
   "source": [
    "## Adding/removing values:\r\n",
    "sequence = list(\"ATGCGGGTAATCGTA-\")\r\n",
    "\r\n",
    "# add the sequences \"AAA\", \"TTT\", \"CCC\" with three different methods\r\n",
    "sequence.append(\"A\")\r\n",
    "sequence.append(\"A\")\r\n",
    "sequence.append(\"A\")\r\n",
    "sequence.extend([\"T\", \"T\", \"T\"]) # more elegant: sequence.extend(list(\"TTT\"))\r\n",
    "sequence = sequence + [\"C\", \"C\", \"C\"]\r\n",
    "\r\n",
    "print(\"\".join(sequence))\r\n",
    "\r\n",
    "# insert a G at the second position (remember: indexes start at 0 in Python)\r\n",
    "sequence.insert(1, \"G\")\r\n",
    "print(\"\".join(sequence))\r\n",
    "\r\n",
    "# remove the inserted G from the sequence\r\n",
    "sequence.pop(1)\r\n",
    "print(\"\".join(sequence))\r\n",
    "\r\n",
    "# change nucleotides 2-4 to Gs\r\n",
    "sequence[1:4] = \"G\"\r\n",
    "print(\"\".join(sequence))"
   ],
   "outputs": [
    {
     "output_type": "stream",
     "name": "stdout",
     "text": [
      "ATGCGGGTAATCGTA-AAATTTCCC\n",
      "AGTGCGGGTAATCGTA-AAATTTCCC\n",
      "ATGCGGGTAATCGTA-AAATTTCCC\n",
      "AGGGGTAATCGTA-AAATTTCCC\n"
     ]
    }
   ],
   "metadata": {}
  },
  {
   "cell_type": "code",
   "execution_count": 14,
   "source": [
    "## Finding elements\r\n",
    "sequence = list(\"TTCGTTTCTGCTGATGCTT\")\r\n",
    "\r\n",
    "# position of the first C\r\n",
    "print(sequence.index(\"C\"))\r\n",
    "\r\n",
    "# how many Ts are in the sequence?\r\n",
    "print(sequence.count(\"T\"))\r\n",
    "\r\n",
    "# do we have an A in the sequence?\r\n",
    "print(\"A\" in sequence)\r\n",
    "\r\n",
    "# tip: this also works for strings\r\n",
    "\"A\" in \"TCGTTTA\""
   ],
   "outputs": [
    {
     "output_type": "stream",
     "name": "stdout",
     "text": [
      "2\n",
      "10\n",
      "True\n"
     ]
    },
    {
     "output_type": "execute_result",
     "data": {
      "text/plain": [
       "True"
      ]
     },
     "metadata": {},
     "execution_count": 14
    }
   ],
   "metadata": {}
  },
  {
   "cell_type": "code",
   "execution_count": 17,
   "source": [
    "## Other useful functions\r\n",
    "sequence = list(\"TCGAGGGTCGATCGGGTCGAAGCT\")\r\n",
    "\r\n",
    "# how long is our sequence?\r\n",
    "print(len(sequence))\r\n",
    "\r\n",
    "# copying the sequence and modifying it without changing the original\r\n",
    "sequence2 = sequence.copy()\r\n",
    "sequence2.extend(list(\"-TTTAAAGGG\"))\r\n",
    "\r\n",
    "print(\"\".join(sequence), \"\".join(sequence2), sep = \"\\n\")"
   ],
   "outputs": [
    {
     "output_type": "stream",
     "name": "stdout",
     "text": [
      "24\n",
      "TCGAGGGTCGATCGGGTCGAAGCT\n",
      "TCGAGGGTCGATCGGGTCGAAGCT-TTTAAAGGG\n"
     ]
    }
   ],
   "metadata": {}
  },
  {
   "cell_type": "markdown",
   "source": [
    "### Sets\r\n",
    "Sets are a special type of data that only contain **unique** and **immutable** objects and reflect the Python implementation of mathematical sets (German: \"Mengen\"). Sets are not technically sequential data types, because they are **unordered**. In lists and tuples the order of contained items matters and you can access them at different positions. For sets this is not possible and their applications are usually finding unique values in lists/tuples or overlaps between those values.\r\n",
    "\r\n",
    "We will see differences and applications of all those data types in the next section. For not it is just important to note that we define sets with curly brackets `{}` and that they always just contain unique values."
   ],
   "metadata": {}
  },
  {
   "cell_type": "code",
   "execution_count": 33,
   "source": [
    "# set definition\r\n",
    "set1 = {1, 3, 2}\r\n",
    "set2 = set((\"A\", \"C\", \"B\", 2, 3, 1))\r\n",
    "\r\n",
    "# sets do not keep order information\r\n",
    "print(set1, set2, sep = \"\\n\")"
   ],
   "outputs": [
    {
     "output_type": "stream",
     "name": "stdout",
     "text": [
      "{1, 2, 3}\n",
      "{1, 2, 3, 'A', 'B', 'C'}\n"
     ]
    }
   ],
   "metadata": {}
  },
  {
   "cell_type": "code",
   "execution_count": 31,
   "source": [
    "# sets can only contain immutable objects, so lists are not allowed\r\n",
    "set3 = {1, 2, 3, [3, 4]}"
   ],
   "outputs": [
    {
     "output_type": "error",
     "ename": "TypeError",
     "evalue": "unhashable type: 'list'",
     "traceback": [
      "\u001b[1;31m---------------------------------------------------------------------------\u001b[0m",
      "\u001b[1;31mTypeError\u001b[0m                                 Traceback (most recent call last)",
      "\u001b[1;32m~\\AppData\\Local\\Temp/ipykernel_12876/1313108988.py\u001b[0m in \u001b[0;36m<module>\u001b[1;34m\u001b[0m\n\u001b[0;32m      1\u001b[0m \u001b[1;31m# sets can only contain immutable objects, so lists are not allowed\u001b[0m\u001b[1;33m\u001b[0m\u001b[1;33m\u001b[0m\u001b[1;33m\u001b[0m\u001b[0m\n\u001b[1;32m----> 2\u001b[1;33m \u001b[0mset3\u001b[0m \u001b[1;33m=\u001b[0m \u001b[1;33m{\u001b[0m\u001b[1;36m1\u001b[0m\u001b[1;33m,\u001b[0m \u001b[1;36m2\u001b[0m\u001b[1;33m,\u001b[0m \u001b[1;36m3\u001b[0m\u001b[1;33m,\u001b[0m \u001b[1;33m[\u001b[0m\u001b[1;36m3\u001b[0m\u001b[1;33m,\u001b[0m \u001b[1;36m4\u001b[0m\u001b[1;33m]\u001b[0m\u001b[1;33m}\u001b[0m\u001b[1;33m\u001b[0m\u001b[1;33m\u001b[0m\u001b[0m\n\u001b[0m",
      "\u001b[1;31mTypeError\u001b[0m: unhashable type: 'list'"
     ]
    }
   ],
   "metadata": {}
  },
  {
   "cell_type": "code",
   "execution_count": 34,
   "source": [
    "# instead of lists, we can use a tuple\r\n",
    "set3 = {1, 2, 3, (3, 4)}\r\n",
    "print(set3)"
   ],
   "outputs": [
    {
     "output_type": "stream",
     "name": "stdout",
     "text": [
      "{1, 2, 3, (3, 4)}\n"
     ]
    }
   ],
   "metadata": {}
  },
  {
   "cell_type": "code",
   "execution_count": 30,
   "source": [
    "# sets do not contain duplicates\r\n",
    "set4 = {1, 1, 1, 1, 2, 2, 3}\r\n",
    "\r\n",
    "# we can easily convert other sequences into sets\r\n",
    "lst = [\"A\", \"A\", 1, 2, 2]\r\n",
    "set5 = set(lst)\r\n",
    "set6 = set(\"ATTGCTT\")\r\n",
    "\r\n",
    "print(set4, set5, set6, sep = \"\\n\")"
   ],
   "outputs": [
    {
     "output_type": "stream",
     "name": "stdout",
     "text": [
      "{1, 2, 3}\n",
      "{1, 2, 'A'}\n",
      "{'T', 'G', 'A', 'C'}\n"
     ]
    }
   ],
   "metadata": {}
  },
  {
   "cell_type": "markdown",
   "source": [
    "## Acessing or modifying items\r\n",
    "### Indexing\r\n",
    "When dealing with sequential data tyoes such as strings, lists, or tuples, we often want to access specific elements."
   ],
   "metadata": {}
  }
 ],
 "metadata": {
  "orig_nbformat": 4,
  "language_info": {
   "name": "python",
   "version": "3.8.11",
   "mimetype": "text/x-python",
   "codemirror_mode": {
    "name": "ipython",
    "version": 3
   },
   "pygments_lexer": "ipython3",
   "nbconvert_exporter": "python",
   "file_extension": ".py"
  },
  "kernelspec": {
   "name": "python3",
   "display_name": "Python 3.8.11 64-bit ('test2': conda)"
  },
  "interpreter": {
   "hash": "eb7a3cc7805b647c07cd88e8371649cf687544e475bc1164b445f3249eb5ba5e"
  }
 },
 "nbformat": 4,
 "nbformat_minor": 2
}