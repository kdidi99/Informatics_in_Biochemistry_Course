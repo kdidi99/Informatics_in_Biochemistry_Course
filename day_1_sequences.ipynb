{
 "cells": [
  {
   "cell_type": "markdown",
   "source": [
    "# Day 1: Sequences\r\n",
    "Just dealing with single values as we did before will not get us very far. We will therefore move on to Python's built-in *sequential data types* that are capable of storing multiple values."
   ],
   "metadata": {}
  },
  {
   "cell_type": "markdown",
   "source": [
    "## Overview\r\n",
    "The main sequential data types in Python are **tuples**, **lists**, and **sets** and it should also be noted that strings can behave like sequential data types in some aspects (because a string essentially also stores multiple characters)."
   ],
   "metadata": {}
  },
  {
   "cell_type": "markdown",
   "source": [
    "### Lists\r\n",
    "Lists are among the most useful and frequently used data types in Python. A list can store any kind of objects, even other sequential data types. We define lists with the bracket `[]` operator or the `list()` function."
   ],
   "metadata": {}
  },
  {
   "cell_type": "code",
   "execution_count": 8,
   "source": [
    "lst1 = [1,2,3]\r\n",
    "lst2 = [\"A\", \"B\", 3, 4.5]\r\n",
    "lst3 = [\"a list of lists\", lst1, lst2]\r\n",
    "\r\n",
    "# list() function\r\n",
    "lst4 = list((\"A\", \"B\", 3, 4))\r\n",
    "\r\n",
    "# a useful trick for the print() function is to use its sep argument with the newline character \"\\n\"\r\n",
    "# to print each object to a new line\r\n",
    "print(lst1, lst2, lst3, lst4, sep = \"\\n\")"
   ],
   "outputs": [
    {
     "output_type": "stream",
     "name": "stdout",
     "text": [
      "[1, 2, 3]\n",
      "['A', 'B', 3, 4.5]\n",
      "['a list of lists', [1, 2, 3], ['A', 'B', 3, 4.5]]\n",
      "['A', 'B', 3, 4]\n"
     ]
    }
   ],
   "metadata": {}
  },
  {
   "cell_type": "markdown",
   "source": [
    "### Tuples\r\n",
    "Tuples are very similar to lists, with the only difference that we can't change them after their creation - they are **immutable**, while lists are **mutable** (we will see examples for that soon). Under the hood his makes data storage of tuples more efficient and code involving tuples is a little faster. It is therefore considered good practice to always consider whether you really need a list or could also use a tuple, but we will not care for this for now, as those differences only matter for very large data frames or complex programs.\r\n",
    "\r\n",
    "We define tuples with comma-separated values where we usually put round brackets `()` around them for clarity, although they are technically not always needed. Alternatively, we can use the `tuple()` function."
   ],
   "metadata": {}
  },
  {
   "cell_type": "code",
   "execution_count": 10,
   "source": [
    "# this is usually how you define a tuple\r\n",
    "tup1 = (1, 2, \"A\", 3.5)\r\n",
    "tup2 = tuple((3, 1, [\"A\", \"B\"]))\r\n",
    "\r\n",
    "# this also works\r\n",
    "tup3 = 1, 2, \"A\", 3.5\r\n",
    "\r\n",
    "print(tup1, tup2, tup3)"
   ],
   "outputs": [],
   "metadata": {}
  },
  {
   "cell_type": "code",
   "execution_count": null,
   "source": [],
   "outputs": [],
   "metadata": {}
  }
 ],
 "metadata": {
  "orig_nbformat": 4,
  "language_info": {
   "name": "python",
   "version": "3.8.11",
   "mimetype": "text/x-python",
   "codemirror_mode": {
    "name": "ipython",
    "version": 3
   },
   "pygments_lexer": "ipython3",
   "nbconvert_exporter": "python",
   "file_extension": ".py"
  },
  "kernelspec": {
   "name": "python3",
   "display_name": "Python 3.8.11 64-bit ('test2': conda)"
  },
  "interpreter": {
   "hash": "eb7a3cc7805b647c07cd88e8371649cf687544e475bc1164b445f3249eb5ba5e"
  }
 },
 "nbformat": 4,
 "nbformat_minor": 2
}