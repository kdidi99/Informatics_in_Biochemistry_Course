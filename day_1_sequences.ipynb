{
 "cells": [
  {
   "cell_type": "markdown",
   "source": [
    "# Day 1: Sequences\r\n",
    "Just dealing with single values as we did before will not get us very far. We will therefore move on to Python's built-in *sequential data types* that are capable of storing multiple values."
   ],
   "metadata": {}
  },
  {
   "cell_type": "markdown",
   "source": [
    "## Overview\r\n",
    "The main sequential data types in Python are **tuples**, **lists**, and **sets** and it should also be noted that strings can behave like sequential data types in some aspects (because a string essentially also stores multiple characters)."
   ],
   "metadata": {}
  },
  {
   "cell_type": "markdown",
   "source": [
    "### Lists\r\n",
    "Lists are among the most useful and frequently used data types in Python. A list can store any kind of objects, even other sequential data types and list elements can be easily accessed and manipulated. We define lists with the bracket `[]` operator or the `list()` function."
   ],
   "metadata": {}
  },
  {
   "cell_type": "code",
   "execution_count": 25,
   "source": [
    "lst1 = [1,2,3]\r\n",
    "lst2 = [\"A\", \"B\", 3, 4.5]\r\n",
    "lst3 = [\"a list of lists\", lst1, lst2]\r\n",
    "\r\n",
    "# list() function\r\n",
    "lst4 = list((\"A\", \"B\", 3, 4))\r\n",
    "\r\n",
    "# string -> list conversion\r\n",
    "lst5 = list(\"ATTGCTT\")\r\n",
    "\r\n",
    "# a useful trick for the print() function is to use its sep argument with the newline character \"\\n\"\r\n",
    "# to print each object to a new line\r\n",
    "print(lst1, lst2, lst3, lst4, lst5, sep = \"\\n\")"
   ],
   "outputs": [
    {
     "output_type": "stream",
     "name": "stdout",
     "text": [
      "[1, 2, 3]\n",
      "['A', 'B', 3, 4.5]\n",
      "['a list of lists', [1, 2, 3], ['A', 'B', 3, 4.5]]\n",
      "['A', 'B', 3, 4]\n",
      "['A', 'T', 'T', 'G', 'C', 'T', 'T']\n"
     ]
    }
   ],
   "metadata": {}
  },
  {
   "cell_type": "markdown",
   "source": [
    "### Tuples\r\n",
    "Tuples are very similar to lists, with the only difference that we can't change them after their creation - they are **immutable**, while lists are **mutable** (we will see examples for that soon). Under the hood his makes data storage of tuples more efficient and code involving tuples is a little faster. It is therefore considered good practice to always consider whether you really need a list or could also use a tuple, but we will not care for this for now, as those differences only matter for very large data frames or complex programs.\r\n",
    "\r\n",
    "We define tuples with comma-separated values where we usually put round brackets `()` around them for clarity, although they are technically not always needed. Alternatively, we can use the `tuple()` function."
   ],
   "metadata": {}
  },
  {
   "cell_type": "code",
   "execution_count": 24,
   "source": [
    "# this is usually how you define a tuple\r\n",
    "tup1 = (1, 2, \"A\", 3.5)\r\n",
    "tup2 = tuple((3, 1, [\"A\", \"B\"]))\r\n",
    "\r\n",
    "# this also works\r\n",
    "tup3 = 1, 2, \"A\", 3.5\r\n",
    "\r\n",
    "# we can easily convert lists or strings to tuples\r\n",
    "lst = [1, 2, 3]\r\n",
    "tup4 = tuple(lst)\r\n",
    "tup5 = tuple(\"ATTGCTT\")\r\n",
    "\r\n",
    "print(tup1, tup2, tup3, tup4, tup5, sep = \"\\n\")"
   ],
   "outputs": [
    {
     "output_type": "stream",
     "name": "stdout",
     "text": [
      "(1, 2, 'A', 3.5)\n",
      "(3, 1, ['A', 'B'])\n",
      "(1, 2, 'A', 3.5)\n",
      "(1, 2, 3)\n",
      "('A', 'T', 'T', 'G', 'C', 'T', 'T')\n"
     ]
    }
   ],
   "metadata": {}
  },
  {
   "cell_type": "markdown",
   "source": [
    "### Sets\r\n",
    "Sets are a special type of data that only contain **unique** and **immutable** objects and reflect the Python implementation of mathematical sets (German: \"Mengen\"). Sets are not technically sequential data types, because they are **unordered**. In lists and tuples the order of contained items matters and you can access them at different positions. For sets this is not possible and their applications are usually finding unique values in lists/tuples or overlaps between those values.\r\n",
    "\r\n",
    "We will see differences and applications of all those data types in the next section. For not it is just important to note that we define sets with curly brackets `{}` and that they always just contain unique values."
   ],
   "metadata": {}
  },
  {
   "cell_type": "code",
   "execution_count": 33,
   "source": [
    "# set definition\r\n",
    "set1 = {1, 3, 2}\r\n",
    "set2 = set((\"A\", \"C\", \"B\", 2, 3, 1))\r\n",
    "\r\n",
    "# sets do not keep order information\r\n",
    "print(set1, set2, sep = \"\\n\")"
   ],
   "outputs": [
    {
     "output_type": "stream",
     "name": "stdout",
     "text": [
      "{1, 2, 3}\n",
      "{1, 2, 3, 'A', 'B', 'C'}\n"
     ]
    }
   ],
   "metadata": {}
  },
  {
   "cell_type": "code",
   "execution_count": 31,
   "source": [
    "# sets can only contain immutable objects, so lists are not allowed\r\n",
    "set3 = {1, 2, 3, [3, 4]}"
   ],
   "outputs": [
    {
     "output_type": "error",
     "ename": "TypeError",
     "evalue": "unhashable type: 'list'",
     "traceback": [
      "\u001b[1;31m---------------------------------------------------------------------------\u001b[0m",
      "\u001b[1;31mTypeError\u001b[0m                                 Traceback (most recent call last)",
      "\u001b[1;32m~\\AppData\\Local\\Temp/ipykernel_12876/1313108988.py\u001b[0m in \u001b[0;36m<module>\u001b[1;34m\u001b[0m\n\u001b[0;32m      1\u001b[0m \u001b[1;31m# sets can only contain immutable objects, so lists are not allowed\u001b[0m\u001b[1;33m\u001b[0m\u001b[1;33m\u001b[0m\u001b[1;33m\u001b[0m\u001b[0m\n\u001b[1;32m----> 2\u001b[1;33m \u001b[0mset3\u001b[0m \u001b[1;33m=\u001b[0m \u001b[1;33m{\u001b[0m\u001b[1;36m1\u001b[0m\u001b[1;33m,\u001b[0m \u001b[1;36m2\u001b[0m\u001b[1;33m,\u001b[0m \u001b[1;36m3\u001b[0m\u001b[1;33m,\u001b[0m \u001b[1;33m[\u001b[0m\u001b[1;36m3\u001b[0m\u001b[1;33m,\u001b[0m \u001b[1;36m4\u001b[0m\u001b[1;33m]\u001b[0m\u001b[1;33m}\u001b[0m\u001b[1;33m\u001b[0m\u001b[1;33m\u001b[0m\u001b[0m\n\u001b[0m",
      "\u001b[1;31mTypeError\u001b[0m: unhashable type: 'list'"
     ]
    }
   ],
   "metadata": {}
  },
  {
   "cell_type": "code",
   "execution_count": 34,
   "source": [
    "# instead of lists, we can use a tuple\r\n",
    "set3 = {1, 2, 3, (3, 4)}\r\n",
    "print(set3)"
   ],
   "outputs": [
    {
     "output_type": "stream",
     "name": "stdout",
     "text": [
      "{1, 2, 3, (3, 4)}\n"
     ]
    }
   ],
   "metadata": {}
  },
  {
   "cell_type": "code",
   "execution_count": 30,
   "source": [
    "# sets do not contain duplicates\r\n",
    "set4 = {1, 1, 1, 1, 2, 2, 3}\r\n",
    "\r\n",
    "# we can easily convert other sequences into sets\r\n",
    "lst = [\"A\", \"A\", 1, 2, 2]\r\n",
    "set5 = set(lst)\r\n",
    "set6 = set(\"ATTGCTT\")\r\n",
    "\r\n",
    "print(set4, set5, set6, sep = \"\\n\")"
   ],
   "outputs": [
    {
     "output_type": "stream",
     "name": "stdout",
     "text": [
      "{1, 2, 3}\n",
      "{1, 2, 'A'}\n",
      "{'T', 'G', 'A', 'C'}\n"
     ]
    }
   ],
   "metadata": {}
  },
  {
   "cell_type": "markdown",
   "source": [
    "## Acessing or modifying items\r\n",
    "Usually, if we define a list (or tuple) we often want to access "
   ],
   "metadata": {}
  }
 ],
 "metadata": {
  "orig_nbformat": 4,
  "language_info": {
   "name": "python",
   "version": "3.8.11",
   "mimetype": "text/x-python",
   "codemirror_mode": {
    "name": "ipython",
    "version": 3
   },
   "pygments_lexer": "ipython3",
   "nbconvert_exporter": "python",
   "file_extension": ".py"
  },
  "kernelspec": {
   "name": "python3",
   "display_name": "Python 3.8.11 64-bit ('test2': conda)"
  },
  "interpreter": {
   "hash": "eb7a3cc7805b647c07cd88e8371649cf687544e475bc1164b445f3249eb5ba5e"
  }
 },
 "nbformat": 4,
 "nbformat_minor": 2
}