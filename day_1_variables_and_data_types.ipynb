{
 "cells": [
  {
   "cell_type": "markdown",
   "metadata": {},
   "source": [
    "# Day 1: Variables and basic data types"
   ]
  },
  {
   "cell_type": "markdown",
   "metadata": {},
   "source": [
    "## First of all: Comments\n",
    "Throughout this document you will see lines that start with a hashtag `#`. Those lines are comments which are not evaluated by Python and just serve as information for the user of the code."
   ]
  },
  {
   "cell_type": "code",
   "execution_count": 2,
   "metadata": {},
   "outputs": [
    {
     "name": "stdout",
     "output_type": "stream",
     "text": [
      "this is code\n"
     ]
    }
   ],
   "source": [
    "# this is a comment\n",
    "print(\"this is code\") # this is a comment"
   ]
  },
  {
   "cell_type": "markdown",
   "metadata": {},
   "source": [
    "## Variable assignment\n",
    "Variables are the fundamental way of handling objects in programming languages. We simply declare them with the `=` operator and display their stored values with the `print()` function.\n",
    "\n",
    "The `print()` function by default prints its values separated but you can change that value with the `sep` argument. If you use the special character \"\\n\" as a separator, `print()` will put all values onto new lines."
   ]
  },
  {
   "cell_type": "code",
   "execution_count": 4,
   "metadata": {},
   "outputs": [
    {
     "name": "stdout",
     "output_type": "stream",
     "text": [
      "5\n",
      "1 2\n",
      "1_;-)_2\n",
      "1\n",
      "2\n"
     ]
    }
   ],
   "source": [
    "var1 = 5\n",
    "print(var1)\n",
    "\n",
    "# you can also print multiple values simultaneously\n",
    "a = 1\n",
    "b = 2\n",
    "print(a, b)\n",
    "\n",
    "# different separators\n",
    "print(a, b, sep=\"_;-)_\")\n",
    "print(a, b, sep=\"\\n\")"
   ]
  },
  {
   "cell_type": "markdown",
   "metadata": {},
   "source": [
    "Variables are case-sensitive and need to follow certain naming rules. Most special characters are not allowed and numbers are not allowed at the start of the variable name. The most common way is to write variables in lowercase and separate multiple words with underscores (\"_\")."
   ]
  },
  {
   "cell_type": "code",
   "execution_count": 5,
   "metadata": {},
   "outputs": [
    {
     "ename": "SyntaxError",
     "evalue": "invalid syntax (Temp/ipykernel_25352/2931400079.py, line 13)",
     "output_type": "error",
     "traceback": [
      "\u001b[1;36m  File \u001b[1;32m\"C:\\Users\\jarosch\\AppData\\Local\\Temp/ipykernel_25352/2931400079.py\"\u001b[1;36m, line \u001b[1;32m13\u001b[0m\n\u001b[1;33m    variable! = 5\u001b[0m\n\u001b[1;37m            ^\u001b[0m\n\u001b[1;31mSyntaxError\u001b[0m\u001b[1;31m:\u001b[0m invalid syntax\n"
     ]
    }
   ],
   "source": [
    "# case-sensitivity\n",
    "var = 5\n",
    "Var = 10\n",
    "print(var)\n",
    "print(Var)\n",
    "\n",
    "# allowed names\n",
    "some_variable_1 = 5\n",
    "SomeVariable1 = 5\n",
    "\n",
    "# not allowed names\n",
    "some-variable = 2\n",
    "variable! = 5\n",
    "2themoon = 1"
   ]
  },
  {
   "cell_type": "markdown",
   "metadata": {},
   "source": [
    "## Basic data types\n",
    "Values or objects in programming languages can belong to different data types. Three basic data types are shared between most programming languages:\n",
    "\n",
    "* **integer**: whole number (e.g. 1)\n",
    "* **float**: decimal number (e.g. 1.4)\n",
    "* **string**: character (e.g. \"Hello\")\n",
    "\n",
    "We can convert variables into different types with the respective functions and print their type with the `type()` function."
   ]
  },
  {
   "cell_type": "code",
   "execution_count": 9,
   "metadata": {},
   "outputs": [
    {
     "name": "stdout",
     "output_type": "stream",
     "text": [
      "<class 'int'> <class 'float'> <class 'str'>\n",
      "1 1\n",
      "<class 'str'> <class 'int'>\n"
     ]
    }
   ],
   "source": [
    "# the three basic types\n",
    "x = 1\n",
    "y = 1.4\n",
    "z = \"hello\"\n",
    "\n",
    "print(type(x), type(y), type(z))\n",
    "\n",
    "## examples for type-conversion, note that int() just cuts the decimals\n",
    "x = str(1) # <-- equivalent to x = \"1\"\n",
    "y = int(1.4)\n",
    "\n",
    "print(x, y)\n",
    "print(type(x), type(y))"
   ]
  },
  {
   "cell_type": "markdown",
   "metadata": {},
   "source": [
    "## Basic operators\n",
    "We can easily perform simple mathematical operations with operators such as `+` or `*`. Many of those can also be applied to strings but behave differently then."
   ]
  },
  {
   "cell_type": "code",
   "execution_count": 10,
   "metadata": {},
   "outputs": [
    {
     "name": "stdout",
     "output_type": "stream",
     "text": [
      "10\n",
      "6\n",
      "3.0\n",
      "8\n",
      "15\n",
      "30\n"
     ]
    }
   ],
   "source": [
    "## basic math\n",
    "# addition\n",
    "print(5+5)\n",
    "\n",
    "# multiplication\n",
    "print(3*2)\n",
    "\n",
    "# division\n",
    "print(6/2)\n",
    "\n",
    "# exponentiation\n",
    "print(2**3)\n",
    "\n",
    "# brackets also matter in Python\n",
    "print(6*2+3)\n",
    "print(6*(2+3))"
   ]
  },
  {
   "cell_type": "code",
   "execution_count": 17,
   "metadata": {},
   "outputs": [
    {
     "name": "stdout",
     "output_type": "stream",
     "text": [
      "hello world\n",
      "hello hello hello hello hello \n",
      "hello hello world\n",
      "4\n",
      "22\n",
      "hello10\n"
     ]
    },
    {
     "ename": "TypeError",
     "evalue": "can only concatenate str (not \"int\") to str",
     "output_type": "error",
     "traceback": [
      "\u001b[1;31m---------------------------------------------------------------------------\u001b[0m",
      "\u001b[1;31mTypeError\u001b[0m                                 Traceback (most recent call last)",
      "\u001b[1;32m~\\AppData\\Local\\Temp/ipykernel_7016/3054187913.py\u001b[0m in \u001b[0;36m<module>\u001b[1;34m\u001b[0m\n\u001b[0;32m     11\u001b[0m \u001b[1;33m\u001b[0m\u001b[0m\n\u001b[0;32m     12\u001b[0m \u001b[0mprint\u001b[0m\u001b[1;33m(\u001b[0m\u001b[1;34m\"hello\"\u001b[0m\u001b[1;33m+\u001b[0m\u001b[1;34m\"10\"\u001b[0m\u001b[1;33m)\u001b[0m\u001b[1;33m\u001b[0m\u001b[1;33m\u001b[0m\u001b[0m\n\u001b[1;32m---> 13\u001b[1;33m \u001b[0mprint\u001b[0m\u001b[1;33m(\u001b[0m\u001b[1;34m\"hello\"\u001b[0m \u001b[1;33m+\u001b[0m \u001b[1;36m10\u001b[0m\u001b[1;33m)\u001b[0m \u001b[1;31m# <-- this does not work\u001b[0m\u001b[1;33m\u001b[0m\u001b[1;33m\u001b[0m\u001b[0m\n\u001b[0m",
      "\u001b[1;31mTypeError\u001b[0m: can only concatenate str (not \"int\") to str"
     ]
    }
   ],
   "source": [
    "# \"math\" with strings\n",
    "x = \"hello \"\n",
    "y = \"world\"\n",
    "print(x+y)\n",
    "print(5*x)\n",
    "print(2*x + y)\n",
    "\n",
    "z = 2\n",
    "print(2*z)\n",
    "print(2*str(z))\n",
    "\n",
    "print(\"hello\"+\"10\")\n",
    "print(\"hello\" + 10) # <-- this does not work"
   ]
  }
 ],
 "metadata": {
  "interpreter": {
   "hash": "eb7a3cc7805b647c07cd88e8371649cf687544e475bc1164b445f3249eb5ba5e"
  },
  "kernelspec": {
   "display_name": "Python 3.8.11 64-bit ('test2': conda)",
   "name": "python3"
  },
  "language_info": {
   "codemirror_mode": {
    "name": "ipython",
    "version": 3
   },
   "file_extension": ".py",
   "mimetype": "text/x-python",
   "name": "python",
   "nbconvert_exporter": "python",
   "pygments_lexer": "ipython3",
   "version": "3.8.11"
  },
  "orig_nbformat": 4
 },
 "nbformat": 4,
 "nbformat_minor": 2
}
