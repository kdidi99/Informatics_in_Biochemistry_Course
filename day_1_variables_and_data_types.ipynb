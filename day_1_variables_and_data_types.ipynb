{
 "cells": [
  {
   "cell_type": "markdown",
   "source": [
    "# Day 1: Variables and basic data types"
   ],
   "metadata": {}
  },
  {
   "cell_type": "markdown",
   "source": [
    "## First of all: Comments\r\n",
    "Throughout this document you will see lines that start with a hashtag `#`. Those lines are comments which are not evaluated by Python and just serve as information for the user of the code."
   ],
   "metadata": {}
  },
  {
   "cell_type": "code",
   "execution_count": 2,
   "source": [
    "# this is a comment\r\n",
    "print(\"this is code\") # this is a comment"
   ],
   "outputs": [
    {
     "output_type": "stream",
     "name": "stdout",
     "text": [
      "this is code\n"
     ]
    }
   ],
   "metadata": {}
  },
  {
   "cell_type": "markdown",
   "source": [
    "## Variable assignment\r\n",
    "Variables are the fundamental way of handling objects in programming languages. We simply declare them with the `=` operator and display their stored values with the `print()` function."
   ],
   "metadata": {}
  },
  {
   "cell_type": "code",
   "execution_count": 4,
   "source": [
    "var1 = 5\r\n",
    "print(var1)\r\n",
    "\r\n",
    "# you can also assign multiple values simultaneously\r\n",
    "a, b = 1, 2\r\n",
    "print(a,b)"
   ],
   "outputs": [
    {
     "output_type": "stream",
     "name": "stdout",
     "text": [
      "5\n",
      "1 2\n"
     ]
    }
   ],
   "metadata": {}
  },
  {
   "cell_type": "markdown",
   "source": [
    "Variables are case-sensitive and need to follow certain naming rules. The most common way is to write them in lowercase and separate multiple words with underscores (\"_\")."
   ],
   "metadata": {}
  },
  {
   "cell_type": "code",
   "execution_count": 3,
   "source": [
    "# case-sensitivity\r\n",
    "var = 5\r\n",
    "Var = 10\r\n",
    "print(var)\r\n",
    "print(Var)\r\n",
    "\r\n",
    "# allowed names\r\n",
    "some_variable1 = 5\r\n",
    "SomeVariable1 = 5\r\n",
    "\r\n",
    "# not allowed names\r\n",
    "some-variable = 2\r\n",
    "variable! = 5\r\n",
    "2themoon = 1"
   ],
   "outputs": [
    {
     "output_type": "stream",
     "name": "stdout",
     "text": [
      "5\n",
      "10\n"
     ]
    }
   ],
   "metadata": {}
  },
  {
   "cell_type": "markdown",
   "source": [
    "## Basic data types\r\n",
    "Values or objects in programming languages can belong to different data types. Three basic data types are shared between most programming languages:\r\n",
    "\r\n",
    "* **integer**: whole number\r\n",
    "* **float**: decimal number\r\n",
    "* **string**: character\r\n",
    "\r\n",
    "We can convert variables into different types and print their type with the `type()` function."
   ],
   "metadata": {}
  },
  {
   "cell_type": "code",
   "execution_count": 6,
   "source": [
    "# the three basic types\r\n",
    "x = 5\r\n",
    "y = 5.2\r\n",
    "z = \"hello\"\r\n",
    "\r\n",
    "print(type(x), type(y), type(z))\r\n",
    "\r\n",
    "# type-conversion, note that int() just cuts the decimals\r\n",
    "x = 5.43\r\n",
    "x_int = int(x)\r\n",
    "\r\n",
    "print(x, x_int)"
   ],
   "outputs": [
    {
     "output_type": "stream",
     "name": "stdout",
     "text": [
      "<class 'int'> <class 'float'> <class 'str'>\n",
      "5.43 5\n"
     ]
    }
   ],
   "metadata": {}
  },
  {
   "cell_type": "markdown",
   "source": [
    "## Basic operators\r\n",
    "We can easily perform simple mathematical operations with operators such as `+` or `*`. Many of those can also be applied to strings but behave differently then."
   ],
   "metadata": {}
  },
  {
   "cell_type": "code",
   "execution_count": 16,
   "source": [
    "# basic math\r\n",
    "print(5+5)\r\n",
    "print(3*2)\r\n",
    "print(2**3)\r\n",
    "print(6/2)"
   ],
   "outputs": [
    {
     "output_type": "stream",
     "name": "stdout",
     "text": [
      "10\n",
      "6\n",
      "8\n",
      "3.0\n"
     ]
    }
   ],
   "metadata": {}
  },
  {
   "cell_type": "code",
   "execution_count": 17,
   "source": [
    "\r\n",
    "# \"math\" with strings\r\n",
    "x = \"hello \"\r\n",
    "y = \"world\"\r\n",
    "print(x+y)\r\n",
    "print(5*x)\r\n",
    "print(2*x + y)\r\n",
    "\r\n",
    "z = 2\r\n",
    "print(2*z)\r\n",
    "print(2*str(z))\r\n",
    "\r\n",
    "print(\"hello\"+\"10\")\r\n",
    "print(\"hello\" + 10) # <-- this does not work"
   ],
   "outputs": [
    {
     "output_type": "stream",
     "name": "stdout",
     "text": [
      "hello world\n",
      "hello hello hello hello hello \n",
      "hello hello world\n",
      "4\n",
      "22\n",
      "hello10\n"
     ]
    },
    {
     "output_type": "error",
     "ename": "TypeError",
     "evalue": "can only concatenate str (not \"int\") to str",
     "traceback": [
      "\u001b[1;31m---------------------------------------------------------------------------\u001b[0m",
      "\u001b[1;31mTypeError\u001b[0m                                 Traceback (most recent call last)",
      "\u001b[1;32m~\\AppData\\Local\\Temp/ipykernel_7016/3054187913.py\u001b[0m in \u001b[0;36m<module>\u001b[1;34m\u001b[0m\n\u001b[0;32m     11\u001b[0m \u001b[1;33m\u001b[0m\u001b[0m\n\u001b[0;32m     12\u001b[0m \u001b[0mprint\u001b[0m\u001b[1;33m(\u001b[0m\u001b[1;34m\"hello\"\u001b[0m\u001b[1;33m+\u001b[0m\u001b[1;34m\"10\"\u001b[0m\u001b[1;33m)\u001b[0m\u001b[1;33m\u001b[0m\u001b[1;33m\u001b[0m\u001b[0m\n\u001b[1;32m---> 13\u001b[1;33m \u001b[0mprint\u001b[0m\u001b[1;33m(\u001b[0m\u001b[1;34m\"hello\"\u001b[0m \u001b[1;33m+\u001b[0m \u001b[1;36m10\u001b[0m\u001b[1;33m)\u001b[0m \u001b[1;31m# <-- this does not work\u001b[0m\u001b[1;33m\u001b[0m\u001b[1;33m\u001b[0m\u001b[0m\n\u001b[0m",
      "\u001b[1;31mTypeError\u001b[0m: can only concatenate str (not \"int\") to str"
     ]
    }
   ],
   "metadata": {}
  }
 ],
 "metadata": {
  "orig_nbformat": 4,
  "language_info": {
   "name": "python",
   "version": "3.8.11",
   "mimetype": "text/x-python",
   "codemirror_mode": {
    "name": "ipython",
    "version": 3
   },
   "pygments_lexer": "ipython3",
   "nbconvert_exporter": "python",
   "file_extension": ".py"
  },
  "kernelspec": {
   "name": "python3",
   "display_name": "Python 3.8.11 64-bit ('test2': conda)"
  },
  "interpreter": {
   "hash": "eb7a3cc7805b647c07cd88e8371649cf687544e475bc1164b445f3249eb5ba5e"
  }
 },
 "nbformat": 4,
 "nbformat_minor": 2
}