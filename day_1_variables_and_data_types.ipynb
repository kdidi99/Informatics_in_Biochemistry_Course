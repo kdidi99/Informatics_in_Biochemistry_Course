{
 "cells": [
  {
   "cell_type": "markdown",
   "metadata": {},
   "source": [
    "# Day 1: Variables and basic data types"
   ]
  },
  {
   "cell_type": "markdown",
   "metadata": {},
   "source": [
    "## First of all: Comments\n",
    "Throughout this document you will see lines that start with a hashtag `#`. Those lines are comments which are not evaluated by Python and just serve as information for the user of the code."
   ]
  },
  {
   "cell_type": "code",
   "execution_count": 2,
   "metadata": {},
   "outputs": [
    {
     "name": "stdout",
     "output_type": "stream",
     "text": [
      "this is code\n"
     ]
    }
   ],
   "source": [
    "# this is a comment\n",
    "print(\"this is code\") # this is a comment"
   ]
  },
  {
   "cell_type": "markdown",
   "metadata": {},
   "source": [
    "## Variable assignment\n",
    "Variables are the fundamental way of handling objects in programming languages. We simply declare them with the `=` operator and display their stored values with the `print()` function."
   ]
  },
  {
   "cell_type": "code",
   "execution_count": 2,
   "metadata": {},
   "outputs": [
    {
     "name": "stdout",
     "output_type": "stream",
     "text": [
      "5\n",
      "1 2\n"
     ]
    }
   ],
   "source": [
    "var1 = 5\n",
    "print(var1)\n",
    "\n",
    "# you can also assign and print multiple values simultaneously\n",
    "a, b = 1, 2\n",
    "print(a,b)"
   ]
  },
  {
   "cell_type": "markdown",
   "metadata": {},
   "source": [
    "Variables are case-sensitive and need to follow certain naming rules. The most common way is to write them in lowercase and separate multiple words with underscores (\"_\")."
   ]
  },
  {
   "cell_type": "code",
   "execution_count": 3,
   "metadata": {},
   "outputs": [
    {
     "name": "stdout",
     "output_type": "stream",
     "text": [
      "5\n",
      "10\n"
     ]
    }
   ],
   "source": [
    "# case-sensitivity\n",
    "var = 5\n",
    "Var = 10\n",
    "print(var)\n",
    "print(Var)\n",
    "\n",
    "# allowed names\n",
    "some_variable1 = 5\n",
    "SomeVariable1 = 5\n",
    "\n",
    "# not allowed names\n",
    "some-variable = 2\n",
    "variable! = 5\n",
    "2themoon = 1"
   ]
  },
  {
   "cell_type": "markdown",
   "metadata": {},
   "source": [
    "## Basic data types\n",
    "Values or objects in programming languages can belong to different data types. Three basic data types are shared between most programming languages:\n",
    "\n",
    "* **integer**: whole number\n",
    "* **float**: decimal number\n",
    "* **string**: character\n",
    "\n",
    "We can convert variables into different types and print their type with the `type()` function."
   ]
  },
  {
   "cell_type": "code",
   "execution_count": 6,
   "metadata": {},
   "outputs": [
    {
     "name": "stdout",
     "output_type": "stream",
     "text": [
      "<class 'int'> <class 'float'> <class 'str'>\n",
      "5.43 5\n"
     ]
    }
   ],
   "source": [
    "# the three basic types\n",
    "x = 5\n",
    "y = 5.2\n",
    "z = \"hello\"\n",
    "\n",
    "print(type(x), type(y), type(z))\n",
    "\n",
    "# type-conversion, note that int() just cuts the decimals\n",
    "x = 5.43\n",
    "x_int = int(x)\n",
    "\n",
    "print(x, x_int)"
   ]
  },
  {
   "cell_type": "markdown",
   "metadata": {},
   "source": [
    "## Basic operators\n",
    "We can easily perform simple mathematical operations with operators such as `+` or `*`. Many of those can also be applied to strings but behave differently then."
   ]
  },
  {
   "cell_type": "code",
   "execution_count": 3,
   "metadata": {},
   "outputs": [
    {
     "name": "stdout",
     "output_type": "stream",
     "text": [
      "10\n",
      "6\n",
      "8\n",
      "3.0\n",
      "15\n",
      "30\n"
     ]
    }
   ],
   "source": [
    "# basic math\n",
    "print(5+5)\n",
    "print(3*2)\n",
    "print(2**3)\n",
    "print(6/2)\n",
    "\n",
    "# brackets also matter in Python\n",
    "print(6*2+3)\n",
    "print(6*(2+3))"
   ]
  },
  {
   "cell_type": "code",
   "execution_count": 17,
   "metadata": {},
   "outputs": [
    {
     "name": "stdout",
     "output_type": "stream",
     "text": [
      "hello world\n",
      "hello hello hello hello hello \n",
      "hello hello world\n",
      "4\n",
      "22\n",
      "hello10\n"
     ]
    },
    {
     "ename": "TypeError",
     "evalue": "can only concatenate str (not \"int\") to str",
     "output_type": "error",
     "traceback": [
      "\u001b[1;31m---------------------------------------------------------------------------\u001b[0m",
      "\u001b[1;31mTypeError\u001b[0m                                 Traceback (most recent call last)",
      "\u001b[1;32m~\\AppData\\Local\\Temp/ipykernel_7016/3054187913.py\u001b[0m in \u001b[0;36m<module>\u001b[1;34m\u001b[0m\n\u001b[0;32m     11\u001b[0m \u001b[1;33m\u001b[0m\u001b[0m\n\u001b[0;32m     12\u001b[0m \u001b[0mprint\u001b[0m\u001b[1;33m(\u001b[0m\u001b[1;34m\"hello\"\u001b[0m\u001b[1;33m+\u001b[0m\u001b[1;34m\"10\"\u001b[0m\u001b[1;33m)\u001b[0m\u001b[1;33m\u001b[0m\u001b[1;33m\u001b[0m\u001b[0m\n\u001b[1;32m---> 13\u001b[1;33m \u001b[0mprint\u001b[0m\u001b[1;33m(\u001b[0m\u001b[1;34m\"hello\"\u001b[0m \u001b[1;33m+\u001b[0m \u001b[1;36m10\u001b[0m\u001b[1;33m)\u001b[0m \u001b[1;31m# <-- this does not work\u001b[0m\u001b[1;33m\u001b[0m\u001b[1;33m\u001b[0m\u001b[0m\n\u001b[0m",
      "\u001b[1;31mTypeError\u001b[0m: can only concatenate str (not \"int\") to str"
     ]
    }
   ],
   "source": [
    "# \"math\" with strings\n",
    "x = \"hello \"\n",
    "y = \"world\"\n",
    "print(x+y)\n",
    "print(5*x)\n",
    "print(2*x + y)\n",
    "\n",
    "z = 2\n",
    "print(2*z)\n",
    "print(2*str(z))\n",
    "\n",
    "print(\"hello\"+\"10\")\n",
    "print(\"hello\" + 10) # <-- this does not work"
   ]
  }
 ],
 "metadata": {
  "interpreter": {
   "hash": "eb7a3cc7805b647c07cd88e8371649cf687544e475bc1164b445f3249eb5ba5e"
  },
  "kernelspec": {
   "display_name": "Python 3.8.11 64-bit ('test2': conda)",
   "name": "python3"
  },
  "language_info": {
   "codemirror_mode": {
    "name": "ipython",
    "version": 3
   },
   "file_extension": ".py",
   "mimetype": "text/x-python",
   "name": "python",
   "nbconvert_exporter": "python",
   "pygments_lexer": "ipython3",
   "version": "3.8.11"
  },
  "orig_nbformat": 4
 },
 "nbformat": 4,
 "nbformat_minor": 2
}
