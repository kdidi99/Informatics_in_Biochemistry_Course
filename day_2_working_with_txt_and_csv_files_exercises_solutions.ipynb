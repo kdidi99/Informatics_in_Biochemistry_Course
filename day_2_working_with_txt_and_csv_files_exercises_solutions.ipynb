{
 "cells": [
  {
   "cell_type": "markdown",
   "source": [
    "# Working with `.txt` and `.csv` files "
   ],
   "metadata": {}
  },
  {
   "cell_type": "markdown",
   "source": [
    "## Exercise \r\n",
    "In this one large exercise, we provide you with a file called `subcellular_location_data.csv`.   \r\n",
    "\r\n",
    "Your task is now to sort the gene names after their cellular locations. Please provide each possible cellular location in the csv file with a list of gene names, in a dictionary. \r\n",
    "\r\n",
    "Then, write out this dictionary as a new `csv` where the cellular location is in one column and all coresponding gene names in the other (in a large text string).\r\n",
    "\r\n",
    "\r\n",
    "Pro Tip: use `from collections import defaultdict`"
   ],
   "metadata": {}
  },
  {
   "cell_type": "code",
   "execution_count": 1,
   "source": [
    "from collections import defaultdict\r\n",
    "import csv\r\n",
    "dicts = defaultdict(list)\r\n",
    "with open(\"additional_data/subcellular_location_data.csv\") as csv_file:\r\n",
    "    csv_reader = csv.reader(csv_file, delimiter=\",\")\r\n",
    "    next(csv_reader)\r\n",
    "    for row in csv_reader:\r\n",
    "        dicts[row[2]].append(row[1])\r\n",
    "print(dicts)"
   ],
   "outputs": [
    {
     "output_type": "stream",
     "name": "stdout",
     "text": [
      "defaultdict(<class 'list'>, {'Cytoplasm': ['TSPAN6', 'ANKIB1', 'LAP3', 'CYP26B1', 'TFPI', 'FKBP4', 'CAMKK1', 'CCDC132'], 'Cytoskeleton (Microtubules)': ['SCYL3'], 'Nucleus but not nucleoli;Mitochondria': ['C1orf112', 'FUCA2'], 'Plasma membrane': ['FGR', 'ARHGAP33'], 'Nucleus;Nucleoli;Cytoplasm': ['GCLC'], 'Nucleus but not nucleoli': ['NFYA', 'NIPAL3', 'LAS1L', 'RAD52', 'RBM5', 'KDM1A', 'RBM6', 'RECQL'], 'Nucleus': ['STPG1', 'MAD1L1', 'DBNDD1'], 'Endoplasmic reticulum': ['CYP51A1'], 'Vesicles': ['KRIT1', 'SARM1'], 'Mitochondria': ['BAD', 'TMEM176A', 'SLC25A13'], 'Golgi apparatus': ['CD99', 'CASP10'], '': ['AOC1'], 'Plasma membrane;Cytoplasm': ['LASP1', 'ZMYND10'], 'Cytoplasm;Golgi apparatus': ['ICA1'], 'Cytoplasm;Cytoskeleton (Intermediate filaments)': ['ALS2'], 'Nucleus;Plasma membrane;Cytoplasm': ['CFLAR'], 'Plasma membrane;Vesicles': ['CD38']})\n"
     ]
    }
   ],
   "metadata": {}
  },
  {
   "cell_type": "code",
   "execution_count": 4,
   "source": [
    "with open('additional_data/subcell_genes.csv', mode='w') as csv_file:\r\n",
    "    csv_writer = csv.writer(csv_file, delimiter=\",\")\r\n",
    "    csv_writer.writerow(['Cellular Location','Gene Names'])\r\n",
    "    for i in dicts.keys():\r\n",
    "        csv_writer.writerow([f'{i}',' '.join(dicts[i])])\r\n"
   ],
   "outputs": [],
   "metadata": {}
  }
 ],
 "metadata": {
  "orig_nbformat": 4,
  "language_info": {
   "name": "python",
   "version": "3.8.3",
   "mimetype": "text/x-python",
   "codemirror_mode": {
    "name": "ipython",
    "version": 3
   },
   "pygments_lexer": "ipython3",
   "nbconvert_exporter": "python",
   "file_extension": ".py"
  },
  "kernelspec": {
   "name": "python3",
   "display_name": "Python 3.8.3 64-bit ('base': conda)"
  },
  "interpreter": {
   "hash": "b3ba2566441a7c06988d0923437866b63cedc61552a5af99d1f4fb67d367b25f"
  }
 },
 "nbformat": 4,
 "nbformat_minor": 2
}