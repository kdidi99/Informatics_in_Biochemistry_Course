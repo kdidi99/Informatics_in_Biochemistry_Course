{
 "cells": [
  {
   "cell_type": "markdown",
   "metadata": {},
   "source": [
    "# Sets and Dictionaries - Exercises"
   ]
  },
  {
   "cell_type": "markdown",
   "metadata": {},
   "source": [
    "## Exercise 1\n",
    "Below you can find two amino acid peptide sequences as well as a set of all 20 amino acids. Determine which unique amino acids occur in both sequences and which amino acids occur in neither of the two sequences."
   ]
  },
  {
   "cell_type": "code",
   "execution_count": 7,
   "metadata": {},
   "outputs": [],
   "source": [
    "peptide_1 = \"NRLTPQPMPQ\"\n",
    "peptide_2 = \"LTGANQVDRG\"\n",
    "\n",
    "amino_acids = {'A','R','N','D','C','E','Q','G','H','I','L','K','M','F','P','S','T','W','Y','V'}\n",
    "\n"
   ]
  },
  {
   "cell_type": "markdown",
   "metadata": {},
   "source": [
    "## Exercise 2\n",
    "You did an experiment which gave you the following data:\n",
    "\n",
    "| Measurement 1 | Measurement 2 | Measurement 3 | Measurement 4 |\n",
    "|---------------|---------------|---------------|---------------|\n",
    "| 1.3           | 0.9           | 1.0           | 1.1           |\n",
    "| 2.9           | 1.7           | 2.3           | 2.3           |\n",
    "| 3.2           | 2.8           | 2.9           | 3.0           |\n",
    "| 4.0           | 3.7           | 4.2           | 3.7           |\n",
    "\n",
    "Half of the data is already stored in a dictionary below. Add the remaining measurements to that same dictionary."
   ]
  },
  {
   "cell_type": "code",
   "execution_count": 8,
   "metadata": {},
   "outputs": [],
   "source": [
    "mydata = {\n",
    "    \"Measurement 1\": [1.3, 2.9, 3.2, 4.0],\n",
    "    \"Measurement 2\": [0.9, 1.7, 2.8, 3.7]\n",
    "}\n",
    "\n"
   ]
  },
  {
   "cell_type": "markdown",
   "metadata": {},
   "source": [
    "Oops, while you check your data again you realise that the second value of measurement 1 should actually be 1.9 instead of 2.9!\\\n",
    "Correctly reassign that value in `mydata`."
   ]
  },
  {
   "cell_type": "code",
   "execution_count": null,
   "metadata": {},
   "outputs": [],
   "source": []
  },
  {
   "cell_type": "markdown",
   "metadata": {},
   "source": [
    "## Exercise 3\n",
    "Below you are given a dictionary that translates common organism names into their scientific latin names and a variable called `common_name` that is assigned to the value \"Human\" as an example. Write a construct that prints the scientific counterpart of `common_name` but returns \"Organism name not found!\" when `common_name` is not in the dictionary's keys.\n",
    "\n",
    "**Bonus**: Can you also create a second dictionary that does the reverse translation from scientific names to common names?"
   ]
  },
  {
   "cell_type": "code",
   "execution_count": 9,
   "metadata": {},
   "outputs": [],
   "source": [
    "common_to_scientific = {\n",
    "    \"Brewer's yeast\": \"Saccharomyces cerevisiae\",\n",
    "    \"Thale cress\": \"Arabidopsis thaliana\",\n",
    "    \"Nematode\": \"Caenorhabditis elegans\",\n",
    "    \"Fruit fly\": \"Drosophila melangaster\",\n",
    "    \"Zebrafish\": \"Danio rerio\",\n",
    "    \"House mouse\": \"Mus musculus\",\n",
    "    \"Human\": \"Homo sapiens\",\n",
    "}\n",
    "\n",
    "common_name = \"Human\"\n",
    "\n"
   ]
  }
 ],
 "metadata": {
  "interpreter": {
   "hash": "eb7a3cc7805b647c07cd88e8371649cf687544e475bc1164b445f3249eb5ba5e"
  },
  "kernelspec": {
   "display_name": "Python 3.8.11 64-bit ('test2': conda)",
   "name": "python3"
  },
  "language_info": {
   "codemirror_mode": {
    "name": "ipython",
    "version": 3
   },
   "file_extension": ".py",
   "mimetype": "text/x-python",
   "name": "python",
   "nbconvert_exporter": "python",
   "pygments_lexer": "ipython3",
   "version": "3.8.11"
  },
  "orig_nbformat": 4
 },
 "nbformat": 4,
 "nbformat_minor": 2
}
