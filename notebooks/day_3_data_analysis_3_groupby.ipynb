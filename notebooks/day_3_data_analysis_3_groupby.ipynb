{
  "cells": [
    {
      "cell_type": "markdown",
      "id": "0165e3ae",
      "metadata": {
        "id": "0165e3ae"
      },
      "source": [
        "In this notebook we learn about one of the most important methods in Pandas: GroupBy. It is a very powerful method that can be used to give us insight into a variety of data. This notebook closely follows the tutorial from [RealPython](https://realpython.com/pandas-groupby/) and should be an addition to the content we discussed in the live-session.\n"
      ]
    },
    {
      "cell_type": "code",
      "source": [
        "import numpy as np\n",
        "import pandas as pd"
      ],
      "metadata": {
        "id": "LNbjpYRbv695"
      },
      "id": "LNbjpYRbv695",
      "execution_count": 4,
      "outputs": []
    },
    {
      "cell_type": "code",
      "execution_count": 5,
      "id": "8179ed0a",
      "metadata": {
        "scrolled": true,
        "id": "8179ed0a",
        "outputId": "59d357cf-5b42-4126-8e6e-49453afbfad8",
        "colab": {
          "base_uri": "https://localhost:8080/"
        }
      },
      "outputs": [
        {
          "output_type": "stream",
          "name": "stdout",
          "text": [
            "Download ready.\n"
          ]
        }
      ],
      "source": [
        "import requests\n",
        "\n",
        "download_url = \"https://raw.githubusercontent.com/rashida048/Datasets/master/titanic_data.csv\"\n",
        "target_csv_path = \"titanic_data.csv\"\n",
        "\n",
        "response = requests.get(download_url)\n",
        "response.raise_for_status()    # Check that the request was successful\n",
        "with open(target_csv_path, \"wb\") as f:\n",
        "    f.write(response.content)\n",
        "print(\"Download ready.\")"
      ]
    },
    {
      "cell_type": "code",
      "source": [
        "df = pd.read_csv(\"titanic_data.csv\")\n",
        "df.head()"
      ],
      "metadata": {
        "id": "8-N4IpeOk7O5",
        "outputId": "c4454af1-34d3-43c0-de41-4acb86a4ebe5",
        "colab": {
          "base_uri": "https://localhost:8080/",
          "height": 206
        }
      },
      "id": "8-N4IpeOk7O5",
      "execution_count": 7,
      "outputs": [
        {
          "output_type": "execute_result",
          "data": {
            "text/plain": [
              "   PassengerId  Survived  Pclass  \\\n",
              "0            1         0       3   \n",
              "1            2         1       1   \n",
              "2            3         1       3   \n",
              "3            4         1       1   \n",
              "4            5         0       3   \n",
              "\n",
              "                                                Name     Sex   Age  SibSp  \\\n",
              "0                            Braund, Mr. Owen Harris    male  22.0      1   \n",
              "1  Cumings, Mrs. John Bradley (Florence Briggs Th...  female  38.0      1   \n",
              "2                             Heikkinen, Miss. Laina  female  26.0      0   \n",
              "3       Futrelle, Mrs. Jacques Heath (Lily May Peel)  female  35.0      1   \n",
              "4                           Allen, Mr. William Henry    male  35.0      0   \n",
              "\n",
              "   Parch            Ticket     Fare Cabin Embarked  \n",
              "0      0         A/5 21171   7.2500   NaN        S  \n",
              "1      0          PC 17599  71.2833   C85        C  \n",
              "2      0  STON/O2. 3101282   7.9250   NaN        S  \n",
              "3      0            113803  53.1000  C123        S  \n",
              "4      0            373450   8.0500   NaN        S  "
            ],
            "text/html": [
              "\n",
              "  <div id=\"df-7c899d4c-a1f3-43e0-bc85-e44031a2cf94\">\n",
              "    <div class=\"colab-df-container\">\n",
              "      <div>\n",
              "<style scoped>\n",
              "    .dataframe tbody tr th:only-of-type {\n",
              "        vertical-align: middle;\n",
              "    }\n",
              "\n",
              "    .dataframe tbody tr th {\n",
              "        vertical-align: top;\n",
              "    }\n",
              "\n",
              "    .dataframe thead th {\n",
              "        text-align: right;\n",
              "    }\n",
              "</style>\n",
              "<table border=\"1\" class=\"dataframe\">\n",
              "  <thead>\n",
              "    <tr style=\"text-align: right;\">\n",
              "      <th></th>\n",
              "      <th>PassengerId</th>\n",
              "      <th>Survived</th>\n",
              "      <th>Pclass</th>\n",
              "      <th>Name</th>\n",
              "      <th>Sex</th>\n",
              "      <th>Age</th>\n",
              "      <th>SibSp</th>\n",
              "      <th>Parch</th>\n",
              "      <th>Ticket</th>\n",
              "      <th>Fare</th>\n",
              "      <th>Cabin</th>\n",
              "      <th>Embarked</th>\n",
              "    </tr>\n",
              "  </thead>\n",
              "  <tbody>\n",
              "    <tr>\n",
              "      <th>0</th>\n",
              "      <td>1</td>\n",
              "      <td>0</td>\n",
              "      <td>3</td>\n",
              "      <td>Braund, Mr. Owen Harris</td>\n",
              "      <td>male</td>\n",
              "      <td>22.0</td>\n",
              "      <td>1</td>\n",
              "      <td>0</td>\n",
              "      <td>A/5 21171</td>\n",
              "      <td>7.2500</td>\n",
              "      <td>NaN</td>\n",
              "      <td>S</td>\n",
              "    </tr>\n",
              "    <tr>\n",
              "      <th>1</th>\n",
              "      <td>2</td>\n",
              "      <td>1</td>\n",
              "      <td>1</td>\n",
              "      <td>Cumings, Mrs. John Bradley (Florence Briggs Th...</td>\n",
              "      <td>female</td>\n",
              "      <td>38.0</td>\n",
              "      <td>1</td>\n",
              "      <td>0</td>\n",
              "      <td>PC 17599</td>\n",
              "      <td>71.2833</td>\n",
              "      <td>C85</td>\n",
              "      <td>C</td>\n",
              "    </tr>\n",
              "    <tr>\n",
              "      <th>2</th>\n",
              "      <td>3</td>\n",
              "      <td>1</td>\n",
              "      <td>3</td>\n",
              "      <td>Heikkinen, Miss. Laina</td>\n",
              "      <td>female</td>\n",
              "      <td>26.0</td>\n",
              "      <td>0</td>\n",
              "      <td>0</td>\n",
              "      <td>STON/O2. 3101282</td>\n",
              "      <td>7.9250</td>\n",
              "      <td>NaN</td>\n",
              "      <td>S</td>\n",
              "    </tr>\n",
              "    <tr>\n",
              "      <th>3</th>\n",
              "      <td>4</td>\n",
              "      <td>1</td>\n",
              "      <td>1</td>\n",
              "      <td>Futrelle, Mrs. Jacques Heath (Lily May Peel)</td>\n",
              "      <td>female</td>\n",
              "      <td>35.0</td>\n",
              "      <td>1</td>\n",
              "      <td>0</td>\n",
              "      <td>113803</td>\n",
              "      <td>53.1000</td>\n",
              "      <td>C123</td>\n",
              "      <td>S</td>\n",
              "    </tr>\n",
              "    <tr>\n",
              "      <th>4</th>\n",
              "      <td>5</td>\n",
              "      <td>0</td>\n",
              "      <td>3</td>\n",
              "      <td>Allen, Mr. William Henry</td>\n",
              "      <td>male</td>\n",
              "      <td>35.0</td>\n",
              "      <td>0</td>\n",
              "      <td>0</td>\n",
              "      <td>373450</td>\n",
              "      <td>8.0500</td>\n",
              "      <td>NaN</td>\n",
              "      <td>S</td>\n",
              "    </tr>\n",
              "  </tbody>\n",
              "</table>\n",
              "</div>\n",
              "      <button class=\"colab-df-convert\" onclick=\"convertToInteractive('df-7c899d4c-a1f3-43e0-bc85-e44031a2cf94')\"\n",
              "              title=\"Convert this dataframe to an interactive table.\"\n",
              "              style=\"display:none;\">\n",
              "        \n",
              "  <svg xmlns=\"http://www.w3.org/2000/svg\" height=\"24px\"viewBox=\"0 0 24 24\"\n",
              "       width=\"24px\">\n",
              "    <path d=\"M0 0h24v24H0V0z\" fill=\"none\"/>\n",
              "    <path d=\"M18.56 5.44l.94 2.06.94-2.06 2.06-.94-2.06-.94-.94-2.06-.94 2.06-2.06.94zm-11 1L8.5 8.5l.94-2.06 2.06-.94-2.06-.94L8.5 2.5l-.94 2.06-2.06.94zm10 10l.94 2.06.94-2.06 2.06-.94-2.06-.94-.94-2.06-.94 2.06-2.06.94z\"/><path d=\"M17.41 7.96l-1.37-1.37c-.4-.4-.92-.59-1.43-.59-.52 0-1.04.2-1.43.59L10.3 9.45l-7.72 7.72c-.78.78-.78 2.05 0 2.83L4 21.41c.39.39.9.59 1.41.59.51 0 1.02-.2 1.41-.59l7.78-7.78 2.81-2.81c.8-.78.8-2.07 0-2.86zM5.41 20L4 18.59l7.72-7.72 1.47 1.35L5.41 20z\"/>\n",
              "  </svg>\n",
              "      </button>\n",
              "      \n",
              "  <style>\n",
              "    .colab-df-container {\n",
              "      display:flex;\n",
              "      flex-wrap:wrap;\n",
              "      gap: 12px;\n",
              "    }\n",
              "\n",
              "    .colab-df-convert {\n",
              "      background-color: #E8F0FE;\n",
              "      border: none;\n",
              "      border-radius: 50%;\n",
              "      cursor: pointer;\n",
              "      display: none;\n",
              "      fill: #1967D2;\n",
              "      height: 32px;\n",
              "      padding: 0 0 0 0;\n",
              "      width: 32px;\n",
              "    }\n",
              "\n",
              "    .colab-df-convert:hover {\n",
              "      background-color: #E2EBFA;\n",
              "      box-shadow: 0px 1px 2px rgba(60, 64, 67, 0.3), 0px 1px 3px 1px rgba(60, 64, 67, 0.15);\n",
              "      fill: #174EA6;\n",
              "    }\n",
              "\n",
              "    [theme=dark] .colab-df-convert {\n",
              "      background-color: #3B4455;\n",
              "      fill: #D2E3FC;\n",
              "    }\n",
              "\n",
              "    [theme=dark] .colab-df-convert:hover {\n",
              "      background-color: #434B5C;\n",
              "      box-shadow: 0px 1px 3px 1px rgba(0, 0, 0, 0.15);\n",
              "      filter: drop-shadow(0px 1px 2px rgba(0, 0, 0, 0.3));\n",
              "      fill: #FFFFFF;\n",
              "    }\n",
              "  </style>\n",
              "\n",
              "      <script>\n",
              "        const buttonEl =\n",
              "          document.querySelector('#df-7c899d4c-a1f3-43e0-bc85-e44031a2cf94 button.colab-df-convert');\n",
              "        buttonEl.style.display =\n",
              "          google.colab.kernel.accessAllowed ? 'block' : 'none';\n",
              "\n",
              "        async function convertToInteractive(key) {\n",
              "          const element = document.querySelector('#df-7c899d4c-a1f3-43e0-bc85-e44031a2cf94');\n",
              "          const dataTable =\n",
              "            await google.colab.kernel.invokeFunction('convertToInteractive',\n",
              "                                                     [key], {});\n",
              "          if (!dataTable) return;\n",
              "\n",
              "          const docLinkHtml = 'Like what you see? Visit the ' +\n",
              "            '<a target=\"_blank\" href=https://colab.research.google.com/notebooks/data_table.ipynb>data table notebook</a>'\n",
              "            + ' to learn more about interactive tables.';\n",
              "          element.innerHTML = '';\n",
              "          dataTable['output_type'] = 'display_data';\n",
              "          await google.colab.output.renderOutput(dataTable, element);\n",
              "          const docLink = document.createElement('div');\n",
              "          docLink.innerHTML = docLinkHtml;\n",
              "          element.appendChild(docLink);\n",
              "        }\n",
              "      </script>\n",
              "    </div>\n",
              "  </div>\n",
              "  "
            ]
          },
          "metadata": {},
          "execution_count": 7
        }
      ]
    },
    {
      "cell_type": "markdown",
      "id": "9a6e0c07",
      "metadata": {
        "id": "9a6e0c07"
      },
      "source": [
        "We see again the passengers as rows and things like age, survival and sex as features. What is the average age of male and female passengers on the ship, respectively? Entry [groupby](https://pandas.pydata.org/pandas-docs/stable/getting_started/intro_tutorials/06_calculate_statistics.html):"
      ]
    },
    {
      "cell_type": "code",
      "execution_count": 9,
      "id": "921a5513",
      "metadata": {
        "id": "921a5513",
        "outputId": "a399ceab-273a-4961-d897-0e007af7058e",
        "colab": {
          "base_uri": "https://localhost:8080/"
        }
      },
      "outputs": [
        {
          "output_type": "execute_result",
          "data": {
            "text/plain": [
              "Sex\n",
              "female    27.915709\n",
              "male      30.726645\n",
              "Name: Age, dtype: float64"
            ]
          },
          "metadata": {},
          "execution_count": 9
        }
      ],
      "source": [
        "age_sex = df.groupby(\"Sex\")[\"Age\"].mean()\n",
        "age_sex\n",
        "#as_index=False more closely resembles SQL: Gives back DataFrame with RangeIndex; if true it returns Saries with MultiIndex\n",
        "#if you use .count() you exclude poosible NaN values; .size() would include those"
      ]
    },
    {
      "cell_type": "code",
      "execution_count": 11,
      "id": "557ad07e",
      "metadata": {
        "id": "557ad07e",
        "outputId": "8d6667e8-4df3-45b2-dd12-edaf31da2849",
        "colab": {
          "base_uri": "https://localhost:8080/"
        }
      },
      "outputs": [
        {
          "output_type": "stream",
          "name": "stdout",
          "text": [
            "<pandas.core.groupby.generic.DataFrameGroupBy object at 0x7f2616ffcc90>\n"
          ]
        }
      ],
      "source": [
        "age_sex = df.groupby(\"Sex\")\n",
        "age_sex\n",
        "print(age_sex)"
      ]
    },
    {
      "cell_type": "markdown",
      "id": "d23095e7",
      "metadata": {
        "id": "d23095e7"
      },
      "source": [
        "Groupby operations are often splitted into three steps:\n",
        "\n",
        "1. **Split**: Split your data into different categories based on some criteria\n",
        "\n",
        "2. **Apply**: Apply some aggregation operations (such as sum, mean, ...) to the different groups\n",
        "\n",
        "3. **Combine**: Combine the different results back into the original data frame to get a new result"
      ]
    },
    {
      "cell_type": "markdown",
      "id": "c6bcdefd",
      "metadata": {
        "id": "c6bcdefd"
      },
      "source": [
        "<div>\n",
        "<img src=\"https://github.com/kdidi99/Python_for_Biochemists/blob/main/images/06_groupby.svg?raw=1\", width=500>\n",
        "</div>"
      ]
    },
    {
      "cell_type": "markdown",
      "id": "e42865e4",
      "metadata": {
        "id": "e42865e4"
      },
      "source": [
        "The split operation is lazily implemented in pandas; the groupby operation itself does not do anything we can directly see, but prepares a groupby object which we can further use. We can for example see the different categories by iterating over the groupby object:"
      ]
    },
    {
      "cell_type": "code",
      "execution_count": 12,
      "id": "ddb7d994",
      "metadata": {
        "id": "ddb7d994",
        "outputId": "af7f03ae-206b-4ff9-89b2-6a1a956a501d",
        "colab": {
          "base_uri": "https://localhost:8080/"
        }
      },
      "outputs": [
        {
          "output_type": "stream",
          "name": "stdout",
          "text": [
            "First 2 entries for 'female'\n",
            "---------------\n",
            "   PassengerId  Survived  Pclass  \\\n",
            "1            2         1       1   \n",
            "2            3         1       3   \n",
            "\n",
            "                                                Name     Sex   Age  SibSp  \\\n",
            "1  Cumings, Mrs. John Bradley (Florence Briggs Th...  female  38.0      1   \n",
            "2                             Heikkinen, Miss. Laina  female  26.0      0   \n",
            "\n",
            "   Parch            Ticket     Fare Cabin Embarked  \n",
            "1      0          PC 17599  71.2833   C85        C  \n",
            "2      0  STON/O2. 3101282   7.9250   NaN        S  \n",
            "\n",
            "First 2 entries for 'male'\n",
            "---------------\n",
            "   PassengerId  Survived  Pclass                      Name   Sex   Age  SibSp  \\\n",
            "0            1         0       3   Braund, Mr. Owen Harris  male  22.0      1   \n",
            "4            5         0       3  Allen, Mr. William Henry  male  35.0      0   \n",
            "\n",
            "   Parch     Ticket  Fare Cabin Embarked  \n",
            "0      0  A/5 21171  7.25   NaN        S  \n",
            "4      0     373450  8.05   NaN        S  \n",
            "\n"
          ]
        }
      ],
      "source": [
        "for sex, frame in age_sex:\n",
        "    print(f\"First 2 entries for {sex!r}\")\n",
        "    print(\"---------------\")\n",
        "    print(frame.head(2), end=\"\\n\\n\")"
      ]
    },
    {
      "cell_type": "markdown",
      "id": "c8d23d98",
      "metadata": {
        "id": "c8d23d98"
      },
      "source": [
        "The groupby object is also in some way a dictionary with the group names as keys and the group labels as values (if we call the .groups method on it). So we can index it as a normal dictionary when we call its groups:"
      ]
    },
    {
      "cell_type": "code",
      "execution_count": 13,
      "id": "4475ef44",
      "metadata": {
        "id": "4475ef44",
        "outputId": "e90d87ca-60d8-4676-a969-00e7a29990ee",
        "colab": {
          "base_uri": "https://localhost:8080/"
        }
      },
      "outputs": [
        {
          "output_type": "execute_result",
          "data": {
            "text/plain": [
              "['Age',\n",
              " 'Cabin',\n",
              " 'Embarked',\n",
              " 'Fare',\n",
              " 'Name',\n",
              " 'Parch',\n",
              " 'PassengerId',\n",
              " 'Pclass',\n",
              " 'Sex',\n",
              " 'SibSp',\n",
              " 'Survived',\n",
              " 'Ticket',\n",
              " '__annotations__',\n",
              " '__class__',\n",
              " '__class_getitem__',\n",
              " '__delattr__',\n",
              " '__dict__',\n",
              " '__dir__',\n",
              " '__doc__',\n",
              " '__eq__',\n",
              " '__format__',\n",
              " '__ge__',\n",
              " '__getattr__',\n",
              " '__getattribute__',\n",
              " '__getitem__',\n",
              " '__gt__',\n",
              " '__hash__',\n",
              " '__init__',\n",
              " '__init_subclass__',\n",
              " '__iter__',\n",
              " '__le__',\n",
              " '__len__',\n",
              " '__lt__',\n",
              " '__module__',\n",
              " '__ne__',\n",
              " '__new__',\n",
              " '__orig_bases__',\n",
              " '__parameters__',\n",
              " '__reduce__',\n",
              " '__reduce_ex__',\n",
              " '__repr__',\n",
              " '__setattr__',\n",
              " '__sizeof__',\n",
              " '__slots__',\n",
              " '__str__',\n",
              " '__subclasshook__',\n",
              " '__weakref__',\n",
              " '_accessors',\n",
              " '_agg_examples_doc',\n",
              " '_agg_general',\n",
              " '_agg_py_fallback',\n",
              " '_aggregate_frame',\n",
              " '_aggregate_item_by_item',\n",
              " '_aggregate_with_numba',\n",
              " '_apply_allowlist',\n",
              " '_apply_filter',\n",
              " '_apply_to_column_groupbys',\n",
              " '_bool_agg',\n",
              " '_can_use_transform_fast',\n",
              " '_choose_path',\n",
              " '_concat_objects',\n",
              " '_constructor',\n",
              " '_cumcount_array',\n",
              " '_cython_agg_general',\n",
              " '_cython_transform',\n",
              " '_define_paths',\n",
              " '_dir_additions',\n",
              " '_dir_deletions',\n",
              " '_fill',\n",
              " '_get_cythonized_result',\n",
              " '_get_data_to_aggregate',\n",
              " '_get_index',\n",
              " '_get_indices',\n",
              " '_gotitem',\n",
              " '_group_selection',\n",
              " '_hidden_attrs',\n",
              " '_insert_inaxis_grouper_inplace',\n",
              " '_internal_names',\n",
              " '_internal_names_set',\n",
              " '_iterate_column_groupbys',\n",
              " '_iterate_slices',\n",
              " '_make_wrapper',\n",
              " '_numba_prep',\n",
              " '_obj_1d_constructor',\n",
              " '_obj_with_exclusions',\n",
              " '_python_agg_general',\n",
              " '_python_apply_general',\n",
              " '_reindex_output',\n",
              " '_reset_cache',\n",
              " '_reset_group_selection',\n",
              " '_resolve_numeric_only',\n",
              " '_selected_obj',\n",
              " '_selection',\n",
              " '_selection_list',\n",
              " '_set_group_selection',\n",
              " '_set_result_index_ordered',\n",
              " '_transform',\n",
              " '_transform_general',\n",
              " '_transform_item_by_item',\n",
              " '_transform_with_numba',\n",
              " '_wrap_agged_manager',\n",
              " '_wrap_aggregated_output',\n",
              " '_wrap_applied_output',\n",
              " '_wrap_applied_output_series',\n",
              " '_wrap_transform_fast_result',\n",
              " '_wrap_transformed_output',\n",
              " 'agg',\n",
              " 'aggregate',\n",
              " 'all',\n",
              " 'any',\n",
              " 'apply',\n",
              " 'backfill',\n",
              " 'bfill',\n",
              " 'boxplot',\n",
              " 'corr',\n",
              " 'corrwith',\n",
              " 'count',\n",
              " 'cov',\n",
              " 'cumcount',\n",
              " 'cummax',\n",
              " 'cummin',\n",
              " 'cumprod',\n",
              " 'cumsum',\n",
              " 'describe',\n",
              " 'diff',\n",
              " 'dtypes',\n",
              " 'ewm',\n",
              " 'expanding',\n",
              " 'ffill',\n",
              " 'fillna',\n",
              " 'filter',\n",
              " 'first',\n",
              " 'get_group',\n",
              " 'groups',\n",
              " 'head',\n",
              " 'hist',\n",
              " 'idxmax',\n",
              " 'idxmin',\n",
              " 'indices',\n",
              " 'last',\n",
              " 'mad',\n",
              " 'max',\n",
              " 'mean',\n",
              " 'median',\n",
              " 'min',\n",
              " 'ndim',\n",
              " 'ngroup',\n",
              " 'ngroups',\n",
              " 'nth',\n",
              " 'nunique',\n",
              " 'ohlc',\n",
              " 'pad',\n",
              " 'pct_change',\n",
              " 'pipe',\n",
              " 'plot',\n",
              " 'prod',\n",
              " 'quantile',\n",
              " 'rank',\n",
              " 'resample',\n",
              " 'rolling',\n",
              " 'sample',\n",
              " 'sem',\n",
              " 'shift',\n",
              " 'size',\n",
              " 'skew',\n",
              " 'std',\n",
              " 'sum',\n",
              " 'tail',\n",
              " 'take',\n",
              " 'transform',\n",
              " 'tshift',\n",
              " 'var']"
            ]
          },
          "metadata": {},
          "execution_count": 13
        }
      ],
      "source": [
        "dir(age_sex)"
      ]
    },
    {
      "cell_type": "markdown",
      "id": "e0aca83f",
      "metadata": {
        "id": "e0aca83f"
      },
      "source": [
        "As you see, the groupby object has a lot of methods! In general, you can categorize them into one of the following:\n",
        "\n",
        "1. **Aggregation/reductions methods**: Squashes a lot of data points into a single number (e.g. mean, median, sum, count)\n",
        "\n",
        "2. **Filter methods** (including .filter()): Gives back a subset of the original DataFrame, either columns or rows based on some boolean expression\n",
        "\n",
        "3. **Tranformation methods**: Transforms data in the DataFrame (e.g. unit conversion), but leaves the shape of the DataFrame untouched\n",
        "\n",
        "4. **Meta methods**: Do not change the original dataframe, but give you information about the outcome of the grouping/splitting process (e.g. .groups, get.group, ...)\n",
        "\n",
        "5. **Plotting methods**: Similar to normal Pandas plotting, but gives back multiple subplots based on the grouping.\n",
        "\n",
        "Here a visual intituition about those categories:"
      ]
    },
    {
      "cell_type": "markdown",
      "id": "39301bd2",
      "metadata": {
        "id": "39301bd2"
      },
      "source": [
        "<div>\n",
        "<img src=\"https://github.com/kdidi99/Python_for_Biochemists/blob/main/images/Groupby_methods.png?raw=1\", width=800>\n",
        "\n",
        "</div>\n"
      ]
    },
    {
      "cell_type": "code",
      "execution_count": 14,
      "id": "5ddb84dd",
      "metadata": {
        "id": "5ddb84dd",
        "outputId": "662db65a-3ee2-49ed-b597-a23aebb18ce1",
        "colab": {
          "base_uri": "https://localhost:8080/"
        }
      },
      "outputs": [
        {
          "output_type": "execute_result",
          "data": {
            "text/plain": [
              "Int64Index([  1,   2,   3,   8,   9,  10,  11,  14,  15,  18,\n",
              "            ...\n",
              "            866, 871, 874, 875, 879, 880, 882, 885, 887, 888],\n",
              "           dtype='int64', length=314)"
            ]
          },
          "metadata": {},
          "execution_count": 14
        }
      ],
      "source": [
        "age_sex.groups[\"female\"]"
      ]
    },
    {
      "cell_type": "code",
      "execution_count": 15,
      "id": "5ff0c301",
      "metadata": {
        "id": "5ff0c301",
        "outputId": "54a2ecf3-3895-4ebe-af42-e0465c35e854",
        "colab": {
          "base_uri": "https://localhost:8080/",
          "height": 424
        }
      },
      "outputs": [
        {
          "output_type": "execute_result",
          "data": {
            "text/plain": [
              "     PassengerId  Survived  Pclass                            Name   Sex  \\\n",
              "0              1         0       3         Braund, Mr. Owen Harris  male   \n",
              "4              5         0       3        Allen, Mr. William Henry  male   \n",
              "5              6         0       3                Moran, Mr. James  male   \n",
              "6              7         0       1         McCarthy, Mr. Timothy J  male   \n",
              "7              8         0       3  Palsson, Master. Gosta Leonard  male   \n",
              "..           ...       ...     ...                             ...   ...   \n",
              "883          884         0       2   Banfield, Mr. Frederick James  male   \n",
              "884          885         0       3          Sutehall, Mr. Henry Jr  male   \n",
              "886          887         0       2           Montvila, Rev. Juozas  male   \n",
              "889          890         1       1           Behr, Mr. Karl Howell  male   \n",
              "890          891         0       3             Dooley, Mr. Patrick  male   \n",
              "\n",
              "      Age  SibSp  Parch            Ticket     Fare Cabin Embarked  \n",
              "0    22.0      1      0         A/5 21171   7.2500   NaN        S  \n",
              "4    35.0      0      0            373450   8.0500   NaN        S  \n",
              "5     NaN      0      0            330877   8.4583   NaN        Q  \n",
              "6    54.0      0      0             17463  51.8625   E46        S  \n",
              "7     2.0      3      1            349909  21.0750   NaN        S  \n",
              "..    ...    ...    ...               ...      ...   ...      ...  \n",
              "883  28.0      0      0  C.A./SOTON 34068  10.5000   NaN        S  \n",
              "884  25.0      0      0   SOTON/OQ 392076   7.0500   NaN        S  \n",
              "886  27.0      0      0            211536  13.0000   NaN        S  \n",
              "889  26.0      0      0            111369  30.0000  C148        C  \n",
              "890  32.0      0      0            370376   7.7500   NaN        Q  \n",
              "\n",
              "[577 rows x 12 columns]"
            ],
            "text/html": [
              "\n",
              "  <div id=\"df-0dbd34ec-93b2-445f-95a7-21ab569ffde7\">\n",
              "    <div class=\"colab-df-container\">\n",
              "      <div>\n",
              "<style scoped>\n",
              "    .dataframe tbody tr th:only-of-type {\n",
              "        vertical-align: middle;\n",
              "    }\n",
              "\n",
              "    .dataframe tbody tr th {\n",
              "        vertical-align: top;\n",
              "    }\n",
              "\n",
              "    .dataframe thead th {\n",
              "        text-align: right;\n",
              "    }\n",
              "</style>\n",
              "<table border=\"1\" class=\"dataframe\">\n",
              "  <thead>\n",
              "    <tr style=\"text-align: right;\">\n",
              "      <th></th>\n",
              "      <th>PassengerId</th>\n",
              "      <th>Survived</th>\n",
              "      <th>Pclass</th>\n",
              "      <th>Name</th>\n",
              "      <th>Sex</th>\n",
              "      <th>Age</th>\n",
              "      <th>SibSp</th>\n",
              "      <th>Parch</th>\n",
              "      <th>Ticket</th>\n",
              "      <th>Fare</th>\n",
              "      <th>Cabin</th>\n",
              "      <th>Embarked</th>\n",
              "    </tr>\n",
              "  </thead>\n",
              "  <tbody>\n",
              "    <tr>\n",
              "      <th>0</th>\n",
              "      <td>1</td>\n",
              "      <td>0</td>\n",
              "      <td>3</td>\n",
              "      <td>Braund, Mr. Owen Harris</td>\n",
              "      <td>male</td>\n",
              "      <td>22.0</td>\n",
              "      <td>1</td>\n",
              "      <td>0</td>\n",
              "      <td>A/5 21171</td>\n",
              "      <td>7.2500</td>\n",
              "      <td>NaN</td>\n",
              "      <td>S</td>\n",
              "    </tr>\n",
              "    <tr>\n",
              "      <th>4</th>\n",
              "      <td>5</td>\n",
              "      <td>0</td>\n",
              "      <td>3</td>\n",
              "      <td>Allen, Mr. William Henry</td>\n",
              "      <td>male</td>\n",
              "      <td>35.0</td>\n",
              "      <td>0</td>\n",
              "      <td>0</td>\n",
              "      <td>373450</td>\n",
              "      <td>8.0500</td>\n",
              "      <td>NaN</td>\n",
              "      <td>S</td>\n",
              "    </tr>\n",
              "    <tr>\n",
              "      <th>5</th>\n",
              "      <td>6</td>\n",
              "      <td>0</td>\n",
              "      <td>3</td>\n",
              "      <td>Moran, Mr. James</td>\n",
              "      <td>male</td>\n",
              "      <td>NaN</td>\n",
              "      <td>0</td>\n",
              "      <td>0</td>\n",
              "      <td>330877</td>\n",
              "      <td>8.4583</td>\n",
              "      <td>NaN</td>\n",
              "      <td>Q</td>\n",
              "    </tr>\n",
              "    <tr>\n",
              "      <th>6</th>\n",
              "      <td>7</td>\n",
              "      <td>0</td>\n",
              "      <td>1</td>\n",
              "      <td>McCarthy, Mr. Timothy J</td>\n",
              "      <td>male</td>\n",
              "      <td>54.0</td>\n",
              "      <td>0</td>\n",
              "      <td>0</td>\n",
              "      <td>17463</td>\n",
              "      <td>51.8625</td>\n",
              "      <td>E46</td>\n",
              "      <td>S</td>\n",
              "    </tr>\n",
              "    <tr>\n",
              "      <th>7</th>\n",
              "      <td>8</td>\n",
              "      <td>0</td>\n",
              "      <td>3</td>\n",
              "      <td>Palsson, Master. Gosta Leonard</td>\n",
              "      <td>male</td>\n",
              "      <td>2.0</td>\n",
              "      <td>3</td>\n",
              "      <td>1</td>\n",
              "      <td>349909</td>\n",
              "      <td>21.0750</td>\n",
              "      <td>NaN</td>\n",
              "      <td>S</td>\n",
              "    </tr>\n",
              "    <tr>\n",
              "      <th>...</th>\n",
              "      <td>...</td>\n",
              "      <td>...</td>\n",
              "      <td>...</td>\n",
              "      <td>...</td>\n",
              "      <td>...</td>\n",
              "      <td>...</td>\n",
              "      <td>...</td>\n",
              "      <td>...</td>\n",
              "      <td>...</td>\n",
              "      <td>...</td>\n",
              "      <td>...</td>\n",
              "      <td>...</td>\n",
              "    </tr>\n",
              "    <tr>\n",
              "      <th>883</th>\n",
              "      <td>884</td>\n",
              "      <td>0</td>\n",
              "      <td>2</td>\n",
              "      <td>Banfield, Mr. Frederick James</td>\n",
              "      <td>male</td>\n",
              "      <td>28.0</td>\n",
              "      <td>0</td>\n",
              "      <td>0</td>\n",
              "      <td>C.A./SOTON 34068</td>\n",
              "      <td>10.5000</td>\n",
              "      <td>NaN</td>\n",
              "      <td>S</td>\n",
              "    </tr>\n",
              "    <tr>\n",
              "      <th>884</th>\n",
              "      <td>885</td>\n",
              "      <td>0</td>\n",
              "      <td>3</td>\n",
              "      <td>Sutehall, Mr. Henry Jr</td>\n",
              "      <td>male</td>\n",
              "      <td>25.0</td>\n",
              "      <td>0</td>\n",
              "      <td>0</td>\n",
              "      <td>SOTON/OQ 392076</td>\n",
              "      <td>7.0500</td>\n",
              "      <td>NaN</td>\n",
              "      <td>S</td>\n",
              "    </tr>\n",
              "    <tr>\n",
              "      <th>886</th>\n",
              "      <td>887</td>\n",
              "      <td>0</td>\n",
              "      <td>2</td>\n",
              "      <td>Montvila, Rev. Juozas</td>\n",
              "      <td>male</td>\n",
              "      <td>27.0</td>\n",
              "      <td>0</td>\n",
              "      <td>0</td>\n",
              "      <td>211536</td>\n",
              "      <td>13.0000</td>\n",
              "      <td>NaN</td>\n",
              "      <td>S</td>\n",
              "    </tr>\n",
              "    <tr>\n",
              "      <th>889</th>\n",
              "      <td>890</td>\n",
              "      <td>1</td>\n",
              "      <td>1</td>\n",
              "      <td>Behr, Mr. Karl Howell</td>\n",
              "      <td>male</td>\n",
              "      <td>26.0</td>\n",
              "      <td>0</td>\n",
              "      <td>0</td>\n",
              "      <td>111369</td>\n",
              "      <td>30.0000</td>\n",
              "      <td>C148</td>\n",
              "      <td>C</td>\n",
              "    </tr>\n",
              "    <tr>\n",
              "      <th>890</th>\n",
              "      <td>891</td>\n",
              "      <td>0</td>\n",
              "      <td>3</td>\n",
              "      <td>Dooley, Mr. Patrick</td>\n",
              "      <td>male</td>\n",
              "      <td>32.0</td>\n",
              "      <td>0</td>\n",
              "      <td>0</td>\n",
              "      <td>370376</td>\n",
              "      <td>7.7500</td>\n",
              "      <td>NaN</td>\n",
              "      <td>Q</td>\n",
              "    </tr>\n",
              "  </tbody>\n",
              "</table>\n",
              "<p>577 rows × 12 columns</p>\n",
              "</div>\n",
              "      <button class=\"colab-df-convert\" onclick=\"convertToInteractive('df-0dbd34ec-93b2-445f-95a7-21ab569ffde7')\"\n",
              "              title=\"Convert this dataframe to an interactive table.\"\n",
              "              style=\"display:none;\">\n",
              "        \n",
              "  <svg xmlns=\"http://www.w3.org/2000/svg\" height=\"24px\"viewBox=\"0 0 24 24\"\n",
              "       width=\"24px\">\n",
              "    <path d=\"M0 0h24v24H0V0z\" fill=\"none\"/>\n",
              "    <path d=\"M18.56 5.44l.94 2.06.94-2.06 2.06-.94-2.06-.94-.94-2.06-.94 2.06-2.06.94zm-11 1L8.5 8.5l.94-2.06 2.06-.94-2.06-.94L8.5 2.5l-.94 2.06-2.06.94zm10 10l.94 2.06.94-2.06 2.06-.94-2.06-.94-.94-2.06-.94 2.06-2.06.94z\"/><path d=\"M17.41 7.96l-1.37-1.37c-.4-.4-.92-.59-1.43-.59-.52 0-1.04.2-1.43.59L10.3 9.45l-7.72 7.72c-.78.78-.78 2.05 0 2.83L4 21.41c.39.39.9.59 1.41.59.51 0 1.02-.2 1.41-.59l7.78-7.78 2.81-2.81c.8-.78.8-2.07 0-2.86zM5.41 20L4 18.59l7.72-7.72 1.47 1.35L5.41 20z\"/>\n",
              "  </svg>\n",
              "      </button>\n",
              "      \n",
              "  <style>\n",
              "    .colab-df-container {\n",
              "      display:flex;\n",
              "      flex-wrap:wrap;\n",
              "      gap: 12px;\n",
              "    }\n",
              "\n",
              "    .colab-df-convert {\n",
              "      background-color: #E8F0FE;\n",
              "      border: none;\n",
              "      border-radius: 50%;\n",
              "      cursor: pointer;\n",
              "      display: none;\n",
              "      fill: #1967D2;\n",
              "      height: 32px;\n",
              "      padding: 0 0 0 0;\n",
              "      width: 32px;\n",
              "    }\n",
              "\n",
              "    .colab-df-convert:hover {\n",
              "      background-color: #E2EBFA;\n",
              "      box-shadow: 0px 1px 2px rgba(60, 64, 67, 0.3), 0px 1px 3px 1px rgba(60, 64, 67, 0.15);\n",
              "      fill: #174EA6;\n",
              "    }\n",
              "\n",
              "    [theme=dark] .colab-df-convert {\n",
              "      background-color: #3B4455;\n",
              "      fill: #D2E3FC;\n",
              "    }\n",
              "\n",
              "    [theme=dark] .colab-df-convert:hover {\n",
              "      background-color: #434B5C;\n",
              "      box-shadow: 0px 1px 3px 1px rgba(0, 0, 0, 0.15);\n",
              "      filter: drop-shadow(0px 1px 2px rgba(0, 0, 0, 0.3));\n",
              "      fill: #FFFFFF;\n",
              "    }\n",
              "  </style>\n",
              "\n",
              "      <script>\n",
              "        const buttonEl =\n",
              "          document.querySelector('#df-0dbd34ec-93b2-445f-95a7-21ab569ffde7 button.colab-df-convert');\n",
              "        buttonEl.style.display =\n",
              "          google.colab.kernel.accessAllowed ? 'block' : 'none';\n",
              "\n",
              "        async function convertToInteractive(key) {\n",
              "          const element = document.querySelector('#df-0dbd34ec-93b2-445f-95a7-21ab569ffde7');\n",
              "          const dataTable =\n",
              "            await google.colab.kernel.invokeFunction('convertToInteractive',\n",
              "                                                     [key], {});\n",
              "          if (!dataTable) return;\n",
              "\n",
              "          const docLinkHtml = 'Like what you see? Visit the ' +\n",
              "            '<a target=\"_blank\" href=https://colab.research.google.com/notebooks/data_table.ipynb>data table notebook</a>'\n",
              "            + ' to learn more about interactive tables.';\n",
              "          element.innerHTML = '';\n",
              "          dataTable['output_type'] = 'display_data';\n",
              "          await google.colab.output.renderOutput(dataTable, element);\n",
              "          const docLink = document.createElement('div');\n",
              "          docLink.innerHTML = docLinkHtml;\n",
              "          element.appendChild(docLink);\n",
              "        }\n",
              "      </script>\n",
              "    </div>\n",
              "  </div>\n",
              "  "
            ]
          },
          "metadata": {},
          "execution_count": 15
        }
      ],
      "source": [
        "age_sex.get_group(\"male\") #same as df_us.loc[df[\"Sex\"] == \"male\"]"
      ]
    },
    {
      "cell_type": "markdown",
      "id": "0782993b",
      "metadata": {
        "id": "0782993b"
      },
      "source": [
        "In the apply step, we choose some specific operation (aggregation, transformation, filtration) and apply it to every data subset that we produced during splitting:"
      ]
    },
    {
      "cell_type": "code",
      "execution_count": 16,
      "id": "d210b9aa",
      "metadata": {
        "id": "d210b9aa",
        "outputId": "6c1ce196-1f5d-499d-d649-bfee89c2b529",
        "colab": {
          "base_uri": "https://localhost:8080/",
          "height": 206
        }
      },
      "outputs": [
        {
          "output_type": "execute_result",
          "data": {
            "text/plain": [
              "   PassengerId  Survived  Pclass  \\\n",
              "1            2         1       1   \n",
              "2            3         1       3   \n",
              "3            4         1       1   \n",
              "8            9         1       3   \n",
              "9           10         1       2   \n",
              "\n",
              "                                                Name     Sex   Age  SibSp  \\\n",
              "1  Cumings, Mrs. John Bradley (Florence Briggs Th...  female  38.0      1   \n",
              "2                             Heikkinen, Miss. Laina  female  26.0      0   \n",
              "3       Futrelle, Mrs. Jacques Heath (Lily May Peel)  female  35.0      1   \n",
              "8  Johnson, Mrs. Oscar W (Elisabeth Vilhelmina Berg)  female  27.0      0   \n",
              "9                Nasser, Mrs. Nicholas (Adele Achem)  female  14.0      1   \n",
              "\n",
              "   Parch            Ticket     Fare Cabin Embarked  \n",
              "1      0          PC 17599  71.2833   C85        C  \n",
              "2      0  STON/O2. 3101282   7.9250   NaN        S  \n",
              "3      0            113803  53.1000  C123        S  \n",
              "8      2            347742  11.1333   NaN        S  \n",
              "9      0            237736  30.0708   NaN        C  "
            ],
            "text/html": [
              "\n",
              "  <div id=\"df-204b6e3b-c3e4-45ce-b55e-0daf8e038c58\">\n",
              "    <div class=\"colab-df-container\">\n",
              "      <div>\n",
              "<style scoped>\n",
              "    .dataframe tbody tr th:only-of-type {\n",
              "        vertical-align: middle;\n",
              "    }\n",
              "\n",
              "    .dataframe tbody tr th {\n",
              "        vertical-align: top;\n",
              "    }\n",
              "\n",
              "    .dataframe thead th {\n",
              "        text-align: right;\n",
              "    }\n",
              "</style>\n",
              "<table border=\"1\" class=\"dataframe\">\n",
              "  <thead>\n",
              "    <tr style=\"text-align: right;\">\n",
              "      <th></th>\n",
              "      <th>PassengerId</th>\n",
              "      <th>Survived</th>\n",
              "      <th>Pclass</th>\n",
              "      <th>Name</th>\n",
              "      <th>Sex</th>\n",
              "      <th>Age</th>\n",
              "      <th>SibSp</th>\n",
              "      <th>Parch</th>\n",
              "      <th>Ticket</th>\n",
              "      <th>Fare</th>\n",
              "      <th>Cabin</th>\n",
              "      <th>Embarked</th>\n",
              "    </tr>\n",
              "  </thead>\n",
              "  <tbody>\n",
              "    <tr>\n",
              "      <th>1</th>\n",
              "      <td>2</td>\n",
              "      <td>1</td>\n",
              "      <td>1</td>\n",
              "      <td>Cumings, Mrs. John Bradley (Florence Briggs Th...</td>\n",
              "      <td>female</td>\n",
              "      <td>38.0</td>\n",
              "      <td>1</td>\n",
              "      <td>0</td>\n",
              "      <td>PC 17599</td>\n",
              "      <td>71.2833</td>\n",
              "      <td>C85</td>\n",
              "      <td>C</td>\n",
              "    </tr>\n",
              "    <tr>\n",
              "      <th>2</th>\n",
              "      <td>3</td>\n",
              "      <td>1</td>\n",
              "      <td>3</td>\n",
              "      <td>Heikkinen, Miss. Laina</td>\n",
              "      <td>female</td>\n",
              "      <td>26.0</td>\n",
              "      <td>0</td>\n",
              "      <td>0</td>\n",
              "      <td>STON/O2. 3101282</td>\n",
              "      <td>7.9250</td>\n",
              "      <td>NaN</td>\n",
              "      <td>S</td>\n",
              "    </tr>\n",
              "    <tr>\n",
              "      <th>3</th>\n",
              "      <td>4</td>\n",
              "      <td>1</td>\n",
              "      <td>1</td>\n",
              "      <td>Futrelle, Mrs. Jacques Heath (Lily May Peel)</td>\n",
              "      <td>female</td>\n",
              "      <td>35.0</td>\n",
              "      <td>1</td>\n",
              "      <td>0</td>\n",
              "      <td>113803</td>\n",
              "      <td>53.1000</td>\n",
              "      <td>C123</td>\n",
              "      <td>S</td>\n",
              "    </tr>\n",
              "    <tr>\n",
              "      <th>8</th>\n",
              "      <td>9</td>\n",
              "      <td>1</td>\n",
              "      <td>3</td>\n",
              "      <td>Johnson, Mrs. Oscar W (Elisabeth Vilhelmina Berg)</td>\n",
              "      <td>female</td>\n",
              "      <td>27.0</td>\n",
              "      <td>0</td>\n",
              "      <td>2</td>\n",
              "      <td>347742</td>\n",
              "      <td>11.1333</td>\n",
              "      <td>NaN</td>\n",
              "      <td>S</td>\n",
              "    </tr>\n",
              "    <tr>\n",
              "      <th>9</th>\n",
              "      <td>10</td>\n",
              "      <td>1</td>\n",
              "      <td>2</td>\n",
              "      <td>Nasser, Mrs. Nicholas (Adele Achem)</td>\n",
              "      <td>female</td>\n",
              "      <td>14.0</td>\n",
              "      <td>1</td>\n",
              "      <td>0</td>\n",
              "      <td>237736</td>\n",
              "      <td>30.0708</td>\n",
              "      <td>NaN</td>\n",
              "      <td>C</td>\n",
              "    </tr>\n",
              "  </tbody>\n",
              "</table>\n",
              "</div>\n",
              "      <button class=\"colab-df-convert\" onclick=\"convertToInteractive('df-204b6e3b-c3e4-45ce-b55e-0daf8e038c58')\"\n",
              "              title=\"Convert this dataframe to an interactive table.\"\n",
              "              style=\"display:none;\">\n",
              "        \n",
              "  <svg xmlns=\"http://www.w3.org/2000/svg\" height=\"24px\"viewBox=\"0 0 24 24\"\n",
              "       width=\"24px\">\n",
              "    <path d=\"M0 0h24v24H0V0z\" fill=\"none\"/>\n",
              "    <path d=\"M18.56 5.44l.94 2.06.94-2.06 2.06-.94-2.06-.94-.94-2.06-.94 2.06-2.06.94zm-11 1L8.5 8.5l.94-2.06 2.06-.94-2.06-.94L8.5 2.5l-.94 2.06-2.06.94zm10 10l.94 2.06.94-2.06 2.06-.94-2.06-.94-.94-2.06-.94 2.06-2.06.94z\"/><path d=\"M17.41 7.96l-1.37-1.37c-.4-.4-.92-.59-1.43-.59-.52 0-1.04.2-1.43.59L10.3 9.45l-7.72 7.72c-.78.78-.78 2.05 0 2.83L4 21.41c.39.39.9.59 1.41.59.51 0 1.02-.2 1.41-.59l7.78-7.78 2.81-2.81c.8-.78.8-2.07 0-2.86zM5.41 20L4 18.59l7.72-7.72 1.47 1.35L5.41 20z\"/>\n",
              "  </svg>\n",
              "      </button>\n",
              "      \n",
              "  <style>\n",
              "    .colab-df-container {\n",
              "      display:flex;\n",
              "      flex-wrap:wrap;\n",
              "      gap: 12px;\n",
              "    }\n",
              "\n",
              "    .colab-df-convert {\n",
              "      background-color: #E8F0FE;\n",
              "      border: none;\n",
              "      border-radius: 50%;\n",
              "      cursor: pointer;\n",
              "      display: none;\n",
              "      fill: #1967D2;\n",
              "      height: 32px;\n",
              "      padding: 0 0 0 0;\n",
              "      width: 32px;\n",
              "    }\n",
              "\n",
              "    .colab-df-convert:hover {\n",
              "      background-color: #E2EBFA;\n",
              "      box-shadow: 0px 1px 2px rgba(60, 64, 67, 0.3), 0px 1px 3px 1px rgba(60, 64, 67, 0.15);\n",
              "      fill: #174EA6;\n",
              "    }\n",
              "\n",
              "    [theme=dark] .colab-df-convert {\n",
              "      background-color: #3B4455;\n",
              "      fill: #D2E3FC;\n",
              "    }\n",
              "\n",
              "    [theme=dark] .colab-df-convert:hover {\n",
              "      background-color: #434B5C;\n",
              "      box-shadow: 0px 1px 3px 1px rgba(0, 0, 0, 0.15);\n",
              "      filter: drop-shadow(0px 1px 2px rgba(0, 0, 0, 0.3));\n",
              "      fill: #FFFFFF;\n",
              "    }\n",
              "  </style>\n",
              "\n",
              "      <script>\n",
              "        const buttonEl =\n",
              "          document.querySelector('#df-204b6e3b-c3e4-45ce-b55e-0daf8e038c58 button.colab-df-convert');\n",
              "        buttonEl.style.display =\n",
              "          google.colab.kernel.accessAllowed ? 'block' : 'none';\n",
              "\n",
              "        async function convertToInteractive(key) {\n",
              "          const element = document.querySelector('#df-204b6e3b-c3e4-45ce-b55e-0daf8e038c58');\n",
              "          const dataTable =\n",
              "            await google.colab.kernel.invokeFunction('convertToInteractive',\n",
              "                                                     [key], {});\n",
              "          if (!dataTable) return;\n",
              "\n",
              "          const docLinkHtml = 'Like what you see? Visit the ' +\n",
              "            '<a target=\"_blank\" href=https://colab.research.google.com/notebooks/data_table.ipynb>data table notebook</a>'\n",
              "            + ' to learn more about interactive tables.';\n",
              "          element.innerHTML = '';\n",
              "          dataTable['output_type'] = 'display_data';\n",
              "          await google.colab.output.renderOutput(dataTable, element);\n",
              "          const docLink = document.createElement('div');\n",
              "          docLink.innerHTML = docLinkHtml;\n",
              "          element.appendChild(docLink);\n",
              "        }\n",
              "      </script>\n",
              "    </div>\n",
              "  </div>\n",
              "  "
            ]
          },
          "metadata": {},
          "execution_count": 16
        }
      ],
      "source": [
        "#get first tuple from iterator groupby object:\n",
        "sex, frame = next(iter(age_sex))\n",
        "sex\n",
        "frame.head(5)"
      ]
    },
    {
      "cell_type": "code",
      "execution_count": 20,
      "id": "654da828",
      "metadata": {
        "id": "654da828",
        "outputId": "56f41b24-bee6-4f54-947c-c98cf050494f",
        "colab": {
          "base_uri": "https://localhost:8080/"
        }
      },
      "outputs": [
        {
          "output_type": "execute_result",
          "data": {
            "text/plain": [
              "27.915708812260537"
            ]
          },
          "metadata": {},
          "execution_count": 20
        }
      ],
      "source": [
        "#apply stage applied to one of the DataFrames containing a data subset:\n",
        "frame[\"Age\"].mean()"
      ]
    },
    {
      "cell_type": "markdown",
      "id": "eef06267",
      "metadata": {
        "id": "eef06267"
      },
      "source": [
        "Combine then only combines all the results from the different subsets and combines them. Here the visual intuition from the beginning, together with the corresponding commands we used ( example in the [Pandas docs](https://pandas.pydata.org/pandas-docs/stable/getting_started/intro_tutorials/06_calculate_statistics.html)):"
      ]
    },
    {
      "cell_type": "markdown",
      "source": [
        "<div>\n",
        "<img src=\"https://github.com/kdidi99/Python_for_Biochemists/blob/main/images/06_groupby_select_detail.jpg?raw=1\", width=900>\n",
        "</div>"
      ],
      "metadata": {
        "id": "VpMISu0UtUdX"
      },
      "id": "VpMISu0UtUdX"
    },
    {
      "cell_type": "markdown",
      "id": "d14bb433",
      "metadata": {
        "id": "d14bb433"
      },
      "source": [
        "So far, we grouped based on a string, eg df.groupby(\"state\"). But we could also use different arguments, for example a list of columns instead of a single one, a dict or PandasSeries or a NumPy array or a PandasIndex (or array-like objects of the last two)."
      ]
    },
    {
      "cell_type": "code",
      "execution_count": null,
      "id": "7091d004",
      "metadata": {
        "id": "7091d004"
      },
      "outputs": [],
      "source": [
        "df_air = pd.read_csv(\n",
        "    \"../additional_data/airqual.csv\",\n",
        "    parse_dates=[[\"Date\", \"Time\"]],\n",
        "    na_values=[-200],\n",
        "    usecols=[\"Date\", \"Time\", \"CO(GT)\", \"T\", \"RH\", \"AH\"]\n",
        ").rename(\n",
        "    columns={\n",
        "        \"CO(GT)\": \"co\",\n",
        "        \"Date_Time\": \"tstamp\",\n",
        "        \"T\": \"temp_c\",\n",
        "        \"RH\": \"rel_hum\",\n",
        "        \"AH\": \"abs_hum\",\n",
        "    }\n",
        ").set_index(\"tstamp\")"
      ]
    },
    {
      "cell_type": "code",
      "execution_count": null,
      "id": "e4923327",
      "metadata": {
        "id": "e4923327",
        "outputId": "a337c19f-dd5c-456e-e3ad-5c857713de4c"
      },
      "outputs": [
        {
          "data": {
            "text/html": [
              "<div>\n",
              "<style scoped>\n",
              "    .dataframe tbody tr th:only-of-type {\n",
              "        vertical-align: middle;\n",
              "    }\n",
              "\n",
              "    .dataframe tbody tr th {\n",
              "        vertical-align: top;\n",
              "    }\n",
              "\n",
              "    .dataframe thead th {\n",
              "        text-align: right;\n",
              "    }\n",
              "</style>\n",
              "<table border=\"1\" class=\"dataframe\">\n",
              "  <thead>\n",
              "    <tr style=\"text-align: right;\">\n",
              "      <th></th>\n",
              "      <th>co</th>\n",
              "      <th>temp_c</th>\n",
              "      <th>rel_hum</th>\n",
              "      <th>abs_hum</th>\n",
              "    </tr>\n",
              "    <tr>\n",
              "      <th>tstamp</th>\n",
              "      <th></th>\n",
              "      <th></th>\n",
              "      <th></th>\n",
              "      <th></th>\n",
              "    </tr>\n",
              "  </thead>\n",
              "  <tbody>\n",
              "    <tr>\n",
              "      <th>2004-03-10 18:00:00</th>\n",
              "      <td>2.6</td>\n",
              "      <td>13.6</td>\n",
              "      <td>48.9</td>\n",
              "      <td>0.758</td>\n",
              "    </tr>\n",
              "    <tr>\n",
              "      <th>2004-03-10 19:00:00</th>\n",
              "      <td>2.0</td>\n",
              "      <td>13.3</td>\n",
              "      <td>47.7</td>\n",
              "      <td>0.726</td>\n",
              "    </tr>\n",
              "    <tr>\n",
              "      <th>2004-03-10 20:00:00</th>\n",
              "      <td>2.2</td>\n",
              "      <td>11.9</td>\n",
              "      <td>54.0</td>\n",
              "      <td>0.750</td>\n",
              "    </tr>\n",
              "    <tr>\n",
              "      <th>2004-03-10 21:00:00</th>\n",
              "      <td>2.2</td>\n",
              "      <td>11.0</td>\n",
              "      <td>60.0</td>\n",
              "      <td>0.787</td>\n",
              "    </tr>\n",
              "    <tr>\n",
              "      <th>2004-03-10 22:00:00</th>\n",
              "      <td>1.6</td>\n",
              "      <td>11.2</td>\n",
              "      <td>59.6</td>\n",
              "      <td>0.789</td>\n",
              "    </tr>\n",
              "  </tbody>\n",
              "</table>\n",
              "</div>"
            ],
            "text/plain": [
              "                      co  temp_c  rel_hum  abs_hum\n",
              "tstamp                                            \n",
              "2004-03-10 18:00:00  2.6    13.6     48.9    0.758\n",
              "2004-03-10 19:00:00  2.0    13.3     47.7    0.726\n",
              "2004-03-10 20:00:00  2.2    11.9     54.0    0.750\n",
              "2004-03-10 21:00:00  2.2    11.0     60.0    0.787\n",
              "2004-03-10 22:00:00  1.6    11.2     59.6    0.789"
            ]
          },
          "execution_count": 44,
          "metadata": {},
          "output_type": "execute_result"
        }
      ],
      "source": [
        "df_air.head()"
      ]
    },
    {
      "cell_type": "markdown",
      "id": "a0c636df",
      "metadata": {
        "id": "a0c636df"
      },
      "source": [
        "We could for example use the index of timestamps to get out the corresponding weekdays via the .day_name() method, creating a PandasIndex containing strings (an \"array-like object\" which we can use with groupby)"
      ]
    },
    {
      "cell_type": "code",
      "execution_count": null,
      "id": "fd3e5d56",
      "metadata": {
        "id": "fd3e5d56",
        "outputId": "a3cc9dc3-1d49-495e-b46f-c469c028aefa"
      },
      "outputs": [
        {
          "data": {
            "text/plain": [
              "Index(['Wednesday', 'Wednesday', 'Wednesday', 'Wednesday', 'Wednesday',\n",
              "       'Wednesday', 'Thursday', 'Thursday', 'Thursday', 'Thursday',\n",
              "       ...\n",
              "       'Monday', 'Monday', 'Monday', 'Monday', 'Monday', 'Monday', 'Monday',\n",
              "       'Monday', 'Monday', 'Monday'],\n",
              "      dtype='object', name='tstamp', length=9357)"
            ]
          },
          "execution_count": 47,
          "metadata": {},
          "output_type": "execute_result"
        }
      ],
      "source": [
        "weekdays = df_air.index.day_name()\n",
        "type(weekdays)\n",
        "weekdays"
      ]
    },
    {
      "cell_type": "code",
      "execution_count": null,
      "id": "894d46a9",
      "metadata": {
        "id": "894d46a9",
        "outputId": "77e2f27d-c20e-4c79-c447-40dee55e4dba"
      },
      "outputs": [
        {
          "data": {
            "text/plain": [
              "tstamp\n",
              "Friday       2.543\n",
              "Monday       2.017\n",
              "Saturday     1.861\n",
              "Sunday       1.438\n",
              "Thursday     2.456\n",
              "Tuesday      2.382\n",
              "Wednesday    2.401\n",
              "Name: co, dtype: float64"
            ]
          },
          "execution_count": 50,
          "metadata": {},
          "output_type": "execute_result"
        }
      ],
      "source": [
        "df_air.groupby(weekdays)[\"co\"].mean() \n",
        "#splitting based on artifical column created by us"
      ]
    },
    {
      "cell_type": "markdown",
      "id": "0512cc06",
      "metadata": {
        "id": "0512cc06"
      },
      "source": [
        "Same can be done for grouping by hour of the day for each weekday, enabling a finer split:"
      ]
    },
    {
      "cell_type": "code",
      "execution_count": null,
      "id": "21dc6945",
      "metadata": {
        "id": "21dc6945",
        "outputId": "8f36351c-9e93-4d59-a610-5970c01b89d1"
      },
      "outputs": [
        {
          "data": {
            "text/plain": [
              "dow        hr\n",
              "Friday     0     1.936\n",
              "           1     1.609\n",
              "           2     1.172\n",
              "           3     0.887\n",
              "           4     0.823\n",
              "                 ...  \n",
              "Wednesday  19    4.147\n",
              "           20    3.845\n",
              "           21    2.898\n",
              "           22    2.102\n",
              "           23    1.938\n",
              "Name: co, Length: 168, dtype: float64"
            ]
          },
          "execution_count": 57,
          "metadata": {},
          "output_type": "execute_result"
        }
      ],
      "source": [
        "hr = df_air.index.hour\n",
        "type(hr) #Pandas Int64 Index object\n",
        "hr\n",
        "df_air.groupby([weekdays, hr])[\"co\"].mean().rename_axis([\"dow\", \"hr\"])"
      ]
    },
    {
      "cell_type": "code",
      "execution_count": null,
      "id": "5829ff76",
      "metadata": {
        "id": "5829ff76",
        "outputId": "cb6ffdef-dc2f-484e-f191-8ca12697b256"
      },
      "outputs": [
        {
          "data": {
            "text/html": [
              "<div>\n",
              "<style scoped>\n",
              "    .dataframe tbody tr th:only-of-type {\n",
              "        vertical-align: middle;\n",
              "    }\n",
              "\n",
              "    .dataframe tbody tr th {\n",
              "        vertical-align: top;\n",
              "    }\n",
              "\n",
              "    .dataframe thead tr th {\n",
              "        text-align: left;\n",
              "    }\n",
              "\n",
              "    .dataframe thead tr:last-of-type th {\n",
              "        text-align: right;\n",
              "    }\n",
              "</style>\n",
              "<table border=\"1\" class=\"dataframe\">\n",
              "  <thead>\n",
              "    <tr>\n",
              "      <th></th>\n",
              "      <th colspan=\"2\" halign=\"left\">rel_hum</th>\n",
              "      <th colspan=\"2\" halign=\"left\">abs_hum</th>\n",
              "    </tr>\n",
              "    <tr>\n",
              "      <th></th>\n",
              "      <th>mean</th>\n",
              "      <th>median</th>\n",
              "      <th>mean</th>\n",
              "      <th>median</th>\n",
              "    </tr>\n",
              "    <tr>\n",
              "      <th>temp_c</th>\n",
              "      <th></th>\n",
              "      <th></th>\n",
              "      <th></th>\n",
              "      <th></th>\n",
              "    </tr>\n",
              "  </thead>\n",
              "  <tbody>\n",
              "    <tr>\n",
              "      <th>cool</th>\n",
              "      <td>57.651</td>\n",
              "      <td>59.2</td>\n",
              "      <td>0.666</td>\n",
              "      <td>0.658</td>\n",
              "    </tr>\n",
              "    <tr>\n",
              "      <th>warm</th>\n",
              "      <td>49.383</td>\n",
              "      <td>49.3</td>\n",
              "      <td>1.183</td>\n",
              "      <td>1.145</td>\n",
              "    </tr>\n",
              "    <tr>\n",
              "      <th>hot</th>\n",
              "      <td>24.994</td>\n",
              "      <td>24.1</td>\n",
              "      <td>1.293</td>\n",
              "      <td>1.274</td>\n",
              "    </tr>\n",
              "  </tbody>\n",
              "</table>\n",
              "</div>"
            ],
            "text/plain": [
              "       rel_hum        abs_hum       \n",
              "          mean median    mean median\n",
              "temp_c                              \n",
              "cool    57.651   59.2   0.666  0.658\n",
              "warm    49.383   49.3   1.183  1.145\n",
              "hot     24.994   24.1   1.293  1.274"
            ]
          },
          "execution_count": 65,
          "metadata": {},
          "output_type": "execute_result"
        }
      ],
      "source": [
        "#turn numerical into categorical variable with cut\n",
        "#then use the resulting Series object as argument for groupby\n",
        "bins = pd.cut(df_air[\"temp_c\"], bins=3, labels = (\"cool\", \"warm\", \"hot\"))\n",
        "bins\n",
        "type(bins)\n",
        "df_air.groupby(bins).agg(\"mean\")\n",
        "df_air.groupby(bins).agg([\"mean\", \"median\"])\n",
        "df_air[[\"rel_hum\", \"abs_hum\"]].groupby(bins).agg([\"mean\", \"median\"])"
      ]
    },
    {
      "cell_type": "markdown",
      "id": "d621215e",
      "metadata": {
        "id": "d621215e"
      },
      "source": [
        "*Add-on*: Some advanced features of groupby using a news dataset"
      ]
    },
    {
      "cell_type": "code",
      "execution_count": null,
      "id": "7f69dba9",
      "metadata": {
        "id": "7f69dba9"
      },
      "outputs": [],
      "source": [
        "import datetime as dt\n",
        "import pandas as pd\n",
        "\n",
        "def parse_millisecond_timestamp(ts: int) -> dt.datetime:\n",
        "    \"\"\"Convert ms since Unix epoch to UTC datetime instance.\"\"\"\n",
        "    return dt.datetime.fromtimestamp(ts / 1000, tz=dt.timezone.utc)\n",
        "\n",
        "df_news = pd.read_csv(\n",
        "    \"../additional_data/news.csv\",\n",
        "    sep=\"\\t\",\n",
        "    header=None,\n",
        "    index_col=0,\n",
        "    names=[\"title\", \"url\", \"outlet\", \"category\", \"cluster\", \"host\", \"tstamp\"],\n",
        "    parse_dates=[\"tstamp\"],\n",
        "    date_parser=parse_millisecond_timestamp,\n",
        "    dtype={\n",
        "        \"outlet\": \"category\",\n",
        "        \"category\": \"category\",\n",
        "        \"cluster\": \"category\",\n",
        "        \"host\": \"category\",\n",
        "    },\n",
        ")"
      ]
    },
    {
      "cell_type": "code",
      "execution_count": null,
      "id": "9d9febe6",
      "metadata": {
        "id": "9d9febe6",
        "outputId": "3b7a51a6-7dd3-4518-cdbb-dc3037894419"
      },
      "outputs": [
        {
          "data": {
            "text/plain": [
              "title       Fed official says weak data caused by weather,...\n",
              "url         http://www.latimes.com/business/money/la-fi-mo...\n",
              "outlet                                      Los Angeles Times\n",
              "category                                                    b\n",
              "cluster                         ddUyU0VZz0BRneMioxUPQVP6sIxvM\n",
              "host                                          www.latimes.com\n",
              "tstamp                       2014-03-10 16:52:50.698000+00:00\n",
              "Name: 1, dtype: object"
            ]
          },
          "execution_count": 69,
          "metadata": {},
          "output_type": "execute_result"
        }
      ],
      "source": [
        "df_news.iloc[0]"
      ]
    },
    {
      "cell_type": "markdown",
      "id": "1b0a5051",
      "metadata": {
        "id": "1b0a5051"
      },
      "source": [
        "With the concept of lamda function, we can answer more sophisticated questions not only based on numerical data but also based on textual information. For example: Which of the newspapers talk more about democrats and which about republicans?"
      ]
    },
    {
      "cell_type": "code",
      "execution_count": null,
      "id": "b25e59be",
      "metadata": {
        "id": "b25e59be",
        "outputId": "08795f5f-9977-47af-b228-97e21c12f049"
      },
      "outputs": [
        {
          "data": {
            "text/plain": [
              "outlet\n",
              "Reuters                    11\n",
              "GlobalPost                  8\n",
              "Law360 \\(subscription\\)     7\n",
              "Businessweek                6\n",
              "Los Angeles Times           5\n",
              "Name: title, dtype: int64"
            ]
          },
          "execution_count": 83,
          "metadata": {},
          "output_type": "execute_result"
        }
      ],
      "source": [
        "df.groupby(\"outlet\", sort=False)[\"title\"].apply(\n",
        "    lambda select: select.str.contains(\"Senate\").sum()).nlargest(5)"
      ]
    },
    {
      "cell_type": "code",
      "execution_count": null,
      "id": "9c4c666f",
      "metadata": {
        "id": "9c4c666f",
        "outputId": "3173ebe9-f5cc-4539-cd4d-4d3fd28f5ca9"
      },
      "outputs": [
        {
          "data": {
            "text/plain": [
              "outlet\n",
              "Proactive Investors USA \\& Canada    69\n",
              "Economic Times                       36\n",
              "RTT News                             34\n",
              "Business Standard                    32\n",
              "Independent Online                   32\n",
              "Name: title, dtype: int64"
            ]
          },
          "execution_count": 74,
          "metadata": {},
          "output_type": "execute_result"
        }
      ],
      "source": [
        "df.groupby(\"outlet\", sort=False)[\"title\"].apply(\n",
        "    lambda select: sele.str.contains(\"Wall Street\").sum()).nlargest(5)"
      ]
    },
    {
      "cell_type": "markdown",
      "id": "b22c39e9",
      "metadata": {
        "id": "b22c39e9"
      },
      "source": [
        "To look at what is going on, we can again iterate over the Pandas GroupBy interator and look at a single tuple corresponding to the first group:"
      ]
    },
    {
      "cell_type": "code",
      "execution_count": null,
      "id": "8a49495d",
      "metadata": {
        "id": "8a49495d",
        "outputId": "280109a0-24d0-4924-e0c3-8a3890ac57b4"
      },
      "outputs": [
        {
          "data": {
            "text/plain": [
              "pandas.core.series.Series"
            ]
          },
          "execution_count": 84,
          "metadata": {},
          "output_type": "execute_result"
        }
      ],
      "source": [
        "title, sele = next(iter(df.groupby(\"outlet\", sort=False)[\"title\"]))\n",
        "title\n",
        "sele\n",
        "type(sele) #series object, not DataFrame since we called only one column"
      ]
    },
    {
      "cell_type": "code",
      "execution_count": null,
      "id": "cf3f4c10",
      "metadata": {
        "scrolled": true,
        "id": "cf3f4c10",
        "outputId": "11d99617-fd6a-48c4-b198-d08b68441ce0"
      },
      "outputs": [
        {
          "data": {
            "text/plain": [
              "1         False\n",
              "486       False\n",
              "1124      False\n",
              "1146      False\n",
              "1237      False\n",
              "          ...  \n",
              "421547    False\n",
              "421584    False\n",
              "421972    False\n",
              "422226    False\n",
              "422905    False\n",
              "Name: title, Length: 1976, dtype: bool"
            ]
          },
          "execution_count": 91,
          "metadata": {},
          "output_type": "execute_result"
        }
      ],
      "source": [
        "#construct boolean mask by invoking string methods\n",
        "sele.str.contains(\"Senate\")"
      ]
    },
    {
      "cell_type": "code",
      "execution_count": null,
      "id": "e42861dd",
      "metadata": {
        "id": "e42861dd",
        "outputId": "c016b98e-4c30-4cd1-baee-a9d6fdfb6eb4"
      },
      "outputs": [
        {
          "data": {
            "text/plain": [
              "5"
            ]
          },
          "execution_count": 92,
          "metadata": {},
          "output_type": "execute_result"
        }
      ],
      "source": [
        "sele.str.contains(\"Senate\").sum() #False=0, True=1"
      ]
    },
    {
      "cell_type": "markdown",
      "id": "4f22195f",
      "metadata": {
        "id": "4f22195f"
      },
      "source": [
        "**Conclusion**: .groupby() works by the split-apply-combine paradigm and can use many different input types as long as they can be read as a sequence of labels to perform the grouping/splitting on."
      ]
    }
  ],
  "metadata": {
    "kernelspec": {
      "display_name": "Python 3 (ipykernel)",
      "language": "python",
      "name": "python3"
    },
    "language_info": {
      "codemirror_mode": {
        "name": "ipython",
        "version": 3
      },
      "file_extension": ".py",
      "mimetype": "text/x-python",
      "name": "python",
      "nbconvert_exporter": "python",
      "pygments_lexer": "ipython3",
      "version": "3.9.7"
    },
    "colab": {
      "name": "day_3_data_analysis_3_groupby.ipynb",
      "provenance": []
    }
  },
  "nbformat": 4,
  "nbformat_minor": 5
}