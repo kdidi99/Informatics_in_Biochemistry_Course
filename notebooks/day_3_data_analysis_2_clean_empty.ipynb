{
  "nbformat": 4,
  "nbformat_minor": 0,
  "metadata": {
    "colab": {
      "name": "Untitled5.ipynb",
      "provenance": [],
      "authorship_tag": "ABX9TyM8E8FPWyZbNOfSiNOsHnP7",
      "include_colab_link": true
    },
    "kernelspec": {
      "name": "python3",
      "display_name": "Python 3"
    },
    "language_info": {
      "name": "python"
    }
  },
  "cells": [
    {
      "cell_type": "markdown",
      "metadata": {
        "id": "view-in-github",
        "colab_type": "text"
      },
      "source": [
        "<a href=\"https://colab.research.google.com/github/kdidi99/Python_for_Biochemists/blob/main/notebooks/day_3_data_analysis_2_clean_empty.ipynb\" target=\"_parent\"><img src=\"https://colab.research.google.com/assets/colab-badge.svg\" alt=\"Open In Colab\"/></a>"
      ]
    },
    {
      "cell_type": "markdown",
      "source": [
        "# Day 3: Data analysis with Pandas, part 2"
      ],
      "metadata": {
        "id": "0GKfe45ypPWt"
      }
    },
    {
      "cell_type": "markdown",
      "source": [
        "## 2. Cleaning data, copies vs views"
      ],
      "metadata": {
        "id": "_5Nw5RKQpPhb"
      }
    },
    {
      "cell_type": "markdown",
      "source": [
        "Data in the real world is often messy; therefore cleaning is an important part of every analysis."
      ],
      "metadata": {
        "id": "ORgqMvk5tU8Y"
      }
    },
    {
      "cell_type": "code",
      "source": [
        "import numpy as np\n",
        "import pandas as pd"
      ],
      "metadata": {
        "id": "z2AmHsgmtVWD"
      },
      "execution_count": null,
      "outputs": []
    },
    {
      "cell_type": "markdown",
      "source": [
        "This tutorial is partially adopted from the one on the RealPython website (check this website out if you want to learn more about Python, it is awesome!)"
      ],
      "metadata": {
        "id": "qnwhhpcDtgqL"
      }
    },
    {
      "cell_type": "code",
      "source": [
        ""
      ],
      "metadata": {
        "id": "820ha2bKPm1f"
      },
      "execution_count": null,
      "outputs": []
    },
    {
      "cell_type": "code",
      "source": [
        ""
      ],
      "metadata": {
        "id": "ZiokDMWTPm6h"
      },
      "execution_count": null,
      "outputs": []
    },
    {
      "cell_type": "code",
      "source": [
        ""
      ],
      "metadata": {
        "id": "pttJLNwJPm_3"
      },
      "execution_count": null,
      "outputs": []
    },
    {
      "cell_type": "code",
      "source": [
        ""
      ],
      "metadata": {
        "id": "Bb3YMh0OPnDQ"
      },
      "execution_count": null,
      "outputs": []
    },
    {
      "cell_type": "code",
      "source": [
        ""
      ],
      "metadata": {
        "id": "yWFnKwHHPnHB"
      },
      "execution_count": null,
      "outputs": []
    },
    {
      "cell_type": "code",
      "source": [
        ""
      ],
      "metadata": {
        "id": "FbX_JYepPnLD"
      },
      "execution_count": null,
      "outputs": []
    },
    {
      "cell_type": "code",
      "source": [
        ""
      ],
      "metadata": {
        "id": "EL8ZNfxqPnOp"
      },
      "execution_count": null,
      "outputs": []
    },
    {
      "cell_type": "code",
      "source": [
        ""
      ],
      "metadata": {
        "id": "Nef_0HltPnR8"
      },
      "execution_count": null,
      "outputs": []
    },
    {
      "cell_type": "code",
      "source": [
        ""
      ],
      "metadata": {
        "id": "PmspfrLoPnVe"
      },
      "execution_count": null,
      "outputs": []
    },
    {
      "cell_type": "markdown",
      "source": [
        "<img src=\"https://github.com/kdidi99/Python_for_Biochemists/blob/main/images/views_copies_1.png?raw=1\"  width=\"800\"/>"
      ],
      "metadata": {
        "id": "x9MPX2itAAbK"
      }
    },
    {
      "cell_type": "code",
      "source": [
        ""
      ],
      "metadata": {
        "id": "wHySRYcbPqcr"
      },
      "execution_count": null,
      "outputs": []
    },
    {
      "cell_type": "markdown",
      "source": [
        "<img src=\"https://github.com/kdidi99/Python_for_Biochemists/blob/main/images/views_copies_2.png?raw=1\"  width=\"800\"/>"
      ],
      "metadata": {
        "id": "jNFBf-frQ1eU"
      }
    },
    {
      "cell_type": "code",
      "source": [
        ""
      ],
      "metadata": {
        "id": "ShbDQSkfPyIX"
      },
      "execution_count": null,
      "outputs": []
    },
    {
      "cell_type": "markdown",
      "source": [
        "<img src=\"https://github.com/kdidi99/Python_for_Biochemists/blob/main/images/views_copies_3.png?raw=1\"  width=\"800\"/>"
      ],
      "metadata": {
        "id": "CYj_lTx5Q2ED"
      }
    },
    {
      "cell_type": "code",
      "source": [
        ""
      ],
      "metadata": {
        "id": "VFW63BjIPsGR"
      },
      "execution_count": null,
      "outputs": []
    }
  ]
}