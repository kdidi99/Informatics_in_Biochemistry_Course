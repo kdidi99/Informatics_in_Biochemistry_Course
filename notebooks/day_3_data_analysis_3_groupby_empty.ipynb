{
  "cells": [
    {
      "cell_type": "markdown",
      "source": [
        "# Day 3: Data analysis with Pandas, part 3"
      ],
      "metadata": {
        "id": "3mwT6DU2Nx58"
      },
      "id": "3mwT6DU2Nx58"
    },
    {
      "cell_type": "markdown",
      "source": [
        "##3. GroupBy"
      ],
      "metadata": {
        "id": "bPrCx4vXN1BQ"
      },
      "id": "bPrCx4vXN1BQ"
    },
    {
      "cell_type": "code",
      "source": [
        "import numpy as np\n",
        "import pandas as pd"
      ],
      "metadata": {
        "id": "LNbjpYRbv695"
      },
      "id": "LNbjpYRbv695",
      "execution_count": null,
      "outputs": []
    },
    {
      "cell_type": "code",
      "execution_count": null,
      "id": "8179ed0a",
      "metadata": {
        "scrolled": true,
        "id": "8179ed0a",
        "outputId": "59d357cf-5b42-4126-8e6e-49453afbfad8",
        "colab": {
          "base_uri": "https://localhost:8080/"
        }
      },
      "outputs": [
        {
          "output_type": "stream",
          "name": "stdout",
          "text": [
            "Download ready.\n"
          ]
        }
      ],
      "source": [
        "import requests\n",
        "\n",
        "download_url = \"https://raw.githubusercontent.com/rashida048/Datasets/master/titanic_data.csv\"\n",
        "target_csv_path = \"titanic_data.csv\"\n",
        "\n",
        "response = requests.get(download_url)\n",
        "response.raise_for_status()    # Check that the request was successful\n",
        "with open(target_csv_path, \"wb\") as f:\n",
        "    f.write(response.content)\n",
        "print(\"Download ready.\")"
      ]
    },
    {
      "cell_type": "code",
      "source": [
        ""
      ],
      "metadata": {
        "id": "wjmNezn_P-Xv"
      },
      "id": "wjmNezn_P-Xv",
      "execution_count": null,
      "outputs": []
    },
    {
      "cell_type": "code",
      "source": [
        ""
      ],
      "metadata": {
        "id": "pPs8i2vyP-kx"
      },
      "id": "pPs8i2vyP-kx",
      "execution_count": null,
      "outputs": []
    },
    {
      "cell_type": "markdown",
      "id": "d23095e7",
      "metadata": {
        "id": "d23095e7"
      },
      "source": [
        "Groupby operations are often splitted into three steps:\n",
        "\n",
        "1. **Split**: Split your data into different categories based on some criteria\n",
        "\n",
        "2. **Apply**: Apply some aggregation operations (such as sum, mean, ...) to the different groups\n",
        "\n",
        "3. **Combine**: Combine the different results back into the original data frame to get a new result"
      ]
    },
    {
      "cell_type": "markdown",
      "id": "c6bcdefd",
      "metadata": {
        "id": "c6bcdefd"
      },
      "source": [
        "<div>\n",
        "<img src=\"https://github.com/kdidi99/Python_for_Biochemists/blob/main/images/06_groupby.svg?raw=1\", width=500>\n",
        "</div>"
      ]
    },
    {
      "cell_type": "code",
      "source": [
        ""
      ],
      "metadata": {
        "id": "v9zUbcdwQBhw"
      },
      "id": "v9zUbcdwQBhw",
      "execution_count": null,
      "outputs": []
    },
    {
      "cell_type": "code",
      "source": [
        ""
      ],
      "metadata": {
        "id": "uhFUvBphQBmn"
      },
      "id": "uhFUvBphQBmn",
      "execution_count": null,
      "outputs": []
    },
    {
      "cell_type": "markdown",
      "id": "39301bd2",
      "metadata": {
        "id": "39301bd2"
      },
      "source": [
        "<div>\n",
        "<img src=\"https://github.com/kdidi99/Python_for_Biochemists/blob/main/images/Groupby_methods.png?raw=1\", width=800>\n",
        "\n",
        "</div>\n"
      ]
    },
    {
      "cell_type": "code",
      "source": [
        ""
      ],
      "metadata": {
        "id": "pjd0aJBRQG8o"
      },
      "id": "pjd0aJBRQG8o",
      "execution_count": null,
      "outputs": []
    },
    {
      "cell_type": "code",
      "source": [
        ""
      ],
      "metadata": {
        "id": "ojbuh0ADQHAF"
      },
      "id": "ojbuh0ADQHAF",
      "execution_count": null,
      "outputs": []
    },
    {
      "cell_type": "markdown",
      "id": "eef06267",
      "metadata": {
        "id": "eef06267"
      },
      "source": [
        "Combine then only combines all the results from the different subsets and combines them. Here the visual intuition from the beginning, together with the corresponding commands we used ( example in the [Pandas docs](https://pandas.pydata.org/pandas-docs/stable/getting_started/intro_tutorials/06_calculate_statistics.html)):"
      ]
    },
    {
      "cell_type": "markdown",
      "source": [
        "<div>\n",
        "<img src=\"https://github.com/kdidi99/Python_for_Biochemists/blob/main/images/06_groupby_select_detail.jpg?raw=1\", width=900>\n",
        "</div>"
      ],
      "metadata": {
        "id": "VpMISu0UtUdX"
      },
      "id": "VpMISu0UtUdX"
    },
    {
      "cell_type": "markdown",
      "id": "d14bb433",
      "metadata": {
        "id": "d14bb433"
      },
      "source": [
        "So far, we grouped based on a string, eg df.groupby(\"state\"). But we could also use different arguments, for example a list of columns instead of a single one, a dict or PandasSeries or a NumPy array or a PandasIndex (or array-like objects of the last two)."
      ]
    },
    {
      "cell_type": "code",
      "execution_count": null,
      "id": "7091d004",
      "metadata": {
        "id": "7091d004"
      },
      "outputs": [],
      "source": [
        "df_air = pd.read_csv(\n",
        "    \"../additional_data/airqual.csv\",\n",
        "    parse_dates=[[\"Date\", \"Time\"]],\n",
        "    na_values=[-200],\n",
        "    usecols=[\"Date\", \"Time\", \"CO(GT)\", \"T\", \"RH\", \"AH\"]\n",
        ").rename(\n",
        "    columns={\n",
        "        \"CO(GT)\": \"co\",\n",
        "        \"Date_Time\": \"tstamp\",\n",
        "        \"T\": \"temp_c\",\n",
        "        \"RH\": \"rel_hum\",\n",
        "        \"AH\": \"abs_hum\",\n",
        "    }\n",
        ").set_index(\"tstamp\")"
      ]
    }
  ],
  "metadata": {
    "kernelspec": {
      "display_name": "Python 3 (ipykernel)",
      "language": "python",
      "name": "python3"
    },
    "language_info": {
      "codemirror_mode": {
        "name": "ipython",
        "version": 3
      },
      "file_extension": ".py",
      "mimetype": "text/x-python",
      "name": "python",
      "nbconvert_exporter": "python",
      "pygments_lexer": "ipython3",
      "version": "3.9.7"
    },
    "colab": {
      "name": "day_3_data_analysis_3_groupby.ipynb",
      "provenance": []
    }
  },
  "nbformat": 4,
  "nbformat_minor": 5
}