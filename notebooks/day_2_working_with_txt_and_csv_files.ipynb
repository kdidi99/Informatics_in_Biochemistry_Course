{
 "cells": [
  {
   "cell_type": "markdown",
   "source": [
    "# Day 1: Working with .txt and .csv files\n",
    "An important feature of computational biology is working with various forms of input data. Very often, they arrive in the form of `.txt` or `.csv` files. \n",
    "JSON files are also important, but are not covered in this course. \\\n",
    "\\\n",
    "Some FileTypes such as `.csv` have their own parser. A parser helps you to translate the data in the given the csv file structure so that it is accessible with your python code."
   ],
   "metadata": {}
  },
  {
   "cell_type": "markdown",
   "source": [
    "## Reading and writing with .txt files \n",
    "It is possible to open a `.txt` document with the `open()` open function. With `mode=\"r\"` we define the reading mode. This only allows Python to read the document, not to change it any way. Python now reads the whole content of a file into a variable: "
   ],
   "metadata": {}
  },
  {
   "cell_type": "code",
   "execution_count": 1,
   "source": [
    "f = open(\"additional_data/simple_txt_file.txt\",mode=\"r\")"
   ],
   "outputs": [],
   "metadata": {}
  },
  {
   "cell_type": "markdown",
   "source": [
    "Now we can read the content of the variable into a string. This prints out all content of the `.txt` file:"
   ],
   "metadata": {}
  },
  {
   "cell_type": "code",
   "execution_count": 3,
   "source": [
    "s = f.read()\r\n",
    "print(s)"
   ],
   "outputs": [
    {
     "output_type": "stream",
     "name": "stdout",
     "text": [
      "Biochemistry is awesome! \n",
      "Coding is great!\n",
      "\n"
     ]
    }
   ],
   "metadata": {}
  },
  {
   "cell_type": "markdown",
   "source": [
    "We can also read it line by line with the command `readline()`:"
   ],
   "metadata": {}
  },
  {
   "cell_type": "code",
   "execution_count": 1,
   "source": [
    "f = open(\"additional_data/simple_txt_file.txt\",mode=\"r\")\n",
    "line1 = f.readline()\n",
    "line2 = f.readline()\n",
    "\n",
    "print(\"Line 1:\", line1)\n",
    "print(20*\"-\")\n",
    "print(\"Line 2:\", line2 )"
   ],
   "outputs": [
    {
     "output_type": "stream",
     "name": "stdout",
     "text": [
      "Line 1: Biochemistry is awesome! \n",
      "\n",
      "--------------------\n",
      "Line 2: Coding is great!\n",
      "\n"
     ]
    }
   ],
   "metadata": {}
  },
  {
   "cell_type": "markdown",
   "source": [
    "Finally, after we are done with working with our file we need to close it. This creates free memory (This step is crucial when working with large files!):"
   ],
   "metadata": {}
  },
  {
   "cell_type": "code",
   "execution_count": 7,
   "source": [
    "f.close()"
   ],
   "outputs": [],
   "metadata": {}
  },
  {
   "cell_type": "markdown",
   "source": [
    "To avoid bugs or broken memory because you forgot to close your file it is recommended to use the `with()` statement to close your file automatically. \\ \n",
    "Using `with open('file') as f` we put the file data into a new variable `f`. The file is closed automatically after the code below the statement is complete. The `f` variable is therefore temporary. "
   ],
   "metadata": {}
  },
  {
   "cell_type": "code",
   "execution_count": 21,
   "source": [
    "with open(\"additional_data/simple_txt_file.txt\",mode=\"r\") as f: \n",
    "    line1 = f.readline()\n",
    "    line2 = f.readline()\n",
    "    \n",
    "    print(\"Line 1:\", line1)\n",
    "    print(\"Line 2:\", line2)"
   ],
   "outputs": [
    {
     "output_type": "stream",
     "name": "stdout",
     "text": [
      "Line 1: Biochemistry is awesome! \n",
      "\n",
      "Line 2: Coding is great!\n",
      "\n"
     ]
    }
   ],
   "metadata": {}
  },
  {
   "cell_type": "markdown",
   "source": [
    "Now we look at another file, a sequence alignment, which is structured as such: \\\n",
    "`IL2RA_SHEEP    MEPSLLMWRFFVFIVVPGCVTEACHDDPPSLRNA----------MFKVLRYE----VGTM`\n",
    "\n",
    "For this, we need to write a custom parser which transforms the text file into a dictionary."
   ],
   "metadata": {}
  },
  {
   "cell_type": "code",
   "execution_count": 20,
   "source": [
    "gene_seq = {}\n",
    "with open(\"additional_data/protein_alignment.txt\",mode=\"r\") as f:\n",
    "    for line in f:\n",
    "        values = line.split() #splits the line at whitespace positions\n",
    "        gene_seq[values[0]] = values[1]\n",
    "print(gene_seq)"
   ],
   "outputs": [
    {
     "output_type": "stream",
     "name": "stdout",
     "text": [
      "{'IL2RA_SHEEP': 'MEPSLLMWRFFVFIVVPGCVTEACHDDPPSLRNA----------MFKVLRYE----VGTM', 'IL2RA_MOUSE': 'MEPRLLMLGFLSLTIVPSCRAELCLYDPPEVPNA----------TFKALSYK----NGTI', 'IL2RA_FELCA': 'MEPSLLLWGILTFVVVHGHVTELCDENPPDIQHA----------TFKALTYK----TGTM', 'IL2RA_HUMAN': 'MDSYLLMWGLLTFIMVPGCQAELCDDDPPEIPHA----------TFKAMAYK----EGTM', 'IL2RA_MACMU': 'MDPYLLMWGLLTFITVPGCQAELCDDDPPKITHA----------TFKAVAYK----EGTM'}\n"
     ]
    }
   ],
   "metadata": {}
  },
  {
   "cell_type": "markdown",
   "source": [
    "Of course, you can also write `.txt` files in Python: "
   ],
   "metadata": {}
  },
  {
   "cell_type": "code",
   "execution_count": 2,
   "source": [
    "with open('additional_data/new_txt_file.txt', mode='w') as t:\n",
    "    t.write('A new file has been created!')"
   ],
   "outputs": [],
   "metadata": {}
  },
  {
   "cell_type": "markdown",
   "source": [
    "The `mode` is crucial in this step: if the file already exists, `w` mode will overwrite any existing content. `a` mode will append to the end of the file: "
   ],
   "metadata": {}
  },
  {
   "cell_type": "code",
   "execution_count": 3,
   "source": [
    "with open('additional_data/new_txt_file.txt', mode='a') as t:\n",
    "    t.write('\\nWe add some text to our file!')"
   ],
   "outputs": [],
   "metadata": {}
  },
  {
   "cell_type": "markdown",
   "source": [
    "## Reading and writing .csv files"
   ],
   "metadata": {}
  },
  {
   "cell_type": "markdown",
   "source": [
    "CSV (Comma Separated Values) files are one of the most important forms of data in biology. Think of an Excel sheet, for example. In essence, a `.csv` is like an `.xlsx` document, without fancy layout and functions. \\\n",
    "Python has a build in `.csv` parser, which helps a lot. \\\n",
    "In the example below we read a `.csv` file with protein names, their gene name and a name of the species. "
   ],
   "metadata": {}
  },
  {
   "cell_type": "code",
   "execution_count": 12,
   "source": [
    "import csv # the python csv parser \n",
    "\n",
    "with open(\"additional_data/names_proteins.csv\") as csv_file:\n",
    "    csv_reader = csv.reader(csv_file, delimiter=\",\") # we initiate a reader object which removes the delimiter defined and returns a list of String elements\n",
    "    counter_line = 0\n",
    "    header = []\n",
    "    for row in csv_reader: # Looping though a csv_reader object, the row is now a list with elements\n",
    "        if counter_line == 0:\n",
    "            print('The categories in this csv file are:',row[0],row[1],row[2])\n",
    "            header = row\n",
    "            counter_line += 1 \n",
    "        else: \n",
    "            print(f'{header[0]}:{row[0]}, {header[1]}:{row[1]}, {header[2]}:{row[2]}')\n",
    "            counter_line += 1 \n"
   ],
   "outputs": [
    {
     "output_type": "stream",
     "name": "stdout",
     "text": [
      "The categories in this csv file are: protein  gene  organism\n",
      "protein:DNA-directed RNA polymerase II subunit RPB1,  gene: POLR2A,  organism: Homo sapiens (Human)\n",
      "protein:Hemoglobin subunit beta-1,  gene:Hbb-b1,  organism:Mus musculus (Mouse)\n",
      "protein:Mating pheromone Er-23,  gene:MAT23,  organism:Euplotes raikovi \n"
     ]
    }
   ],
   "metadata": {}
  },
  {
   "cell_type": "markdown",
   "source": [
    "Writing `.csv` files is also very easy with the csv package:  "
   ],
   "metadata": {}
  },
  {
   "cell_type": "code",
   "execution_count": 1,
   "source": [
    "import csv\n",
    "\n",
    "with open('additional_data/new_csv_file.csv', mode='w') as output_file: \n",
    "    output_file = csv.writer(output_file, delimiter=',') # we now create a writer object which uses the delimiter defined to create a csv line from a given list\n",
    "    output_file.writerow(['Nucleotide 1','Nucleotide 2','Nucleotide 3','Nucleotide 4']) # we write a csv row with the csv statement\n",
    "    for i in range(100):\n",
    "        output_file.writerow(['A','T','G','C'])"
   ],
   "outputs": [],
   "metadata": {}
  },
  {
   "cell_type": "markdown",
   "source": [
    "With the command below, you can remove your files in python code. This becomes useful in debugging and testing:"
   ],
   "metadata": {}
  },
  {
   "cell_type": "code",
   "execution_count": 19,
   "source": [
    "import os \n",
    "os.remove('additional_data/new_csv_file.csv')"
   ],
   "outputs": [],
   "metadata": {}
  }
 ],
 "metadata": {
  "interpreter": {
   "hash": "b3ba2566441a7c06988d0923437866b63cedc61552a5af99d1f4fb67d367b25f"
  },
  "kernelspec": {
   "name": "python3",
   "display_name": "Python 3.8.3 64-bit ('base': conda)"
  },
  "language_info": {
   "codemirror_mode": {
    "name": "ipython",
    "version": 3
   },
   "file_extension": ".py",
   "mimetype": "text/x-python",
   "name": "python",
   "nbconvert_exporter": "python",
   "pygments_lexer": "ipython3",
   "version": "3.8.3"
  }
 },
 "nbformat": 4,
 "nbformat_minor": 2
}