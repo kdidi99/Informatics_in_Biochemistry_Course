{
  "cells": [
    {
      "cell_type": "markdown",
      "metadata": {
        "id": "MPN3xwAqHNb5"
      },
      "source": [
        "# Day 3: Data analysis with Pandas\n",
        "\n",
        "\n",
        "\n",
        "1.   Introduction: Data frames & explorative data analysis\n",
        "2.   Cleaning & combining data, grouping, sorting\n",
        "3.   Views vs copies\n",
        "4.   Useful tools & summary\n",
        "\n",
        "\n",
        "\n",
        "\n",
        "\n",
        "Kieran Didi"
      ]
    },
    {
      "cell_type": "markdown",
      "metadata": {
        "id": "63nwvDpQHNb8"
      },
      "source": [
        "## 1. Introduction: The Data Frame\n",
        "\n",
        "![01_table_dataframe.svg](data:image/svg+xml;base64,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)\n"
      ]
    },
    {
      "cell_type": "markdown",
      "source": [
        ""
      ],
      "metadata": {
        "id": "BHOryn6xIK4-"
      }
    },
    {
      "cell_type": "code",
      "execution_count": null,
      "metadata": {
        "id": "DVTFNTqsHNcA",
        "outputId": "a9bbd1a9-1a8a-47a5-afda-8905a8740c5d"
      },
      "outputs": [
        {
          "name": "stdout",
          "output_type": "stream",
          "text": [
            "this is code\n"
          ]
        }
      ],
      "source": [
        "# this is a comment\n",
        "print(\"this is code\") # this is a comment"
      ]
    },
    {
      "cell_type": "markdown",
      "metadata": {
        "id": "ozBvO0SGHNcG"
      },
      "source": [
        "## Variable assignment\n",
        "Variables are the fundamental way of handling objects in programming languages. We simply declare them with the `=` operator and display their stored values with the `print()` function.\n",
        "\n",
        "The `print()` function by default prints its values separated but you can change that value with the `sep` argument. If you use the special character \"\\n\" as a separator, `print()` will put all values onto new lines."
      ]
    },
    {
      "cell_type": "code",
      "execution_count": null,
      "metadata": {
        "id": "yf0ZkJ5RHNcI",
        "outputId": "6b7798c6-aabf-4b91-caf5-36b0e6724dc9"
      },
      "outputs": [
        {
          "name": "stdout",
          "output_type": "stream",
          "text": [
            "5\n",
            "1 2\n",
            "1--2\n",
            "1\n",
            "2\n"
          ]
        }
      ],
      "source": [
        "myvar = 5\n",
        "print(myvar)\n",
        "\n",
        "# you can also print multiple values simultaneously\n",
        "a = 1\n",
        "b = 2\n",
        "print(a, b)\n",
        "\n",
        "# different separators\n",
        "print(a, b, sep=\"--\")\n",
        "print(a, b, sep=\"\\n\")"
      ]
    },
    {
      "cell_type": "markdown",
      "metadata": {
        "id": "nGUw-FrDHNcK"
      },
      "source": [
        "Variables are case-sensitive and need to follow certain naming rules. Most special characters are not allowed and numbers are not allowed at the start of the variable name. The most common way is to write variables in lowercase and separate multiple words with underscores (\"_\")."
      ]
    },
    {
      "cell_type": "code",
      "execution_count": null,
      "metadata": {
        "id": "FbX7rjxpHNcL",
        "outputId": "48084a00-c821-4cd1-c22d-84e04502b522"
      },
      "outputs": [
        {
          "ename": "SyntaxError",
          "evalue": "invalid syntax (Temp/ipykernel_25352/2931400079.py, line 13)",
          "output_type": "error",
          "traceback": [
            "\u001b[1;36m  File \u001b[1;32m\"C:\\Users\\jarosch\\AppData\\Local\\Temp/ipykernel_25352/2931400079.py\"\u001b[1;36m, line \u001b[1;32m13\u001b[0m\n\u001b[1;33m    variable! = 5\u001b[0m\n\u001b[1;37m            ^\u001b[0m\n\u001b[1;31mSyntaxError\u001b[0m\u001b[1;31m:\u001b[0m invalid syntax\n"
          ]
        }
      ],
      "source": [
        "# case-sensitivity\n",
        "var = 5\n",
        "Var = 10\n",
        "print(var)\n",
        "print(Var)\n",
        "\n",
        "# allowed names\n",
        "some_variable_1 = 5\n",
        "SomeVariable1 = 5\n",
        "\n",
        "# not allowed names\n",
        "some-variable = 2\n",
        "variable! = 5\n",
        "2themoon = 1"
      ]
    },
    {
      "cell_type": "markdown",
      "metadata": {
        "id": "qJ1WE-h1HNcM"
      },
      "source": [
        "## Basic data types\n",
        "Values or objects in programming languages can belong to different data types. Three basic data types are shared between most programming languages:\n",
        "\n",
        "* **integer**: whole number (e.g. 1)\n",
        "* **float**: decimal number (e.g. 1.4)\n",
        "* **string**: character (e.g. \"Hello\")\n",
        "\n",
        "Python will automatically detect the correct datatype when you assign a variable. Also note that you can define a string as \"Hello\" or 'Hello', both ways are equivalent.\n",
        "\n",
        "We can convert variables into different types with the respective `int()`, `float()`, and `string()` functions and print their type with the `type()` function."
      ]
    },
    {
      "cell_type": "code",
      "execution_count": null,
      "metadata": {
        "id": "zs78711YHNcO",
        "outputId": "4133dcaf-3b9f-4012-c846-b5340f4adece"
      },
      "outputs": [
        {
          "name": "stdout",
          "output_type": "stream",
          "text": [
            "<class 'int'> <class 'float'> <class 'str'> <class 'str'>\n",
            "2 1.0 2.5\n",
            "<class 'int'> <class 'float'> <class 'str'>\n"
          ]
        }
      ],
      "source": [
        "## the three basic types\n",
        "x = 1\n",
        "y = 1.4\n",
        "z = \"hello\"\n",
        "h = 'hello'\n",
        "\n",
        "print(type(x), type(y), type(z), type(h))\n",
        "\n",
        "# examples for type-conversion, note that int() just cuts off the decimals\n",
        "x = int(2.8)\n",
        "y = float(1)\n",
        "z = str(2.5) # <-- equivalent to z = \"2.5\"\n",
        "\n",
        "print(x, y, z)\n",
        "print(type(x), type(y), type(z))"
      ]
    },
    {
      "cell_type": "markdown",
      "metadata": {
        "id": "v6KYiW_hHNcQ"
      },
      "source": [
        "## Basic operators\n",
        "We can easily perform simple mathematical operations like addition, multiplication, division and exponentiation in base Python."
      ]
    },
    {
      "cell_type": "code",
      "execution_count": null,
      "metadata": {
        "id": "fHIw2RPWHNcR",
        "outputId": "1e6ac5c9-2272-43ff-d42b-6e921983bd94"
      },
      "outputs": [
        {
          "name": "stdout",
          "output_type": "stream",
          "text": [
            "10\n",
            "6\n",
            "3.0\n",
            "8\n",
            "15\n",
            "30\n"
          ]
        }
      ],
      "source": [
        "# addition\n",
        "print(5+5)\n",
        "\n",
        "# multiplication\n",
        "print(3*2)\n",
        "\n",
        "# division\n",
        "print(6/2)\n",
        "\n",
        "# exponentiation\n",
        "print(2**3)\n",
        "\n",
        "# brackets also matter in Python\n",
        "print(6*2+3)\n",
        "print(6*(2+3))"
      ]
    },
    {
      "cell_type": "markdown",
      "metadata": {
        "id": "0VNZIjIOHNcT"
      },
      "source": [
        "You can also add and multiply strings, which behaves very differently from the numeric operators."
      ]
    },
    {
      "cell_type": "code",
      "execution_count": null,
      "metadata": {
        "id": "6kFbElpnHNcV",
        "outputId": "ecdf4090-df0b-475e-80c2-7d0be6ad410d"
      },
      "outputs": [
        {
          "name": "stdout",
          "output_type": "stream",
          "text": [
            "hello world\n",
            "hello hello hello hello hello \n",
            "hello hello world\n",
            "4\n",
            "22\n",
            "hello10\n"
          ]
        },
        {
          "ename": "TypeError",
          "evalue": "can only concatenate str (not \"int\") to str",
          "output_type": "error",
          "traceback": [
            "\u001b[1;31m---------------------------------------------------------------------------\u001b[0m",
            "\u001b[1;31mTypeError\u001b[0m                                 Traceback (most recent call last)",
            "\u001b[1;32m~\\AppData\\Local\\Temp/ipykernel_25352/3777394797.py\u001b[0m in \u001b[0;36m<module>\u001b[1;34m\u001b[0m\n\u001b[0;32m     11\u001b[0m \u001b[1;33m\u001b[0m\u001b[0m\n\u001b[0;32m     12\u001b[0m \u001b[0mprint\u001b[0m\u001b[1;33m(\u001b[0m\u001b[1;34m\"hello\"\u001b[0m\u001b[1;33m+\u001b[0m\u001b[1;34m\"10\"\u001b[0m\u001b[1;33m)\u001b[0m\u001b[1;33m\u001b[0m\u001b[1;33m\u001b[0m\u001b[0m\n\u001b[1;32m---> 13\u001b[1;33m \u001b[0mprint\u001b[0m\u001b[1;33m(\u001b[0m\u001b[1;34m\"hello\"\u001b[0m \u001b[1;33m+\u001b[0m \u001b[1;36m10\u001b[0m\u001b[1;33m)\u001b[0m \u001b[1;31m# <-- this does not work\u001b[0m\u001b[1;33m\u001b[0m\u001b[1;33m\u001b[0m\u001b[0m\n\u001b[0m",
            "\u001b[1;31mTypeError\u001b[0m: can only concatenate str (not \"int\") to str"
          ]
        }
      ],
      "source": [
        "# \"math\" with strings\n",
        "x = \"hello \"\n",
        "y = \"world\"\n",
        "print(x+y)\n",
        "print(5*x)\n",
        "print(2*x + y)\n",
        "\n",
        "z = 2\n",
        "print(2*z)\n",
        "print(2*str(z))\n",
        "\n",
        "print(\"hello\"+\"10\")\n",
        "print(\"hello\" + 10) # <-- this does not work"
      ]
    },
    {
      "cell_type": "markdown",
      "metadata": {
        "id": "Mdb9U6jlHNcX"
      },
      "source": [
        "## Useful utility: format-strings\n",
        "Python has a very useful syntax with strings that allows you to insert expression or values directly into your string and convert them accordingly. This is called a *format-string* or *f-string* and you might see it in our code later on.\n",
        "\n",
        "As an example, we will write a script that automatically writes birthday wishes to a friend."
      ]
    },
    {
      "cell_type": "code",
      "execution_count": null,
      "metadata": {
        "id": "WdCyDcmkHNcX",
        "outputId": "9b55dfa3-9cf7-4393-81c4-85341b0a68f4"
      },
      "outputs": [
        {
          "name": "stdout",
          "output_type": "stream",
          "text": [
            "Hi Peter, congratulations to becoming 23 years old!!\n",
            "Hi Peter, congratulations to becoming 23 years old!!\n"
          ]
        }
      ],
      "source": [
        "friend = \"Peter\"\n",
        "birthyear = 1998\n",
        "\n",
        "message = \"Hi \" + friend + \", congratulations to becoming \" + str(2021 - birthyear) + \" years old!!\"\n",
        "print(message)\n",
        "\n",
        "# with a format-string\n",
        "message = f\"Hi {friend}, congratulations to becoming {2021 - birthyear} years old!!\"\n",
        "print(message)"
      ]
    },
    {
      "cell_type": "markdown",
      "metadata": {
        "id": "ld0owmDmHNcX"
      },
      "source": [
        "Note that we were able to just directly insert the expression `2021 - birthyear` and the format string converted it for us automatically."
      ]
    }
  ],
  "metadata": {
    "interpreter": {
      "hash": "eb7a3cc7805b647c07cd88e8371649cf687544e475bc1164b445f3249eb5ba5e"
    },
    "kernelspec": {
      "display_name": "Python 3",
      "language": "python",
      "name": "python3"
    },
    "language_info": {
      "codemirror_mode": {
        "name": "ipython",
        "version": 3
      },
      "file_extension": ".py",
      "mimetype": "text/x-python",
      "name": "python",
      "nbconvert_exporter": "python",
      "pygments_lexer": "ipython3",
      "version": "3.8.8"
    },
    "colab": {
      "name": "day_1_variables_and_data_types.ipynb",
      "provenance": []
    }
  },
  "nbformat": 4,
  "nbformat_minor": 0
}