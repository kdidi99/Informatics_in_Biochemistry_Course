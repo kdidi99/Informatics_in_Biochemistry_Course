{
  "cells": [
    {
      "cell_type": "markdown",
      "metadata": {
        "id": "MPN3xwAqHNb5"
      },
      "source": [
        "# Day 3: Data analysis with Pandas\n",
        "\n",
        "\n",
        "\n",
        "1.   Introduction: Data frames & explorative data analysis\n",
        "2.   Cleaning & combining data, grouping, sorting\n",
        "3.   Views vs copies\n",
        "4.   Useful tools & summary\n",
        "\n",
        "\n",
        "\n",
        "\n",
        "\n",
        "Kieran Didi"
      ]
    },
    {
      "cell_type": "markdown",
      "metadata": {
        "id": "63nwvDpQHNb8"
      },
      "source": [
        "## 1. Introduction: The Data Frame\n",
        "\n",
        "![](https://github.com/kdidi99/Python_for_Biochemists/blob/main/notebooks/01_table_dataframe.svg?raw=1)\n"
      ]
    },
    {
      "cell_type": "code",
      "source": [
        ""
      ],
      "metadata": {
        "id": "CLE6ZtnhJj-l"
      },
      "execution_count": null,
      "outputs": []
    },
    {
      "cell_type": "markdown",
      "source": [
        ""
      ],
      "metadata": {
        "id": "BHOryn6xIK4-"
      }
    },
    {
      "cell_type": "code",
      "execution_count": null,
      "metadata": {
        "id": "DVTFNTqsHNcA",
        "outputId": "a9bbd1a9-1a8a-47a5-afda-8905a8740c5d"
      },
      "outputs": [
        {
          "name": "stdout",
          "output_type": "stream",
          "text": [
            "this is code\n"
          ]
        }
      ],
      "source": [
        "# this is a comment\n",
        "print(\"this is code\") # this is a comment"
      ]
    },
    {
      "cell_type": "markdown",
      "metadata": {
        "id": "ozBvO0SGHNcG"
      },
      "source": [
        "## Variable assignment\n",
        "Variables are the fundamental way of handling objects in programming languages. We simply declare them with the `=` operator and display their stored values with the `print()` function.\n",
        "\n",
        "The `print()` function by default prints its values separated but you can change that value with the `sep` argument. If you use the special character \"\\n\" as a separator, `print()` will put all values onto new lines."
      ]
    },
    {
      "cell_type": "code",
      "execution_count": null,
      "metadata": {
        "id": "yf0ZkJ5RHNcI",
        "outputId": "6b7798c6-aabf-4b91-caf5-36b0e6724dc9"
      },
      "outputs": [
        {
          "name": "stdout",
          "output_type": "stream",
          "text": [
            "5\n",
            "1 2\n",
            "1--2\n",
            "1\n",
            "2\n"
          ]
        }
      ],
      "source": [
        "myvar = 5\n",
        "print(myvar)\n",
        "\n",
        "# you can also print multiple values simultaneously\n",
        "a = 1\n",
        "b = 2\n",
        "print(a, b)\n",
        "\n",
        "# different separators\n",
        "print(a, b, sep=\"--\")\n",
        "print(a, b, sep=\"\\n\")"
      ]
    },
    {
      "cell_type": "markdown",
      "metadata": {
        "id": "nGUw-FrDHNcK"
      },
      "source": [
        "Variables are case-sensitive and need to follow certain naming rules. Most special characters are not allowed and numbers are not allowed at the start of the variable name. The most common way is to write variables in lowercase and separate multiple words with underscores (\"_\")."
      ]
    },
    {
      "cell_type": "code",
      "execution_count": null,
      "metadata": {
        "id": "FbX7rjxpHNcL",
        "outputId": "48084a00-c821-4cd1-c22d-84e04502b522"
      },
      "outputs": [
        {
          "ename": "SyntaxError",
          "evalue": "invalid syntax (Temp/ipykernel_25352/2931400079.py, line 13)",
          "output_type": "error",
          "traceback": [
            "\u001b[1;36m  File \u001b[1;32m\"C:\\Users\\jarosch\\AppData\\Local\\Temp/ipykernel_25352/2931400079.py\"\u001b[1;36m, line \u001b[1;32m13\u001b[0m\n\u001b[1;33m    variable! = 5\u001b[0m\n\u001b[1;37m            ^\u001b[0m\n\u001b[1;31mSyntaxError\u001b[0m\u001b[1;31m:\u001b[0m invalid syntax\n"
          ]
        }
      ],
      "source": [
        "# case-sensitivity\n",
        "var = 5\n",
        "Var = 10\n",
        "print(var)\n",
        "print(Var)\n",
        "\n",
        "# allowed names\n",
        "some_variable_1 = 5\n",
        "SomeVariable1 = 5\n",
        "\n",
        "# not allowed names\n",
        "some-variable = 2\n",
        "variable! = 5\n",
        "2themoon = 1"
      ]
    },
    {
      "cell_type": "markdown",
      "metadata": {
        "id": "qJ1WE-h1HNcM"
      },
      "source": [
        "## Basic data types\n",
        "Values or objects in programming languages can belong to different data types. Three basic data types are shared between most programming languages:\n",
        "\n",
        "* **integer**: whole number (e.g. 1)\n",
        "* **float**: decimal number (e.g. 1.4)\n",
        "* **string**: character (e.g. \"Hello\")\n",
        "\n",
        "Python will automatically detect the correct datatype when you assign a variable. Also note that you can define a string as \"Hello\" or 'Hello', both ways are equivalent.\n",
        "\n",
        "We can convert variables into different types with the respective `int()`, `float()`, and `string()` functions and print their type with the `type()` function."
      ]
    },
    {
      "cell_type": "code",
      "execution_count": null,
      "metadata": {
        "id": "zs78711YHNcO",
        "outputId": "4133dcaf-3b9f-4012-c846-b5340f4adece"
      },
      "outputs": [
        {
          "name": "stdout",
          "output_type": "stream",
          "text": [
            "<class 'int'> <class 'float'> <class 'str'> <class 'str'>\n",
            "2 1.0 2.5\n",
            "<class 'int'> <class 'float'> <class 'str'>\n"
          ]
        }
      ],
      "source": [
        "## the three basic types\n",
        "x = 1\n",
        "y = 1.4\n",
        "z = \"hello\"\n",
        "h = 'hello'\n",
        "\n",
        "print(type(x), type(y), type(z), type(h))\n",
        "\n",
        "# examples for type-conversion, note that int() just cuts off the decimals\n",
        "x = int(2.8)\n",
        "y = float(1)\n",
        "z = str(2.5) # <-- equivalent to z = \"2.5\"\n",
        "\n",
        "print(x, y, z)\n",
        "print(type(x), type(y), type(z))"
      ]
    },
    {
      "cell_type": "markdown",
      "metadata": {
        "id": "v6KYiW_hHNcQ"
      },
      "source": [
        "## Basic operators\n",
        "We can easily perform simple mathematical operations like addition, multiplication, division and exponentiation in base Python."
      ]
    },
    {
      "cell_type": "code",
      "execution_count": null,
      "metadata": {
        "id": "fHIw2RPWHNcR",
        "outputId": "1e6ac5c9-2272-43ff-d42b-6e921983bd94"
      },
      "outputs": [
        {
          "name": "stdout",
          "output_type": "stream",
          "text": [
            "10\n",
            "6\n",
            "3.0\n",
            "8\n",
            "15\n",
            "30\n"
          ]
        }
      ],
      "source": [
        "# addition\n",
        "print(5+5)\n",
        "\n",
        "# multiplication\n",
        "print(3*2)\n",
        "\n",
        "# division\n",
        "print(6/2)\n",
        "\n",
        "# exponentiation\n",
        "print(2**3)\n",
        "\n",
        "# brackets also matter in Python\n",
        "print(6*2+3)\n",
        "print(6*(2+3))"
      ]
    },
    {
      "cell_type": "markdown",
      "metadata": {
        "id": "0VNZIjIOHNcT"
      },
      "source": [
        "You can also add and multiply strings, which behaves very differently from the numeric operators."
      ]
    },
    {
      "cell_type": "code",
      "execution_count": null,
      "metadata": {
        "id": "6kFbElpnHNcV",
        "outputId": "ecdf4090-df0b-475e-80c2-7d0be6ad410d"
      },
      "outputs": [
        {
          "name": "stdout",
          "output_type": "stream",
          "text": [
            "hello world\n",
            "hello hello hello hello hello \n",
            "hello hello world\n",
            "4\n",
            "22\n",
            "hello10\n"
          ]
        },
        {
          "ename": "TypeError",
          "evalue": "can only concatenate str (not \"int\") to str",
          "output_type": "error",
          "traceback": [
            "\u001b[1;31m---------------------------------------------------------------------------\u001b[0m",
            "\u001b[1;31mTypeError\u001b[0m                                 Traceback (most recent call last)",
            "\u001b[1;32m~\\AppData\\Local\\Temp/ipykernel_25352/3777394797.py\u001b[0m in \u001b[0;36m<module>\u001b[1;34m\u001b[0m\n\u001b[0;32m     11\u001b[0m \u001b[1;33m\u001b[0m\u001b[0m\n\u001b[0;32m     12\u001b[0m \u001b[0mprint\u001b[0m\u001b[1;33m(\u001b[0m\u001b[1;34m\"hello\"\u001b[0m\u001b[1;33m+\u001b[0m\u001b[1;34m\"10\"\u001b[0m\u001b[1;33m)\u001b[0m\u001b[1;33m\u001b[0m\u001b[1;33m\u001b[0m\u001b[0m\n\u001b[1;32m---> 13\u001b[1;33m \u001b[0mprint\u001b[0m\u001b[1;33m(\u001b[0m\u001b[1;34m\"hello\"\u001b[0m \u001b[1;33m+\u001b[0m \u001b[1;36m10\u001b[0m\u001b[1;33m)\u001b[0m \u001b[1;31m# <-- this does not work\u001b[0m\u001b[1;33m\u001b[0m\u001b[1;33m\u001b[0m\u001b[0m\n\u001b[0m",
            "\u001b[1;31mTypeError\u001b[0m: can only concatenate str (not \"int\") to str"
          ]
        }
      ],
      "source": [
        "# \"math\" with strings\n",
        "x = \"hello \"\n",
        "y = \"world\"\n",
        "print(x+y)\n",
        "print(5*x)\n",
        "print(2*x + y)\n",
        "\n",
        "z = 2\n",
        "print(2*z)\n",
        "print(2*str(z))\n",
        "\n",
        "print(\"hello\"+\"10\")\n",
        "print(\"hello\" + 10) # <-- this does not work"
      ]
    },
    {
      "cell_type": "markdown",
      "metadata": {
        "id": "Mdb9U6jlHNcX"
      },
      "source": [
        "## Useful utility: format-strings\n",
        "Python has a very useful syntax with strings that allows you to insert expression or values directly into your string and convert them accordingly. This is called a *format-string* or *f-string* and you might see it in our code later on.\n",
        "\n",
        "As an example, we will write a script that automatically writes birthday wishes to a friend."
      ]
    },
    {
      "cell_type": "code",
      "execution_count": null,
      "metadata": {
        "id": "WdCyDcmkHNcX",
        "outputId": "9b55dfa3-9cf7-4393-81c4-85341b0a68f4"
      },
      "outputs": [
        {
          "name": "stdout",
          "output_type": "stream",
          "text": [
            "Hi Peter, congratulations to becoming 23 years old!!\n",
            "Hi Peter, congratulations to becoming 23 years old!!\n"
          ]
        }
      ],
      "source": [
        "friend = \"Peter\"\n",
        "birthyear = 1998\n",
        "\n",
        "message = \"Hi \" + friend + \", congratulations to becoming \" + str(2021 - birthyear) + \" years old!!\"\n",
        "print(message)\n",
        "\n",
        "# with a format-string\n",
        "message = f\"Hi {friend}, congratulations to becoming {2021 - birthyear} years old!!\"\n",
        "print(message)"
      ]
    },
    {
      "cell_type": "markdown",
      "metadata": {
        "id": "ld0owmDmHNcX"
      },
      "source": [
        "Note that we were able to just directly insert the expression `2021 - birthyear` and the format string converted it for us automatically."
      ]
    }
  ],
  "metadata": {
    "interpreter": {
      "hash": "eb7a3cc7805b647c07cd88e8371649cf687544e475bc1164b445f3249eb5ba5e"
    },
    "kernelspec": {
      "display_name": "Python 3",
      "language": "python",
      "name": "python3"
    },
    "language_info": {
      "codemirror_mode": {
        "name": "ipython",
        "version": 3
      },
      "file_extension": ".py",
      "mimetype": "text/x-python",
      "name": "python",
      "nbconvert_exporter": "python",
      "pygments_lexer": "ipython3",
      "version": "3.8.8"
    },
    "colab": {
      "name": "day_1_variables_and_data_types.ipynb",
      "provenance": []
    }
  },
  "nbformat": 4,
  "nbformat_minor": 0
}