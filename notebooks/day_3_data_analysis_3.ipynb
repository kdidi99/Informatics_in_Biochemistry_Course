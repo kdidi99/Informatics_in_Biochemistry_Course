{
  "nbformat": 4,
  "nbformat_minor": 0,
  "metadata": {
    "colab": {
      "name": "Untitled8.ipynb",
      "provenance": [],
      "authorship_tag": "ABX9TyOOLGoXaH3+AMFCWFchghiW",
      "include_colab_link": true
    },
    "kernelspec": {
      "name": "python3",
      "display_name": "Python 3"
    },
    "language_info": {
      "name": "python"
    }
  },
  "cells": [
    {
      "cell_type": "markdown",
      "metadata": {
        "id": "view-in-github",
        "colab_type": "text"
      },
      "source": [
        "<a href=\"https://colab.research.google.com/github/kdidi99/Python_for_Biochemists/blob/main/notebooks/day_3_data_analysis_3.ipynb\" target=\"_parent\"><img src=\"https://colab.research.google.com/assets/colab-badge.svg\" alt=\"Open In Colab\"/></a>"
      ]
    },
    {
      "cell_type": "markdown",
      "source": [
        "# Day 3: Data analysis with Pandas, part 2"
      ],
      "metadata": {
        "id": "9nvoqCVM-jBM"
      }
    },
    {
      "cell_type": "markdown",
      "source": [
        "## 3. Combining, grouping, sorting"
      ],
      "metadata": {
        "id": "Kk3AV7zT-jJw"
      }
    },
    {
      "cell_type": "markdown",
      "source": [
        ""
      ],
      "metadata": {
        "id": "l--8eJ0q-z46"
      }
    },
    {
      "cell_type": "code",
      "source": [
        ""
      ],
      "metadata": {
        "id": "5HePfN4R-0Fk"
      },
      "execution_count": null,
      "outputs": []
    }
  ]
}