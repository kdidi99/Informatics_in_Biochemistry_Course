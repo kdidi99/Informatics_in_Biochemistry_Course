{
  "cells": [
    {
      "cell_type": "markdown",
      "metadata": {
        "id": "MPN3xwAqHNb5"
      },
      "source": [
        "# Day 3: Data analysis with Pandas\n",
        "\n",
        "\n",
        "\n",
        "1.   Introduction: Data frames & explorative data analysis (accessing/selecting data)\n",
        "2.   Clean data, views vs copies\n",
        "3.   GroupBy\n",
        "4.   Sorting & combining data\n",
        "\n",
        "\n",
        "\n",
        "\n",
        "\n",
        "Kieran Didi"
      ]
    },
    {
      "cell_type": "markdown",
      "source": [
        "<div>\n",
        "<img src=\"https://github.com/kdidi99/Python_for_Biochemists/blob/main/images/workflow-wickham.png?raw=1\" />\n",
        "</div>"
      ],
      "metadata": {
        "id": "KsGPZ4n7aW7z"
      }
    },
    {
      "cell_type": "markdown",
      "source": [
        "<div>\n",
        "<img src=\"https://github.com/kdidi99/Python_for_Biochemists/blob/main/images/numpy.jpg?raw=1\", width = 300 />\n",
        "</div>\n",
        "\n",
        "<div>\n",
        "<img src=\"https://github.com/kdidi99/Python_for_Biochemists/blob/main/images/pandas.jpg?raw=1\", width = 400 />\n",
        "</div>\n",
        "\n",
        "<div>\n",
        "<img src=\"https://github.com/kdidi99/Python_for_Biochemists/blob/main/images/matplotlib.jpg?raw=1\", width = 400 />\n",
        "</div>"
      ],
      "metadata": {
        "id": "fmjQFCmwUtSX"
      }
    },
    {
      "cell_type": "markdown",
      "metadata": {
        "id": "63nwvDpQHNb8"
      },
      "source": [
        "## 1. Introduction: The Data Frame\n",
        "\n",
        "<div>\n",
        "<img src=\"https://github.com/kdidi99/Python_for_Biochemists/blob/main/images/01_table_dataframe.svg?raw=1\" />\n",
        "</div>"
      ]
    },
    {
      "cell_type": "markdown",
      "source": [
        "### Advantages of data frames:\n",
        "\n",
        "*   Easy to use\n",
        "*   Pandas library fast & supports complex operations\n",
        "*   De facto standard for data analysis\n",
        "\n"
      ],
      "metadata": {
        "id": "zmqQBXsFZuxz"
      }
    },
    {
      "cell_type": "markdown",
      "source": [
        "1st step: download some data"
      ],
      "metadata": {
        "id": "BHOryn6xIK4-"
      }
    },
    {
      "cell_type": "code",
      "execution_count": null,
      "metadata": {
        "id": "DVTFNTqsHNcA",
        "outputId": "5abeddde-eb62-4101-b248-2078db43f078",
        "colab": {
          "base_uri": "https://localhost:8080/"
        }
      },
      "outputs": [
        {
          "output_type": "stream",
          "name": "stdout",
          "text": [
            "Download ready.\n"
          ]
        }
      ],
      "source": [
        "import requests\n",
        "\n",
        "download_url = \"https://raw.githubusercontent.com/rashida048/Datasets/master/titanic_data.csv\"\n",
        "target_csv_path = \"titanic_data.csv\"\n",
        "\n",
        "response = requests.get(download_url)\n",
        "response.raise_for_status()    # Check that the request was successful\n",
        "with open(target_csv_path, \"wb\") as f:\n",
        "    f.write(response.content)\n",
        "print(\"Download ready.\")\n"
      ]
    }
  ],
  "metadata": {
    "interpreter": {
      "hash": "eb7a3cc7805b647c07cd88e8371649cf687544e475bc1164b445f3249eb5ba5e"
    },
    "kernelspec": {
      "display_name": "Python 3",
      "language": "python",
      "name": "python3"
    },
    "language_info": {
      "codemirror_mode": {
        "name": "ipython",
        "version": 3
      },
      "file_extension": ".py",
      "mimetype": "text/x-python",
      "name": "python",
      "nbconvert_exporter": "python",
      "pygments_lexer": "ipython3",
      "version": "3.8.8"
    },
    "colab": {
      "name": "day_1_variables_and_data_types.ipynb",
      "provenance": []
    }
  },
  "nbformat": 4,
  "nbformat_minor": 0
}