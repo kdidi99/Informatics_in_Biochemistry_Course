{
 "cells": [
  {
   "cell_type": "markdown",
   "metadata": {},
   "source": [
    "# Boolean Operators and Conditions\n",
    "Leonhard Kohleick"
   ]
  },
  {
   "cell_type": "markdown",
   "metadata": {},
   "source": [
    "## Boolean operators\n",
    "\n",
    "A boolean value is either `True` or `False`. We can get a boolean value by using a boolean expression. \n",
    "In a boolean expression we use operators. An example would be `True or False` which would be evaluated as `True`.   "
   ]
  },
  {
   "cell_type": "code",
   "execution_count": 1,
   "metadata": {},
   "outputs": [
    {
     "name": "stdout",
     "output_type": "stream",
     "text": [
      "False\n",
      "True\n",
      "False\n"
     ]
    }
   ],
   "source": [
    "print(True and False)\n",
    "print(True or False)\n",
    "print(not True)"
   ]
  },
  {
   "cell_type": "markdown",
   "metadata": {},
   "source": [
    "## Comparison operators\n",
    "To compare the value of variables we need comparison operators. Below is a list of them used in Python:\n",
    "\n",
    "\n",
    "`==` : Are they the same ? (do not use `=` because this means assignment) \\\n",
    "`!=` : Are they not the same? \\\n",
    "`>`  : Greater than \\\n",
    "`<`  : Less than \\\n",
    "`<=` : Less than or equal to \\\n",
    "`>=` : Greater than or equal to \n",
    "\n",
    "In the example below we use a number of comparison operators to compare the number of genes between human and rice.\n"
   ]
  },
  {
   "cell_type": "code",
   "execution_count": 2,
   "metadata": {},
   "outputs": [
    {
     "name": "stdout",
     "output_type": "stream",
     "text": [
      "False\n",
      "True\n",
      "********************\n",
      "True\n",
      "False\n",
      "False\n",
      "True\n",
      "********************\n",
      "True\n",
      "True\n",
      "True\n"
     ]
    }
   ],
   "source": [
    "# Compare the number of genes \n",
    "\n",
    "human = 21000 #homo sapiens\n",
    "rice = 38000  #oryza sativa\n",
    "\n",
    "print(human == rice) \n",
    "print(human != rice)\n",
    "print('*' * 20)\n",
    "print(rice > human) \n",
    "print(rice > rice)\n",
    "print(human > rice)\n",
    "print(human < rice)\n",
    "print('*' * 20)\n",
    "print(rice >= human)\n",
    "print(human >= human)\n",
    "print(human <= rice)"
   ]
  },
  {
   "cell_type": "markdown",
   "metadata": {},
   "source": [
    "## Conditions\n",
    "To compare variables we can use conditional arguments to control our program flow. The first condition is stated with an `if` clause. If this clause is `False`, you can use `else` to specify what to do at the end."
   ]
  },
  {
   "cell_type": "code",
   "execution_count": 3,
   "metadata": {},
   "outputs": [
    {
     "name": "stdout",
     "output_type": "stream",
     "text": [
      "Rice has more genes than human\n"
     ]
    }
   ],
   "source": [
    "#Compare the number of genes \n",
    "if human > rice:\n",
    "    print(\"Human has more genes than rice\")\n",
    "else:\n",
    "    print(\"Rice has more genes than human\")"
   ]
  },
  {
   "cell_type": "markdown",
   "metadata": {},
   "source": [
    "With that, we can already write complex logical operations:"
   ]
  },
  {
   "cell_type": "code",
   "execution_count": 4,
   "metadata": {},
   "outputs": [
    {
     "name": "stdout",
     "output_type": "stream",
     "text": [
      "No condition was TRUE\n"
     ]
    }
   ],
   "source": [
    "a = 5\n",
    "b = 4\n",
    "c = 7\n",
    "\n",
    "if a > c: \n",
    "    print(\"a > c\")\n",
    "else:\n",
    "    if b > a:\n",
    "        print(\"b > a\")\n",
    "    else:\n",
    "        if a == c:\n",
    "            print(\"a == c\")\n",
    "        else:\n",
    "            print(\"No condition was TRUE\")\n",
    "\n"
   ]
  },
  {
   "cell_type": "markdown",
   "metadata": {},
   "source": [
    "But this is very chaotic after some time :( \\\n",
    "In order to avoid using always a new `if else` expression, we can use `elif` to add an additional `if` conditional statement. We can use as many `elif` as you want. You need an `if` statement before to initiate the conditional flow."
   ]
  },
  {
   "cell_type": "code",
   "execution_count": 5,
   "metadata": {},
   "outputs": [
    {
     "name": "stdout",
     "output_type": "stream",
     "text": [
      "No condition was TRUE\n"
     ]
    }
   ],
   "source": [
    "a = 5\n",
    "b = 4\n",
    "c = 7\n",
    "\n",
    "if a > c: \n",
    "    print(\"a > c\")\n",
    "elif b > a:\n",
    "    print(\"b > a\")\n",
    "elif a == c:\n",
    "    print(\"a == c\")\n",
    "else:\n",
    "    print(\"No condition was TRUE\")"
   ]
  },
  {
   "cell_type": "markdown",
   "metadata": {},
   "source": [
    "### Nested boolean conditions\n",
    "We now can combine boolean expressions and comparison operators to check the validity of arguments. With this, we can create complex logical operations in our programs."
   ]
  },
  {
   "cell_type": "code",
   "execution_count": 6,
   "metadata": {},
   "outputs": [
    {
     "name": "stdout",
     "output_type": "stream",
     "text": [
      "Hooray\n"
     ]
    }
   ],
   "source": [
    "if ( a > b and c > a ):\n",
    "    print(\"Hooray\")\n",
    "else: \n",
    "    print(\"Sadness\")"
   ]
  },
  {
   "cell_type": "code",
   "execution_count": 7,
   "metadata": {},
   "outputs": [
    {
     "name": "stdout",
     "output_type": "stream",
     "text": [
      "Sadness\n"
     ]
    }
   ],
   "source": [
    "if ( a > b or c < a ) == False:\n",
    "    print(\"Hooray\")\n",
    "else: \n",
    "    print(\"Sadness\")"
   ]
  }
 ],
 "metadata": {
  "interpreter": {
   "hash": "b3ba2566441a7c06988d0923437866b63cedc61552a5af99d1f4fb67d367b25f"
  },
  "kernelspec": {
   "display_name": "Python 3",
   "language": "python",
   "name": "python3"
  },
  "language_info": {
   "codemirror_mode": {
    "name": "ipython",
    "version": 3
   },
   "file_extension": ".py",
   "mimetype": "text/x-python",
   "name": "python",
   "nbconvert_exporter": "python",
   "pygments_lexer": "ipython3",
   "version": "3.8.3"
  }
 },
 "nbformat": 4,
 "nbformat_minor": 2
}
