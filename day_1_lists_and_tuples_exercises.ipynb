{
 "cells": [
  {
   "cell_type": "markdown",
   "source": [
    "# Day 1: Lists and Tuples - Exercises"
   ],
   "metadata": {}
  },
  {
   "cell_type": "markdown",
   "source": [
    "For this exercise you are given the first 70 nucleotides of the Sars-Cov2 spike protein sequence."
   ],
   "metadata": {}
  },
  {
   "cell_type": "code",
   "execution_count": 2,
   "source": [
    "spike = \"ATGTTTGTTTTTCTTGTTTTATTGCCACTAGTCTCTAGTCAGTGTGTTAATCTTACAACCAGAACTCAAT\""
   ],
   "outputs": [],
   "metadata": {}
  },
  {
   "cell_type": "markdown",
   "source": [
    "## Exercise 1\r\n",
    "Perform the following tasks on the sequence:\r\n",
    "\r\n",
    "* print the first codon\r\n",
    "* create a new sequence without codons 4, 5, and 6"
   ],
   "metadata": {}
  },
  {
   "cell_type": "code",
   "execution_count": null,
   "source": [],
   "outputs": [],
   "metadata": {}
  },
  {
   "cell_type": "markdown",
   "source": [
    "## Exercise 2\r\n",
    "Now, return a new sequence with the following mutations using Python functions:\r\n",
    "\r\n",
    "* T to G point mutation at position 6\r\n",
    "* change the second last codon to \"CGG\"\r\n",
    "* insert a C at position 1\r\n",
    "* append a polyA-repeat of 10 nucleotides to the end of the sequence"
   ],
   "metadata": {}
  },
  {
   "cell_type": "code",
   "execution_count": null,
   "source": [],
   "outputs": [],
   "metadata": {}
  },
  {
   "cell_type": "markdown",
   "source": [
    "## Exercise 3\r\n",
    "Let's pretend that the sequence \"ATTGCC\" is a binding motif for a specific transcription factor. Write a conditional clause that prints \"sequence contains motif\" if the motif is in the sequence and \"sequence does not contain motif\" otherwise and apply it to the spike sequence."
   ],
   "metadata": {}
  }
 ],
 "metadata": {
  "orig_nbformat": 4,
  "language_info": {
   "name": "python",
   "version": "3.8.11",
   "mimetype": "text/x-python",
   "codemirror_mode": {
    "name": "ipython",
    "version": 3
   },
   "pygments_lexer": "ipython3",
   "nbconvert_exporter": "python",
   "file_extension": ".py"
  },
  "kernelspec": {
   "name": "python3",
   "display_name": "Python 3.8.11 64-bit ('test2': conda)"
  },
  "interpreter": {
   "hash": "eb7a3cc7805b647c07cd88e8371649cf687544e475bc1164b445f3249eb5ba5e"
  }
 },
 "nbformat": 4,
 "nbformat_minor": 2
}